{
 "cells": [
  {
   "cell_type": "markdown",
   "source": "# Spotify Data Cleaning\nTo clean the data, we first renamed columns. Then we dropped outliers for 4 columns that had a wide range of outliers: liveness, loudness, length, and speechiness. We did this by calculating IQR and dropping outliers outside of 1.5*IQR above the upper limit and below the lower limit.",
   "metadata": {
    "tags": [],
    "cell_id": "00001-01bd7142-e203-44cb-8941-06944bcbdeca",
    "deepnote_cell_type": "markdown"
   }
  },
  {
   "cell_type": "code",
   "metadata": {
    "tags": [],
    "cell_id": "00000-37537dae-c7b7-4e82-b695-0390de3b1291",
    "deepnote_to_be_reexecuted": false,
    "source_hash": "c16b59cb",
    "execution_start": 1638078172673,
    "execution_millis": 88,
    "deepnote_output_heights": [
     230
    ],
    "deepnote_cell_type": "code"
   },
   "source": "# Start writing code here...\n#Data Cleaning\nimport pandas as pd\nimport matplotlib.pyplot as plt\nimport numpy as np\n\ndf = pd.read_csv('Spotify-2000.csv')\n\n\n#rename column 'Length (Duration)' to 'Length'\ndf = df.rename(columns={'Length (Duration)':'Length'})\ndf['Length'] = df['Length'].astype(str)\ndf['Length'] = df['Length'].apply(lambda x: x.replace(',', ''))\n#df = df[df['Length'] != '1,412']\ndf['Length'] = df['Length'].astype(int)\n#print(df[df['Length']>1000])\ndf\n\n#rename column 'Loudness (dB)' to 'Loudness'\ndf = df.rename(columns={'Loudness (dB)':'Loudness'})\ndf['Loudness'] = df['Loudness'].astype(str)\ndf['Loudness'] = df['Loudness'].astype(int)\ndf\n",
   "outputs": [
    {
     "output_type": "execute_result",
     "execution_count": 82,
     "data": {
      "application/vnd.deepnote.dataframe.v2+json": {
       "row_count": 1994,
       "column_count": 15,
       "columns": [
        {
         "name": "Index",
         "dtype": "int64",
         "stats": {
          "unique_count": 1994,
          "nan_count": 0,
          "min": "1",
          "max": "1994",
          "histogram": [
           {
            "bin_start": 1,
            "bin_end": 200.3,
            "count": 200
           },
           {
            "bin_start": 200.3,
            "bin_end": 399.6,
            "count": 199
           },
           {
            "bin_start": 399.6,
            "bin_end": 598.9000000000001,
            "count": 199
           },
           {
            "bin_start": 598.9000000000001,
            "bin_end": 798.2,
            "count": 200
           },
           {
            "bin_start": 798.2,
            "bin_end": 997.5,
            "count": 199
           },
           {
            "bin_start": 997.5,
            "bin_end": 1196.8000000000002,
            "count": 199
           },
           {
            "bin_start": 1196.8000000000002,
            "bin_end": 1396.1000000000001,
            "count": 200
           },
           {
            "bin_start": 1396.1000000000001,
            "bin_end": 1595.4,
            "count": 199
           },
           {
            "bin_start": 1595.4,
            "bin_end": 1794.7,
            "count": 199
           },
           {
            "bin_start": 1794.7,
            "bin_end": 1994,
            "count": 200
           }
          ]
         }
        },
        {
         "name": "Title",
         "dtype": "object",
         "stats": {
          "unique_count": 1958,
          "nan_count": 0,
          "categories": [
           {
            "name": "Feeling Good",
            "count": 3
           },
           {
            "name": "One",
            "count": 3
           },
           {
            "name": "1956 others",
            "count": 1988
           }
          ]
         }
        },
        {
         "name": "Artist",
         "dtype": "object",
         "stats": {
          "unique_count": 731,
          "nan_count": 0,
          "categories": [
           {
            "name": "Queen",
            "count": 37
           },
           {
            "name": "The Beatles",
            "count": 36
           },
           {
            "name": "729 others",
            "count": 1921
           }
          ]
         }
        },
        {
         "name": "Top Genre",
         "dtype": "object",
         "stats": {
          "unique_count": 149,
          "nan_count": 0,
          "categories": [
           {
            "name": "album rock",
            "count": 413
           },
           {
            "name": "adult standards",
            "count": 123
           },
           {
            "name": "147 others",
            "count": 1458
           }
          ]
         }
        },
        {
         "name": "Year",
         "dtype": "int64",
         "stats": {
          "unique_count": 63,
          "nan_count": 0,
          "min": "1956",
          "max": "2019",
          "histogram": [
           {
            "bin_start": 1956,
            "bin_end": 1962.3,
            "count": 14
           },
           {
            "bin_start": 1962.3,
            "bin_end": 1968.6,
            "count": 115
           },
           {
            "bin_start": 1968.6,
            "bin_end": 1974.9,
            "count": 202
           },
           {
            "bin_start": 1974.9,
            "bin_end": 1981.2,
            "count": 241
           },
           {
            "bin_start": 1981.2,
            "bin_end": 1987.5,
            "count": 228
           },
           {
            "bin_start": 1987.5,
            "bin_end": 1993.8,
            "count": 198
           },
           {
            "bin_start": 1993.8,
            "bin_end": 2000.1,
            "count": 230
           },
           {
            "bin_start": 2000.1,
            "bin_end": 2006.4,
            "count": 234
           },
           {
            "bin_start": 2006.4,
            "bin_end": 2012.7,
            "count": 253
           },
           {
            "bin_start": 2012.7,
            "bin_end": 2019,
            "count": 279
           }
          ]
         }
        },
        {
         "name": "Beats Per Minute (BPM)",
         "dtype": "int64",
         "stats": {
          "unique_count": 145,
          "nan_count": 0,
          "min": "37",
          "max": "206",
          "histogram": [
           {
            "bin_start": 37,
            "bin_end": 53.9,
            "count": 2
           },
           {
            "bin_start": 53.9,
            "bin_end": 70.8,
            "count": 21
           },
           {
            "bin_start": 70.8,
            "bin_end": 87.69999999999999,
            "count": 225
           },
           {
            "bin_start": 87.69999999999999,
            "bin_end": 104.6,
            "count": 368
           },
           {
            "bin_start": 104.6,
            "bin_end": 121.5,
            "count": 456
           },
           {
            "bin_start": 121.5,
            "bin_end": 138.39999999999998,
            "count": 480
           },
           {
            "bin_start": 138.39999999999998,
            "bin_end": 155.29999999999998,
            "count": 199
           },
           {
            "bin_start": 155.29999999999998,
            "bin_end": 172.2,
            "count": 134
           },
           {
            "bin_start": 172.2,
            "bin_end": 189.1,
            "count": 89
           },
           {
            "bin_start": 189.1,
            "bin_end": 206,
            "count": 20
           }
          ]
         }
        },
        {
         "name": "Energy",
         "dtype": "int64",
         "stats": {
          "unique_count": 98,
          "nan_count": 0,
          "min": "3",
          "max": "100",
          "histogram": [
           {
            "bin_start": 3,
            "bin_end": 12.7,
            "count": 25
           },
           {
            "bin_start": 12.7,
            "bin_end": 22.4,
            "count": 79
           },
           {
            "bin_start": 22.4,
            "bin_end": 32.099999999999994,
            "count": 164
           },
           {
            "bin_start": 32.099999999999994,
            "bin_end": 41.8,
            "count": 206
           },
           {
            "bin_start": 41.8,
            "bin_end": 51.5,
            "count": 259
           },
           {
            "bin_start": 51.5,
            "bin_end": 61.199999999999996,
            "count": 274
           },
           {
            "bin_start": 61.199999999999996,
            "bin_end": 70.89999999999999,
            "count": 257
           },
           {
            "bin_start": 70.89999999999999,
            "bin_end": 80.6,
            "count": 316
           },
           {
            "bin_start": 80.6,
            "bin_end": 90.3,
            "count": 257
           },
           {
            "bin_start": 90.3,
            "bin_end": 100,
            "count": 157
           }
          ]
         }
        },
        {
         "name": "Danceability",
         "dtype": "int64",
         "stats": {
          "unique_count": 84,
          "nan_count": 0,
          "min": "10",
          "max": "96",
          "histogram": [
           {
            "bin_start": 10,
            "bin_end": 18.6,
            "count": 15
           },
           {
            "bin_start": 18.6,
            "bin_end": 27.2,
            "count": 88
           },
           {
            "bin_start": 27.2,
            "bin_end": 35.8,
            "count": 171
           },
           {
            "bin_start": 35.8,
            "bin_end": 44.4,
            "count": 307
           },
           {
            "bin_start": 44.4,
            "bin_end": 53,
            "count": 362
           },
           {
            "bin_start": 53,
            "bin_end": 61.599999999999994,
            "count": 444
           },
           {
            "bin_start": 61.599999999999994,
            "bin_end": 70.19999999999999,
            "count": 346
           },
           {
            "bin_start": 70.19999999999999,
            "bin_end": 78.8,
            "count": 160
           },
           {
            "bin_start": 78.8,
            "bin_end": 87.39999999999999,
            "count": 78
           },
           {
            "bin_start": 87.39999999999999,
            "bin_end": 96,
            "count": 23
           }
          ]
         }
        },
        {
         "name": "Loudness",
         "dtype": "int64",
         "stats": {
          "unique_count": 23,
          "nan_count": 0,
          "min": "-27",
          "max": "-2",
          "histogram": [
           {
            "bin_start": -27,
            "bin_end": -24.5,
            "count": 1
           },
           {
            "bin_start": -24.5,
            "bin_end": -22,
            "count": 2
           },
           {
            "bin_start": -22,
            "bin_end": -19.5,
            "count": 19
           },
           {
            "bin_start": -19.5,
            "bin_end": -17,
            "count": 20
           },
           {
            "bin_start": -17,
            "bin_end": -14.5,
            "count": 120
           },
           {
            "bin_start": -14.5,
            "bin_end": -12,
            "count": 178
           },
           {
            "bin_start": -12,
            "bin_end": -9.5,
            "count": 436
           },
           {
            "bin_start": -9.5,
            "bin_end": -7,
            "count": 419
           },
           {
            "bin_start": -7,
            "bin_end": -4.5,
            "count": 651
           },
           {
            "bin_start": -4.5,
            "bin_end": -2,
            "count": 148
           }
          ]
         }
        },
        {
         "name": "Liveness",
         "dtype": "int64",
         "stats": {
          "unique_count": 94,
          "nan_count": 0,
          "min": "2",
          "max": "99",
          "histogram": [
           {
            "bin_start": 2,
            "bin_end": 11.7,
            "count": 879
           },
           {
            "bin_start": 11.7,
            "bin_end": 21.4,
            "count": 580
           },
           {
            "bin_start": 21.4,
            "bin_end": 31.099999999999998,
            "count": 222
           },
           {
            "bin_start": 31.099999999999998,
            "bin_end": 40.8,
            "count": 152
           },
           {
            "bin_start": 40.8,
            "bin_end": 50.5,
            "count": 35
           },
           {
            "bin_start": 50.5,
            "bin_end": 60.199999999999996,
            "count": 37
           },
           {
            "bin_start": 60.199999999999996,
            "bin_end": 69.89999999999999,
            "count": 32
           },
           {
            "bin_start": 69.89999999999999,
            "bin_end": 79.6,
            "count": 21
           },
           {
            "bin_start": 79.6,
            "bin_end": 89.3,
            "count": 15
           },
           {
            "bin_start": 89.3,
            "bin_end": 99,
            "count": 21
           }
          ]
         }
        },
        {
         "name": "Valence",
         "dtype": "int64",
         "stats": {
          "unique_count": 97,
          "nan_count": 0,
          "min": "3",
          "max": "99",
          "histogram": [
           {
            "bin_start": 3,
            "bin_end": 12.6,
            "count": 87
           },
           {
            "bin_start": 12.6,
            "bin_end": 22.2,
            "count": 242
           },
           {
            "bin_start": 22.2,
            "bin_end": 31.799999999999997,
            "count": 256
           },
           {
            "bin_start": 31.799999999999997,
            "bin_end": 41.4,
            "count": 260
           },
           {
            "bin_start": 41.4,
            "bin_end": 51,
            "count": 229
           },
           {
            "bin_start": 51,
            "bin_end": 60.599999999999994,
            "count": 221
           },
           {
            "bin_start": 60.599999999999994,
            "bin_end": 70.2,
            "count": 219
           },
           {
            "bin_start": 70.2,
            "bin_end": 79.8,
            "count": 168
           },
           {
            "bin_start": 79.8,
            "bin_end": 89.39999999999999,
            "count": 179
           },
           {
            "bin_start": 89.39999999999999,
            "bin_end": 99,
            "count": 133
           }
          ]
         }
        },
        {
         "name": "Length",
         "dtype": "int64",
         "stats": {
          "unique_count": 350,
          "nan_count": 0,
          "min": "93",
          "max": "1412",
          "histogram": [
           {
            "bin_start": 93,
            "bin_end": 224.9,
            "count": 688
           },
           {
            "bin_start": 224.9,
            "bin_end": 356.8,
            "count": 1124
           },
           {
            "bin_start": 356.8,
            "bin_end": 488.70000000000005,
            "count": 136
           },
           {
            "bin_start": 488.70000000000005,
            "bin_end": 620.6,
            "count": 30
           },
           {
            "bin_start": 620.6,
            "bin_end": 752.5,
            "count": 8
           },
           {
            "bin_start": 752.5,
            "bin_end": 884.4000000000001,
            "count": 3
           },
           {
            "bin_start": 884.4000000000001,
            "bin_end": 1016.3000000000001,
            "count": 1
           },
           {
            "bin_start": 1016.3000000000001,
            "bin_end": 1148.2,
            "count": 1
           },
           {
            "bin_start": 1148.2,
            "bin_end": 1280.1000000000001,
            "count": 0
           },
           {
            "bin_start": 1280.1000000000001,
            "bin_end": 1412,
            "count": 3
           }
          ]
         }
        },
        {
         "name": "Acousticness",
         "dtype": "int64",
         "stats": {
          "unique_count": 100,
          "nan_count": 0,
          "min": "0",
          "max": "99",
          "histogram": [
           {
            "bin_start": 0,
            "bin_end": 9.9,
            "count": 781
           },
           {
            "bin_start": 9.9,
            "bin_end": 19.8,
            "count": 257
           },
           {
            "bin_start": 19.8,
            "bin_end": 29.700000000000003,
            "count": 177
           },
           {
            "bin_start": 29.700000000000003,
            "bin_end": 39.6,
            "count": 138
           },
           {
            "bin_start": 39.6,
            "bin_end": 49.5,
            "count": 135
           },
           {
            "bin_start": 49.5,
            "bin_end": 59.400000000000006,
            "count": 112
           },
           {
            "bin_start": 59.400000000000006,
            "bin_end": 69.3,
            "count": 116
           },
           {
            "bin_start": 69.3,
            "bin_end": 79.2,
            "count": 110
           },
           {
            "bin_start": 79.2,
            "bin_end": 89.10000000000001,
            "count": 100
           },
           {
            "bin_start": 89.10000000000001,
            "bin_end": 99,
            "count": 68
           }
          ]
         }
        },
        {
         "name": "Speechiness",
         "dtype": "int64",
         "stats": {
          "unique_count": 37,
          "nan_count": 0,
          "min": "2",
          "max": "55",
          "histogram": [
           {
            "bin_start": 2,
            "bin_end": 7.3,
            "count": 1770
           },
           {
            "bin_start": 7.3,
            "bin_end": 12.6,
            "count": 136
           },
           {
            "bin_start": 12.6,
            "bin_end": 17.9,
            "count": 40
           },
           {
            "bin_start": 17.9,
            "bin_end": 23.2,
            "count": 19
           },
           {
            "bin_start": 23.2,
            "bin_end": 28.5,
            "count": 10
           },
           {
            "bin_start": 28.5,
            "bin_end": 33.8,
            "count": 11
           },
           {
            "bin_start": 33.8,
            "bin_end": 39.1,
            "count": 4
           },
           {
            "bin_start": 39.1,
            "bin_end": 44.4,
            "count": 2
           },
           {
            "bin_start": 44.4,
            "bin_end": 49.699999999999996,
            "count": 1
           },
           {
            "bin_start": 49.699999999999996,
            "bin_end": 55,
            "count": 1
           }
          ]
         }
        },
        {
         "name": "Popularity",
         "dtype": "int64",
         "stats": {
          "unique_count": 81,
          "nan_count": 0,
          "min": "11",
          "max": "100",
          "histogram": [
           {
            "bin_start": 11,
            "bin_end": 19.9,
            "count": 16
           },
           {
            "bin_start": 19.9,
            "bin_end": 28.8,
            "count": 36
           },
           {
            "bin_start": 28.8,
            "bin_end": 37.7,
            "count": 97
           },
           {
            "bin_start": 37.7,
            "bin_end": 46.6,
            "count": 234
           },
           {
            "bin_start": 46.6,
            "bin_end": 55.5,
            "count": 334
           },
           {
            "bin_start": 55.5,
            "bin_end": 64.4,
            "count": 428
           },
           {
            "bin_start": 64.4,
            "bin_end": 73.30000000000001,
            "count": 501
           },
           {
            "bin_start": 73.30000000000001,
            "bin_end": 82.2,
            "count": 308
           },
           {
            "bin_start": 82.2,
            "bin_end": 91.10000000000001,
            "count": 36
           },
           {
            "bin_start": 91.10000000000001,
            "bin_end": 100,
            "count": 4
           }
          ]
         }
        },
        {
         "name": "_deepnote_index_column",
         "dtype": "int64"
        }
       ],
       "rows_top": [
        {
         "Index": 1,
         "Title": "Sunrise",
         "Artist": "Norah Jones",
         "Top Genre": "adult standards",
         "Year": 2004,
         "Beats Per Minute (BPM)": 157,
         "Energy": 30,
         "Danceability": 53,
         "Loudness": -14,
         "Liveness": 11,
         "Valence": 68,
         "Length": 201,
         "Acousticness": 94,
         "Speechiness": 3,
         "Popularity": 71,
         "_deepnote_index_column": 0
        },
        {
         "Index": 2,
         "Title": "Black Night",
         "Artist": "Deep Purple",
         "Top Genre": "album rock",
         "Year": 2000,
         "Beats Per Minute (BPM)": 135,
         "Energy": 79,
         "Danceability": 50,
         "Loudness": -11,
         "Liveness": 17,
         "Valence": 81,
         "Length": 207,
         "Acousticness": 17,
         "Speechiness": 7,
         "Popularity": 39,
         "_deepnote_index_column": 1
        },
        {
         "Index": 3,
         "Title": "Clint Eastwood",
         "Artist": "Gorillaz",
         "Top Genre": "alternative hip hop",
         "Year": 2001,
         "Beats Per Minute (BPM)": 168,
         "Energy": 69,
         "Danceability": 66,
         "Loudness": -9,
         "Liveness": 7,
         "Valence": 52,
         "Length": 341,
         "Acousticness": 2,
         "Speechiness": 17,
         "Popularity": 69,
         "_deepnote_index_column": 2
        },
        {
         "Index": 4,
         "Title": "The Pretender",
         "Artist": "Foo Fighters",
         "Top Genre": "alternative metal",
         "Year": 2007,
         "Beats Per Minute (BPM)": 173,
         "Energy": 96,
         "Danceability": 43,
         "Loudness": -4,
         "Liveness": 3,
         "Valence": 37,
         "Length": 269,
         "Acousticness": 0,
         "Speechiness": 4,
         "Popularity": 76,
         "_deepnote_index_column": 3
        },
        {
         "Index": 5,
         "Title": "Waitin' On A Sunny Day",
         "Artist": "Bruce Springsteen",
         "Top Genre": "classic rock",
         "Year": 2002,
         "Beats Per Minute (BPM)": 106,
         "Energy": 82,
         "Danceability": 58,
         "Loudness": -5,
         "Liveness": 10,
         "Valence": 87,
         "Length": 256,
         "Acousticness": 1,
         "Speechiness": 3,
         "Popularity": 59,
         "_deepnote_index_column": 4
        },
        {
         "Index": 6,
         "Title": "The Road Ahead (Miles Of The Unknown)",
         "Artist": "City To City",
         "Top Genre": "alternative pop rock",
         "Year": 2004,
         "Beats Per Minute (BPM)": 99,
         "Energy": 46,
         "Danceability": 54,
         "Loudness": -9,
         "Liveness": 14,
         "Valence": 14,
         "Length": 247,
         "Acousticness": 0,
         "Speechiness": 2,
         "Popularity": 45,
         "_deepnote_index_column": 5
        },
        {
         "Index": 7,
         "Title": "She Will Be Loved",
         "Artist": "Maroon 5",
         "Top Genre": "pop",
         "Year": 2002,
         "Beats Per Minute (BPM)": 102,
         "Energy": 71,
         "Danceability": 71,
         "Loudness": -6,
         "Liveness": 13,
         "Valence": 54,
         "Length": 257,
         "Acousticness": 6,
         "Speechiness": 3,
         "Popularity": 74,
         "_deepnote_index_column": 6
        },
        {
         "Index": 8,
         "Title": "Knights of Cydonia",
         "Artist": "Muse",
         "Top Genre": "modern rock",
         "Year": 2006,
         "Beats Per Minute (BPM)": 137,
         "Energy": 96,
         "Danceability": 37,
         "Loudness": -5,
         "Liveness": 12,
         "Valence": 21,
         "Length": 366,
         "Acousticness": 0,
         "Speechiness": 14,
         "Popularity": 69,
         "_deepnote_index_column": 7
        },
        {
         "Index": 9,
         "Title": "Mr. Brightside",
         "Artist": "The Killers",
         "Top Genre": "modern rock",
         "Year": 2004,
         "Beats Per Minute (BPM)": 148,
         "Energy": 92,
         "Danceability": 36,
         "Loudness": -4,
         "Liveness": 10,
         "Valence": 23,
         "Length": 223,
         "Acousticness": 0,
         "Speechiness": 8,
         "Popularity": 77,
         "_deepnote_index_column": 8
        },
        {
         "Index": 10,
         "Title": "Without Me",
         "Artist": "Eminem",
         "Top Genre": "detroit hip hop",
         "Year": 2002,
         "Beats Per Minute (BPM)": 112,
         "Energy": 67,
         "Danceability": 91,
         "Loudness": -3,
         "Liveness": 24,
         "Valence": 66,
         "Length": 290,
         "Acousticness": 0,
         "Speechiness": 7,
         "Popularity": 82,
         "_deepnote_index_column": 9
        },
        {
         "Index": 11,
         "Title": "Love Me Tender",
         "Artist": "Elvis Presley",
         "Top Genre": "adult standards",
         "Year": 2002,
         "Beats Per Minute (BPM)": 109,
         "Energy": 5,
         "Danceability": 44,
         "Loudness": -16,
         "Liveness": 11,
         "Valence": 31,
         "Length": 162,
         "Acousticness": 88,
         "Speechiness": 4,
         "Popularity": 49,
         "_deepnote_index_column": 10
        },
        {
         "Index": 12,
         "Title": "Seven Nation Army",
         "Artist": "The White Stripes",
         "Top Genre": "alternative rock",
         "Year": 2003,
         "Beats Per Minute (BPM)": 124,
         "Energy": 46,
         "Danceability": 74,
         "Loudness": -8,
         "Liveness": 26,
         "Valence": 32,
         "Length": 232,
         "Acousticness": 1,
         "Speechiness": 8,
         "Popularity": 74,
         "_deepnote_index_column": 11
        },
        {
         "Index": 13,
         "Title": "Als Het Golft",
         "Artist": "De Dijk",
         "Top Genre": "dutch indie",
         "Year": 2000,
         "Beats Per Minute (BPM)": 102,
         "Energy": 88,
         "Danceability": 54,
         "Loudness": -6,
         "Liveness": 53,
         "Valence": 59,
         "Length": 214,
         "Acousticness": 2,
         "Speechiness": 3,
         "Popularity": 34,
         "_deepnote_index_column": 12
        },
        {
         "Index": 14,
         "Title": "I'm going home",
         "Artist": "Ten Years After",
         "Top Genre": "album rock",
         "Year": 2005,
         "Beats Per Minute (BPM)": 117,
         "Energy": 93,
         "Danceability": 38,
         "Loudness": -2,
         "Liveness": 81,
         "Valence": 40,
         "Length": 639,
         "Acousticness": 18,
         "Speechiness": 10,
         "Popularity": 26,
         "_deepnote_index_column": 13
        },
        {
         "Index": 15,
         "Title": "Fluorescent Adolescent",
         "Artist": "Arctic Monkeys",
         "Top Genre": "garage rock",
         "Year": 2007,
         "Beats Per Minute (BPM)": 112,
         "Energy": 81,
         "Danceability": 65,
         "Loudness": -5,
         "Liveness": 14,
         "Valence": 82,
         "Length": 173,
         "Acousticness": 0,
         "Speechiness": 3,
         "Popularity": 66,
         "_deepnote_index_column": 14
        },
        {
         "Index": 16,
         "Title": "Zonder Jou",
         "Artist": "Paul de Leeuw",
         "Top Genre": "dutch cabaret",
         "Year": 2006,
         "Beats Per Minute (BPM)": 133,
         "Energy": 42,
         "Danceability": 42,
         "Loudness": -10,
         "Liveness": 16,
         "Valence": 25,
         "Length": 236,
         "Acousticness": 84,
         "Speechiness": 4,
         "Popularity": 48,
         "_deepnote_index_column": 15
        },
        {
         "Index": 17,
         "Title": "Speed of Sound",
         "Artist": "Coldplay",
         "Top Genre": "permanent wave",
         "Year": 2005,
         "Beats Per Minute (BPM)": 123,
         "Energy": 90,
         "Danceability": 52,
         "Loudness": -7,
         "Liveness": 7,
         "Valence": 36,
         "Length": 288,
         "Acousticness": 0,
         "Speechiness": 6,
         "Popularity": 69,
         "_deepnote_index_column": 16
        },
        {
         "Index": 18,
         "Title": "Uninvited",
         "Artist": "Alanis Morissette",
         "Top Genre": "alternative rock",
         "Year": 2005,
         "Beats Per Minute (BPM)": 127,
         "Energy": 54,
         "Danceability": 38,
         "Loudness": -5,
         "Liveness": 9,
         "Valence": 19,
         "Length": 276,
         "Acousticness": 2,
         "Speechiness": 3,
         "Popularity": 57,
         "_deepnote_index_column": 17
        },
        {
         "Index": 19,
         "Title": "Music",
         "Artist": "John Miles",
         "Top Genre": "classic uk pop",
         "Year": 2004,
         "Beats Per Minute (BPM)": 87,
         "Energy": 31,
         "Danceability": 27,
         "Loudness": -13,
         "Liveness": 63,
         "Valence": 12,
         "Length": 352,
         "Acousticness": 1,
         "Speechiness": 3,
         "Popularity": 46,
         "_deepnote_index_column": 18
        },
        {
         "Index": 20,
         "Title": "Cry Me a River",
         "Artist": "Justin Timberlake",
         "Top Genre": "dance pop",
         "Year": 2002,
         "Beats Per Minute (BPM)": 74,
         "Energy": 65,
         "Danceability": 62,
         "Loudness": -7,
         "Liveness": 10,
         "Valence": 56,
         "Length": 288,
         "Acousticness": 57,
         "Speechiness": 18,
         "Popularity": 74,
         "_deepnote_index_column": 19
        },
        {
         "Index": 21,
         "Title": "Fix You",
         "Artist": "Coldplay",
         "Top Genre": "permanent wave",
         "Year": 2005,
         "Beats Per Minute (BPM)": 138,
         "Energy": 42,
         "Danceability": 21,
         "Loudness": -9,
         "Liveness": 11,
         "Valence": 12,
         "Length": 296,
         "Acousticness": 16,
         "Speechiness": 3,
         "Popularity": 81,
         "_deepnote_index_column": 20
        },
        {
         "Index": 22,
         "Title": "The Cave",
         "Artist": "Mumford & Sons",
         "Top Genre": "modern folk rock",
         "Year": 2009,
         "Beats Per Minute (BPM)": 142,
         "Energy": 51,
         "Danceability": 60,
         "Loudness": -10,
         "Liveness": 11,
         "Valence": 35,
         "Length": 218,
         "Acousticness": 5,
         "Speechiness": 4,
         "Popularity": 67,
         "_deepnote_index_column": 21
        },
        {
         "Index": 23,
         "Title": "Als De Morgen Is Gekomen",
         "Artist": "Jan Smit",
         "Top Genre": "dutch pop",
         "Year": 2006,
         "Beats Per Minute (BPM)": 96,
         "Energy": 89,
         "Danceability": 63,
         "Loudness": -6,
         "Liveness": 9,
         "Valence": 81,
         "Length": 176,
         "Acousticness": 5,
         "Speechiness": 3,
         "Popularity": 55,
         "_deepnote_index_column": 22
        },
        {
         "Index": 24,
         "Title": "Somebody Told Me",
         "Artist": "The Killers",
         "Top Genre": "modern rock",
         "Year": 2004,
         "Beats Per Minute (BPM)": 138,
         "Energy": 99,
         "Danceability": 51,
         "Loudness": -3,
         "Liveness": 12,
         "Valence": 65,
         "Length": 197,
         "Acousticness": 0,
         "Speechiness": 9,
         "Popularity": 69,
         "_deepnote_index_column": 23
        },
        {
         "Index": 25,
         "Title": "Dichterbij Dan Ooit",
         "Artist": "BLØF",
         "Top Genre": "dutch pop",
         "Year": 2002,
         "Beats Per Minute (BPM)": 112,
         "Energy": 74,
         "Danceability": 65,
         "Loudness": -7,
         "Liveness": 23,
         "Valence": 52,
         "Length": 261,
         "Acousticness": 18,
         "Speechiness": 3,
         "Popularity": 16,
         "_deepnote_index_column": 24
        },
        {
         "Index": 26,
         "Title": "Miracle",
         "Artist": "Ilse DeLange",
         "Top Genre": "dutch americana",
         "Year": 2008,
         "Beats Per Minute (BPM)": 130,
         "Energy": 48,
         "Danceability": 55,
         "Loudness": -8,
         "Liveness": 10,
         "Valence": 18,
         "Length": 270,
         "Acousticness": 48,
         "Speechiness": 3,
         "Popularity": 50,
         "_deepnote_index_column": 25
        },
        {
         "Index": 27,
         "Title": "Smokers Outside the Hospital Doors",
         "Artist": "Editors",
         "Top Genre": "alternative dance",
         "Year": 2007,
         "Beats Per Minute (BPM)": 123,
         "Energy": 68,
         "Danceability": 53,
         "Loudness": -4,
         "Liveness": 12,
         "Valence": 55,
         "Length": 298,
         "Acousticness": 0,
         "Speechiness": 4,
         "Popularity": 56,
         "_deepnote_index_column": 26
        },
        {
         "Index": 28,
         "Title": "Cleanin' Out My Closet",
         "Artist": "Eminem",
         "Top Genre": "detroit hip hop",
         "Year": 2002,
         "Beats Per Minute (BPM)": 148,
         "Energy": 76,
         "Danceability": 91,
         "Loudness": -5,
         "Liveness": 8,
         "Valence": 87,
         "Length": 298,
         "Acousticness": 7,
         "Speechiness": 17,
         "Popularity": 71,
         "_deepnote_index_column": 27
        },
        {
         "Index": 29,
         "Title": "Der Weg",
         "Artist": "Herbert Grönemeyer",
         "Top Genre": "german pop",
         "Year": 2008,
         "Beats Per Minute (BPM)": 142,
         "Energy": 24,
         "Danceability": 34,
         "Loudness": -11,
         "Liveness": 12,
         "Valence": 19,
         "Length": 259,
         "Acousticness": 92,
         "Speechiness": 4,
         "Popularity": 48,
         "_deepnote_index_column": 28
        },
        {
         "Index": 30,
         "Title": "7 Seconds (feat. Neneh Cherry)",
         "Artist": "Youssou N'Dour",
         "Top Genre": "afropop",
         "Year": 2004,
         "Beats Per Minute (BPM)": 154,
         "Energy": 70,
         "Danceability": 68,
         "Loudness": -10,
         "Liveness": 33,
         "Valence": 51,
         "Length": 306,
         "Acousticness": 8,
         "Speechiness": 3,
         "Popularity": 59,
         "_deepnote_index_column": 29
        },
        {
         "Index": 31,
         "Title": "The Scientist",
         "Artist": "Coldplay",
         "Top Genre": "permanent wave",
         "Year": 2002,
         "Beats Per Minute (BPM)": 146,
         "Energy": 44,
         "Danceability": 56,
         "Loudness": -7,
         "Liveness": 11,
         "Valence": 21,
         "Length": 310,
         "Acousticness": 73,
         "Speechiness": 2,
         "Popularity": 84,
         "_deepnote_index_column": 30
        },
        {
         "Index": 32,
         "Title": "Big Log - 2006 Remaster",
         "Artist": "Robert Plant",
         "Top Genre": "album rock",
         "Year": 2007,
         "Beats Per Minute (BPM)": 181,
         "Energy": 59,
         "Danceability": 56,
         "Loudness": -9,
         "Liveness": 20,
         "Valence": 68,
         "Length": 306,
         "Acousticness": 32,
         "Speechiness": 3,
         "Popularity": 57,
         "_deepnote_index_column": 31
        },
        {
         "Index": 33,
         "Title": "Chasing Pavements",
         "Artist": "Adele",
         "Top Genre": "british soul",
         "Year": 2008,
         "Beats Per Minute (BPM)": 80,
         "Energy": 47,
         "Danceability": 62,
         "Loudness": -6,
         "Liveness": 11,
         "Valence": 33,
         "Length": 211,
         "Acousticness": 31,
         "Speechiness": 3,
         "Popularity": 63,
         "_deepnote_index_column": 32
        }
       ],
       "rows_bottom": [
        {
         "Index": 1962,
         "Title": "Albatross - 2018 Remaster",
         "Artist": "Fleetwood Mac",
         "Top Genre": "album rock",
         "Year": 1969,
         "Beats Per Minute (BPM)": 136,
         "Energy": 6,
         "Danceability": 32,
         "Loudness": -22,
         "Liveness": 14,
         "Valence": 26,
         "Length": 191,
         "Acousticness": 83,
         "Speechiness": 4,
         "Popularity": 50,
         "_deepnote_index_column": 1961
        },
        {
         "Index": 1963,
         "Title": "Just A Little Bit Of Peace In My Heart",
         "Artist": "Golden Earring",
         "Top Genre": "album rock",
         "Year": 1969,
         "Beats Per Minute (BPM)": 95,
         "Energy": 72,
         "Danceability": 27,
         "Loudness": -6,
         "Liveness": 6,
         "Valence": 26,
         "Length": 320,
         "Acousticness": 1,
         "Speechiness": 3,
         "Popularity": 42,
         "_deepnote_index_column": 1962
        },
        {
         "Index": 1964,
         "Title": "Venus",
         "Artist": "Shocking Blue",
         "Top Genre": "classic rock",
         "Year": 1969,
         "Beats Per Minute (BPM)": 128,
         "Energy": 76,
         "Danceability": 69,
         "Loudness": -6,
         "Liveness": 8,
         "Valence": 96,
         "Length": 188,
         "Acousticness": 46,
         "Speechiness": 4,
         "Popularity": 59,
         "_deepnote_index_column": 1963
        },
        {
         "Index": 1965,
         "Title": "Son of a Preacher Man",
         "Artist": "Dusty Springfield",
         "Top Genre": "adult standards",
         "Year": 1969,
         "Beats Per Minute (BPM)": 182,
         "Energy": 50,
         "Danceability": 40,
         "Loudness": -11,
         "Liveness": 13,
         "Valence": 82,
         "Length": 149,
         "Acousticness": 39,
         "Speechiness": 8,
         "Popularity": 61,
         "_deepnote_index_column": 1964
        },
        {
         "Index": 1966,
         "Title": "Pinball Wizard",
         "Artist": "The Who",
         "Top Genre": "album rock",
         "Year": 1969,
         "Beats Per Minute (BPM)": 124,
         "Energy": 72,
         "Danceability": 54,
         "Loudness": -9,
         "Liveness": 26,
         "Valence": 47,
         "Length": 181,
         "Acousticness": 2,
         "Speechiness": 4,
         "Popularity": 69,
         "_deepnote_index_column": 1965
        },
        {
         "Index": 1967,
         "Title": "Marian",
         "Artist": "The Cats",
         "Top Genre": "classic uk pop",
         "Year": 1969,
         "Beats Per Minute (BPM)": 80,
         "Energy": 45,
         "Danceability": 39,
         "Loudness": -10,
         "Liveness": 19,
         "Valence": 39,
         "Length": 240,
         "Acousticness": 0,
         "Speechiness": 3,
         "Popularity": 46,
         "_deepnote_index_column": 1966
        },
        {
         "Index": 1968,
         "Title": "Proud Mary",
         "Artist": "Creedence Clearwater Revival",
         "Top Genre": "album rock",
         "Year": 1969,
         "Beats Per Minute (BPM)": 121,
         "Energy": 39,
         "Danceability": 72,
         "Loudness": -17,
         "Liveness": 5,
         "Valence": 79,
         "Length": 187,
         "Acousticness": 16,
         "Speechiness": 3,
         "Popularity": 60,
         "_deepnote_index_column": 1967
        },
        {
         "Index": 1969,
         "Title": "Beautiful People",
         "Artist": "Melanie",
         "Top Genre": "classic uk pop",
         "Year": 1969,
         "Beats Per Minute (BPM)": 129,
         "Energy": 44,
         "Danceability": 54,
         "Loudness": -9,
         "Liveness": 40,
         "Valence": 37,
         "Length": 215,
         "Acousticness": 61,
         "Speechiness": 5,
         "Popularity": 44,
         "_deepnote_index_column": 1968
        },
        {
         "Index": 1970,
         "Title": "Oh Well (Pt. 1) - 2013 Remaster",
         "Artist": "Fleetwood Mac",
         "Top Genre": "album rock",
         "Year": 1969,
         "Beats Per Minute (BPM)": 103,
         "Energy": 59,
         "Danceability": 47,
         "Loudness": -10,
         "Liveness": 14,
         "Valence": 22,
         "Length": 202,
         "Acousticness": 20,
         "Speechiness": 14,
         "Popularity": 41,
         "_deepnote_index_column": 1969
        },
        {
         "Index": 1971,
         "Title": "Born On The Bayou",
         "Artist": "Creedence Clearwater Revival",
         "Top Genre": "album rock",
         "Year": 1969,
         "Beats Per Minute (BPM)": 117,
         "Energy": 39,
         "Danceability": 68,
         "Loudness": -16,
         "Liveness": 11,
         "Valence": 55,
         "Length": 315,
         "Acousticness": 7,
         "Speechiness": 5,
         "Popularity": 59,
         "_deepnote_index_column": 1970
        },
        {
         "Index": 1972,
         "Title": "Scarlet Ribbons",
         "Artist": "The Cats",
         "Top Genre": "classic uk pop",
         "Year": 1969,
         "Beats Per Minute (BPM)": 101,
         "Energy": 42,
         "Danceability": 48,
         "Loudness": -10,
         "Liveness": 14,
         "Valence": 47,
         "Length": 197,
         "Acousticness": 9,
         "Speechiness": 3,
         "Popularity": 44,
         "_deepnote_index_column": 1971
        },
        {
         "Index": 1973,
         "Title": "The Thrill Is Gone",
         "Artist": "B.B. King",
         "Top Genre": "blues",
         "Year": 1969,
         "Beats Per Minute (BPM)": 91,
         "Energy": 46,
         "Danceability": 55,
         "Loudness": -9,
         "Liveness": 10,
         "Valence": 54,
         "Length": 325,
         "Acousticness": 34,
         "Speechiness": 3,
         "Popularity": 60,
         "_deepnote_index_column": 1972
        },
        {
         "Index": 1974,
         "Title": "Dazed and Confused",
         "Artist": "Led Zeppelin",
         "Top Genre": "album rock",
         "Year": 1969,
         "Beats Per Minute (BPM)": 87,
         "Energy": 55,
         "Danceability": 27,
         "Loudness": -10,
         "Liveness": 10,
         "Valence": 43,
         "Length": 386,
         "Acousticness": 4,
         "Speechiness": 5,
         "Popularity": 63,
         "_deepnote_index_column": 1973
        },
        {
         "Index": 1975,
         "Title": "Overture",
         "Artist": "The Who",
         "Top Genre": "album rock",
         "Year": 1969,
         "Beats Per Minute (BPM)": 118,
         "Energy": 62,
         "Danceability": 48,
         "Loudness": -10,
         "Liveness": 14,
         "Valence": 19,
         "Length": 320,
         "Acousticness": 6,
         "Speechiness": 3,
         "Popularity": 43,
         "_deepnote_index_column": 1974
        },
        {
         "Index": 1976,
         "Title": "Streets of London",
         "Artist": "Ralph McTell",
         "Top Genre": "british folk",
         "Year": 1969,
         "Beats Per Minute (BPM)": 156,
         "Energy": 30,
         "Danceability": 40,
         "Loudness": -15,
         "Liveness": 10,
         "Valence": 19,
         "Length": 249,
         "Acousticness": 63,
         "Speechiness": 3,
         "Popularity": 57,
         "_deepnote_index_column": 1975
        },
        {
         "Index": 1977,
         "Title": "Down On The Corner",
         "Artist": "Creedence Clearwater Revival",
         "Top Genre": "album rock",
         "Year": 1969,
         "Beats Per Minute (BPM)": 108,
         "Energy": 54,
         "Danceability": 86,
         "Loudness": -9,
         "Liveness": 7,
         "Valence": 87,
         "Length": 166,
         "Acousticness": 58,
         "Speechiness": 8,
         "Popularity": 73,
         "_deepnote_index_column": 1976
        },
        {
         "Index": 1978,
         "Title": "Appleknockers Flophouse",
         "Artist": "Cuby & The Blizzards",
         "Top Genre": "dutch indie",
         "Year": 1969,
         "Beats Per Minute (BPM)": 197,
         "Energy": 71,
         "Danceability": 31,
         "Loudness": -9,
         "Liveness": 26,
         "Valence": 67,
         "Length": 151,
         "Acousticness": 0,
         "Speechiness": 10,
         "Popularity": 34,
         "_deepnote_index_column": 1977
        },
        {
         "Index": 1979,
         "Title": "The First Time Ever I Saw Your Face",
         "Artist": "Roberta Flack",
         "Top Genre": "adult standards",
         "Year": 1969,
         "Beats Per Minute (BPM)": 121,
         "Energy": 3,
         "Danceability": 31,
         "Loudness": -22,
         "Liveness": 16,
         "Valence": 14,
         "Length": 261,
         "Acousticness": 73,
         "Speechiness": 4,
         "Popularity": 64,
         "_deepnote_index_column": 1978
        },
        {
         "Index": 1980,
         "Title": "Touch Me",
         "Artist": "The Doors",
         "Top Genre": "album rock",
         "Year": 1969,
         "Beats Per Minute (BPM)": 109,
         "Energy": 90,
         "Danceability": 43,
         "Loudness": -5,
         "Liveness": 12,
         "Valence": 77,
         "Length": 190,
         "Acousticness": 41,
         "Speechiness": 7,
         "Popularity": 68,
         "_deepnote_index_column": 1979
        },
        {
         "Index": 1981,
         "Title": "Summertime",
         "Artist": "Brainbox",
         "Top Genre": "dutch prog",
         "Year": 1969,
         "Beats Per Minute (BPM)": 89,
         "Energy": 55,
         "Danceability": 38,
         "Loudness": -9,
         "Liveness": 31,
         "Valence": 25,
         "Length": 263,
         "Acousticness": 4,
         "Speechiness": 3,
         "Popularity": 36,
         "_deepnote_index_column": 1980
        },
        {
         "Index": 1982,
         "Title": "Midnight Rambler",
         "Artist": "The Rolling Stones",
         "Top Genre": "album rock",
         "Year": 1969,
         "Beats Per Minute (BPM)": 75,
         "Energy": 66,
         "Danceability": 40,
         "Loudness": -10,
         "Liveness": 17,
         "Valence": 51,
         "Length": 413,
         "Acousticness": 77,
         "Speechiness": 12,
         "Popularity": 50,
         "_deepnote_index_column": 1981
        },
        {
         "Index": 1983,
         "Title": "Get Ready",
         "Artist": "Rare Earth",
         "Top Genre": "blues rock",
         "Year": 1969,
         "Beats Per Minute (BPM)": 127,
         "Energy": 87,
         "Danceability": 41,
         "Loudness": -6,
         "Liveness": 83,
         "Valence": 65,
         "Length": 1292,
         "Acousticness": 0,
         "Speechiness": 4,
         "Popularity": 45,
         "_deepnote_index_column": 1982
        },
        {
         "Index": 1984,
         "Title": "Black Magic Woman - 2018 Remaster",
         "Artist": "Fleetwood Mac",
         "Top Genre": "album rock",
         "Year": 1969,
         "Beats Per Minute (BPM)": 129,
         "Energy": 41,
         "Danceability": 46,
         "Loudness": -11,
         "Liveness": 28,
         "Valence": 44,
         "Length": 173,
         "Acousticness": 5,
         "Speechiness": 4,
         "Popularity": 48,
         "_deepnote_index_column": 1983
        },
        {
         "Index": 1985,
         "Title": "Suite: Judy Blue Eyes - Remastered",
         "Artist": "Crosby, Stills & Nash",
         "Top Genre": "album rock",
         "Year": 1969,
         "Beats Per Minute (BPM)": 154,
         "Energy": 36,
         "Danceability": 45,
         "Loudness": -13,
         "Liveness": 20,
         "Valence": 30,
         "Length": 444,
         "Acousticness": 47,
         "Speechiness": 4,
         "Popularity": 67,
         "_deepnote_index_column": 1984
        },
        {
         "Index": 1986,
         "Title": "Blue Suede Shoes",
         "Artist": "Elvis Presley",
         "Top Genre": "adult standards",
         "Year": 1956,
         "Beats Per Minute (BPM)": 95,
         "Energy": 66,
         "Danceability": 56,
         "Loudness": -8,
         "Liveness": 14,
         "Valence": 96,
         "Length": 119,
         "Acousticness": 65,
         "Speechiness": 6,
         "Popularity": 62,
         "_deepnote_index_column": 1985
        },
        {
         "Index": 1987,
         "Title": "Jailhouse Rock",
         "Artist": "Elvis Presley",
         "Top Genre": "adult standards",
         "Year": 1958,
         "Beats Per Minute (BPM)": 167,
         "Energy": 58,
         "Danceability": 65,
         "Loudness": -10,
         "Liveness": 7,
         "Valence": 92,
         "Length": 146,
         "Acousticness": 41,
         "Speechiness": 8,
         "Popularity": 73,
         "_deepnote_index_column": 1986
        },
        {
         "Index": 1988,
         "Title": "My Baby Just Cares for Me - 2013 Remastered Version",
         "Artist": "Nina Simone",
         "Top Genre": "adult standards",
         "Year": 1958,
         "Beats Per Minute (BPM)": 119,
         "Energy": 24,
         "Danceability": 75,
         "Loudness": -15,
         "Liveness": 9,
         "Valence": 43,
         "Length": 216,
         "Acousticness": 83,
         "Speechiness": 12,
         "Popularity": 68,
         "_deepnote_index_column": 1987
        },
        {
         "Index": 1989,
         "Title": "Summertime",
         "Artist": "Louis Armstrong",
         "Top Genre": "adult standards",
         "Year": 1958,
         "Beats Per Minute (BPM)": 168,
         "Energy": 7,
         "Danceability": 17,
         "Loudness": -21,
         "Liveness": 14,
         "Valence": 10,
         "Length": 298,
         "Acousticness": 92,
         "Speechiness": 3,
         "Popularity": 66,
         "_deepnote_index_column": 1988
        },
        {
         "Index": 1990,
         "Title": "Heartbreak Hotel",
         "Artist": "Elvis Presley",
         "Top Genre": "adult standards",
         "Year": 1958,
         "Beats Per Minute (BPM)": 94,
         "Energy": 21,
         "Danceability": 70,
         "Loudness": -12,
         "Liveness": 11,
         "Valence": 72,
         "Length": 128,
         "Acousticness": 84,
         "Speechiness": 7,
         "Popularity": 63,
         "_deepnote_index_column": 1989
        },
        {
         "Index": 1991,
         "Title": "Hound Dog",
         "Artist": "Elvis Presley",
         "Top Genre": "adult standards",
         "Year": 1958,
         "Beats Per Minute (BPM)": 175,
         "Energy": 76,
         "Danceability": 36,
         "Loudness": -8,
         "Liveness": 76,
         "Valence": 95,
         "Length": 136,
         "Acousticness": 73,
         "Speechiness": 6,
         "Popularity": 69,
         "_deepnote_index_column": 1990
        },
        {
         "Index": 1992,
         "Title": "Johnny B. Goode",
         "Artist": "Chuck Berry",
         "Top Genre": "blues rock",
         "Year": 1959,
         "Beats Per Minute (BPM)": 168,
         "Energy": 80,
         "Danceability": 53,
         "Loudness": -9,
         "Liveness": 31,
         "Valence": 97,
         "Length": 162,
         "Acousticness": 74,
         "Speechiness": 7,
         "Popularity": 74,
         "_deepnote_index_column": 1991
        },
        {
         "Index": 1993,
         "Title": "Take Five",
         "Artist": "The Dave Brubeck Quartet",
         "Top Genre": "bebop",
         "Year": 1959,
         "Beats Per Minute (BPM)": 174,
         "Energy": 26,
         "Danceability": 45,
         "Loudness": -13,
         "Liveness": 7,
         "Valence": 60,
         "Length": 324,
         "Acousticness": 54,
         "Speechiness": 4,
         "Popularity": 65,
         "_deepnote_index_column": 1992
        },
        {
         "Index": 1994,
         "Title": "Blueberry Hill",
         "Artist": "Fats Domino",
         "Top Genre": "adult standards",
         "Year": 1959,
         "Beats Per Minute (BPM)": 133,
         "Energy": 50,
         "Danceability": 49,
         "Loudness": -10,
         "Liveness": 16,
         "Valence": 83,
         "Length": 148,
         "Acousticness": 74,
         "Speechiness": 3,
         "Popularity": 56,
         "_deepnote_index_column": 1993
        }
       ]
      },
      "text/plain": "      Index                   Title                    Artist  \\\n0         1                 Sunrise               Norah Jones   \n1         2             Black Night               Deep Purple   \n2         3          Clint Eastwood                  Gorillaz   \n3         4           The Pretender              Foo Fighters   \n4         5  Waitin' On A Sunny Day         Bruce Springsteen   \n...     ...                     ...                       ...   \n1989   1990        Heartbreak Hotel             Elvis Presley   \n1990   1991               Hound Dog             Elvis Presley   \n1991   1992         Johnny B. Goode               Chuck Berry   \n1992   1993               Take Five  The Dave Brubeck Quartet   \n1993   1994          Blueberry Hill               Fats Domino   \n\n                Top Genre  Year  Beats Per Minute (BPM)  Energy  Danceability  \\\n0         adult standards  2004                     157      30            53   \n1              album rock  2000                     135      79            50   \n2     alternative hip hop  2001                     168      69            66   \n3       alternative metal  2007                     173      96            43   \n4            classic rock  2002                     106      82            58   \n...                   ...   ...                     ...     ...           ...   \n1989      adult standards  1958                      94      21            70   \n1990      adult standards  1958                     175      76            36   \n1991           blues rock  1959                     168      80            53   \n1992                bebop  1959                     174      26            45   \n1993      adult standards  1959                     133      50            49   \n\n      Loudness  Liveness  Valence  Length  Acousticness  Speechiness  \\\n0          -14        11       68     201            94            3   \n1          -11        17       81     207            17            7   \n2           -9         7       52     341             2           17   \n3           -4         3       37     269             0            4   \n4           -5        10       87     256             1            3   \n...        ...       ...      ...     ...           ...          ...   \n1989       -12        11       72     128            84            7   \n1990        -8        76       95     136            73            6   \n1991        -9        31       97     162            74            7   \n1992       -13         7       60     324            54            4   \n1993       -10        16       83     148            74            3   \n\n      Popularity  \n0             71  \n1             39  \n2             69  \n3             76  \n4             59  \n...          ...  \n1989          63  \n1990          69  \n1991          74  \n1992          65  \n1993          56  \n\n[1994 rows x 15 columns]",
      "text/html": "<div>\n<style scoped>\n    .dataframe tbody tr th:only-of-type {\n        vertical-align: middle;\n    }\n\n    .dataframe tbody tr th {\n        vertical-align: top;\n    }\n\n    .dataframe thead th {\n        text-align: right;\n    }\n</style>\n<table border=\"1\" class=\"dataframe\">\n  <thead>\n    <tr style=\"text-align: right;\">\n      <th></th>\n      <th>Index</th>\n      <th>Title</th>\n      <th>Artist</th>\n      <th>Top Genre</th>\n      <th>Year</th>\n      <th>Beats Per Minute (BPM)</th>\n      <th>Energy</th>\n      <th>Danceability</th>\n      <th>Loudness</th>\n      <th>Liveness</th>\n      <th>Valence</th>\n      <th>Length</th>\n      <th>Acousticness</th>\n      <th>Speechiness</th>\n      <th>Popularity</th>\n    </tr>\n  </thead>\n  <tbody>\n    <tr>\n      <th>0</th>\n      <td>1</td>\n      <td>Sunrise</td>\n      <td>Norah Jones</td>\n      <td>adult standards</td>\n      <td>2004</td>\n      <td>157</td>\n      <td>30</td>\n      <td>53</td>\n      <td>-14</td>\n      <td>11</td>\n      <td>68</td>\n      <td>201</td>\n      <td>94</td>\n      <td>3</td>\n      <td>71</td>\n    </tr>\n    <tr>\n      <th>1</th>\n      <td>2</td>\n      <td>Black Night</td>\n      <td>Deep Purple</td>\n      <td>album rock</td>\n      <td>2000</td>\n      <td>135</td>\n      <td>79</td>\n      <td>50</td>\n      <td>-11</td>\n      <td>17</td>\n      <td>81</td>\n      <td>207</td>\n      <td>17</td>\n      <td>7</td>\n      <td>39</td>\n    </tr>\n    <tr>\n      <th>2</th>\n      <td>3</td>\n      <td>Clint Eastwood</td>\n      <td>Gorillaz</td>\n      <td>alternative hip hop</td>\n      <td>2001</td>\n      <td>168</td>\n      <td>69</td>\n      <td>66</td>\n      <td>-9</td>\n      <td>7</td>\n      <td>52</td>\n      <td>341</td>\n      <td>2</td>\n      <td>17</td>\n      <td>69</td>\n    </tr>\n    <tr>\n      <th>3</th>\n      <td>4</td>\n      <td>The Pretender</td>\n      <td>Foo Fighters</td>\n      <td>alternative metal</td>\n      <td>2007</td>\n      <td>173</td>\n      <td>96</td>\n      <td>43</td>\n      <td>-4</td>\n      <td>3</td>\n      <td>37</td>\n      <td>269</td>\n      <td>0</td>\n      <td>4</td>\n      <td>76</td>\n    </tr>\n    <tr>\n      <th>4</th>\n      <td>5</td>\n      <td>Waitin' On A Sunny Day</td>\n      <td>Bruce Springsteen</td>\n      <td>classic rock</td>\n      <td>2002</td>\n      <td>106</td>\n      <td>82</td>\n      <td>58</td>\n      <td>-5</td>\n      <td>10</td>\n      <td>87</td>\n      <td>256</td>\n      <td>1</td>\n      <td>3</td>\n      <td>59</td>\n    </tr>\n    <tr>\n      <th>...</th>\n      <td>...</td>\n      <td>...</td>\n      <td>...</td>\n      <td>...</td>\n      <td>...</td>\n      <td>...</td>\n      <td>...</td>\n      <td>...</td>\n      <td>...</td>\n      <td>...</td>\n      <td>...</td>\n      <td>...</td>\n      <td>...</td>\n      <td>...</td>\n      <td>...</td>\n    </tr>\n    <tr>\n      <th>1989</th>\n      <td>1990</td>\n      <td>Heartbreak Hotel</td>\n      <td>Elvis Presley</td>\n      <td>adult standards</td>\n      <td>1958</td>\n      <td>94</td>\n      <td>21</td>\n      <td>70</td>\n      <td>-12</td>\n      <td>11</td>\n      <td>72</td>\n      <td>128</td>\n      <td>84</td>\n      <td>7</td>\n      <td>63</td>\n    </tr>\n    <tr>\n      <th>1990</th>\n      <td>1991</td>\n      <td>Hound Dog</td>\n      <td>Elvis Presley</td>\n      <td>adult standards</td>\n      <td>1958</td>\n      <td>175</td>\n      <td>76</td>\n      <td>36</td>\n      <td>-8</td>\n      <td>76</td>\n      <td>95</td>\n      <td>136</td>\n      <td>73</td>\n      <td>6</td>\n      <td>69</td>\n    </tr>\n    <tr>\n      <th>1991</th>\n      <td>1992</td>\n      <td>Johnny B. Goode</td>\n      <td>Chuck Berry</td>\n      <td>blues rock</td>\n      <td>1959</td>\n      <td>168</td>\n      <td>80</td>\n      <td>53</td>\n      <td>-9</td>\n      <td>31</td>\n      <td>97</td>\n      <td>162</td>\n      <td>74</td>\n      <td>7</td>\n      <td>74</td>\n    </tr>\n    <tr>\n      <th>1992</th>\n      <td>1993</td>\n      <td>Take Five</td>\n      <td>The Dave Brubeck Quartet</td>\n      <td>bebop</td>\n      <td>1959</td>\n      <td>174</td>\n      <td>26</td>\n      <td>45</td>\n      <td>-13</td>\n      <td>7</td>\n      <td>60</td>\n      <td>324</td>\n      <td>54</td>\n      <td>4</td>\n      <td>65</td>\n    </tr>\n    <tr>\n      <th>1993</th>\n      <td>1994</td>\n      <td>Blueberry Hill</td>\n      <td>Fats Domino</td>\n      <td>adult standards</td>\n      <td>1959</td>\n      <td>133</td>\n      <td>50</td>\n      <td>49</td>\n      <td>-10</td>\n      <td>16</td>\n      <td>83</td>\n      <td>148</td>\n      <td>74</td>\n      <td>3</td>\n      <td>56</td>\n    </tr>\n  </tbody>\n</table>\n<p>1994 rows × 15 columns</p>\n</div>"
     },
     "metadata": {}
    }
   ],
   "execution_count": null
  },
  {
   "cell_type": "code",
   "metadata": {
    "tags": [],
    "cell_id": "00001-75f7943f-c0a8-47a5-a8d3-d53c2fba6f91",
    "deepnote_to_be_reexecuted": false,
    "source_hash": "400fb9e7",
    "execution_start": 1638078174807,
    "execution_millis": 34,
    "deepnote_output_heights": [
     192,
     192
    ],
    "deepnote_cell_type": "code"
   },
   "source": "# Drop outliers on Liveness feature\n#RUN THIS CELL ONLY ONCE\n\n#calculate IQRs of the columns\nliveness_IQR = df['Liveness'].quantile(.75) - df['Liveness'].quantile(.25)\nliveness_lower_lim = df['Liveness'].quantile(.25) - 1.5*liveness_IQR\nliveness_upper_lim = df['Liveness'].quantile(.75) + 1.5*liveness_IQR\n\nlength_IQR = df['Length'].quantile(.75) - df['Length'].quantile(.25)\nlength_lower_lim = df['Length'].quantile(.25) - 1.5*length_IQR\nlength_upper_lim = df['Length'].quantile(.75) + 1.5*length_IQR\n\nloudness_IQR = df['Loudness'].quantile(.75) - df['Loudness'].quantile(.25)\nloudness_lower_lim = df['Loudness'].quantile(.25) - 1.5*loudness_IQR\nloudness_upper_lim = df['Loudness'].quantile(.75) + 1.5*loudness_IQR\n\nspeechiness_IQR = df['Speechiness'].quantile(.75) - df['Speechiness'].quantile(.25)\nspeechiness_lower_lim = df['Speechiness'].quantile(.25) - 1.5*speechiness_IQR\nspeechiness_upper_lim = df['Speechiness'].quantile(.75) + 1.5*speechiness_IQR\n\n#drop\nprint('Liveness')\n#print(liveness_lower_lim, liveness_upper_lim, liveness_IQR)\ndf_cleanlivenesslower = df[df['Liveness'] > liveness_lower_lim]\ndf = df_cleanlivenesslower[df_cleanlivenesslower['Liveness'] < liveness_upper_lim] \nprint(len(df))\n\n# Drop outliers on Length feature\nprint('Length')\n\ndf_cleanlengthlower = df[df['Length'] > length_lower_lim]\ndf = df_cleanlengthlower[df_cleanlengthlower['Length'] < length_upper_lim]\nprint(len(df))\n\n# Drop outliers on Loudness feature\nprint('Loudness')\n\ndf_cleanLoudnesslower = df[df['Loudness'] > loudness_lower_lim]\ndf = df_cleanLoudnesslower[df_cleanLoudnesslower['Loudness'] < loudness_upper_lim]\nprint(len(df))\n\n# Drop outliers on Speechiness feature\nprint('Speechness')\n\ndf_cleanspeechinesslower = df[df['Speechiness'] > speechiness_lower_lim]\ndf = df_cleanspeechinesslower[df_cleanspeechinesslower['Speechiness'] < speechiness_upper_lim]\nprint(len(df))\n",
   "outputs": [
    {
     "name": "stdout",
     "text": "Liveness\n1849\nLength\n1753\nLoudness\n1729\nSpeechness\n1547\n",
     "output_type": "stream"
    }
   ],
   "execution_count": null
  },
  {
   "cell_type": "code",
   "metadata": {
    "tags": [],
    "cell_id": "00003-d7b49f57-bd70-463a-a868-4b161d1c5c99",
    "deepnote_to_be_reexecuted": false,
    "source_hash": "805968cd",
    "execution_start": 1638078315974,
    "execution_millis": 20,
    "deepnote_cell_type": "code"
   },
   "source": "df.to_csv('clean-Spotify.csv')",
   "outputs": [],
   "execution_count": null
  },
  {
   "cell_type": "markdown",
   "source": "<a style='text-decoration:none;line-height:16px;display:flex;color:#5B5B62;padding:10px;justify-content:end;' href='https://deepnote.com?utm_source=created-in-deepnote-cell&projectId=ebc7ed57-9d9b-4197-9f19-b17d7bdf5e26' target=\"_blank\">\n<img alt='Created in deepnote.com' style='display:inline;max-height:16px;margin:0px;margin-right:7.5px;' src='data:image/svg+xml;base64,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' > </img>\nCreated in <span style='font-weight:600;margin-left:4px;'>Deepnote</span></a>",
   "metadata": {
    "tags": [],
    "created_in_deepnote_cell": true,
    "deepnote_cell_type": "markdown"
   }
  }
 ],
 "nbformat": 4,
 "nbformat_minor": 2,
 "metadata": {
  "orig_nbformat": 2,
  "deepnote": {
   "is_reactive": false
  },
  "deepnote_notebook_id": "befd0381-e3c3-4e70-b571-1d95d545e472",
  "deepnote_execution_queue": []
 }
}