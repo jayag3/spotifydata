{
 "cells": [
  {
   "cell_type": "code",
   "metadata": {
    "deepnote_to_be_reexecuted": false,
    "source_hash": "33207d1d",
    "execution_start": 1638245904363,
    "execution_millis": 519,
    "cell_id": "00000-b0ebe73e-ccff-4255-b5b5-7ffdb7b6d405",
    "deepnote_cell_type": "code"
   },
   "source": "# Standard Headers\n# You are welcome to add additional headers here if you wish\nimport pandas as pd\nimport numpy as np\nimport matplotlib.pyplot as plt\n\n# Enable inline mode for matplotlib so that Jupyter displays graphs\n%matplotlib inline",
   "outputs": [],
   "execution_count": 1
  },
  {
   "cell_type": "markdown",
   "source": "## KNN with Spotify data\n\nWe will be using a KNN model on the Spotify songs data.",
   "metadata": {
    "cell_id": "00001-105d500e-0421-47b9-bb47-05652e2a9a84",
    "deepnote_cell_type": "markdown"
   }
  },
  {
   "cell_type": "code",
   "metadata": {
    "deepnote_output_heights": [
     393.566650390625
    ],
    "deepnote_to_be_reexecuted": false,
    "source_hash": "dc11ccd4",
    "execution_start": 1638245904883,
    "execution_millis": 184,
    "cell_id": "00002-9dec9f1e-ce08-493f-8b05-f2590d8db539",
    "deepnote_cell_type": "code"
   },
   "source": "# Import the cleaned data set exported from the data_cleaning notebook\n# Verify that the changes from cleaning have been saved\ndf = pd.read_csv(\"clean-Spotify.csv\")\ndf",
   "outputs": [
    {
     "output_type": "execute_result",
     "execution_count": 2,
     "data": {
      "application/vnd.deepnote.dataframe.v2+json": {
       "row_count": 1547,
       "column_count": 16,
       "columns": [
        {
         "name": "Unnamed: 0",
         "dtype": "int64",
         "stats": {
          "unique_count": 1547,
          "nan_count": 0,
          "min": "0",
          "max": "1993",
          "histogram": [
           {
            "bin_start": 0,
            "bin_end": 199.3,
            "count": 150
           },
           {
            "bin_start": 199.3,
            "bin_end": 398.6,
            "count": 164
           },
           {
            "bin_start": 398.6,
            "bin_end": 597.9000000000001,
            "count": 157
           },
           {
            "bin_start": 597.9000000000001,
            "bin_end": 797.2,
            "count": 159
           },
           {
            "bin_start": 797.2,
            "bin_end": 996.5,
            "count": 141
           },
           {
            "bin_start": 996.5,
            "bin_end": 1195.8000000000002,
            "count": 147
           },
           {
            "bin_start": 1195.8000000000002,
            "bin_end": 1395.1000000000001,
            "count": 148
           },
           {
            "bin_start": 1395.1000000000001,
            "bin_end": 1594.4,
            "count": 161
           },
           {
            "bin_start": 1594.4,
            "bin_end": 1793.7,
            "count": 162
           },
           {
            "bin_start": 1793.7,
            "bin_end": 1993,
            "count": 158
           }
          ]
         }
        },
        {
         "name": "Index",
         "dtype": "int64",
         "stats": {
          "unique_count": 1547,
          "nan_count": 0,
          "min": "1",
          "max": "1994",
          "histogram": [
           {
            "bin_start": 1,
            "bin_end": 200.3,
            "count": 150
           },
           {
            "bin_start": 200.3,
            "bin_end": 399.6,
            "count": 164
           },
           {
            "bin_start": 399.6,
            "bin_end": 598.9000000000001,
            "count": 157
           },
           {
            "bin_start": 598.9000000000001,
            "bin_end": 798.2,
            "count": 159
           },
           {
            "bin_start": 798.2,
            "bin_end": 997.5,
            "count": 141
           },
           {
            "bin_start": 997.5,
            "bin_end": 1196.8000000000002,
            "count": 147
           },
           {
            "bin_start": 1196.8000000000002,
            "bin_end": 1396.1000000000001,
            "count": 148
           },
           {
            "bin_start": 1396.1000000000001,
            "bin_end": 1595.4,
            "count": 161
           },
           {
            "bin_start": 1595.4,
            "bin_end": 1794.7,
            "count": 162
           },
           {
            "bin_start": 1794.7,
            "bin_end": 1994,
            "count": 158
           }
          ]
         }
        },
        {
         "name": "Title",
         "dtype": "object",
         "stats": {
          "unique_count": 1523,
          "nan_count": 0,
          "categories": [
           {
            "name": "Feeling Good",
            "count": 3
           },
           {
            "name": "Sunrise",
            "count": 2
           },
           {
            "name": "1521 others",
            "count": 1542
           }
          ]
         }
        },
        {
         "name": "Artist",
         "dtype": "object",
         "stats": {
          "unique_count": 619,
          "nan_count": 0,
          "categories": [
           {
            "name": "The Beatles",
            "count": 29
           },
           {
            "name": "Queen",
            "count": 29
           },
           {
            "name": "617 others",
            "count": 1489
           }
          ]
         }
        },
        {
         "name": "Top Genre",
         "dtype": "object",
         "stats": {
          "unique_count": 134,
          "nan_count": 0,
          "categories": [
           {
            "name": "album rock",
            "count": 299
           },
           {
            "name": "adult standards",
            "count": 101
           },
           {
            "name": "132 others",
            "count": 1147
           }
          ]
         }
        },
        {
         "name": "Year",
         "dtype": "int64",
         "stats": {
          "unique_count": 63,
          "nan_count": 0,
          "min": "1956",
          "max": "2019",
          "histogram": [
           {
            "bin_start": 1956,
            "bin_end": 1962.3,
            "count": 10
           },
           {
            "bin_start": 1962.3,
            "bin_end": 1968.6,
            "count": 91
           },
           {
            "bin_start": 1968.6,
            "bin_end": 1974.9,
            "count": 145
           },
           {
            "bin_start": 1974.9,
            "bin_end": 1981.2,
            "count": 176
           },
           {
            "bin_start": 1981.2,
            "bin_end": 1987.5,
            "count": 168
           },
           {
            "bin_start": 1987.5,
            "bin_end": 1993.8,
            "count": 168
           },
           {
            "bin_start": 1993.8,
            "bin_end": 2000.1,
            "count": 186
           },
           {
            "bin_start": 2000.1,
            "bin_end": 2006.4,
            "count": 180
           },
           {
            "bin_start": 2006.4,
            "bin_end": 2012.7,
            "count": 201
           },
           {
            "bin_start": 2012.7,
            "bin_end": 2019,
            "count": 222
           }
          ]
         }
        },
        {
         "name": "Beats Per Minute (BPM)",
         "dtype": "int64",
         "stats": {
          "unique_count": 139,
          "nan_count": 0,
          "min": "37",
          "max": "206",
          "histogram": [
           {
            "bin_start": 37,
            "bin_end": 53.9,
            "count": 2
           },
           {
            "bin_start": 53.9,
            "bin_end": 70.8,
            "count": 18
           },
           {
            "bin_start": 70.8,
            "bin_end": 87.69999999999999,
            "count": 176
           },
           {
            "bin_start": 87.69999999999999,
            "bin_end": 104.6,
            "count": 293
           },
           {
            "bin_start": 104.6,
            "bin_end": 121.5,
            "count": 355
           },
           {
            "bin_start": 121.5,
            "bin_end": 138.39999999999998,
            "count": 373
           },
           {
            "bin_start": 138.39999999999998,
            "bin_end": 155.29999999999998,
            "count": 162
           },
           {
            "bin_start": 155.29999999999998,
            "bin_end": 172.2,
            "count": 96
           },
           {
            "bin_start": 172.2,
            "bin_end": 189.1,
            "count": 59
           },
           {
            "bin_start": 189.1,
            "bin_end": 206,
            "count": 13
           }
          ]
         }
        },
        {
         "name": "Energy",
         "dtype": "int64",
         "stats": {
          "unique_count": 94,
          "nan_count": 0,
          "min": "5",
          "max": "99",
          "histogram": [
           {
            "bin_start": 5,
            "bin_end": 14.4,
            "count": 22
           },
           {
            "bin_start": 14.4,
            "bin_end": 23.8,
            "count": 55
           },
           {
            "bin_start": 23.8,
            "bin_end": 33.2,
            "count": 155
           },
           {
            "bin_start": 33.2,
            "bin_end": 42.6,
            "count": 192
           },
           {
            "bin_start": 42.6,
            "bin_end": 52,
            "count": 185
           },
           {
            "bin_start": 52,
            "bin_end": 61.400000000000006,
            "count": 227
           },
           {
            "bin_start": 61.400000000000006,
            "bin_end": 70.8,
            "count": 205
           },
           {
            "bin_start": 70.8,
            "bin_end": 80.2,
            "count": 231
           },
           {
            "bin_start": 80.2,
            "bin_end": 89.60000000000001,
            "count": 165
           },
           {
            "bin_start": 89.60000000000001,
            "bin_end": 99,
            "count": 110
           }
          ]
         }
        },
        {
         "name": "Danceability",
         "dtype": "int64",
         "stats": {
          "unique_count": 83,
          "nan_count": 0,
          "min": "10",
          "max": "96",
          "histogram": [
           {
            "bin_start": 10,
            "bin_end": 18.6,
            "count": 14
           },
           {
            "bin_start": 18.6,
            "bin_end": 27.2,
            "count": 61
           },
           {
            "bin_start": 27.2,
            "bin_end": 35.8,
            "count": 121
           },
           {
            "bin_start": 35.8,
            "bin_end": 44.4,
            "count": 236
           },
           {
            "bin_start": 44.4,
            "bin_end": 53,
            "count": 291
           },
           {
            "bin_start": 53,
            "bin_end": 61.599999999999994,
            "count": 364
           },
           {
            "bin_start": 61.599999999999994,
            "bin_end": 70.19999999999999,
            "count": 275
           },
           {
            "bin_start": 70.19999999999999,
            "bin_end": 78.8,
            "count": 126
           },
           {
            "bin_start": 78.8,
            "bin_end": 87.39999999999999,
            "count": 48
           },
           {
            "bin_start": 87.39999999999999,
            "bin_end": 96,
            "count": 11
           }
          ]
         }
        },
        {
         "name": "Loudness",
         "dtype": "int64",
         "stats": {
          "unique_count": 17,
          "nan_count": 0,
          "min": "-18",
          "max": "-2",
          "histogram": [
           {
            "bin_start": -18,
            "bin_end": -16.4,
            "count": 31
           },
           {
            "bin_start": -16.4,
            "bin_end": -14.8,
            "count": 78
           },
           {
            "bin_start": -14.8,
            "bin_end": -13.2,
            "count": 61
           },
           {
            "bin_start": -13.2,
            "bin_end": -11.6,
            "count": 182
           },
           {
            "bin_start": -11.6,
            "bin_end": -10,
            "count": 125
           },
           {
            "bin_start": -10,
            "bin_end": -8.399999999999999,
            "count": 312
           },
           {
            "bin_start": -8.399999999999999,
            "bin_end": -6.799999999999999,
            "count": 366
           },
           {
            "bin_start": -6.799999999999999,
            "bin_end": -5.199999999999999,
            "count": 168
           },
           {
            "bin_start": -5.199999999999999,
            "bin_end": -3.5999999999999996,
            "count": 199
           },
           {
            "bin_start": -3.5999999999999996,
            "bin_end": -2,
            "count": 25
           }
          ]
         }
        },
        {
         "name": "Liveness",
         "dtype": "int64",
         "stats": {
          "unique_count": 42,
          "nan_count": 0,
          "min": "2",
          "max": "43",
          "histogram": [
           {
            "bin_start": 2,
            "bin_end": 6.1,
            "count": 144
           },
           {
            "bin_start": 6.1,
            "bin_end": 10.2,
            "count": 424
           },
           {
            "bin_start": 10.2,
            "bin_end": 14.299999999999999,
            "count": 428
           },
           {
            "bin_start": 14.299999999999999,
            "bin_end": 18.4,
            "count": 156
           },
           {
            "bin_start": 18.4,
            "bin_end": 22.5,
            "count": 98
           },
           {
            "bin_start": 22.5,
            "bin_end": 26.599999999999998,
            "count": 79
           },
           {
            "bin_start": 26.599999999999998,
            "bin_end": 30.699999999999996,
            "count": 62
           },
           {
            "bin_start": 30.699999999999996,
            "bin_end": 34.8,
            "count": 72
           },
           {
            "bin_start": 34.8,
            "bin_end": 38.9,
            "count": 56
           },
           {
            "bin_start": 38.9,
            "bin_end": 43,
            "count": 28
           }
          ]
         }
        },
        {
         "name": "Valence",
         "dtype": "int64",
         "stats": {
          "unique_count": 96,
          "nan_count": 0,
          "min": "4",
          "max": "99",
          "histogram": [
           {
            "bin_start": 4,
            "bin_end": 13.5,
            "count": 79
           },
           {
            "bin_start": 13.5,
            "bin_end": 23,
            "count": 182
           },
           {
            "bin_start": 23,
            "bin_end": 32.5,
            "count": 218
           },
           {
            "bin_start": 32.5,
            "bin_end": 42,
            "count": 195
           },
           {
            "bin_start": 42,
            "bin_end": 51.5,
            "count": 202
           },
           {
            "bin_start": 51.5,
            "bin_end": 61,
            "count": 147
           },
           {
            "bin_start": 61,
            "bin_end": 70.5,
            "count": 160
           },
           {
            "bin_start": 70.5,
            "bin_end": 80,
            "count": 126
           },
           {
            "bin_start": 80,
            "bin_end": 89.5,
            "count": 130
           },
           {
            "bin_start": 89.5,
            "bin_end": 99,
            "count": 108
           }
          ]
         }
        },
        {
         "name": "Length",
         "dtype": "int64",
         "stats": {
          "unique_count": 255,
          "nan_count": 0,
          "min": "119",
          "max": "404",
          "histogram": [
           {
            "bin_start": 119,
            "bin_end": 147.5,
            "count": 29
           },
           {
            "bin_start": 147.5,
            "bin_end": 176,
            "count": 85
           },
           {
            "bin_start": 176,
            "bin_end": 204.5,
            "count": 196
           },
           {
            "bin_start": 204.5,
            "bin_end": 233,
            "count": 314
           },
           {
            "bin_start": 233,
            "bin_end": 261.5,
            "count": 360
           },
           {
            "bin_start": 261.5,
            "bin_end": 290,
            "count": 247
           },
           {
            "bin_start": 290,
            "bin_end": 318.5,
            "count": 139
           },
           {
            "bin_start": 318.5,
            "bin_end": 347,
            "count": 94
           },
           {
            "bin_start": 347,
            "bin_end": 375.5,
            "count": 43
           },
           {
            "bin_start": 375.5,
            "bin_end": 404,
            "count": 40
           }
          ]
         }
        },
        {
         "name": "Acousticness",
         "dtype": "int64",
         "stats": {
          "unique_count": 100,
          "nan_count": 0,
          "min": "0",
          "max": "99",
          "histogram": [
           {
            "bin_start": 0,
            "bin_end": 9.9,
            "count": 587
           },
           {
            "bin_start": 9.9,
            "bin_end": 19.8,
            "count": 200
           },
           {
            "bin_start": 19.8,
            "bin_end": 29.700000000000003,
            "count": 139
           },
           {
            "bin_start": 29.700000000000003,
            "bin_end": 39.6,
            "count": 107
           },
           {
            "bin_start": 39.6,
            "bin_end": 49.5,
            "count": 101
           },
           {
            "bin_start": 49.5,
            "bin_end": 59.400000000000006,
            "count": 89
           },
           {
            "bin_start": 59.400000000000006,
            "bin_end": 69.3,
            "count": 94
           },
           {
            "bin_start": 69.3,
            "bin_end": 79.2,
            "count": 91
           },
           {
            "bin_start": 79.2,
            "bin_end": 89.10000000000001,
            "count": 87
           },
           {
            "bin_start": 89.10000000000001,
            "bin_end": 99,
            "count": 52
           }
          ]
         }
        },
        {
         "name": "Speechiness",
         "dtype": "int64",
         "stats": {
          "unique_count": 6,
          "nan_count": 0,
          "min": "2",
          "max": "7",
          "histogram": [
           {
            "bin_start": 2,
            "bin_end": 2.5,
            "count": 31
           },
           {
            "bin_start": 2.5,
            "bin_end": 3,
            "count": 0
           },
           {
            "bin_start": 3,
            "bin_end": 3.5,
            "count": 796
           },
           {
            "bin_start": 3.5,
            "bin_end": 4,
            "count": 0
           },
           {
            "bin_start": 4,
            "bin_end": 4.5,
            "count": 406
           },
           {
            "bin_start": 4.5,
            "bin_end": 5,
            "count": 0
           },
           {
            "bin_start": 5,
            "bin_end": 5.5,
            "count": 172
           },
           {
            "bin_start": 5.5,
            "bin_end": 6,
            "count": 0
           },
           {
            "bin_start": 6,
            "bin_end": 6.5,
            "count": 92
           },
           {
            "bin_start": 6.5,
            "bin_end": 7,
            "count": 50
           }
          ]
         }
        },
        {
         "name": "Popularity",
         "dtype": "int64",
         "stats": {
          "unique_count": 78,
          "nan_count": 0,
          "min": "11",
          "max": "98",
          "histogram": [
           {
            "bin_start": 11,
            "bin_end": 19.7,
            "count": 13
           },
           {
            "bin_start": 19.7,
            "bin_end": 28.4,
            "count": 30
           },
           {
            "bin_start": 28.4,
            "bin_end": 37.099999999999994,
            "count": 78
           },
           {
            "bin_start": 37.099999999999994,
            "bin_end": 45.8,
            "count": 151
           },
           {
            "bin_start": 45.8,
            "bin_end": 54.5,
            "count": 250
           },
           {
            "bin_start": 54.5,
            "bin_end": 63.199999999999996,
            "count": 330
           },
           {
            "bin_start": 63.199999999999996,
            "bin_end": 71.89999999999999,
            "count": 339
           },
           {
            "bin_start": 71.89999999999999,
            "bin_end": 80.6,
            "count": 299
           },
           {
            "bin_start": 80.6,
            "bin_end": 89.3,
            "count": 55
           },
           {
            "bin_start": 89.3,
            "bin_end": 98,
            "count": 2
           }
          ]
         }
        },
        {
         "name": "_deepnote_index_column",
         "dtype": "int64"
        }
       ],
       "rows_top": [
        {
         "Unnamed: 0": 0,
         "Index": 1,
         "Title": "Sunrise",
         "Artist": "Norah Jones",
         "Top Genre": "adult standards",
         "Year": 2004,
         "Beats Per Minute (BPM)": 157,
         "Energy": 30,
         "Danceability": 53,
         "Loudness": -14,
         "Liveness": 11,
         "Valence": 68,
         "Length": 201,
         "Acousticness": 94,
         "Speechiness": 3,
         "Popularity": 71,
         "_deepnote_index_column": 0
        },
        {
         "Unnamed: 0": 1,
         "Index": 2,
         "Title": "Black Night",
         "Artist": "Deep Purple",
         "Top Genre": "album rock",
         "Year": 2000,
         "Beats Per Minute (BPM)": 135,
         "Energy": 79,
         "Danceability": 50,
         "Loudness": -11,
         "Liveness": 17,
         "Valence": 81,
         "Length": 207,
         "Acousticness": 17,
         "Speechiness": 7,
         "Popularity": 39,
         "_deepnote_index_column": 1
        },
        {
         "Unnamed: 0": 3,
         "Index": 4,
         "Title": "The Pretender",
         "Artist": "Foo Fighters",
         "Top Genre": "alternative metal",
         "Year": 2007,
         "Beats Per Minute (BPM)": 173,
         "Energy": 96,
         "Danceability": 43,
         "Loudness": -4,
         "Liveness": 3,
         "Valence": 37,
         "Length": 269,
         "Acousticness": 0,
         "Speechiness": 4,
         "Popularity": 76,
         "_deepnote_index_column": 2
        },
        {
         "Unnamed: 0": 4,
         "Index": 5,
         "Title": "Waitin' On A Sunny Day",
         "Artist": "Bruce Springsteen",
         "Top Genre": "classic rock",
         "Year": 2002,
         "Beats Per Minute (BPM)": 106,
         "Energy": 82,
         "Danceability": 58,
         "Loudness": -5,
         "Liveness": 10,
         "Valence": 87,
         "Length": 256,
         "Acousticness": 1,
         "Speechiness": 3,
         "Popularity": 59,
         "_deepnote_index_column": 3
        },
        {
         "Unnamed: 0": 5,
         "Index": 6,
         "Title": "The Road Ahead (Miles Of The Unknown)",
         "Artist": "City To City",
         "Top Genre": "alternative pop rock",
         "Year": 2004,
         "Beats Per Minute (BPM)": 99,
         "Energy": 46,
         "Danceability": 54,
         "Loudness": -9,
         "Liveness": 14,
         "Valence": 14,
         "Length": 247,
         "Acousticness": 0,
         "Speechiness": 2,
         "Popularity": 45,
         "_deepnote_index_column": 4
        },
        {
         "Unnamed: 0": 6,
         "Index": 7,
         "Title": "She Will Be Loved",
         "Artist": "Maroon 5",
         "Top Genre": "pop",
         "Year": 2002,
         "Beats Per Minute (BPM)": 102,
         "Energy": 71,
         "Danceability": 71,
         "Loudness": -6,
         "Liveness": 13,
         "Valence": 54,
         "Length": 257,
         "Acousticness": 6,
         "Speechiness": 3,
         "Popularity": 74,
         "_deepnote_index_column": 5
        },
        {
         "Unnamed: 0": 9,
         "Index": 10,
         "Title": "Without Me",
         "Artist": "Eminem",
         "Top Genre": "detroit hip hop",
         "Year": 2002,
         "Beats Per Minute (BPM)": 112,
         "Energy": 67,
         "Danceability": 91,
         "Loudness": -3,
         "Liveness": 24,
         "Valence": 66,
         "Length": 290,
         "Acousticness": 0,
         "Speechiness": 7,
         "Popularity": 82,
         "_deepnote_index_column": 6
        },
        {
         "Unnamed: 0": 10,
         "Index": 11,
         "Title": "Love Me Tender",
         "Artist": "Elvis Presley",
         "Top Genre": "adult standards",
         "Year": 2002,
         "Beats Per Minute (BPM)": 109,
         "Energy": 5,
         "Danceability": 44,
         "Loudness": -16,
         "Liveness": 11,
         "Valence": 31,
         "Length": 162,
         "Acousticness": 88,
         "Speechiness": 4,
         "Popularity": 49,
         "_deepnote_index_column": 7
        },
        {
         "Unnamed: 0": 14,
         "Index": 15,
         "Title": "Fluorescent Adolescent",
         "Artist": "Arctic Monkeys",
         "Top Genre": "garage rock",
         "Year": 2007,
         "Beats Per Minute (BPM)": 112,
         "Energy": 81,
         "Danceability": 65,
         "Loudness": -5,
         "Liveness": 14,
         "Valence": 82,
         "Length": 173,
         "Acousticness": 0,
         "Speechiness": 3,
         "Popularity": 66,
         "_deepnote_index_column": 8
        },
        {
         "Unnamed: 0": 15,
         "Index": 16,
         "Title": "Zonder Jou",
         "Artist": "Paul de Leeuw",
         "Top Genre": "dutch cabaret",
         "Year": 2006,
         "Beats Per Minute (BPM)": 133,
         "Energy": 42,
         "Danceability": 42,
         "Loudness": -10,
         "Liveness": 16,
         "Valence": 25,
         "Length": 236,
         "Acousticness": 84,
         "Speechiness": 4,
         "Popularity": 48,
         "_deepnote_index_column": 9
        },
        {
         "Unnamed: 0": 16,
         "Index": 17,
         "Title": "Speed of Sound",
         "Artist": "Coldplay",
         "Top Genre": "permanent wave",
         "Year": 2005,
         "Beats Per Minute (BPM)": 123,
         "Energy": 90,
         "Danceability": 52,
         "Loudness": -7,
         "Liveness": 7,
         "Valence": 36,
         "Length": 288,
         "Acousticness": 0,
         "Speechiness": 6,
         "Popularity": 69,
         "_deepnote_index_column": 10
        },
        {
         "Unnamed: 0": 17,
         "Index": 18,
         "Title": "Uninvited",
         "Artist": "Alanis Morissette",
         "Top Genre": "alternative rock",
         "Year": 2005,
         "Beats Per Minute (BPM)": 127,
         "Energy": 54,
         "Danceability": 38,
         "Loudness": -5,
         "Liveness": 9,
         "Valence": 19,
         "Length": 276,
         "Acousticness": 2,
         "Speechiness": 3,
         "Popularity": 57,
         "_deepnote_index_column": 11
        },
        {
         "Unnamed: 0": 20,
         "Index": 21,
         "Title": "Fix You",
         "Artist": "Coldplay",
         "Top Genre": "permanent wave",
         "Year": 2005,
         "Beats Per Minute (BPM)": 138,
         "Energy": 42,
         "Danceability": 21,
         "Loudness": -9,
         "Liveness": 11,
         "Valence": 12,
         "Length": 296,
         "Acousticness": 16,
         "Speechiness": 3,
         "Popularity": 81,
         "_deepnote_index_column": 12
        },
        {
         "Unnamed: 0": 21,
         "Index": 22,
         "Title": "The Cave",
         "Artist": "Mumford & Sons",
         "Top Genre": "modern folk rock",
         "Year": 2009,
         "Beats Per Minute (BPM)": 142,
         "Energy": 51,
         "Danceability": 60,
         "Loudness": -10,
         "Liveness": 11,
         "Valence": 35,
         "Length": 218,
         "Acousticness": 5,
         "Speechiness": 4,
         "Popularity": 67,
         "_deepnote_index_column": 13
        },
        {
         "Unnamed: 0": 22,
         "Index": 23,
         "Title": "Als De Morgen Is Gekomen",
         "Artist": "Jan Smit",
         "Top Genre": "dutch pop",
         "Year": 2006,
         "Beats Per Minute (BPM)": 96,
         "Energy": 89,
         "Danceability": 63,
         "Loudness": -6,
         "Liveness": 9,
         "Valence": 81,
         "Length": 176,
         "Acousticness": 5,
         "Speechiness": 3,
         "Popularity": 55,
         "_deepnote_index_column": 14
        },
        {
         "Unnamed: 0": 24,
         "Index": 25,
         "Title": "Dichterbij Dan Ooit",
         "Artist": "BLØF",
         "Top Genre": "dutch pop",
         "Year": 2002,
         "Beats Per Minute (BPM)": 112,
         "Energy": 74,
         "Danceability": 65,
         "Loudness": -7,
         "Liveness": 23,
         "Valence": 52,
         "Length": 261,
         "Acousticness": 18,
         "Speechiness": 3,
         "Popularity": 16,
         "_deepnote_index_column": 15
        },
        {
         "Unnamed: 0": 25,
         "Index": 26,
         "Title": "Miracle",
         "Artist": "Ilse DeLange",
         "Top Genre": "dutch americana",
         "Year": 2008,
         "Beats Per Minute (BPM)": 130,
         "Energy": 48,
         "Danceability": 55,
         "Loudness": -8,
         "Liveness": 10,
         "Valence": 18,
         "Length": 270,
         "Acousticness": 48,
         "Speechiness": 3,
         "Popularity": 50,
         "_deepnote_index_column": 16
        },
        {
         "Unnamed: 0": 26,
         "Index": 27,
         "Title": "Smokers Outside the Hospital Doors",
         "Artist": "Editors",
         "Top Genre": "alternative dance",
         "Year": 2007,
         "Beats Per Minute (BPM)": 123,
         "Energy": 68,
         "Danceability": 53,
         "Loudness": -4,
         "Liveness": 12,
         "Valence": 55,
         "Length": 298,
         "Acousticness": 0,
         "Speechiness": 4,
         "Popularity": 56,
         "_deepnote_index_column": 17
        },
        {
         "Unnamed: 0": 28,
         "Index": 29,
         "Title": "Der Weg",
         "Artist": "Herbert Grönemeyer",
         "Top Genre": "german pop",
         "Year": 2008,
         "Beats Per Minute (BPM)": 142,
         "Energy": 24,
         "Danceability": 34,
         "Loudness": -11,
         "Liveness": 12,
         "Valence": 19,
         "Length": 259,
         "Acousticness": 92,
         "Speechiness": 4,
         "Popularity": 48,
         "_deepnote_index_column": 18
        },
        {
         "Unnamed: 0": 29,
         "Index": 30,
         "Title": "7 Seconds (feat. Neneh Cherry)",
         "Artist": "Youssou N'Dour",
         "Top Genre": "afropop",
         "Year": 2004,
         "Beats Per Minute (BPM)": 154,
         "Energy": 70,
         "Danceability": 68,
         "Loudness": -10,
         "Liveness": 33,
         "Valence": 51,
         "Length": 306,
         "Acousticness": 8,
         "Speechiness": 3,
         "Popularity": 59,
         "_deepnote_index_column": 19
        },
        {
         "Unnamed: 0": 30,
         "Index": 31,
         "Title": "The Scientist",
         "Artist": "Coldplay",
         "Top Genre": "permanent wave",
         "Year": 2002,
         "Beats Per Minute (BPM)": 146,
         "Energy": 44,
         "Danceability": 56,
         "Loudness": -7,
         "Liveness": 11,
         "Valence": 21,
         "Length": 310,
         "Acousticness": 73,
         "Speechiness": 2,
         "Popularity": 84,
         "_deepnote_index_column": 20
        },
        {
         "Unnamed: 0": 31,
         "Index": 32,
         "Title": "Big Log - 2006 Remaster",
         "Artist": "Robert Plant",
         "Top Genre": "album rock",
         "Year": 2007,
         "Beats Per Minute (BPM)": 181,
         "Energy": 59,
         "Danceability": 56,
         "Loudness": -9,
         "Liveness": 20,
         "Valence": 68,
         "Length": 306,
         "Acousticness": 32,
         "Speechiness": 3,
         "Popularity": 57,
         "_deepnote_index_column": 21
        },
        {
         "Unnamed: 0": 32,
         "Index": 33,
         "Title": "Chasing Pavements",
         "Artist": "Adele",
         "Top Genre": "british soul",
         "Year": 2008,
         "Beats Per Minute (BPM)": 80,
         "Energy": 47,
         "Danceability": 62,
         "Loudness": -6,
         "Liveness": 11,
         "Valence": 33,
         "Length": 211,
         "Acousticness": 31,
         "Speechiness": 3,
         "Popularity": 63,
         "_deepnote_index_column": 22
        },
        {
         "Unnamed: 0": 33,
         "Index": 34,
         "Title": "Don't Know Why",
         "Artist": "Norah Jones",
         "Top Genre": "adult standards",
         "Year": 2002,
         "Beats Per Minute (BPM)": 88,
         "Energy": 20,
         "Danceability": 73,
         "Loudness": -12,
         "Liveness": 7,
         "Valence": 62,
         "Length": 186,
         "Acousticness": 88,
         "Speechiness": 3,
         "Popularity": 74,
         "_deepnote_index_column": 23
        },
        {
         "Unnamed: 0": 35,
         "Index": 36,
         "Title": "The Eyes of Jenny",
         "Artist": "Sandy Coast",
         "Top Genre": "classic uk pop",
         "Year": 2009,
         "Beats Per Minute (BPM)": 119,
         "Energy": 53,
         "Danceability": 68,
         "Loudness": -12,
         "Liveness": 8,
         "Valence": 68,
         "Length": 264,
         "Acousticness": 34,
         "Speechiness": 4,
         "Popularity": 44,
         "_deepnote_index_column": 24
        },
        {
         "Unnamed: 0": 36,
         "Index": 37,
         "Title": "Iris",
         "Artist": "The Goo Goo Dolls",
         "Top Genre": "alternative rock",
         "Year": 2007,
         "Beats Per Minute (BPM)": 156,
         "Energy": 79,
         "Danceability": 29,
         "Loudness": -6,
         "Liveness": 8,
         "Valence": 51,
         "Length": 290,
         "Acousticness": 0,
         "Speechiness": 4,
         "Popularity": 75,
         "_deepnote_index_column": 25
        },
        {
         "Unnamed: 0": 37,
         "Index": 38,
         "Title": "The Saints Are Coming",
         "Artist": "U2",
         "Top Genre": "irish rock",
         "Year": 2006,
         "Beats Per Minute (BPM)": 152,
         "Energy": 81,
         "Danceability": 32,
         "Loudness": -7,
         "Liveness": 15,
         "Valence": 12,
         "Length": 202,
         "Acousticness": 8,
         "Speechiness": 5,
         "Popularity": 40,
         "_deepnote_index_column": 26
        },
        {
         "Unnamed: 0": 39,
         "Index": 40,
         "Title": "De Weg",
         "Artist": "Guus Meeuwis",
         "Top Genre": "dutch pop",
         "Year": 2005,
         "Beats Per Minute (BPM)": 72,
         "Energy": 21,
         "Danceability": 46,
         "Loudness": -11,
         "Liveness": 11,
         "Valence": 26,
         "Length": 266,
         "Acousticness": 91,
         "Speechiness": 3,
         "Popularity": 42,
         "_deepnote_index_column": 27
        },
        {
         "Unnamed: 0": 42,
         "Index": 43,
         "Title": "Take Me Out",
         "Artist": "Franz Ferdinand",
         "Top Genre": "alternative rock",
         "Year": 2004,
         "Beats Per Minute (BPM)": 105,
         "Energy": 68,
         "Danceability": 28,
         "Loudness": -9,
         "Liveness": 14,
         "Valence": 49,
         "Length": 237,
         "Acousticness": 0,
         "Speechiness": 4,
         "Popularity": 74,
         "_deepnote_index_column": 28
        },
        {
         "Unnamed: 0": 43,
         "Index": 44,
         "Title": "American Idiot",
         "Artist": "Green Day",
         "Top Genre": "modern rock",
         "Year": 2004,
         "Beats Per Minute (BPM)": 186,
         "Energy": 99,
         "Danceability": 38,
         "Loudness": -2,
         "Liveness": 37,
         "Valence": 77,
         "Length": 176,
         "Acousticness": 0,
         "Speechiness": 6,
         "Popularity": 78,
         "_deepnote_index_column": 29
        },
        {
         "Unnamed: 0": 44,
         "Index": 45,
         "Title": "Breaking the Habit",
         "Artist": "Linkin Park",
         "Top Genre": "alternative metal",
         "Year": 2003,
         "Beats Per Minute (BPM)": 100,
         "Energy": 85,
         "Danceability": 58,
         "Loudness": -5,
         "Liveness": 9,
         "Valence": 58,
         "Length": 197,
         "Acousticness": 11,
         "Speechiness": 3,
         "Popularity": 65,
         "_deepnote_index_column": 30
        }
       ],
       "rows_bottom": [
        {
         "Unnamed: 0": 1948,
         "Index": 1949,
         "Title": "Space Oddity - 2015 Remaster",
         "Artist": "David Bowie",
         "Top Genre": "album rock",
         "Year": 1969,
         "Beats Per Minute (BPM)": 140,
         "Energy": 44,
         "Danceability": 30,
         "Loudness": -13,
         "Liveness": 18,
         "Valence": 43,
         "Length": 319,
         "Acousticness": 7,
         "Speechiness": 3,
         "Popularity": 73,
         "_deepnote_index_column": 1516
        },
        {
         "Unnamed: 0": 1949,
         "Index": 1950,
         "Title": "Gimme Shelter",
         "Artist": "The Rolling Stones",
         "Top Genre": "album rock",
         "Year": 1969,
         "Beats Per Minute (BPM)": 119,
         "Energy": 63,
         "Danceability": 63,
         "Loudness": -8,
         "Liveness": 17,
         "Valence": 49,
         "Length": 271,
         "Acousticness": 45,
         "Speechiness": 3,
         "Popularity": 76,
         "_deepnote_index_column": 1517
        },
        {
         "Unnamed: 0": 1950,
         "Index": 1951,
         "Title": "Suspicious Minds",
         "Artist": "Elvis Presley",
         "Top Genre": "adult standards",
         "Year": 1969,
         "Beats Per Minute (BPM)": 117,
         "Energy": 38,
         "Danceability": 49,
         "Loudness": -11,
         "Liveness": 41,
         "Valence": 71,
         "Length": 261,
         "Acousticness": 4,
         "Speechiness": 3,
         "Popularity": 72,
         "_deepnote_index_column": 1518
        },
        {
         "Unnamed: 0": 1952,
         "Index": 1953,
         "Title": "Sweet Caroline",
         "Artist": "Neil Diamond",
         "Top Genre": "adult standards",
         "Year": 1969,
         "Beats Per Minute (BPM)": 63,
         "Energy": 13,
         "Danceability": 53,
         "Loudness": -16,
         "Liveness": 24,
         "Valence": 58,
         "Length": 204,
         "Acousticness": 61,
         "Speechiness": 3,
         "Popularity": 78,
         "_deepnote_index_column": 1519
        },
        {
         "Unnamed: 0": 1953,
         "Index": 1954,
         "Title": "Fortunate Son",
         "Artist": "Creedence Clearwater Revival",
         "Top Genre": "album rock",
         "Year": 1969,
         "Beats Per Minute (BPM)": 133,
         "Energy": 66,
         "Danceability": 64,
         "Loudness": -8,
         "Liveness": 15,
         "Valence": 66,
         "Length": 141,
         "Acousticness": 20,
         "Speechiness": 4,
         "Popularity": 80,
         "_deepnote_index_column": 1520
        },
        {
         "Unnamed: 0": 1954,
         "Index": 1955,
         "Title": "In the Ghetto",
         "Artist": "Elvis Presley",
         "Top Genre": "adult standards",
         "Year": 1969,
         "Beats Per Minute (BPM)": 89,
         "Energy": 27,
         "Danceability": 40,
         "Loudness": -17,
         "Liveness": 11,
         "Valence": 49,
         "Length": 167,
         "Acousticness": 72,
         "Speechiness": 3,
         "Popularity": 63,
         "_deepnote_index_column": 1521
        },
        {
         "Unnamed: 0": 1955,
         "Index": 1956,
         "Title": "Bad Moon Rising",
         "Artist": "Creedence Clearwater Revival",
         "Top Genre": "album rock",
         "Year": 1969,
         "Beats Per Minute (BPM)": 179,
         "Energy": 77,
         "Danceability": 51,
         "Loudness": -6,
         "Liveness": 6,
         "Valence": 94,
         "Length": 142,
         "Acousticness": 6,
         "Speechiness": 3,
         "Popularity": 77,
         "_deepnote_index_column": 1522
        },
        {
         "Unnamed: 0": 1957,
         "Index": 1958,
         "Title": "With A Little Help From My Friends",
         "Artist": "Joe Cocker",
         "Top Genre": "album rock",
         "Year": 1969,
         "Beats Per Minute (BPM)": 145,
         "Energy": 43,
         "Danceability": 31,
         "Loudness": -11,
         "Liveness": 10,
         "Valence": 31,
         "Length": 312,
         "Acousticness": 29,
         "Speechiness": 6,
         "Popularity": 69,
         "_deepnote_index_column": 1523
        },
        {
         "Unnamed: 0": 1958,
         "Index": 1959,
         "Title": "My Way",
         "Artist": "Frank Sinatra",
         "Top Genre": "adult standards",
         "Year": 1969,
         "Beats Per Minute (BPM)": 75,
         "Energy": 38,
         "Danceability": 40,
         "Loudness": -7,
         "Liveness": 12,
         "Valence": 23,
         "Length": 277,
         "Acousticness": 70,
         "Speechiness": 3,
         "Popularity": 73,
         "_deepnote_index_column": 1524
        },
        {
         "Unnamed: 0": 1959,
         "Index": 1960,
         "Title": "Come Together - Remastered 2009",
         "Artist": "The Beatles",
         "Top Genre": "british invasion",
         "Year": 1969,
         "Beats Per Minute (BPM)": 165,
         "Energy": 38,
         "Danceability": 53,
         "Loudness": -12,
         "Liveness": 9,
         "Valence": 19,
         "Length": 260,
         "Acousticness": 3,
         "Speechiness": 4,
         "Popularity": 79,
         "_deepnote_index_column": 1525
        },
        {
         "Unnamed: 0": 1960,
         "Index": 1961,
         "Title": "Something - Remastered 2009",
         "Artist": "The Beatles",
         "Top Genre": "british invasion",
         "Year": 1969,
         "Beats Per Minute (BPM)": 134,
         "Energy": 34,
         "Danceability": 40,
         "Loudness": -11,
         "Liveness": 14,
         "Valence": 38,
         "Length": 182,
         "Acousticness": 20,
         "Speechiness": 3,
         "Popularity": 72,
         "_deepnote_index_column": 1526
        },
        {
         "Unnamed: 0": 1962,
         "Index": 1963,
         "Title": "Just A Little Bit Of Peace In My Heart",
         "Artist": "Golden Earring",
         "Top Genre": "album rock",
         "Year": 1969,
         "Beats Per Minute (BPM)": 95,
         "Energy": 72,
         "Danceability": 27,
         "Loudness": -6,
         "Liveness": 6,
         "Valence": 26,
         "Length": 320,
         "Acousticness": 1,
         "Speechiness": 3,
         "Popularity": 42,
         "_deepnote_index_column": 1527
        },
        {
         "Unnamed: 0": 1963,
         "Index": 1964,
         "Title": "Venus",
         "Artist": "Shocking Blue",
         "Top Genre": "classic rock",
         "Year": 1969,
         "Beats Per Minute (BPM)": 128,
         "Energy": 76,
         "Danceability": 69,
         "Loudness": -6,
         "Liveness": 8,
         "Valence": 96,
         "Length": 188,
         "Acousticness": 46,
         "Speechiness": 4,
         "Popularity": 59,
         "_deepnote_index_column": 1528
        },
        {
         "Unnamed: 0": 1965,
         "Index": 1966,
         "Title": "Pinball Wizard",
         "Artist": "The Who",
         "Top Genre": "album rock",
         "Year": 1969,
         "Beats Per Minute (BPM)": 124,
         "Energy": 72,
         "Danceability": 54,
         "Loudness": -9,
         "Liveness": 26,
         "Valence": 47,
         "Length": 181,
         "Acousticness": 2,
         "Speechiness": 4,
         "Popularity": 69,
         "_deepnote_index_column": 1529
        },
        {
         "Unnamed: 0": 1966,
         "Index": 1967,
         "Title": "Marian",
         "Artist": "The Cats",
         "Top Genre": "classic uk pop",
         "Year": 1969,
         "Beats Per Minute (BPM)": 80,
         "Energy": 45,
         "Danceability": 39,
         "Loudness": -10,
         "Liveness": 19,
         "Valence": 39,
         "Length": 240,
         "Acousticness": 0,
         "Speechiness": 3,
         "Popularity": 46,
         "_deepnote_index_column": 1530
        },
        {
         "Unnamed: 0": 1967,
         "Index": 1968,
         "Title": "Proud Mary",
         "Artist": "Creedence Clearwater Revival",
         "Top Genre": "album rock",
         "Year": 1969,
         "Beats Per Minute (BPM)": 121,
         "Energy": 39,
         "Danceability": 72,
         "Loudness": -17,
         "Liveness": 5,
         "Valence": 79,
         "Length": 187,
         "Acousticness": 16,
         "Speechiness": 3,
         "Popularity": 60,
         "_deepnote_index_column": 1531
        },
        {
         "Unnamed: 0": 1968,
         "Index": 1969,
         "Title": "Beautiful People",
         "Artist": "Melanie",
         "Top Genre": "classic uk pop",
         "Year": 1969,
         "Beats Per Minute (BPM)": 129,
         "Energy": 44,
         "Danceability": 54,
         "Loudness": -9,
         "Liveness": 40,
         "Valence": 37,
         "Length": 215,
         "Acousticness": 61,
         "Speechiness": 5,
         "Popularity": 44,
         "_deepnote_index_column": 1532
        },
        {
         "Unnamed: 0": 1970,
         "Index": 1971,
         "Title": "Born On The Bayou",
         "Artist": "Creedence Clearwater Revival",
         "Top Genre": "album rock",
         "Year": 1969,
         "Beats Per Minute (BPM)": 117,
         "Energy": 39,
         "Danceability": 68,
         "Loudness": -16,
         "Liveness": 11,
         "Valence": 55,
         "Length": 315,
         "Acousticness": 7,
         "Speechiness": 5,
         "Popularity": 59,
         "_deepnote_index_column": 1533
        },
        {
         "Unnamed: 0": 1971,
         "Index": 1972,
         "Title": "Scarlet Ribbons",
         "Artist": "The Cats",
         "Top Genre": "classic uk pop",
         "Year": 1969,
         "Beats Per Minute (BPM)": 101,
         "Energy": 42,
         "Danceability": 48,
         "Loudness": -10,
         "Liveness": 14,
         "Valence": 47,
         "Length": 197,
         "Acousticness": 9,
         "Speechiness": 3,
         "Popularity": 44,
         "_deepnote_index_column": 1534
        },
        {
         "Unnamed: 0": 1972,
         "Index": 1973,
         "Title": "The Thrill Is Gone",
         "Artist": "B.B. King",
         "Top Genre": "blues",
         "Year": 1969,
         "Beats Per Minute (BPM)": 91,
         "Energy": 46,
         "Danceability": 55,
         "Loudness": -9,
         "Liveness": 10,
         "Valence": 54,
         "Length": 325,
         "Acousticness": 34,
         "Speechiness": 3,
         "Popularity": 60,
         "_deepnote_index_column": 1535
        },
        {
         "Unnamed: 0": 1973,
         "Index": 1974,
         "Title": "Dazed and Confused",
         "Artist": "Led Zeppelin",
         "Top Genre": "album rock",
         "Year": 1969,
         "Beats Per Minute (BPM)": 87,
         "Energy": 55,
         "Danceability": 27,
         "Loudness": -10,
         "Liveness": 10,
         "Valence": 43,
         "Length": 386,
         "Acousticness": 4,
         "Speechiness": 5,
         "Popularity": 63,
         "_deepnote_index_column": 1536
        },
        {
         "Unnamed: 0": 1974,
         "Index": 1975,
         "Title": "Overture",
         "Artist": "The Who",
         "Top Genre": "album rock",
         "Year": 1969,
         "Beats Per Minute (BPM)": 118,
         "Energy": 62,
         "Danceability": 48,
         "Loudness": -10,
         "Liveness": 14,
         "Valence": 19,
         "Length": 320,
         "Acousticness": 6,
         "Speechiness": 3,
         "Popularity": 43,
         "_deepnote_index_column": 1537
        },
        {
         "Unnamed: 0": 1975,
         "Index": 1976,
         "Title": "Streets of London",
         "Artist": "Ralph McTell",
         "Top Genre": "british folk",
         "Year": 1969,
         "Beats Per Minute (BPM)": 156,
         "Energy": 30,
         "Danceability": 40,
         "Loudness": -15,
         "Liveness": 10,
         "Valence": 19,
         "Length": 249,
         "Acousticness": 63,
         "Speechiness": 3,
         "Popularity": 57,
         "_deepnote_index_column": 1538
        },
        {
         "Unnamed: 0": 1979,
         "Index": 1980,
         "Title": "Touch Me",
         "Artist": "The Doors",
         "Top Genre": "album rock",
         "Year": 1969,
         "Beats Per Minute (BPM)": 109,
         "Energy": 90,
         "Danceability": 43,
         "Loudness": -5,
         "Liveness": 12,
         "Valence": 77,
         "Length": 190,
         "Acousticness": 41,
         "Speechiness": 7,
         "Popularity": 68,
         "_deepnote_index_column": 1539
        },
        {
         "Unnamed: 0": 1980,
         "Index": 1981,
         "Title": "Summertime",
         "Artist": "Brainbox",
         "Top Genre": "dutch prog",
         "Year": 1969,
         "Beats Per Minute (BPM)": 89,
         "Energy": 55,
         "Danceability": 38,
         "Loudness": -9,
         "Liveness": 31,
         "Valence": 25,
         "Length": 263,
         "Acousticness": 4,
         "Speechiness": 3,
         "Popularity": 36,
         "_deepnote_index_column": 1540
        },
        {
         "Unnamed: 0": 1983,
         "Index": 1984,
         "Title": "Black Magic Woman - 2018 Remaster",
         "Artist": "Fleetwood Mac",
         "Top Genre": "album rock",
         "Year": 1969,
         "Beats Per Minute (BPM)": 129,
         "Energy": 41,
         "Danceability": 46,
         "Loudness": -11,
         "Liveness": 28,
         "Valence": 44,
         "Length": 173,
         "Acousticness": 5,
         "Speechiness": 4,
         "Popularity": 48,
         "_deepnote_index_column": 1541
        },
        {
         "Unnamed: 0": 1985,
         "Index": 1986,
         "Title": "Blue Suede Shoes",
         "Artist": "Elvis Presley",
         "Top Genre": "adult standards",
         "Year": 1956,
         "Beats Per Minute (BPM)": 95,
         "Energy": 66,
         "Danceability": 56,
         "Loudness": -8,
         "Liveness": 14,
         "Valence": 96,
         "Length": 119,
         "Acousticness": 65,
         "Speechiness": 6,
         "Popularity": 62,
         "_deepnote_index_column": 1542
        },
        {
         "Unnamed: 0": 1989,
         "Index": 1990,
         "Title": "Heartbreak Hotel",
         "Artist": "Elvis Presley",
         "Top Genre": "adult standards",
         "Year": 1958,
         "Beats Per Minute (BPM)": 94,
         "Energy": 21,
         "Danceability": 70,
         "Loudness": -12,
         "Liveness": 11,
         "Valence": 72,
         "Length": 128,
         "Acousticness": 84,
         "Speechiness": 7,
         "Popularity": 63,
         "_deepnote_index_column": 1543
        },
        {
         "Unnamed: 0": 1991,
         "Index": 1992,
         "Title": "Johnny B. Goode",
         "Artist": "Chuck Berry",
         "Top Genre": "blues rock",
         "Year": 1959,
         "Beats Per Minute (BPM)": 168,
         "Energy": 80,
         "Danceability": 53,
         "Loudness": -9,
         "Liveness": 31,
         "Valence": 97,
         "Length": 162,
         "Acousticness": 74,
         "Speechiness": 7,
         "Popularity": 74,
         "_deepnote_index_column": 1544
        },
        {
         "Unnamed: 0": 1992,
         "Index": 1993,
         "Title": "Take Five",
         "Artist": "The Dave Brubeck Quartet",
         "Top Genre": "bebop",
         "Year": 1959,
         "Beats Per Minute (BPM)": 174,
         "Energy": 26,
         "Danceability": 45,
         "Loudness": -13,
         "Liveness": 7,
         "Valence": 60,
         "Length": 324,
         "Acousticness": 54,
         "Speechiness": 4,
         "Popularity": 65,
         "_deepnote_index_column": 1545
        },
        {
         "Unnamed: 0": 1993,
         "Index": 1994,
         "Title": "Blueberry Hill",
         "Artist": "Fats Domino",
         "Top Genre": "adult standards",
         "Year": 1959,
         "Beats Per Minute (BPM)": 133,
         "Energy": 50,
         "Danceability": 49,
         "Loudness": -10,
         "Liveness": 16,
         "Valence": 83,
         "Length": 148,
         "Acousticness": 74,
         "Speechiness": 3,
         "Popularity": 56,
         "_deepnote_index_column": 1546
        }
       ]
      },
      "text/plain": "      Unnamed: 0  Index                                  Title  \\\n0              0      1                                Sunrise   \n1              1      2                            Black Night   \n2              3      4                          The Pretender   \n3              4      5                 Waitin' On A Sunny Day   \n4              5      6  The Road Ahead (Miles Of The Unknown)   \n...          ...    ...                                    ...   \n1542        1985   1986                       Blue Suede Shoes   \n1543        1989   1990                       Heartbreak Hotel   \n1544        1991   1992                        Johnny B. Goode   \n1545        1992   1993                              Take Five   \n1546        1993   1994                         Blueberry Hill   \n\n                        Artist             Top Genre  Year  \\\n0                  Norah Jones       adult standards  2004   \n1                  Deep Purple            album rock  2000   \n2                 Foo Fighters     alternative metal  2007   \n3            Bruce Springsteen          classic rock  2002   \n4                 City To City  alternative pop rock  2004   \n...                        ...                   ...   ...   \n1542             Elvis Presley       adult standards  1956   \n1543             Elvis Presley       adult standards  1958   \n1544               Chuck Berry            blues rock  1959   \n1545  The Dave Brubeck Quartet                 bebop  1959   \n1546               Fats Domino       adult standards  1959   \n\n      Beats Per Minute (BPM)  Energy  Danceability  Loudness  Liveness  \\\n0                        157      30            53       -14        11   \n1                        135      79            50       -11        17   \n2                        173      96            43        -4         3   \n3                        106      82            58        -5        10   \n4                         99      46            54        -9        14   \n...                      ...     ...           ...       ...       ...   \n1542                      95      66            56        -8        14   \n1543                      94      21            70       -12        11   \n1544                     168      80            53        -9        31   \n1545                     174      26            45       -13         7   \n1546                     133      50            49       -10        16   \n\n      Valence  Length  Acousticness  Speechiness  Popularity  \n0          68     201            94            3          71  \n1          81     207            17            7          39  \n2          37     269             0            4          76  \n3          87     256             1            3          59  \n4          14     247             0            2          45  \n...       ...     ...           ...          ...         ...  \n1542       96     119            65            6          62  \n1543       72     128            84            7          63  \n1544       97     162            74            7          74  \n1545       60     324            54            4          65  \n1546       83     148            74            3          56  \n\n[1547 rows x 16 columns]",
      "text/html": "<div>\n<style scoped>\n    .dataframe tbody tr th:only-of-type {\n        vertical-align: middle;\n    }\n\n    .dataframe tbody tr th {\n        vertical-align: top;\n    }\n\n    .dataframe thead th {\n        text-align: right;\n    }\n</style>\n<table border=\"1\" class=\"dataframe\">\n  <thead>\n    <tr style=\"text-align: right;\">\n      <th></th>\n      <th>Unnamed: 0</th>\n      <th>Index</th>\n      <th>Title</th>\n      <th>Artist</th>\n      <th>Top Genre</th>\n      <th>Year</th>\n      <th>Beats Per Minute (BPM)</th>\n      <th>Energy</th>\n      <th>Danceability</th>\n      <th>Loudness</th>\n      <th>Liveness</th>\n      <th>Valence</th>\n      <th>Length</th>\n      <th>Acousticness</th>\n      <th>Speechiness</th>\n      <th>Popularity</th>\n    </tr>\n  </thead>\n  <tbody>\n    <tr>\n      <th>0</th>\n      <td>0</td>\n      <td>1</td>\n      <td>Sunrise</td>\n      <td>Norah Jones</td>\n      <td>adult standards</td>\n      <td>2004</td>\n      <td>157</td>\n      <td>30</td>\n      <td>53</td>\n      <td>-14</td>\n      <td>11</td>\n      <td>68</td>\n      <td>201</td>\n      <td>94</td>\n      <td>3</td>\n      <td>71</td>\n    </tr>\n    <tr>\n      <th>1</th>\n      <td>1</td>\n      <td>2</td>\n      <td>Black Night</td>\n      <td>Deep Purple</td>\n      <td>album rock</td>\n      <td>2000</td>\n      <td>135</td>\n      <td>79</td>\n      <td>50</td>\n      <td>-11</td>\n      <td>17</td>\n      <td>81</td>\n      <td>207</td>\n      <td>17</td>\n      <td>7</td>\n      <td>39</td>\n    </tr>\n    <tr>\n      <th>2</th>\n      <td>3</td>\n      <td>4</td>\n      <td>The Pretender</td>\n      <td>Foo Fighters</td>\n      <td>alternative metal</td>\n      <td>2007</td>\n      <td>173</td>\n      <td>96</td>\n      <td>43</td>\n      <td>-4</td>\n      <td>3</td>\n      <td>37</td>\n      <td>269</td>\n      <td>0</td>\n      <td>4</td>\n      <td>76</td>\n    </tr>\n    <tr>\n      <th>3</th>\n      <td>4</td>\n      <td>5</td>\n      <td>Waitin' On A Sunny Day</td>\n      <td>Bruce Springsteen</td>\n      <td>classic rock</td>\n      <td>2002</td>\n      <td>106</td>\n      <td>82</td>\n      <td>58</td>\n      <td>-5</td>\n      <td>10</td>\n      <td>87</td>\n      <td>256</td>\n      <td>1</td>\n      <td>3</td>\n      <td>59</td>\n    </tr>\n    <tr>\n      <th>4</th>\n      <td>5</td>\n      <td>6</td>\n      <td>The Road Ahead (Miles Of The Unknown)</td>\n      <td>City To City</td>\n      <td>alternative pop rock</td>\n      <td>2004</td>\n      <td>99</td>\n      <td>46</td>\n      <td>54</td>\n      <td>-9</td>\n      <td>14</td>\n      <td>14</td>\n      <td>247</td>\n      <td>0</td>\n      <td>2</td>\n      <td>45</td>\n    </tr>\n    <tr>\n      <th>...</th>\n      <td>...</td>\n      <td>...</td>\n      <td>...</td>\n      <td>...</td>\n      <td>...</td>\n      <td>...</td>\n      <td>...</td>\n      <td>...</td>\n      <td>...</td>\n      <td>...</td>\n      <td>...</td>\n      <td>...</td>\n      <td>...</td>\n      <td>...</td>\n      <td>...</td>\n      <td>...</td>\n    </tr>\n    <tr>\n      <th>1542</th>\n      <td>1985</td>\n      <td>1986</td>\n      <td>Blue Suede Shoes</td>\n      <td>Elvis Presley</td>\n      <td>adult standards</td>\n      <td>1956</td>\n      <td>95</td>\n      <td>66</td>\n      <td>56</td>\n      <td>-8</td>\n      <td>14</td>\n      <td>96</td>\n      <td>119</td>\n      <td>65</td>\n      <td>6</td>\n      <td>62</td>\n    </tr>\n    <tr>\n      <th>1543</th>\n      <td>1989</td>\n      <td>1990</td>\n      <td>Heartbreak Hotel</td>\n      <td>Elvis Presley</td>\n      <td>adult standards</td>\n      <td>1958</td>\n      <td>94</td>\n      <td>21</td>\n      <td>70</td>\n      <td>-12</td>\n      <td>11</td>\n      <td>72</td>\n      <td>128</td>\n      <td>84</td>\n      <td>7</td>\n      <td>63</td>\n    </tr>\n    <tr>\n      <th>1544</th>\n      <td>1991</td>\n      <td>1992</td>\n      <td>Johnny B. Goode</td>\n      <td>Chuck Berry</td>\n      <td>blues rock</td>\n      <td>1959</td>\n      <td>168</td>\n      <td>80</td>\n      <td>53</td>\n      <td>-9</td>\n      <td>31</td>\n      <td>97</td>\n      <td>162</td>\n      <td>74</td>\n      <td>7</td>\n      <td>74</td>\n    </tr>\n    <tr>\n      <th>1545</th>\n      <td>1992</td>\n      <td>1993</td>\n      <td>Take Five</td>\n      <td>The Dave Brubeck Quartet</td>\n      <td>bebop</td>\n      <td>1959</td>\n      <td>174</td>\n      <td>26</td>\n      <td>45</td>\n      <td>-13</td>\n      <td>7</td>\n      <td>60</td>\n      <td>324</td>\n      <td>54</td>\n      <td>4</td>\n      <td>65</td>\n    </tr>\n    <tr>\n      <th>1546</th>\n      <td>1993</td>\n      <td>1994</td>\n      <td>Blueberry Hill</td>\n      <td>Fats Domino</td>\n      <td>adult standards</td>\n      <td>1959</td>\n      <td>133</td>\n      <td>50</td>\n      <td>49</td>\n      <td>-10</td>\n      <td>16</td>\n      <td>83</td>\n      <td>148</td>\n      <td>74</td>\n      <td>3</td>\n      <td>56</td>\n    </tr>\n  </tbody>\n</table>\n<p>1547 rows × 16 columns</p>\n</div>"
     },
     "metadata": {}
    }
   ],
   "execution_count": 2
  },
  {
   "cell_type": "markdown",
   "source": "",
   "metadata": {
    "tags": [],
    "cell_id": "00004-2420ddef-1bb6-47d0-b884-2ccbe2008374",
    "deepnote_cell_type": "markdown"
   }
  },
  {
   "cell_type": "markdown",
   "source": "# Classification with kNN\n\nWe have decided to try to use a classification model, since our linear regression model showed that a linear approach would not be suitable to modeling this data. We selected KNearestNeighbors as our classification model since we have previous exposure from the course materials and it is relatively straightforward to implement. \n\n\nWe want to predict **Popularity** using the following features:\n   * **Danceability** \n   * **Energy** \n   * **Valence** \n   * **Loudness** \n   * **Speechiness** \n   * **Length** \n   * **Acousticness** \n   * **Beats Per Minute (BPM)**  \n   * **Liveness**    ",
   "metadata": {
    "cell_id": "00005-5bc0a2c4-a9a9-47b1-8518-0b319be26457",
    "deepnote_cell_type": "markdown"
   }
  },
  {
   "cell_type": "code",
   "metadata": {
    "deepnote_output_heights": [
     376.566650390625
    ],
    "deepnote_to_be_reexecuted": false,
    "source_hash": "14b517b2",
    "execution_start": 1638245905068,
    "execution_millis": 88,
    "cell_id": "00006-45d90875-34ff-40c6-b7f1-1a58fd04bf79",
    "deepnote_cell_type": "code"
   },
   "source": "#Set our target column to be popularity\ntarget_col = 'Popularity'\n\n#limit columns of the DF to the song traits we want to examine\ndf = df[['Popularity','Danceability','Energy','Valence','Loudness','Speechiness','Length','Acousticness','Beats Per Minute (BPM)','Liveness']]\n\ndf",
   "outputs": [
    {
     "output_type": "execute_result",
     "execution_count": 3,
     "data": {
      "application/vnd.deepnote.dataframe.v2+json": {
       "row_count": 1547,
       "column_count": 10,
       "columns": [
        {
         "name": "Popularity",
         "dtype": "int64",
         "stats": {
          "unique_count": 78,
          "nan_count": 0,
          "min": "11",
          "max": "98",
          "histogram": [
           {
            "bin_start": 11,
            "bin_end": 19.7,
            "count": 13
           },
           {
            "bin_start": 19.7,
            "bin_end": 28.4,
            "count": 30
           },
           {
            "bin_start": 28.4,
            "bin_end": 37.099999999999994,
            "count": 78
           },
           {
            "bin_start": 37.099999999999994,
            "bin_end": 45.8,
            "count": 151
           },
           {
            "bin_start": 45.8,
            "bin_end": 54.5,
            "count": 250
           },
           {
            "bin_start": 54.5,
            "bin_end": 63.199999999999996,
            "count": 330
           },
           {
            "bin_start": 63.199999999999996,
            "bin_end": 71.89999999999999,
            "count": 339
           },
           {
            "bin_start": 71.89999999999999,
            "bin_end": 80.6,
            "count": 299
           },
           {
            "bin_start": 80.6,
            "bin_end": 89.3,
            "count": 55
           },
           {
            "bin_start": 89.3,
            "bin_end": 98,
            "count": 2
           }
          ]
         }
        },
        {
         "name": "Danceability",
         "dtype": "int64",
         "stats": {
          "unique_count": 83,
          "nan_count": 0,
          "min": "10",
          "max": "96",
          "histogram": [
           {
            "bin_start": 10,
            "bin_end": 18.6,
            "count": 14
           },
           {
            "bin_start": 18.6,
            "bin_end": 27.2,
            "count": 61
           },
           {
            "bin_start": 27.2,
            "bin_end": 35.8,
            "count": 121
           },
           {
            "bin_start": 35.8,
            "bin_end": 44.4,
            "count": 236
           },
           {
            "bin_start": 44.4,
            "bin_end": 53,
            "count": 291
           },
           {
            "bin_start": 53,
            "bin_end": 61.599999999999994,
            "count": 364
           },
           {
            "bin_start": 61.599999999999994,
            "bin_end": 70.19999999999999,
            "count": 275
           },
           {
            "bin_start": 70.19999999999999,
            "bin_end": 78.8,
            "count": 126
           },
           {
            "bin_start": 78.8,
            "bin_end": 87.39999999999999,
            "count": 48
           },
           {
            "bin_start": 87.39999999999999,
            "bin_end": 96,
            "count": 11
           }
          ]
         }
        },
        {
         "name": "Energy",
         "dtype": "int64",
         "stats": {
          "unique_count": 94,
          "nan_count": 0,
          "min": "5",
          "max": "99",
          "histogram": [
           {
            "bin_start": 5,
            "bin_end": 14.4,
            "count": 22
           },
           {
            "bin_start": 14.4,
            "bin_end": 23.8,
            "count": 55
           },
           {
            "bin_start": 23.8,
            "bin_end": 33.2,
            "count": 155
           },
           {
            "bin_start": 33.2,
            "bin_end": 42.6,
            "count": 192
           },
           {
            "bin_start": 42.6,
            "bin_end": 52,
            "count": 185
           },
           {
            "bin_start": 52,
            "bin_end": 61.400000000000006,
            "count": 227
           },
           {
            "bin_start": 61.400000000000006,
            "bin_end": 70.8,
            "count": 205
           },
           {
            "bin_start": 70.8,
            "bin_end": 80.2,
            "count": 231
           },
           {
            "bin_start": 80.2,
            "bin_end": 89.60000000000001,
            "count": 165
           },
           {
            "bin_start": 89.60000000000001,
            "bin_end": 99,
            "count": 110
           }
          ]
         }
        },
        {
         "name": "Valence",
         "dtype": "int64",
         "stats": {
          "unique_count": 96,
          "nan_count": 0,
          "min": "4",
          "max": "99",
          "histogram": [
           {
            "bin_start": 4,
            "bin_end": 13.5,
            "count": 79
           },
           {
            "bin_start": 13.5,
            "bin_end": 23,
            "count": 182
           },
           {
            "bin_start": 23,
            "bin_end": 32.5,
            "count": 218
           },
           {
            "bin_start": 32.5,
            "bin_end": 42,
            "count": 195
           },
           {
            "bin_start": 42,
            "bin_end": 51.5,
            "count": 202
           },
           {
            "bin_start": 51.5,
            "bin_end": 61,
            "count": 147
           },
           {
            "bin_start": 61,
            "bin_end": 70.5,
            "count": 160
           },
           {
            "bin_start": 70.5,
            "bin_end": 80,
            "count": 126
           },
           {
            "bin_start": 80,
            "bin_end": 89.5,
            "count": 130
           },
           {
            "bin_start": 89.5,
            "bin_end": 99,
            "count": 108
           }
          ]
         }
        },
        {
         "name": "Loudness",
         "dtype": "int64",
         "stats": {
          "unique_count": 17,
          "nan_count": 0,
          "min": "-18",
          "max": "-2",
          "histogram": [
           {
            "bin_start": -18,
            "bin_end": -16.4,
            "count": 31
           },
           {
            "bin_start": -16.4,
            "bin_end": -14.8,
            "count": 78
           },
           {
            "bin_start": -14.8,
            "bin_end": -13.2,
            "count": 61
           },
           {
            "bin_start": -13.2,
            "bin_end": -11.6,
            "count": 182
           },
           {
            "bin_start": -11.6,
            "bin_end": -10,
            "count": 125
           },
           {
            "bin_start": -10,
            "bin_end": -8.399999999999999,
            "count": 312
           },
           {
            "bin_start": -8.399999999999999,
            "bin_end": -6.799999999999999,
            "count": 366
           },
           {
            "bin_start": -6.799999999999999,
            "bin_end": -5.199999999999999,
            "count": 168
           },
           {
            "bin_start": -5.199999999999999,
            "bin_end": -3.5999999999999996,
            "count": 199
           },
           {
            "bin_start": -3.5999999999999996,
            "bin_end": -2,
            "count": 25
           }
          ]
         }
        },
        {
         "name": "Speechiness",
         "dtype": "int64",
         "stats": {
          "unique_count": 6,
          "nan_count": 0,
          "min": "2",
          "max": "7",
          "histogram": [
           {
            "bin_start": 2,
            "bin_end": 2.5,
            "count": 31
           },
           {
            "bin_start": 2.5,
            "bin_end": 3,
            "count": 0
           },
           {
            "bin_start": 3,
            "bin_end": 3.5,
            "count": 796
           },
           {
            "bin_start": 3.5,
            "bin_end": 4,
            "count": 0
           },
           {
            "bin_start": 4,
            "bin_end": 4.5,
            "count": 406
           },
           {
            "bin_start": 4.5,
            "bin_end": 5,
            "count": 0
           },
           {
            "bin_start": 5,
            "bin_end": 5.5,
            "count": 172
           },
           {
            "bin_start": 5.5,
            "bin_end": 6,
            "count": 0
           },
           {
            "bin_start": 6,
            "bin_end": 6.5,
            "count": 92
           },
           {
            "bin_start": 6.5,
            "bin_end": 7,
            "count": 50
           }
          ]
         }
        },
        {
         "name": "Length",
         "dtype": "int64",
         "stats": {
          "unique_count": 255,
          "nan_count": 0,
          "min": "119",
          "max": "404",
          "histogram": [
           {
            "bin_start": 119,
            "bin_end": 147.5,
            "count": 29
           },
           {
            "bin_start": 147.5,
            "bin_end": 176,
            "count": 85
           },
           {
            "bin_start": 176,
            "bin_end": 204.5,
            "count": 196
           },
           {
            "bin_start": 204.5,
            "bin_end": 233,
            "count": 314
           },
           {
            "bin_start": 233,
            "bin_end": 261.5,
            "count": 360
           },
           {
            "bin_start": 261.5,
            "bin_end": 290,
            "count": 247
           },
           {
            "bin_start": 290,
            "bin_end": 318.5,
            "count": 139
           },
           {
            "bin_start": 318.5,
            "bin_end": 347,
            "count": 94
           },
           {
            "bin_start": 347,
            "bin_end": 375.5,
            "count": 43
           },
           {
            "bin_start": 375.5,
            "bin_end": 404,
            "count": 40
           }
          ]
         }
        },
        {
         "name": "Acousticness",
         "dtype": "int64",
         "stats": {
          "unique_count": 100,
          "nan_count": 0,
          "min": "0",
          "max": "99",
          "histogram": [
           {
            "bin_start": 0,
            "bin_end": 9.9,
            "count": 587
           },
           {
            "bin_start": 9.9,
            "bin_end": 19.8,
            "count": 200
           },
           {
            "bin_start": 19.8,
            "bin_end": 29.700000000000003,
            "count": 139
           },
           {
            "bin_start": 29.700000000000003,
            "bin_end": 39.6,
            "count": 107
           },
           {
            "bin_start": 39.6,
            "bin_end": 49.5,
            "count": 101
           },
           {
            "bin_start": 49.5,
            "bin_end": 59.400000000000006,
            "count": 89
           },
           {
            "bin_start": 59.400000000000006,
            "bin_end": 69.3,
            "count": 94
           },
           {
            "bin_start": 69.3,
            "bin_end": 79.2,
            "count": 91
           },
           {
            "bin_start": 79.2,
            "bin_end": 89.10000000000001,
            "count": 87
           },
           {
            "bin_start": 89.10000000000001,
            "bin_end": 99,
            "count": 52
           }
          ]
         }
        },
        {
         "name": "Beats Per Minute (BPM)",
         "dtype": "int64",
         "stats": {
          "unique_count": 139,
          "nan_count": 0,
          "min": "37",
          "max": "206",
          "histogram": [
           {
            "bin_start": 37,
            "bin_end": 53.9,
            "count": 2
           },
           {
            "bin_start": 53.9,
            "bin_end": 70.8,
            "count": 18
           },
           {
            "bin_start": 70.8,
            "bin_end": 87.69999999999999,
            "count": 176
           },
           {
            "bin_start": 87.69999999999999,
            "bin_end": 104.6,
            "count": 293
           },
           {
            "bin_start": 104.6,
            "bin_end": 121.5,
            "count": 355
           },
           {
            "bin_start": 121.5,
            "bin_end": 138.39999999999998,
            "count": 373
           },
           {
            "bin_start": 138.39999999999998,
            "bin_end": 155.29999999999998,
            "count": 162
           },
           {
            "bin_start": 155.29999999999998,
            "bin_end": 172.2,
            "count": 96
           },
           {
            "bin_start": 172.2,
            "bin_end": 189.1,
            "count": 59
           },
           {
            "bin_start": 189.1,
            "bin_end": 206,
            "count": 13
           }
          ]
         }
        },
        {
         "name": "Liveness",
         "dtype": "int64",
         "stats": {
          "unique_count": 42,
          "nan_count": 0,
          "min": "2",
          "max": "43",
          "histogram": [
           {
            "bin_start": 2,
            "bin_end": 6.1,
            "count": 144
           },
           {
            "bin_start": 6.1,
            "bin_end": 10.2,
            "count": 424
           },
           {
            "bin_start": 10.2,
            "bin_end": 14.299999999999999,
            "count": 428
           },
           {
            "bin_start": 14.299999999999999,
            "bin_end": 18.4,
            "count": 156
           },
           {
            "bin_start": 18.4,
            "bin_end": 22.5,
            "count": 98
           },
           {
            "bin_start": 22.5,
            "bin_end": 26.599999999999998,
            "count": 79
           },
           {
            "bin_start": 26.599999999999998,
            "bin_end": 30.699999999999996,
            "count": 62
           },
           {
            "bin_start": 30.699999999999996,
            "bin_end": 34.8,
            "count": 72
           },
           {
            "bin_start": 34.8,
            "bin_end": 38.9,
            "count": 56
           },
           {
            "bin_start": 38.9,
            "bin_end": 43,
            "count": 28
           }
          ]
         }
        },
        {
         "name": "_deepnote_index_column",
         "dtype": "int64"
        }
       ],
       "rows_top": [
        {
         "Popularity": 71,
         "Danceability": 53,
         "Energy": 30,
         "Valence": 68,
         "Loudness": -14,
         "Speechiness": 3,
         "Length": 201,
         "Acousticness": 94,
         "Beats Per Minute (BPM)": 157,
         "Liveness": 11,
         "_deepnote_index_column": 0
        },
        {
         "Popularity": 39,
         "Danceability": 50,
         "Energy": 79,
         "Valence": 81,
         "Loudness": -11,
         "Speechiness": 7,
         "Length": 207,
         "Acousticness": 17,
         "Beats Per Minute (BPM)": 135,
         "Liveness": 17,
         "_deepnote_index_column": 1
        },
        {
         "Popularity": 76,
         "Danceability": 43,
         "Energy": 96,
         "Valence": 37,
         "Loudness": -4,
         "Speechiness": 4,
         "Length": 269,
         "Acousticness": 0,
         "Beats Per Minute (BPM)": 173,
         "Liveness": 3,
         "_deepnote_index_column": 2
        },
        {
         "Popularity": 59,
         "Danceability": 58,
         "Energy": 82,
         "Valence": 87,
         "Loudness": -5,
         "Speechiness": 3,
         "Length": 256,
         "Acousticness": 1,
         "Beats Per Minute (BPM)": 106,
         "Liveness": 10,
         "_deepnote_index_column": 3
        },
        {
         "Popularity": 45,
         "Danceability": 54,
         "Energy": 46,
         "Valence": 14,
         "Loudness": -9,
         "Speechiness": 2,
         "Length": 247,
         "Acousticness": 0,
         "Beats Per Minute (BPM)": 99,
         "Liveness": 14,
         "_deepnote_index_column": 4
        },
        {
         "Popularity": 74,
         "Danceability": 71,
         "Energy": 71,
         "Valence": 54,
         "Loudness": -6,
         "Speechiness": 3,
         "Length": 257,
         "Acousticness": 6,
         "Beats Per Minute (BPM)": 102,
         "Liveness": 13,
         "_deepnote_index_column": 5
        },
        {
         "Popularity": 82,
         "Danceability": 91,
         "Energy": 67,
         "Valence": 66,
         "Loudness": -3,
         "Speechiness": 7,
         "Length": 290,
         "Acousticness": 0,
         "Beats Per Minute (BPM)": 112,
         "Liveness": 24,
         "_deepnote_index_column": 6
        },
        {
         "Popularity": 49,
         "Danceability": 44,
         "Energy": 5,
         "Valence": 31,
         "Loudness": -16,
         "Speechiness": 4,
         "Length": 162,
         "Acousticness": 88,
         "Beats Per Minute (BPM)": 109,
         "Liveness": 11,
         "_deepnote_index_column": 7
        },
        {
         "Popularity": 66,
         "Danceability": 65,
         "Energy": 81,
         "Valence": 82,
         "Loudness": -5,
         "Speechiness": 3,
         "Length": 173,
         "Acousticness": 0,
         "Beats Per Minute (BPM)": 112,
         "Liveness": 14,
         "_deepnote_index_column": 8
        },
        {
         "Popularity": 48,
         "Danceability": 42,
         "Energy": 42,
         "Valence": 25,
         "Loudness": -10,
         "Speechiness": 4,
         "Length": 236,
         "Acousticness": 84,
         "Beats Per Minute (BPM)": 133,
         "Liveness": 16,
         "_deepnote_index_column": 9
        },
        {
         "Popularity": 69,
         "Danceability": 52,
         "Energy": 90,
         "Valence": 36,
         "Loudness": -7,
         "Speechiness": 6,
         "Length": 288,
         "Acousticness": 0,
         "Beats Per Minute (BPM)": 123,
         "Liveness": 7,
         "_deepnote_index_column": 10
        },
        {
         "Popularity": 57,
         "Danceability": 38,
         "Energy": 54,
         "Valence": 19,
         "Loudness": -5,
         "Speechiness": 3,
         "Length": 276,
         "Acousticness": 2,
         "Beats Per Minute (BPM)": 127,
         "Liveness": 9,
         "_deepnote_index_column": 11
        },
        {
         "Popularity": 81,
         "Danceability": 21,
         "Energy": 42,
         "Valence": 12,
         "Loudness": -9,
         "Speechiness": 3,
         "Length": 296,
         "Acousticness": 16,
         "Beats Per Minute (BPM)": 138,
         "Liveness": 11,
         "_deepnote_index_column": 12
        },
        {
         "Popularity": 67,
         "Danceability": 60,
         "Energy": 51,
         "Valence": 35,
         "Loudness": -10,
         "Speechiness": 4,
         "Length": 218,
         "Acousticness": 5,
         "Beats Per Minute (BPM)": 142,
         "Liveness": 11,
         "_deepnote_index_column": 13
        },
        {
         "Popularity": 55,
         "Danceability": 63,
         "Energy": 89,
         "Valence": 81,
         "Loudness": -6,
         "Speechiness": 3,
         "Length": 176,
         "Acousticness": 5,
         "Beats Per Minute (BPM)": 96,
         "Liveness": 9,
         "_deepnote_index_column": 14
        },
        {
         "Popularity": 16,
         "Danceability": 65,
         "Energy": 74,
         "Valence": 52,
         "Loudness": -7,
         "Speechiness": 3,
         "Length": 261,
         "Acousticness": 18,
         "Beats Per Minute (BPM)": 112,
         "Liveness": 23,
         "_deepnote_index_column": 15
        },
        {
         "Popularity": 50,
         "Danceability": 55,
         "Energy": 48,
         "Valence": 18,
         "Loudness": -8,
         "Speechiness": 3,
         "Length": 270,
         "Acousticness": 48,
         "Beats Per Minute (BPM)": 130,
         "Liveness": 10,
         "_deepnote_index_column": 16
        },
        {
         "Popularity": 56,
         "Danceability": 53,
         "Energy": 68,
         "Valence": 55,
         "Loudness": -4,
         "Speechiness": 4,
         "Length": 298,
         "Acousticness": 0,
         "Beats Per Minute (BPM)": 123,
         "Liveness": 12,
         "_deepnote_index_column": 17
        },
        {
         "Popularity": 48,
         "Danceability": 34,
         "Energy": 24,
         "Valence": 19,
         "Loudness": -11,
         "Speechiness": 4,
         "Length": 259,
         "Acousticness": 92,
         "Beats Per Minute (BPM)": 142,
         "Liveness": 12,
         "_deepnote_index_column": 18
        },
        {
         "Popularity": 59,
         "Danceability": 68,
         "Energy": 70,
         "Valence": 51,
         "Loudness": -10,
         "Speechiness": 3,
         "Length": 306,
         "Acousticness": 8,
         "Beats Per Minute (BPM)": 154,
         "Liveness": 33,
         "_deepnote_index_column": 19
        },
        {
         "Popularity": 84,
         "Danceability": 56,
         "Energy": 44,
         "Valence": 21,
         "Loudness": -7,
         "Speechiness": 2,
         "Length": 310,
         "Acousticness": 73,
         "Beats Per Minute (BPM)": 146,
         "Liveness": 11,
         "_deepnote_index_column": 20
        },
        {
         "Popularity": 57,
         "Danceability": 56,
         "Energy": 59,
         "Valence": 68,
         "Loudness": -9,
         "Speechiness": 3,
         "Length": 306,
         "Acousticness": 32,
         "Beats Per Minute (BPM)": 181,
         "Liveness": 20,
         "_deepnote_index_column": 21
        },
        {
         "Popularity": 63,
         "Danceability": 62,
         "Energy": 47,
         "Valence": 33,
         "Loudness": -6,
         "Speechiness": 3,
         "Length": 211,
         "Acousticness": 31,
         "Beats Per Minute (BPM)": 80,
         "Liveness": 11,
         "_deepnote_index_column": 22
        },
        {
         "Popularity": 74,
         "Danceability": 73,
         "Energy": 20,
         "Valence": 62,
         "Loudness": -12,
         "Speechiness": 3,
         "Length": 186,
         "Acousticness": 88,
         "Beats Per Minute (BPM)": 88,
         "Liveness": 7,
         "_deepnote_index_column": 23
        },
        {
         "Popularity": 44,
         "Danceability": 68,
         "Energy": 53,
         "Valence": 68,
         "Loudness": -12,
         "Speechiness": 4,
         "Length": 264,
         "Acousticness": 34,
         "Beats Per Minute (BPM)": 119,
         "Liveness": 8,
         "_deepnote_index_column": 24
        },
        {
         "Popularity": 75,
         "Danceability": 29,
         "Energy": 79,
         "Valence": 51,
         "Loudness": -6,
         "Speechiness": 4,
         "Length": 290,
         "Acousticness": 0,
         "Beats Per Minute (BPM)": 156,
         "Liveness": 8,
         "_deepnote_index_column": 25
        },
        {
         "Popularity": 40,
         "Danceability": 32,
         "Energy": 81,
         "Valence": 12,
         "Loudness": -7,
         "Speechiness": 5,
         "Length": 202,
         "Acousticness": 8,
         "Beats Per Minute (BPM)": 152,
         "Liveness": 15,
         "_deepnote_index_column": 26
        },
        {
         "Popularity": 42,
         "Danceability": 46,
         "Energy": 21,
         "Valence": 26,
         "Loudness": -11,
         "Speechiness": 3,
         "Length": 266,
         "Acousticness": 91,
         "Beats Per Minute (BPM)": 72,
         "Liveness": 11,
         "_deepnote_index_column": 27
        },
        {
         "Popularity": 74,
         "Danceability": 28,
         "Energy": 68,
         "Valence": 49,
         "Loudness": -9,
         "Speechiness": 4,
         "Length": 237,
         "Acousticness": 0,
         "Beats Per Minute (BPM)": 105,
         "Liveness": 14,
         "_deepnote_index_column": 28
        },
        {
         "Popularity": 78,
         "Danceability": 38,
         "Energy": 99,
         "Valence": 77,
         "Loudness": -2,
         "Speechiness": 6,
         "Length": 176,
         "Acousticness": 0,
         "Beats Per Minute (BPM)": 186,
         "Liveness": 37,
         "_deepnote_index_column": 29
        },
        {
         "Popularity": 65,
         "Danceability": 58,
         "Energy": 85,
         "Valence": 58,
         "Loudness": -5,
         "Speechiness": 3,
         "Length": 197,
         "Acousticness": 11,
         "Beats Per Minute (BPM)": 100,
         "Liveness": 9,
         "_deepnote_index_column": 30
        },
        {
         "Popularity": 56,
         "Danceability": 38,
         "Energy": 57,
         "Valence": 26,
         "Loudness": -5,
         "Speechiness": 3,
         "Length": 278,
         "Acousticness": 4,
         "Beats Per Minute (BPM)": 168,
         "Liveness": 35,
         "_deepnote_index_column": 31
        },
        {
         "Popularity": 65,
         "Danceability": 37,
         "Energy": 64,
         "Valence": 20,
         "Loudness": -6,
         "Speechiness": 3,
         "Length": 355,
         "Acousticness": 0,
         "Beats Per Minute (BPM)": 75,
         "Liveness": 17,
         "_deepnote_index_column": 32
        },
        {
         "Popularity": 67,
         "Danceability": 64,
         "Energy": 72,
         "Valence": 80,
         "Loudness": -7,
         "Speechiness": 4,
         "Length": 213,
         "Acousticness": 1,
         "Beats Per Minute (BPM)": 131,
         "Liveness": 14,
         "_deepnote_index_column": 33
        },
        {
         "Popularity": 51,
         "Danceability": 46,
         "Energy": 77,
         "Valence": 35,
         "Loudness": -5,
         "Speechiness": 3,
         "Length": 234,
         "Acousticness": 1,
         "Beats Per Minute (BPM)": 76,
         "Liveness": 14,
         "_deepnote_index_column": 34
        },
        {
         "Popularity": 69,
         "Danceability": 47,
         "Energy": 35,
         "Valence": 28,
         "Loudness": -11,
         "Speechiness": 3,
         "Length": 216,
         "Acousticness": 72,
         "Beats Per Minute (BPM)": 108,
         "Liveness": 8,
         "_deepnote_index_column": 35
        },
        {
         "Popularity": 52,
         "Danceability": 35,
         "Energy": 43,
         "Valence": 26,
         "Loudness": -11,
         "Speechiness": 3,
         "Length": 275,
         "Acousticness": 16,
         "Beats Per Minute (BPM)": 194,
         "Liveness": 10,
         "_deepnote_index_column": 36
        },
        {
         "Popularity": 69,
         "Danceability": 43,
         "Energy": 26,
         "Valence": 27,
         "Loudness": -13,
         "Speechiness": 5,
         "Length": 259,
         "Acousticness": 95,
         "Beats Per Minute (BPM)": 90,
         "Liveness": 9,
         "_deepnote_index_column": 37
        },
        {
         "Popularity": 67,
         "Danceability": 33,
         "Energy": 30,
         "Valence": 14,
         "Loudness": -7,
         "Speechiness": 3,
         "Length": 243,
         "Acousticness": 78,
         "Beats Per Minute (BPM)": 149,
         "Liveness": 11,
         "_deepnote_index_column": 38
        },
        {
         "Popularity": 57,
         "Danceability": 53,
         "Energy": 60,
         "Valence": 35,
         "Loudness": -6,
         "Speechiness": 2,
         "Length": 305,
         "Acousticness": 0,
         "Beats Per Minute (BPM)": 96,
         "Liveness": 11,
         "_deepnote_index_column": 39
        },
        {
         "Popularity": 44,
         "Danceability": 48,
         "Energy": 59,
         "Valence": 20,
         "Loudness": -5,
         "Speechiness": 5,
         "Length": 218,
         "Acousticness": 27,
         "Beats Per Minute (BPM)": 123,
         "Liveness": 18,
         "_deepnote_index_column": 40
        },
        {
         "Popularity": 77,
         "Danceability": 69,
         "Energy": 70,
         "Valence": 48,
         "Loudness": -6,
         "Speechiness": 3,
         "Length": 214,
         "Acousticness": 22,
         "Beats Per Minute (BPM)": 99,
         "Liveness": 16,
         "_deepnote_index_column": 41
        },
        {
         "Popularity": 38,
         "Danceability": 47,
         "Energy": 59,
         "Valence": 18,
         "Loudness": -8,
         "Speechiness": 3,
         "Length": 236,
         "Acousticness": 42,
         "Beats Per Minute (BPM)": 124,
         "Liveness": 28,
         "_deepnote_index_column": 42
        },
        {
         "Popularity": 32,
         "Danceability": 62,
         "Energy": 41,
         "Valence": 51,
         "Loudness": -14,
         "Speechiness": 3,
         "Length": 215,
         "Acousticness": 7,
         "Beats Per Minute (BPM)": 132,
         "Liveness": 10,
         "_deepnote_index_column": 43
        },
        {
         "Popularity": 47,
         "Danceability": 44,
         "Energy": 56,
         "Valence": 70,
         "Loudness": -7,
         "Speechiness": 3,
         "Length": 144,
         "Acousticness": 35,
         "Beats Per Minute (BPM)": 86,
         "Liveness": 25,
         "_deepnote_index_column": 44
        },
        {
         "Popularity": 77,
         "Danceability": 55,
         "Energy": 87,
         "Valence": 54,
         "Loudness": -6,
         "Speechiness": 3,
         "Length": 234,
         "Acousticness": 1,
         "Beats Per Minute (BPM)": 99,
         "Liveness": 17,
         "_deepnote_index_column": 45
        },
        {
         "Popularity": 63,
         "Danceability": 63,
         "Energy": 86,
         "Valence": 73,
         "Loudness": -7,
         "Speechiness": 5,
         "Length": 357,
         "Acousticness": 21,
         "Beats Per Minute (BPM)": 103,
         "Liveness": 7,
         "_deepnote_index_column": 46
        },
        {
         "Popularity": 59,
         "Danceability": 68,
         "Energy": 73,
         "Valence": 94,
         "Loudness": -8,
         "Speechiness": 2,
         "Length": 281,
         "Acousticness": 11,
         "Beats Per Minute (BPM)": 105,
         "Liveness": 14,
         "_deepnote_index_column": 47
        },
        {
         "Popularity": 55,
         "Danceability": 28,
         "Energy": 43,
         "Valence": 7,
         "Loudness": -7,
         "Speechiness": 3,
         "Length": 219,
         "Acousticness": 28,
         "Beats Per Minute (BPM)": 136,
         "Liveness": 6,
         "_deepnote_index_column": 48
        },
        {
         "Popularity": 64,
         "Danceability": 50,
         "Energy": 65,
         "Valence": 57,
         "Loudness": -7,
         "Speechiness": 4,
         "Length": 273,
         "Acousticness": 22,
         "Beats Per Minute (BPM)": 81,
         "Liveness": 33,
         "_deepnote_index_column": 49
        }
       ],
       "rows_bottom": [
        {
         "Popularity": 74,
         "Danceability": 69,
         "Energy": 13,
         "Valence": 37,
         "Loudness": -14,
         "Speechiness": 3,
         "Length": 138,
         "Acousticness": 75,
         "Beats Per Minute (BPM)": 94,
         "Liveness": 6,
         "_deepnote_index_column": 1497
        },
        {
         "Popularity": 60,
         "Danceability": 39,
         "Energy": 73,
         "Valence": 62,
         "Loudness": -8,
         "Speechiness": 3,
         "Length": 272,
         "Acousticness": 0,
         "Beats Per Minute (BPM)": 100,
         "Liveness": 10,
         "_deepnote_index_column": 1498
        },
        {
         "Popularity": 70,
         "Danceability": 45,
         "Energy": 65,
         "Valence": 70,
         "Loudness": -9,
         "Speechiness": 3,
         "Length": 285,
         "Acousticness": 2,
         "Beats Per Minute (BPM)": 115,
         "Liveness": 17,
         "_deepnote_index_column": 1499
        },
        {
         "Popularity": 77,
         "Danceability": 44,
         "Energy": 81,
         "Valence": 56,
         "Loudness": -6,
         "Speechiness": 6,
         "Length": 241,
         "Acousticness": 0,
         "Beats Per Minute (BPM)": 113,
         "Liveness": 8,
         "_deepnote_index_column": 1500
        },
        {
         "Popularity": 43,
         "Danceability": 41,
         "Energy": 53,
         "Valence": 41,
         "Loudness": -9,
         "Speechiness": 3,
         "Length": 206,
         "Acousticness": 19,
         "Beats Per Minute (BPM)": 184,
         "Liveness": 31,
         "_deepnote_index_column": 1501
        },
        {
         "Popularity": 75,
         "Danceability": 59,
         "Energy": 36,
         "Valence": 50,
         "Loudness": -14,
         "Speechiness": 4,
         "Length": 217,
         "Acousticness": 48,
         "Beats Per Minute (BPM)": 133,
         "Liveness": 6,
         "_deepnote_index_column": 1502
        },
        {
         "Popularity": 69,
         "Danceability": 65,
         "Energy": 32,
         "Valence": 28,
         "Loudness": -9,
         "Speechiness": 3,
         "Length": 167,
         "Acousticness": 21,
         "Beats Per Minute (BPM)": 111,
         "Liveness": 19,
         "_deepnote_index_column": 1503
        },
        {
         "Popularity": 74,
         "Danceability": 55,
         "Energy": 58,
         "Valence": 46,
         "Loudness": -13,
         "Speechiness": 3,
         "Length": 298,
         "Acousticness": 19,
         "Beats Per Minute (BPM)": 110,
         "Liveness": 4,
         "_deepnote_index_column": 1504
        },
        {
         "Popularity": 76,
         "Danceability": 61,
         "Energy": 46,
         "Valence": 81,
         "Loudness": -14,
         "Speechiness": 5,
         "Length": 244,
         "Acousticness": 71,
         "Beats Per Minute (BPM)": 92,
         "Liveness": 7,
         "_deepnote_index_column": 1505
        },
        {
         "Popularity": 48,
         "Danceability": 18,
         "Energy": 52,
         "Valence": 42,
         "Loudness": -8,
         "Speechiness": 3,
         "Length": 222,
         "Acousticness": 39,
         "Beats Per Minute (BPM)": 167,
         "Liveness": 6,
         "_deepnote_index_column": 1506
        },
        {
         "Popularity": 72,
         "Danceability": 63,
         "Energy": 55,
         "Valence": 52,
         "Loudness": -9,
         "Speechiness": 5,
         "Length": 274,
         "Acousticness": 37,
         "Beats Per Minute (BPM)": 144,
         "Liveness": 10,
         "_deepnote_index_column": 1507
        },
        {
         "Popularity": 59,
         "Danceability": 26,
         "Energy": 29,
         "Valence": 25,
         "Loudness": -10,
         "Speechiness": 3,
         "Length": 198,
         "Acousticness": 14,
         "Beats Per Minute (BPM)": 80,
         "Liveness": 16,
         "_deepnote_index_column": 1508
        },
        {
         "Popularity": 57,
         "Danceability": 48,
         "Energy": 44,
         "Valence": 42,
         "Loudness": -14,
         "Speechiness": 3,
         "Length": 148,
         "Acousticness": 1,
         "Beats Per Minute (BPM)": 102,
         "Liveness": 6,
         "_deepnote_index_column": 1509
        },
        {
         "Popularity": 43,
         "Danceability": 45,
         "Energy": 56,
         "Valence": 61,
         "Loudness": -9,
         "Speechiness": 3,
         "Length": 191,
         "Acousticness": 24,
         "Beats Per Minute (BPM)": 99,
         "Liveness": 5,
         "_deepnote_index_column": 1510
        },
        {
         "Popularity": 66,
         "Danceability": 31,
         "Energy": 46,
         "Valence": 43,
         "Loudness": -9,
         "Speechiness": 3,
         "Length": 188,
         "Acousticness": 16,
         "Beats Per Minute (BPM)": 145,
         "Liveness": 13,
         "_deepnote_index_column": 1511
        },
        {
         "Popularity": 67,
         "Danceability": 48,
         "Energy": 43,
         "Valence": 61,
         "Loudness": -6,
         "Speechiness": 2,
         "Length": 157,
         "Acousticness": 69,
         "Beats Per Minute (BPM)": 83,
         "Liveness": 15,
         "_deepnote_index_column": 1512
        },
        {
         "Popularity": 69,
         "Danceability": 51,
         "Energy": 49,
         "Valence": 65,
         "Loudness": -10,
         "Speechiness": 3,
         "Length": 180,
         "Acousticness": 26,
         "Beats Per Minute (BPM)": 126,
         "Liveness": 11,
         "_deepnote_index_column": 1513
        },
        {
         "Popularity": 59,
         "Danceability": 52,
         "Energy": 64,
         "Valence": 66,
         "Loudness": -6,
         "Speechiness": 3,
         "Length": 180,
         "Acousticness": 57,
         "Beats Per Minute (BPM)": 110,
         "Liveness": 32,
         "_deepnote_index_column": 1514
        },
        {
         "Popularity": 82,
         "Danceability": 56,
         "Energy": 54,
         "Valence": 39,
         "Loudness": -10,
         "Speechiness": 3,
         "Length": 186,
         "Acousticness": 3,
         "Beats Per Minute (BPM)": 129,
         "Liveness": 18,
         "_deepnote_index_column": 1515
        },
        {
         "Popularity": 73,
         "Danceability": 30,
         "Energy": 44,
         "Valence": 43,
         "Loudness": -13,
         "Speechiness": 3,
         "Length": 319,
         "Acousticness": 7,
         "Beats Per Minute (BPM)": 140,
         "Liveness": 18,
         "_deepnote_index_column": 1516
        },
        {
         "Popularity": 76,
         "Danceability": 63,
         "Energy": 63,
         "Valence": 49,
         "Loudness": -8,
         "Speechiness": 3,
         "Length": 271,
         "Acousticness": 45,
         "Beats Per Minute (BPM)": 119,
         "Liveness": 17,
         "_deepnote_index_column": 1517
        },
        {
         "Popularity": 72,
         "Danceability": 49,
         "Energy": 38,
         "Valence": 71,
         "Loudness": -11,
         "Speechiness": 3,
         "Length": 261,
         "Acousticness": 4,
         "Beats Per Minute (BPM)": 117,
         "Liveness": 41,
         "_deepnote_index_column": 1518
        },
        {
         "Popularity": 78,
         "Danceability": 53,
         "Energy": 13,
         "Valence": 58,
         "Loudness": -16,
         "Speechiness": 3,
         "Length": 204,
         "Acousticness": 61,
         "Beats Per Minute (BPM)": 63,
         "Liveness": 24,
         "_deepnote_index_column": 1519
        },
        {
         "Popularity": 80,
         "Danceability": 64,
         "Energy": 66,
         "Valence": 66,
         "Loudness": -8,
         "Speechiness": 4,
         "Length": 141,
         "Acousticness": 20,
         "Beats Per Minute (BPM)": 133,
         "Liveness": 15,
         "_deepnote_index_column": 1520
        },
        {
         "Popularity": 63,
         "Danceability": 40,
         "Energy": 27,
         "Valence": 49,
         "Loudness": -17,
         "Speechiness": 3,
         "Length": 167,
         "Acousticness": 72,
         "Beats Per Minute (BPM)": 89,
         "Liveness": 11,
         "_deepnote_index_column": 1521
        },
        {
         "Popularity": 77,
         "Danceability": 51,
         "Energy": 77,
         "Valence": 94,
         "Loudness": -6,
         "Speechiness": 3,
         "Length": 142,
         "Acousticness": 6,
         "Beats Per Minute (BPM)": 179,
         "Liveness": 6,
         "_deepnote_index_column": 1522
        },
        {
         "Popularity": 69,
         "Danceability": 31,
         "Energy": 43,
         "Valence": 31,
         "Loudness": -11,
         "Speechiness": 6,
         "Length": 312,
         "Acousticness": 29,
         "Beats Per Minute (BPM)": 145,
         "Liveness": 10,
         "_deepnote_index_column": 1523
        },
        {
         "Popularity": 73,
         "Danceability": 40,
         "Energy": 38,
         "Valence": 23,
         "Loudness": -7,
         "Speechiness": 3,
         "Length": 277,
         "Acousticness": 70,
         "Beats Per Minute (BPM)": 75,
         "Liveness": 12,
         "_deepnote_index_column": 1524
        },
        {
         "Popularity": 79,
         "Danceability": 53,
         "Energy": 38,
         "Valence": 19,
         "Loudness": -12,
         "Speechiness": 4,
         "Length": 260,
         "Acousticness": 3,
         "Beats Per Minute (BPM)": 165,
         "Liveness": 9,
         "_deepnote_index_column": 1525
        },
        {
         "Popularity": 72,
         "Danceability": 40,
         "Energy": 34,
         "Valence": 38,
         "Loudness": -11,
         "Speechiness": 3,
         "Length": 182,
         "Acousticness": 20,
         "Beats Per Minute (BPM)": 134,
         "Liveness": 14,
         "_deepnote_index_column": 1526
        },
        {
         "Popularity": 42,
         "Danceability": 27,
         "Energy": 72,
         "Valence": 26,
         "Loudness": -6,
         "Speechiness": 3,
         "Length": 320,
         "Acousticness": 1,
         "Beats Per Minute (BPM)": 95,
         "Liveness": 6,
         "_deepnote_index_column": 1527
        },
        {
         "Popularity": 59,
         "Danceability": 69,
         "Energy": 76,
         "Valence": 96,
         "Loudness": -6,
         "Speechiness": 4,
         "Length": 188,
         "Acousticness": 46,
         "Beats Per Minute (BPM)": 128,
         "Liveness": 8,
         "_deepnote_index_column": 1528
        },
        {
         "Popularity": 69,
         "Danceability": 54,
         "Energy": 72,
         "Valence": 47,
         "Loudness": -9,
         "Speechiness": 4,
         "Length": 181,
         "Acousticness": 2,
         "Beats Per Minute (BPM)": 124,
         "Liveness": 26,
         "_deepnote_index_column": 1529
        },
        {
         "Popularity": 46,
         "Danceability": 39,
         "Energy": 45,
         "Valence": 39,
         "Loudness": -10,
         "Speechiness": 3,
         "Length": 240,
         "Acousticness": 0,
         "Beats Per Minute (BPM)": 80,
         "Liveness": 19,
         "_deepnote_index_column": 1530
        },
        {
         "Popularity": 60,
         "Danceability": 72,
         "Energy": 39,
         "Valence": 79,
         "Loudness": -17,
         "Speechiness": 3,
         "Length": 187,
         "Acousticness": 16,
         "Beats Per Minute (BPM)": 121,
         "Liveness": 5,
         "_deepnote_index_column": 1531
        },
        {
         "Popularity": 44,
         "Danceability": 54,
         "Energy": 44,
         "Valence": 37,
         "Loudness": -9,
         "Speechiness": 5,
         "Length": 215,
         "Acousticness": 61,
         "Beats Per Minute (BPM)": 129,
         "Liveness": 40,
         "_deepnote_index_column": 1532
        },
        {
         "Popularity": 59,
         "Danceability": 68,
         "Energy": 39,
         "Valence": 55,
         "Loudness": -16,
         "Speechiness": 5,
         "Length": 315,
         "Acousticness": 7,
         "Beats Per Minute (BPM)": 117,
         "Liveness": 11,
         "_deepnote_index_column": 1533
        },
        {
         "Popularity": 44,
         "Danceability": 48,
         "Energy": 42,
         "Valence": 47,
         "Loudness": -10,
         "Speechiness": 3,
         "Length": 197,
         "Acousticness": 9,
         "Beats Per Minute (BPM)": 101,
         "Liveness": 14,
         "_deepnote_index_column": 1534
        },
        {
         "Popularity": 60,
         "Danceability": 55,
         "Energy": 46,
         "Valence": 54,
         "Loudness": -9,
         "Speechiness": 3,
         "Length": 325,
         "Acousticness": 34,
         "Beats Per Minute (BPM)": 91,
         "Liveness": 10,
         "_deepnote_index_column": 1535
        },
        {
         "Popularity": 63,
         "Danceability": 27,
         "Energy": 55,
         "Valence": 43,
         "Loudness": -10,
         "Speechiness": 5,
         "Length": 386,
         "Acousticness": 4,
         "Beats Per Minute (BPM)": 87,
         "Liveness": 10,
         "_deepnote_index_column": 1536
        },
        {
         "Popularity": 43,
         "Danceability": 48,
         "Energy": 62,
         "Valence": 19,
         "Loudness": -10,
         "Speechiness": 3,
         "Length": 320,
         "Acousticness": 6,
         "Beats Per Minute (BPM)": 118,
         "Liveness": 14,
         "_deepnote_index_column": 1537
        },
        {
         "Popularity": 57,
         "Danceability": 40,
         "Energy": 30,
         "Valence": 19,
         "Loudness": -15,
         "Speechiness": 3,
         "Length": 249,
         "Acousticness": 63,
         "Beats Per Minute (BPM)": 156,
         "Liveness": 10,
         "_deepnote_index_column": 1538
        },
        {
         "Popularity": 68,
         "Danceability": 43,
         "Energy": 90,
         "Valence": 77,
         "Loudness": -5,
         "Speechiness": 7,
         "Length": 190,
         "Acousticness": 41,
         "Beats Per Minute (BPM)": 109,
         "Liveness": 12,
         "_deepnote_index_column": 1539
        },
        {
         "Popularity": 36,
         "Danceability": 38,
         "Energy": 55,
         "Valence": 25,
         "Loudness": -9,
         "Speechiness": 3,
         "Length": 263,
         "Acousticness": 4,
         "Beats Per Minute (BPM)": 89,
         "Liveness": 31,
         "_deepnote_index_column": 1540
        },
        {
         "Popularity": 48,
         "Danceability": 46,
         "Energy": 41,
         "Valence": 44,
         "Loudness": -11,
         "Speechiness": 4,
         "Length": 173,
         "Acousticness": 5,
         "Beats Per Minute (BPM)": 129,
         "Liveness": 28,
         "_deepnote_index_column": 1541
        },
        {
         "Popularity": 62,
         "Danceability": 56,
         "Energy": 66,
         "Valence": 96,
         "Loudness": -8,
         "Speechiness": 6,
         "Length": 119,
         "Acousticness": 65,
         "Beats Per Minute (BPM)": 95,
         "Liveness": 14,
         "_deepnote_index_column": 1542
        },
        {
         "Popularity": 63,
         "Danceability": 70,
         "Energy": 21,
         "Valence": 72,
         "Loudness": -12,
         "Speechiness": 7,
         "Length": 128,
         "Acousticness": 84,
         "Beats Per Minute (BPM)": 94,
         "Liveness": 11,
         "_deepnote_index_column": 1543
        },
        {
         "Popularity": 74,
         "Danceability": 53,
         "Energy": 80,
         "Valence": 97,
         "Loudness": -9,
         "Speechiness": 7,
         "Length": 162,
         "Acousticness": 74,
         "Beats Per Minute (BPM)": 168,
         "Liveness": 31,
         "_deepnote_index_column": 1544
        },
        {
         "Popularity": 65,
         "Danceability": 45,
         "Energy": 26,
         "Valence": 60,
         "Loudness": -13,
         "Speechiness": 4,
         "Length": 324,
         "Acousticness": 54,
         "Beats Per Minute (BPM)": 174,
         "Liveness": 7,
         "_deepnote_index_column": 1545
        },
        {
         "Popularity": 56,
         "Danceability": 49,
         "Energy": 50,
         "Valence": 83,
         "Loudness": -10,
         "Speechiness": 3,
         "Length": 148,
         "Acousticness": 74,
         "Beats Per Minute (BPM)": 133,
         "Liveness": 16,
         "_deepnote_index_column": 1546
        }
       ]
      },
      "text/plain": "      Popularity  Danceability  Energy  Valence  Loudness  Speechiness  \\\n0             71            53      30       68       -14            3   \n1             39            50      79       81       -11            7   \n2             76            43      96       37        -4            4   \n3             59            58      82       87        -5            3   \n4             45            54      46       14        -9            2   \n...          ...           ...     ...      ...       ...          ...   \n1542          62            56      66       96        -8            6   \n1543          63            70      21       72       -12            7   \n1544          74            53      80       97        -9            7   \n1545          65            45      26       60       -13            4   \n1546          56            49      50       83       -10            3   \n\n      Length  Acousticness  Beats Per Minute (BPM)  Liveness  \n0        201            94                     157        11  \n1        207            17                     135        17  \n2        269             0                     173         3  \n3        256             1                     106        10  \n4        247             0                      99        14  \n...      ...           ...                     ...       ...  \n1542     119            65                      95        14  \n1543     128            84                      94        11  \n1544     162            74                     168        31  \n1545     324            54                     174         7  \n1546     148            74                     133        16  \n\n[1547 rows x 10 columns]",
      "text/html": "<div>\n<style scoped>\n    .dataframe tbody tr th:only-of-type {\n        vertical-align: middle;\n    }\n\n    .dataframe tbody tr th {\n        vertical-align: top;\n    }\n\n    .dataframe thead th {\n        text-align: right;\n    }\n</style>\n<table border=\"1\" class=\"dataframe\">\n  <thead>\n    <tr style=\"text-align: right;\">\n      <th></th>\n      <th>Popularity</th>\n      <th>Danceability</th>\n      <th>Energy</th>\n      <th>Valence</th>\n      <th>Loudness</th>\n      <th>Speechiness</th>\n      <th>Length</th>\n      <th>Acousticness</th>\n      <th>Beats Per Minute (BPM)</th>\n      <th>Liveness</th>\n    </tr>\n  </thead>\n  <tbody>\n    <tr>\n      <th>0</th>\n      <td>71</td>\n      <td>53</td>\n      <td>30</td>\n      <td>68</td>\n      <td>-14</td>\n      <td>3</td>\n      <td>201</td>\n      <td>94</td>\n      <td>157</td>\n      <td>11</td>\n    </tr>\n    <tr>\n      <th>1</th>\n      <td>39</td>\n      <td>50</td>\n      <td>79</td>\n      <td>81</td>\n      <td>-11</td>\n      <td>7</td>\n      <td>207</td>\n      <td>17</td>\n      <td>135</td>\n      <td>17</td>\n    </tr>\n    <tr>\n      <th>2</th>\n      <td>76</td>\n      <td>43</td>\n      <td>96</td>\n      <td>37</td>\n      <td>-4</td>\n      <td>4</td>\n      <td>269</td>\n      <td>0</td>\n      <td>173</td>\n      <td>3</td>\n    </tr>\n    <tr>\n      <th>3</th>\n      <td>59</td>\n      <td>58</td>\n      <td>82</td>\n      <td>87</td>\n      <td>-5</td>\n      <td>3</td>\n      <td>256</td>\n      <td>1</td>\n      <td>106</td>\n      <td>10</td>\n    </tr>\n    <tr>\n      <th>4</th>\n      <td>45</td>\n      <td>54</td>\n      <td>46</td>\n      <td>14</td>\n      <td>-9</td>\n      <td>2</td>\n      <td>247</td>\n      <td>0</td>\n      <td>99</td>\n      <td>14</td>\n    </tr>\n    <tr>\n      <th>...</th>\n      <td>...</td>\n      <td>...</td>\n      <td>...</td>\n      <td>...</td>\n      <td>...</td>\n      <td>...</td>\n      <td>...</td>\n      <td>...</td>\n      <td>...</td>\n      <td>...</td>\n    </tr>\n    <tr>\n      <th>1542</th>\n      <td>62</td>\n      <td>56</td>\n      <td>66</td>\n      <td>96</td>\n      <td>-8</td>\n      <td>6</td>\n      <td>119</td>\n      <td>65</td>\n      <td>95</td>\n      <td>14</td>\n    </tr>\n    <tr>\n      <th>1543</th>\n      <td>63</td>\n      <td>70</td>\n      <td>21</td>\n      <td>72</td>\n      <td>-12</td>\n      <td>7</td>\n      <td>128</td>\n      <td>84</td>\n      <td>94</td>\n      <td>11</td>\n    </tr>\n    <tr>\n      <th>1544</th>\n      <td>74</td>\n      <td>53</td>\n      <td>80</td>\n      <td>97</td>\n      <td>-9</td>\n      <td>7</td>\n      <td>162</td>\n      <td>74</td>\n      <td>168</td>\n      <td>31</td>\n    </tr>\n    <tr>\n      <th>1545</th>\n      <td>65</td>\n      <td>45</td>\n      <td>26</td>\n      <td>60</td>\n      <td>-13</td>\n      <td>4</td>\n      <td>324</td>\n      <td>54</td>\n      <td>174</td>\n      <td>7</td>\n    </tr>\n    <tr>\n      <th>1546</th>\n      <td>56</td>\n      <td>49</td>\n      <td>50</td>\n      <td>83</td>\n      <td>-10</td>\n      <td>3</td>\n      <td>148</td>\n      <td>74</td>\n      <td>133</td>\n      <td>16</td>\n    </tr>\n  </tbody>\n</table>\n<p>1547 rows × 10 columns</p>\n</div>"
     },
     "metadata": {}
    }
   ],
   "execution_count": 3
  },
  {
   "cell_type": "code",
   "metadata": {
    "deepnote_to_be_reexecuted": false,
    "source_hash": "6ee3097f",
    "execution_start": 1638245905173,
    "execution_millis": 263413,
    "cell_id": "00007-551c5353-0670-4a85-ae6a-7829b95312c2",
    "deepnote_output_heights": [
     211
    ],
    "deepnote_cell_type": "code"
   },
   "source": "#Verify the types of the data to be int's\ndf.dtypes",
   "outputs": [
    {
     "output_type": "execute_result",
     "execution_count": 4,
     "data": {
      "text/plain": "Popularity                int64\nDanceability              int64\nEnergy                    int64\nValence                   int64\nLoudness                  int64\nSpeechiness               int64\nLength                    int64\nAcousticness              int64\nBeats Per Minute (BPM)    int64\nLiveness                  int64\ndtype: object"
     },
     "metadata": {}
    }
   ],
   "execution_count": 4
  },
  {
   "cell_type": "markdown",
   "source": "# Normalize the attributes\n\nTo make the data suitable for analysis and modeling, we will be normalizing the features to be distributed between 0 and 1. ",
   "metadata": {
    "cell_id": "00008-9aeaf8aa-57bc-4a0c-9482-23ce0453bb24",
    "deepnote_cell_type": "markdown"
   }
  },
  {
   "cell_type": "code",
   "metadata": {
    "deepnote_to_be_reexecuted": false,
    "source_hash": "4e85372a",
    "execution_start": 1638245905190,
    "execution_millis": 22,
    "cell_id": "00009-da0ea832-c113-4b6d-ac11-7407979781f4",
    "deepnote_cell_type": "code"
   },
   "source": "dict_normalize = dict()\nfor col in df.columns:\n    if col != target_col:\n        dict_normalize[col] = (df[col].min(),df[col].max())\n        df[col] = (df[col] - dict_normalize[col][0])/(dict_normalize[col][1]-dict_normalize[col][0])",
   "outputs": [
    {
     "name": "stderr",
     "text": "/shared-libs/python3.7/py-core/lib/python3.7/site-packages/ipykernel_launcher.py:5: SettingWithCopyWarning: \nA value is trying to be set on a copy of a slice from a DataFrame.\nTry using .loc[row_indexer,col_indexer] = value instead\n\nSee the caveats in the documentation: https://pandas.pydata.org/pandas-docs/stable/user_guide/indexing.html#returning-a-view-versus-a-copy\n  \"\"\"\n",
     "output_type": "stream"
    }
   ],
   "execution_count": 5
  },
  {
   "cell_type": "code",
   "metadata": {
    "deepnote_output_heights": [
     376.566650390625
    ],
    "deepnote_to_be_reexecuted": false,
    "source_hash": "979b3844",
    "execution_start": 1638245905233,
    "execution_millis": 180,
    "cell_id": "00010-8095bacf-8b09-4ef7-9742-1e5464ee8890",
    "deepnote_cell_type": "code"
   },
   "source": "#verify the normalization happened properly\ndf",
   "outputs": [
    {
     "output_type": "execute_result",
     "execution_count": 6,
     "data": {
      "application/vnd.deepnote.dataframe.v2+json": {
       "row_count": 1547,
       "column_count": 10,
       "columns": [
        {
         "name": "Popularity",
         "dtype": "int64",
         "stats": {
          "unique_count": 78,
          "nan_count": 0,
          "min": "11",
          "max": "98",
          "histogram": [
           {
            "bin_start": 11,
            "bin_end": 19.7,
            "count": 13
           },
           {
            "bin_start": 19.7,
            "bin_end": 28.4,
            "count": 30
           },
           {
            "bin_start": 28.4,
            "bin_end": 37.099999999999994,
            "count": 78
           },
           {
            "bin_start": 37.099999999999994,
            "bin_end": 45.8,
            "count": 151
           },
           {
            "bin_start": 45.8,
            "bin_end": 54.5,
            "count": 250
           },
           {
            "bin_start": 54.5,
            "bin_end": 63.199999999999996,
            "count": 330
           },
           {
            "bin_start": 63.199999999999996,
            "bin_end": 71.89999999999999,
            "count": 339
           },
           {
            "bin_start": 71.89999999999999,
            "bin_end": 80.6,
            "count": 299
           },
           {
            "bin_start": 80.6,
            "bin_end": 89.3,
            "count": 55
           },
           {
            "bin_start": 89.3,
            "bin_end": 98,
            "count": 2
           }
          ]
         }
        },
        {
         "name": "Danceability",
         "dtype": "float64",
         "stats": {
          "unique_count": 83,
          "nan_count": 0,
          "min": "0.0",
          "max": "1.0",
          "histogram": [
           {
            "bin_start": 0,
            "bin_end": 0.1,
            "count": 14
           },
           {
            "bin_start": 0.1,
            "bin_end": 0.2,
            "count": 61
           },
           {
            "bin_start": 0.2,
            "bin_end": 0.30000000000000004,
            "count": 121
           },
           {
            "bin_start": 0.30000000000000004,
            "bin_end": 0.4,
            "count": 236
           },
           {
            "bin_start": 0.4,
            "bin_end": 0.5,
            "count": 291
           },
           {
            "bin_start": 0.5,
            "bin_end": 0.6000000000000001,
            "count": 364
           },
           {
            "bin_start": 0.6000000000000001,
            "bin_end": 0.7000000000000001,
            "count": 275
           },
           {
            "bin_start": 0.7000000000000001,
            "bin_end": 0.8,
            "count": 126
           },
           {
            "bin_start": 0.8,
            "bin_end": 0.9,
            "count": 48
           },
           {
            "bin_start": 0.9,
            "bin_end": 1,
            "count": 11
           }
          ]
         }
        },
        {
         "name": "Energy",
         "dtype": "float64",
         "stats": {
          "unique_count": 94,
          "nan_count": 0,
          "min": "0.0",
          "max": "1.0",
          "histogram": [
           {
            "bin_start": 0,
            "bin_end": 0.1,
            "count": 22
           },
           {
            "bin_start": 0.1,
            "bin_end": 0.2,
            "count": 55
           },
           {
            "bin_start": 0.2,
            "bin_end": 0.30000000000000004,
            "count": 155
           },
           {
            "bin_start": 0.30000000000000004,
            "bin_end": 0.4,
            "count": 192
           },
           {
            "bin_start": 0.4,
            "bin_end": 0.5,
            "count": 185
           },
           {
            "bin_start": 0.5,
            "bin_end": 0.6000000000000001,
            "count": 227
           },
           {
            "bin_start": 0.6000000000000001,
            "bin_end": 0.7000000000000001,
            "count": 205
           },
           {
            "bin_start": 0.7000000000000001,
            "bin_end": 0.8,
            "count": 231
           },
           {
            "bin_start": 0.8,
            "bin_end": 0.9,
            "count": 165
           },
           {
            "bin_start": 0.9,
            "bin_end": 1,
            "count": 110
           }
          ]
         }
        },
        {
         "name": "Valence",
         "dtype": "float64",
         "stats": {
          "unique_count": 96,
          "nan_count": 0,
          "min": "0.0",
          "max": "1.0",
          "histogram": [
           {
            "bin_start": 0,
            "bin_end": 0.1,
            "count": 79
           },
           {
            "bin_start": 0.1,
            "bin_end": 0.2,
            "count": 182
           },
           {
            "bin_start": 0.2,
            "bin_end": 0.30000000000000004,
            "count": 218
           },
           {
            "bin_start": 0.30000000000000004,
            "bin_end": 0.4,
            "count": 195
           },
           {
            "bin_start": 0.4,
            "bin_end": 0.5,
            "count": 202
           },
           {
            "bin_start": 0.5,
            "bin_end": 0.6000000000000001,
            "count": 163
           },
           {
            "bin_start": 0.6000000000000001,
            "bin_end": 0.7000000000000001,
            "count": 144
           },
           {
            "bin_start": 0.7000000000000001,
            "bin_end": 0.8,
            "count": 126
           },
           {
            "bin_start": 0.8,
            "bin_end": 0.9,
            "count": 130
           },
           {
            "bin_start": 0.9,
            "bin_end": 1,
            "count": 108
           }
          ]
         }
        },
        {
         "name": "Loudness",
         "dtype": "float64",
         "stats": {
          "unique_count": 17,
          "nan_count": 0,
          "min": "0.0",
          "max": "1.0",
          "histogram": [
           {
            "bin_start": 0,
            "bin_end": 0.1,
            "count": 31
           },
           {
            "bin_start": 0.1,
            "bin_end": 0.2,
            "count": 78
           },
           {
            "bin_start": 0.2,
            "bin_end": 0.30000000000000004,
            "count": 61
           },
           {
            "bin_start": 0.30000000000000004,
            "bin_end": 0.4,
            "count": 182
           },
           {
            "bin_start": 0.4,
            "bin_end": 0.5,
            "count": 125
           },
           {
            "bin_start": 0.5,
            "bin_end": 0.6000000000000001,
            "count": 312
           },
           {
            "bin_start": 0.6000000000000001,
            "bin_end": 0.7000000000000001,
            "count": 366
           },
           {
            "bin_start": 0.7000000000000001,
            "bin_end": 0.8,
            "count": 168
           },
           {
            "bin_start": 0.8,
            "bin_end": 0.9,
            "count": 199
           },
           {
            "bin_start": 0.9,
            "bin_end": 1,
            "count": 25
           }
          ]
         }
        },
        {
         "name": "Speechiness",
         "dtype": "float64",
         "stats": {
          "unique_count": 6,
          "nan_count": 0,
          "min": "0.0",
          "max": "1.0",
          "histogram": [
           {
            "bin_start": 0,
            "bin_end": 0.1,
            "count": 31
           },
           {
            "bin_start": 0.1,
            "bin_end": 0.2,
            "count": 0
           },
           {
            "bin_start": 0.2,
            "bin_end": 0.30000000000000004,
            "count": 796
           },
           {
            "bin_start": 0.30000000000000004,
            "bin_end": 0.4,
            "count": 0
           },
           {
            "bin_start": 0.4,
            "bin_end": 0.5,
            "count": 406
           },
           {
            "bin_start": 0.5,
            "bin_end": 0.6000000000000001,
            "count": 172
           },
           {
            "bin_start": 0.6000000000000001,
            "bin_end": 0.7000000000000001,
            "count": 0
           },
           {
            "bin_start": 0.7000000000000001,
            "bin_end": 0.8,
            "count": 0
           },
           {
            "bin_start": 0.8,
            "bin_end": 0.9,
            "count": 92
           },
           {
            "bin_start": 0.9,
            "bin_end": 1,
            "count": 50
           }
          ]
         }
        },
        {
         "name": "Length",
         "dtype": "float64",
         "stats": {
          "unique_count": 255,
          "nan_count": 0,
          "min": "0.0",
          "max": "1.0",
          "histogram": [
           {
            "bin_start": 0,
            "bin_end": 0.1,
            "count": 29
           },
           {
            "bin_start": 0.1,
            "bin_end": 0.2,
            "count": 85
           },
           {
            "bin_start": 0.2,
            "bin_end": 0.30000000000000004,
            "count": 196
           },
           {
            "bin_start": 0.30000000000000004,
            "bin_end": 0.4,
            "count": 314
           },
           {
            "bin_start": 0.4,
            "bin_end": 0.5,
            "count": 360
           },
           {
            "bin_start": 0.5,
            "bin_end": 0.6000000000000001,
            "count": 257
           },
           {
            "bin_start": 0.6000000000000001,
            "bin_end": 0.7000000000000001,
            "count": 129
           },
           {
            "bin_start": 0.7000000000000001,
            "bin_end": 0.8,
            "count": 94
           },
           {
            "bin_start": 0.8,
            "bin_end": 0.9,
            "count": 43
           },
           {
            "bin_start": 0.9,
            "bin_end": 1,
            "count": 40
           }
          ]
         }
        },
        {
         "name": "Acousticness",
         "dtype": "float64",
         "stats": {
          "unique_count": 100,
          "nan_count": 0,
          "min": "0.0",
          "max": "1.0",
          "histogram": [
           {
            "bin_start": 0,
            "bin_end": 0.1,
            "count": 587
           },
           {
            "bin_start": 0.1,
            "bin_end": 0.2,
            "count": 200
           },
           {
            "bin_start": 0.2,
            "bin_end": 0.30000000000000004,
            "count": 139
           },
           {
            "bin_start": 0.30000000000000004,
            "bin_end": 0.4,
            "count": 107
           },
           {
            "bin_start": 0.4,
            "bin_end": 0.5,
            "count": 101
           },
           {
            "bin_start": 0.5,
            "bin_end": 0.6000000000000001,
            "count": 89
           },
           {
            "bin_start": 0.6000000000000001,
            "bin_end": 0.7000000000000001,
            "count": 94
           },
           {
            "bin_start": 0.7000000000000001,
            "bin_end": 0.8,
            "count": 91
           },
           {
            "bin_start": 0.8,
            "bin_end": 0.9,
            "count": 87
           },
           {
            "bin_start": 0.9,
            "bin_end": 1,
            "count": 52
           }
          ]
         }
        },
        {
         "name": "Beats Per Minute (BPM)",
         "dtype": "float64",
         "stats": {
          "unique_count": 139,
          "nan_count": 0,
          "min": "0.0",
          "max": "1.0",
          "histogram": [
           {
            "bin_start": 0,
            "bin_end": 0.1,
            "count": 2
           },
           {
            "bin_start": 0.1,
            "bin_end": 0.2,
            "count": 18
           },
           {
            "bin_start": 0.2,
            "bin_end": 0.30000000000000004,
            "count": 176
           },
           {
            "bin_start": 0.30000000000000004,
            "bin_end": 0.4,
            "count": 293
           },
           {
            "bin_start": 0.4,
            "bin_end": 0.5,
            "count": 355
           },
           {
            "bin_start": 0.5,
            "bin_end": 0.6000000000000001,
            "count": 373
           },
           {
            "bin_start": 0.6000000000000001,
            "bin_end": 0.7000000000000001,
            "count": 162
           },
           {
            "bin_start": 0.7000000000000001,
            "bin_end": 0.8,
            "count": 96
           },
           {
            "bin_start": 0.8,
            "bin_end": 0.9,
            "count": 59
           },
           {
            "bin_start": 0.9,
            "bin_end": 1,
            "count": 13
           }
          ]
         }
        },
        {
         "name": "Liveness",
         "dtype": "float64",
         "stats": {
          "unique_count": 42,
          "nan_count": 0,
          "min": "0.0",
          "max": "1.0",
          "histogram": [
           {
            "bin_start": 0,
            "bin_end": 0.1,
            "count": 144
           },
           {
            "bin_start": 0.1,
            "bin_end": 0.2,
            "count": 424
           },
           {
            "bin_start": 0.2,
            "bin_end": 0.30000000000000004,
            "count": 428
           },
           {
            "bin_start": 0.30000000000000004,
            "bin_end": 0.4,
            "count": 156
           },
           {
            "bin_start": 0.4,
            "bin_end": 0.5,
            "count": 98
           },
           {
            "bin_start": 0.5,
            "bin_end": 0.6000000000000001,
            "count": 79
           },
           {
            "bin_start": 0.6000000000000001,
            "bin_end": 0.7000000000000001,
            "count": 62
           },
           {
            "bin_start": 0.7000000000000001,
            "bin_end": 0.8,
            "count": 72
           },
           {
            "bin_start": 0.8,
            "bin_end": 0.9,
            "count": 56
           },
           {
            "bin_start": 0.9,
            "bin_end": 1,
            "count": 28
           }
          ]
         }
        },
        {
         "name": "_deepnote_index_column",
         "dtype": "int64"
        }
       ],
       "rows_top": [
        {
         "Popularity": 71,
         "Danceability": 0.5,
         "Energy": 0.26595744680851063,
         "Valence": 0.6736842105263158,
         "Loudness": 0.25,
         "Speechiness": 0.2,
         "Length": 0.28771929824561404,
         "Acousticness": 0.9494949494949495,
         "Beats Per Minute (BPM)": 0.7100591715976331,
         "Liveness": 0.21951219512195122,
         "_deepnote_index_column": 0
        },
        {
         "Popularity": 39,
         "Danceability": 0.46511627906976744,
         "Energy": 0.7872340425531915,
         "Valence": 0.8105263157894737,
         "Loudness": 0.4375,
         "Speechiness": 1,
         "Length": 0.3087719298245614,
         "Acousticness": 0.1717171717171717,
         "Beats Per Minute (BPM)": 0.5798816568047337,
         "Liveness": 0.36585365853658536,
         "_deepnote_index_column": 1
        },
        {
         "Popularity": 76,
         "Danceability": 0.38372093023255816,
         "Energy": 0.9680851063829787,
         "Valence": 0.3473684210526316,
         "Loudness": 0.875,
         "Speechiness": 0.4,
         "Length": 0.5263157894736842,
         "Acousticness": 0,
         "Beats Per Minute (BPM)": 0.8047337278106509,
         "Liveness": 0.024390243902439025,
         "_deepnote_index_column": 2
        },
        {
         "Popularity": 59,
         "Danceability": 0.5581395348837209,
         "Energy": 0.8191489361702128,
         "Valence": 0.8736842105263158,
         "Loudness": 0.8125,
         "Speechiness": 0.2,
         "Length": 0.4807017543859649,
         "Acousticness": 0.010101010101010102,
         "Beats Per Minute (BPM)": 0.40828402366863903,
         "Liveness": 0.1951219512195122,
         "_deepnote_index_column": 3
        },
        {
         "Popularity": 45,
         "Danceability": 0.5116279069767442,
         "Energy": 0.43617021276595747,
         "Valence": 0.10526315789473684,
         "Loudness": 0.5625,
         "Speechiness": 0,
         "Length": 0.44912280701754387,
         "Acousticness": 0,
         "Beats Per Minute (BPM)": 0.3668639053254438,
         "Liveness": 0.2926829268292683,
         "_deepnote_index_column": 4
        },
        {
         "Popularity": 74,
         "Danceability": 0.7093023255813954,
         "Energy": 0.7021276595744681,
         "Valence": 0.5263157894736842,
         "Loudness": 0.75,
         "Speechiness": 0.2,
         "Length": 0.4842105263157895,
         "Acousticness": 0.06060606060606061,
         "Beats Per Minute (BPM)": 0.38461538461538464,
         "Liveness": 0.2682926829268293,
         "_deepnote_index_column": 5
        },
        {
         "Popularity": 82,
         "Danceability": 0.9418604651162791,
         "Energy": 0.6595744680851063,
         "Valence": 0.6526315789473685,
         "Loudness": 0.9375,
         "Speechiness": 1,
         "Length": 0.6,
         "Acousticness": 0,
         "Beats Per Minute (BPM)": 0.4437869822485207,
         "Liveness": 0.5365853658536586,
         "_deepnote_index_column": 6
        },
        {
         "Popularity": 49,
         "Danceability": 0.3953488372093023,
         "Energy": 0,
         "Valence": 0.28421052631578947,
         "Loudness": 0.125,
         "Speechiness": 0.4,
         "Length": 0.15087719298245614,
         "Acousticness": 0.8888888888888888,
         "Beats Per Minute (BPM)": 0.4260355029585799,
         "Liveness": 0.21951219512195122,
         "_deepnote_index_column": 7
        },
        {
         "Popularity": 66,
         "Danceability": 0.6395348837209303,
         "Energy": 0.8085106382978723,
         "Valence": 0.8210526315789474,
         "Loudness": 0.8125,
         "Speechiness": 0.2,
         "Length": 0.18947368421052632,
         "Acousticness": 0,
         "Beats Per Minute (BPM)": 0.4437869822485207,
         "Liveness": 0.2926829268292683,
         "_deepnote_index_column": 8
        },
        {
         "Popularity": 48,
         "Danceability": 0.37209302325581395,
         "Energy": 0.39361702127659576,
         "Valence": 0.22105263157894736,
         "Loudness": 0.5,
         "Speechiness": 0.4,
         "Length": 0.4105263157894737,
         "Acousticness": 0.8484848484848485,
         "Beats Per Minute (BPM)": 0.5680473372781065,
         "Liveness": 0.34146341463414637,
         "_deepnote_index_column": 9
        },
        {
         "Popularity": 69,
         "Danceability": 0.4883720930232558,
         "Energy": 0.9042553191489362,
         "Valence": 0.3368421052631579,
         "Loudness": 0.6875,
         "Speechiness": 0.8,
         "Length": 0.5929824561403508,
         "Acousticness": 0,
         "Beats Per Minute (BPM)": 0.5088757396449705,
         "Liveness": 0.12195121951219512,
         "_deepnote_index_column": 10
        },
        {
         "Popularity": 57,
         "Danceability": 0.32558139534883723,
         "Energy": 0.5212765957446809,
         "Valence": 0.15789473684210525,
         "Loudness": 0.8125,
         "Speechiness": 0.2,
         "Length": 0.5508771929824562,
         "Acousticness": 0.020202020202020204,
         "Beats Per Minute (BPM)": 0.5325443786982249,
         "Liveness": 0.17073170731707318,
         "_deepnote_index_column": 11
        },
        {
         "Popularity": 81,
         "Danceability": 0.12790697674418605,
         "Energy": 0.39361702127659576,
         "Valence": 0.08421052631578947,
         "Loudness": 0.5625,
         "Speechiness": 0.2,
         "Length": 0.6210526315789474,
         "Acousticness": 0.16161616161616163,
         "Beats Per Minute (BPM)": 0.5976331360946746,
         "Liveness": 0.21951219512195122,
         "_deepnote_index_column": 12
        },
        {
         "Popularity": 67,
         "Danceability": 0.5813953488372093,
         "Energy": 0.48936170212765956,
         "Valence": 0.3263157894736842,
         "Loudness": 0.5,
         "Speechiness": 0.4,
         "Length": 0.3473684210526316,
         "Acousticness": 0.050505050505050504,
         "Beats Per Minute (BPM)": 0.621301775147929,
         "Liveness": 0.21951219512195122,
         "_deepnote_index_column": 13
        },
        {
         "Popularity": 55,
         "Danceability": 0.6162790697674418,
         "Energy": 0.8936170212765957,
         "Valence": 0.8105263157894737,
         "Loudness": 0.75,
         "Speechiness": 0.2,
         "Length": 0.2,
         "Acousticness": 0.050505050505050504,
         "Beats Per Minute (BPM)": 0.34911242603550297,
         "Liveness": 0.17073170731707318,
         "_deepnote_index_column": 14
        },
        {
         "Popularity": 16,
         "Danceability": 0.6395348837209303,
         "Energy": 0.7340425531914894,
         "Valence": 0.5052631578947369,
         "Loudness": 0.6875,
         "Speechiness": 0.2,
         "Length": 0.4982456140350877,
         "Acousticness": 0.18181818181818182,
         "Beats Per Minute (BPM)": 0.4437869822485207,
         "Liveness": 0.5121951219512195,
         "_deepnote_index_column": 15
        },
        {
         "Popularity": 50,
         "Danceability": 0.5232558139534884,
         "Energy": 0.4574468085106383,
         "Valence": 0.14736842105263157,
         "Loudness": 0.625,
         "Speechiness": 0.2,
         "Length": 0.5298245614035088,
         "Acousticness": 0.48484848484848486,
         "Beats Per Minute (BPM)": 0.5502958579881657,
         "Liveness": 0.1951219512195122,
         "_deepnote_index_column": 16
        },
        {
         "Popularity": 56,
         "Danceability": 0.5,
         "Energy": 0.6702127659574468,
         "Valence": 0.5368421052631579,
         "Loudness": 0.875,
         "Speechiness": 0.4,
         "Length": 0.6280701754385964,
         "Acousticness": 0,
         "Beats Per Minute (BPM)": 0.5088757396449705,
         "Liveness": 0.24390243902439024,
         "_deepnote_index_column": 17
        },
        {
         "Popularity": 48,
         "Danceability": 0.27906976744186046,
         "Energy": 0.20212765957446807,
         "Valence": 0.15789473684210525,
         "Loudness": 0.4375,
         "Speechiness": 0.4,
         "Length": 0.49122807017543857,
         "Acousticness": 0.9292929292929293,
         "Beats Per Minute (BPM)": 0.621301775147929,
         "Liveness": 0.24390243902439024,
         "_deepnote_index_column": 18
        },
        {
         "Popularity": 59,
         "Danceability": 0.6744186046511628,
         "Energy": 0.6914893617021277,
         "Valence": 0.49473684210526314,
         "Loudness": 0.5,
         "Speechiness": 0.2,
         "Length": 0.656140350877193,
         "Acousticness": 0.08080808080808081,
         "Beats Per Minute (BPM)": 0.6923076923076923,
         "Liveness": 0.7560975609756098,
         "_deepnote_index_column": 19
        },
        {
         "Popularity": 84,
         "Danceability": 0.5348837209302325,
         "Energy": 0.4148936170212766,
         "Valence": 0.17894736842105263,
         "Loudness": 0.6875,
         "Speechiness": 0,
         "Length": 0.6701754385964912,
         "Acousticness": 0.7373737373737373,
         "Beats Per Minute (BPM)": 0.6449704142011834,
         "Liveness": 0.21951219512195122,
         "_deepnote_index_column": 20
        },
        {
         "Popularity": 57,
         "Danceability": 0.5348837209302325,
         "Energy": 0.574468085106383,
         "Valence": 0.6736842105263158,
         "Loudness": 0.5625,
         "Speechiness": 0.2,
         "Length": 0.656140350877193,
         "Acousticness": 0.32323232323232326,
         "Beats Per Minute (BPM)": 0.8520710059171598,
         "Liveness": 0.43902439024390244,
         "_deepnote_index_column": 21
        },
        {
         "Popularity": 63,
         "Danceability": 0.6046511627906976,
         "Energy": 0.44680851063829785,
         "Valence": 0.30526315789473685,
         "Loudness": 0.75,
         "Speechiness": 0.2,
         "Length": 0.32280701754385965,
         "Acousticness": 0.31313131313131315,
         "Beats Per Minute (BPM)": 0.25443786982248523,
         "Liveness": 0.21951219512195122,
         "_deepnote_index_column": 22
        },
        {
         "Popularity": 74,
         "Danceability": 0.7325581395348837,
         "Energy": 0.1595744680851064,
         "Valence": 0.6105263157894737,
         "Loudness": 0.375,
         "Speechiness": 0.2,
         "Length": 0.23508771929824562,
         "Acousticness": 0.8888888888888888,
         "Beats Per Minute (BPM)": 0.30177514792899407,
         "Liveness": 0.12195121951219512,
         "_deepnote_index_column": 23
        },
        {
         "Popularity": 44,
         "Danceability": 0.6744186046511628,
         "Energy": 0.5106382978723404,
         "Valence": 0.6736842105263158,
         "Loudness": 0.375,
         "Speechiness": 0.4,
         "Length": 0.5087719298245614,
         "Acousticness": 0.3434343434343434,
         "Beats Per Minute (BPM)": 0.48520710059171596,
         "Liveness": 0.14634146341463414,
         "_deepnote_index_column": 24
        },
        {
         "Popularity": 75,
         "Danceability": 0.22093023255813954,
         "Energy": 0.7872340425531915,
         "Valence": 0.49473684210526314,
         "Loudness": 0.75,
         "Speechiness": 0.4,
         "Length": 0.6,
         "Acousticness": 0,
         "Beats Per Minute (BPM)": 0.7041420118343196,
         "Liveness": 0.14634146341463414,
         "_deepnote_index_column": 25
        },
        {
         "Popularity": 40,
         "Danceability": 0.2558139534883721,
         "Energy": 0.8085106382978723,
         "Valence": 0.08421052631578947,
         "Loudness": 0.6875,
         "Speechiness": 0.6,
         "Length": 0.2912280701754386,
         "Acousticness": 0.08080808080808081,
         "Beats Per Minute (BPM)": 0.6804733727810651,
         "Liveness": 0.3170731707317073,
         "_deepnote_index_column": 26
        },
        {
         "Popularity": 42,
         "Danceability": 0.4186046511627907,
         "Energy": 0.1702127659574468,
         "Valence": 0.23157894736842105,
         "Loudness": 0.4375,
         "Speechiness": 0.2,
         "Length": 0.5157894736842106,
         "Acousticness": 0.9191919191919192,
         "Beats Per Minute (BPM)": 0.20710059171597633,
         "Liveness": 0.21951219512195122,
         "_deepnote_index_column": 27
        },
        {
         "Popularity": 74,
         "Danceability": 0.20930232558139536,
         "Energy": 0.6702127659574468,
         "Valence": 0.47368421052631576,
         "Loudness": 0.5625,
         "Speechiness": 0.4,
         "Length": 0.41403508771929826,
         "Acousticness": 0,
         "Beats Per Minute (BPM)": 0.40236686390532544,
         "Liveness": 0.2926829268292683,
         "_deepnote_index_column": 28
        },
        {
         "Popularity": 78,
         "Danceability": 0.32558139534883723,
         "Energy": 1,
         "Valence": 0.7684210526315789,
         "Loudness": 1,
         "Speechiness": 0.8,
         "Length": 0.2,
         "Acousticness": 0,
         "Beats Per Minute (BPM)": 0.8816568047337278,
         "Liveness": 0.8536585365853658,
         "_deepnote_index_column": 29
        },
        {
         "Popularity": 65,
         "Danceability": 0.5581395348837209,
         "Energy": 0.851063829787234,
         "Valence": 0.5684210526315789,
         "Loudness": 0.8125,
         "Speechiness": 0.2,
         "Length": 0.2736842105263158,
         "Acousticness": 0.1111111111111111,
         "Beats Per Minute (BPM)": 0.3727810650887574,
         "Liveness": 0.17073170731707318,
         "_deepnote_index_column": 30
        },
        {
         "Popularity": 56,
         "Danceability": 0.32558139534883723,
         "Energy": 0.5531914893617021,
         "Valence": 0.23157894736842105,
         "Loudness": 0.8125,
         "Speechiness": 0.2,
         "Length": 0.5578947368421052,
         "Acousticness": 0.04040404040404041,
         "Beats Per Minute (BPM)": 0.7751479289940828,
         "Liveness": 0.8048780487804879,
         "_deepnote_index_column": 31
        },
        {
         "Popularity": 65,
         "Danceability": 0.313953488372093,
         "Energy": 0.6276595744680851,
         "Valence": 0.16842105263157894,
         "Loudness": 0.75,
         "Speechiness": 0.2,
         "Length": 0.8280701754385965,
         "Acousticness": 0,
         "Beats Per Minute (BPM)": 0.22485207100591717,
         "Liveness": 0.36585365853658536,
         "_deepnote_index_column": 32
        },
        {
         "Popularity": 67,
         "Danceability": 0.627906976744186,
         "Energy": 0.7127659574468085,
         "Valence": 0.8,
         "Loudness": 0.6875,
         "Speechiness": 0.4,
         "Length": 0.3298245614035088,
         "Acousticness": 0.010101010101010102,
         "Beats Per Minute (BPM)": 0.5562130177514792,
         "Liveness": 0.2926829268292683,
         "_deepnote_index_column": 33
        },
        {
         "Popularity": 51,
         "Danceability": 0.4186046511627907,
         "Energy": 0.7659574468085106,
         "Valence": 0.3263157894736842,
         "Loudness": 0.8125,
         "Speechiness": 0.2,
         "Length": 0.40350877192982454,
         "Acousticness": 0.010101010101010102,
         "Beats Per Minute (BPM)": 0.23076923076923078,
         "Liveness": 0.2926829268292683,
         "_deepnote_index_column": 34
        },
        {
         "Popularity": 69,
         "Danceability": 0.43023255813953487,
         "Energy": 0.3191489361702128,
         "Valence": 0.25263157894736843,
         "Loudness": 0.4375,
         "Speechiness": 0.2,
         "Length": 0.34035087719298246,
         "Acousticness": 0.7272727272727273,
         "Beats Per Minute (BPM)": 0.42011834319526625,
         "Liveness": 0.14634146341463414,
         "_deepnote_index_column": 35
        },
        {
         "Popularity": 52,
         "Danceability": 0.29069767441860467,
         "Energy": 0.40425531914893614,
         "Valence": 0.23157894736842105,
         "Loudness": 0.4375,
         "Speechiness": 0.2,
         "Length": 0.5473684210526316,
         "Acousticness": 0.16161616161616163,
         "Beats Per Minute (BPM)": 0.9289940828402367,
         "Liveness": 0.1951219512195122,
         "_deepnote_index_column": 36
        },
        {
         "Popularity": 69,
         "Danceability": 0.38372093023255816,
         "Energy": 0.22340425531914893,
         "Valence": 0.24210526315789474,
         "Loudness": 0.3125,
         "Speechiness": 0.6,
         "Length": 0.49122807017543857,
         "Acousticness": 0.9595959595959596,
         "Beats Per Minute (BPM)": 0.3136094674556213,
         "Liveness": 0.17073170731707318,
         "_deepnote_index_column": 37
        },
        {
         "Popularity": 67,
         "Danceability": 0.26744186046511625,
         "Energy": 0.26595744680851063,
         "Valence": 0.10526315789473684,
         "Loudness": 0.6875,
         "Speechiness": 0.2,
         "Length": 0.43508771929824563,
         "Acousticness": 0.7878787878787878,
         "Beats Per Minute (BPM)": 0.6627218934911243,
         "Liveness": 0.21951219512195122,
         "_deepnote_index_column": 38
        },
        {
         "Popularity": 57,
         "Danceability": 0.5,
         "Energy": 0.5851063829787234,
         "Valence": 0.3263157894736842,
         "Loudness": 0.75,
         "Speechiness": 0,
         "Length": 0.6526315789473685,
         "Acousticness": 0,
         "Beats Per Minute (BPM)": 0.34911242603550297,
         "Liveness": 0.21951219512195122,
         "_deepnote_index_column": 39
        },
        {
         "Popularity": 44,
         "Danceability": 0.4418604651162791,
         "Energy": 0.574468085106383,
         "Valence": 0.16842105263157894,
         "Loudness": 0.8125,
         "Speechiness": 0.6,
         "Length": 0.3473684210526316,
         "Acousticness": 0.2727272727272727,
         "Beats Per Minute (BPM)": 0.5088757396449705,
         "Liveness": 0.3902439024390244,
         "_deepnote_index_column": 40
        },
        {
         "Popularity": 77,
         "Danceability": 0.686046511627907,
         "Energy": 0.6914893617021277,
         "Valence": 0.4631578947368421,
         "Loudness": 0.75,
         "Speechiness": 0.2,
         "Length": 0.3333333333333333,
         "Acousticness": 0.2222222222222222,
         "Beats Per Minute (BPM)": 0.3668639053254438,
         "Liveness": 0.34146341463414637,
         "_deepnote_index_column": 41
        },
        {
         "Popularity": 38,
         "Danceability": 0.43023255813953487,
         "Energy": 0.574468085106383,
         "Valence": 0.14736842105263157,
         "Loudness": 0.625,
         "Speechiness": 0.2,
         "Length": 0.4105263157894737,
         "Acousticness": 0.42424242424242425,
         "Beats Per Minute (BPM)": 0.514792899408284,
         "Liveness": 0.6341463414634146,
         "_deepnote_index_column": 42
        },
        {
         "Popularity": 32,
         "Danceability": 0.6046511627906976,
         "Energy": 0.3829787234042553,
         "Valence": 0.49473684210526314,
         "Loudness": 0.25,
         "Speechiness": 0.2,
         "Length": 0.3368421052631579,
         "Acousticness": 0.0707070707070707,
         "Beats Per Minute (BPM)": 0.5621301775147929,
         "Liveness": 0.1951219512195122,
         "_deepnote_index_column": 43
        },
        {
         "Popularity": 47,
         "Danceability": 0.3953488372093023,
         "Energy": 0.5425531914893617,
         "Valence": 0.6947368421052632,
         "Loudness": 0.6875,
         "Speechiness": 0.2,
         "Length": 0.08771929824561403,
         "Acousticness": 0.35353535353535354,
         "Beats Per Minute (BPM)": 0.28994082840236685,
         "Liveness": 0.5609756097560976,
         "_deepnote_index_column": 44
        },
        {
         "Popularity": 77,
         "Danceability": 0.5232558139534884,
         "Energy": 0.8723404255319149,
         "Valence": 0.5263157894736842,
         "Loudness": 0.75,
         "Speechiness": 0.2,
         "Length": 0.40350877192982454,
         "Acousticness": 0.010101010101010102,
         "Beats Per Minute (BPM)": 0.3668639053254438,
         "Liveness": 0.36585365853658536,
         "_deepnote_index_column": 45
        },
        {
         "Popularity": 63,
         "Danceability": 0.6162790697674418,
         "Energy": 0.8617021276595744,
         "Valence": 0.7263157894736842,
         "Loudness": 0.6875,
         "Speechiness": 0.6,
         "Length": 0.8350877192982457,
         "Acousticness": 0.21212121212121213,
         "Beats Per Minute (BPM)": 0.3905325443786982,
         "Liveness": 0.12195121951219512,
         "_deepnote_index_column": 46
        },
        {
         "Popularity": 59,
         "Danceability": 0.6744186046511628,
         "Energy": 0.723404255319149,
         "Valence": 0.9473684210526315,
         "Loudness": 0.625,
         "Speechiness": 0,
         "Length": 0.5684210526315789,
         "Acousticness": 0.1111111111111111,
         "Beats Per Minute (BPM)": 0.40236686390532544,
         "Liveness": 0.2926829268292683,
         "_deepnote_index_column": 47
        },
        {
         "Popularity": 55,
         "Danceability": 0.20930232558139536,
         "Energy": 0.40425531914893614,
         "Valence": 0.031578947368421054,
         "Loudness": 0.6875,
         "Speechiness": 0.2,
         "Length": 0.3508771929824561,
         "Acousticness": 0.2828282828282828,
         "Beats Per Minute (BPM)": 0.5857988165680473,
         "Liveness": 0.0975609756097561,
         "_deepnote_index_column": 48
        },
        {
         "Popularity": 64,
         "Danceability": 0.46511627906976744,
         "Energy": 0.6382978723404256,
         "Valence": 0.5578947368421052,
         "Loudness": 0.6875,
         "Speechiness": 0.4,
         "Length": 0.5403508771929825,
         "Acousticness": 0.2222222222222222,
         "Beats Per Minute (BPM)": 0.2603550295857988,
         "Liveness": 0.7560975609756098,
         "_deepnote_index_column": 49
        }
       ],
       "rows_bottom": [
        {
         "Popularity": 74,
         "Danceability": 0.686046511627907,
         "Energy": 0.0851063829787234,
         "Valence": 0.3473684210526316,
         "Loudness": 0.25,
         "Speechiness": 0.2,
         "Length": 0.06666666666666667,
         "Acousticness": 0.7575757575757576,
         "Beats Per Minute (BPM)": 0.33727810650887574,
         "Liveness": 0.0975609756097561,
         "_deepnote_index_column": 1497
        },
        {
         "Popularity": 60,
         "Danceability": 0.3372093023255814,
         "Energy": 0.723404255319149,
         "Valence": 0.6105263157894737,
         "Loudness": 0.625,
         "Speechiness": 0.2,
         "Length": 0.5368421052631579,
         "Acousticness": 0,
         "Beats Per Minute (BPM)": 0.3727810650887574,
         "Liveness": 0.1951219512195122,
         "_deepnote_index_column": 1498
        },
        {
         "Popularity": 70,
         "Danceability": 0.4069767441860465,
         "Energy": 0.6382978723404256,
         "Valence": 0.6947368421052632,
         "Loudness": 0.5625,
         "Speechiness": 0.2,
         "Length": 0.5824561403508772,
         "Acousticness": 0.020202020202020204,
         "Beats Per Minute (BPM)": 0.46153846153846156,
         "Liveness": 0.36585365853658536,
         "_deepnote_index_column": 1499
        },
        {
         "Popularity": 77,
         "Danceability": 0.3953488372093023,
         "Energy": 0.8085106382978723,
         "Valence": 0.5473684210526316,
         "Loudness": 0.75,
         "Speechiness": 0.8,
         "Length": 0.4280701754385965,
         "Acousticness": 0,
         "Beats Per Minute (BPM)": 0.44970414201183434,
         "Liveness": 0.14634146341463414,
         "_deepnote_index_column": 1500
        },
        {
         "Popularity": 43,
         "Danceability": 0.36046511627906974,
         "Energy": 0.5106382978723404,
         "Valence": 0.3894736842105263,
         "Loudness": 0.5625,
         "Speechiness": 0.2,
         "Length": 0.30526315789473685,
         "Acousticness": 0.1919191919191919,
         "Beats Per Minute (BPM)": 0.8698224852071006,
         "Liveness": 0.7073170731707317,
         "_deepnote_index_column": 1501
        },
        {
         "Popularity": 75,
         "Danceability": 0.5697674418604651,
         "Energy": 0.32978723404255317,
         "Valence": 0.4842105263157895,
         "Loudness": 0.25,
         "Speechiness": 0.4,
         "Length": 0.34385964912280703,
         "Acousticness": 0.48484848484848486,
         "Beats Per Minute (BPM)": 0.5680473372781065,
         "Liveness": 0.0975609756097561,
         "_deepnote_index_column": 1502
        },
        {
         "Popularity": 69,
         "Danceability": 0.6395348837209303,
         "Energy": 0.2872340425531915,
         "Valence": 0.25263157894736843,
         "Loudness": 0.5625,
         "Speechiness": 0.2,
         "Length": 0.16842105263157894,
         "Acousticness": 0.21212121212121213,
         "Beats Per Minute (BPM)": 0.4378698224852071,
         "Liveness": 0.4146341463414634,
         "_deepnote_index_column": 1503
        },
        {
         "Popularity": 74,
         "Danceability": 0.5232558139534884,
         "Energy": 0.5638297872340425,
         "Valence": 0.4421052631578947,
         "Loudness": 0.3125,
         "Speechiness": 0.2,
         "Length": 0.6280701754385964,
         "Acousticness": 0.1919191919191919,
         "Beats Per Minute (BPM)": 0.4319526627218935,
         "Liveness": 0.04878048780487805,
         "_deepnote_index_column": 1504
        },
        {
         "Popularity": 76,
         "Danceability": 0.5930232558139535,
         "Energy": 0.43617021276595747,
         "Valence": 0.8105263157894737,
         "Loudness": 0.25,
         "Speechiness": 0.6,
         "Length": 0.43859649122807015,
         "Acousticness": 0.7171717171717171,
         "Beats Per Minute (BPM)": 0.3254437869822485,
         "Liveness": 0.12195121951219512,
         "_deepnote_index_column": 1505
        },
        {
         "Popularity": 48,
         "Danceability": 0.09302325581395349,
         "Energy": 0.5,
         "Valence": 0.4,
         "Loudness": 0.625,
         "Speechiness": 0.2,
         "Length": 0.36140350877192984,
         "Acousticness": 0.3939393939393939,
         "Beats Per Minute (BPM)": 0.7692307692307693,
         "Liveness": 0.0975609756097561,
         "_deepnote_index_column": 1506
        },
        {
         "Popularity": 72,
         "Danceability": 0.6162790697674418,
         "Energy": 0.5319148936170213,
         "Valence": 0.5052631578947369,
         "Loudness": 0.5625,
         "Speechiness": 0.6,
         "Length": 0.543859649122807,
         "Acousticness": 0.37373737373737376,
         "Beats Per Minute (BPM)": 0.6331360946745562,
         "Liveness": 0.1951219512195122,
         "_deepnote_index_column": 1507
        },
        {
         "Popularity": 59,
         "Danceability": 0.18604651162790697,
         "Energy": 0.2553191489361702,
         "Valence": 0.22105263157894736,
         "Loudness": 0.5,
         "Speechiness": 0.2,
         "Length": 0.2771929824561403,
         "Acousticness": 0.1414141414141414,
         "Beats Per Minute (BPM)": 0.25443786982248523,
         "Liveness": 0.34146341463414637,
         "_deepnote_index_column": 1508
        },
        {
         "Popularity": 57,
         "Danceability": 0.4418604651162791,
         "Energy": 0.4148936170212766,
         "Valence": 0.4,
         "Loudness": 0.25,
         "Speechiness": 0.2,
         "Length": 0.10175438596491228,
         "Acousticness": 0.010101010101010102,
         "Beats Per Minute (BPM)": 0.38461538461538464,
         "Liveness": 0.0975609756097561,
         "_deepnote_index_column": 1509
        },
        {
         "Popularity": 43,
         "Danceability": 0.4069767441860465,
         "Energy": 0.5425531914893617,
         "Valence": 0.6,
         "Loudness": 0.5625,
         "Speechiness": 0.2,
         "Length": 0.25263157894736843,
         "Acousticness": 0.24242424242424243,
         "Beats Per Minute (BPM)": 0.3668639053254438,
         "Liveness": 0.07317073170731707,
         "_deepnote_index_column": 1510
        },
        {
         "Popularity": 66,
         "Danceability": 0.2441860465116279,
         "Energy": 0.43617021276595747,
         "Valence": 0.4105263157894737,
         "Loudness": 0.5625,
         "Speechiness": 0.2,
         "Length": 0.24210526315789474,
         "Acousticness": 0.16161616161616163,
         "Beats Per Minute (BPM)": 0.6390532544378699,
         "Liveness": 0.2682926829268293,
         "_deepnote_index_column": 1511
        },
        {
         "Popularity": 67,
         "Danceability": 0.4418604651162791,
         "Energy": 0.40425531914893614,
         "Valence": 0.6,
         "Loudness": 0.75,
         "Speechiness": 0,
         "Length": 0.13333333333333333,
         "Acousticness": 0.696969696969697,
         "Beats Per Minute (BPM)": 0.27218934911242604,
         "Liveness": 0.3170731707317073,
         "_deepnote_index_column": 1512
        },
        {
         "Popularity": 69,
         "Danceability": 0.47674418604651164,
         "Energy": 0.46808510638297873,
         "Valence": 0.6421052631578947,
         "Loudness": 0.5,
         "Speechiness": 0.2,
         "Length": 0.21403508771929824,
         "Acousticness": 0.26262626262626265,
         "Beats Per Minute (BPM)": 0.5266272189349113,
         "Liveness": 0.21951219512195122,
         "_deepnote_index_column": 1513
        },
        {
         "Popularity": 59,
         "Danceability": 0.4883720930232558,
         "Energy": 0.6276595744680851,
         "Valence": 0.6526315789473685,
         "Loudness": 0.75,
         "Speechiness": 0.2,
         "Length": 0.21403508771929824,
         "Acousticness": 0.5757575757575758,
         "Beats Per Minute (BPM)": 0.4319526627218935,
         "Liveness": 0.7317073170731707,
         "_deepnote_index_column": 1514
        },
        {
         "Popularity": 82,
         "Danceability": 0.5348837209302325,
         "Energy": 0.5212765957446809,
         "Valence": 0.3684210526315789,
         "Loudness": 0.5,
         "Speechiness": 0.2,
         "Length": 0.23508771929824562,
         "Acousticness": 0.030303030303030304,
         "Beats Per Minute (BPM)": 0.5443786982248521,
         "Liveness": 0.3902439024390244,
         "_deepnote_index_column": 1515
        },
        {
         "Popularity": 73,
         "Danceability": 0.23255813953488372,
         "Energy": 0.4148936170212766,
         "Valence": 0.4105263157894737,
         "Loudness": 0.3125,
         "Speechiness": 0.2,
         "Length": 0.7017543859649122,
         "Acousticness": 0.0707070707070707,
         "Beats Per Minute (BPM)": 0.6094674556213018,
         "Liveness": 0.3902439024390244,
         "_deepnote_index_column": 1516
        },
        {
         "Popularity": 76,
         "Danceability": 0.6162790697674418,
         "Energy": 0.6170212765957447,
         "Valence": 0.47368421052631576,
         "Loudness": 0.625,
         "Speechiness": 0.2,
         "Length": 0.5333333333333333,
         "Acousticness": 0.45454545454545453,
         "Beats Per Minute (BPM)": 0.48520710059171596,
         "Liveness": 0.36585365853658536,
         "_deepnote_index_column": 1517
        },
        {
         "Popularity": 72,
         "Danceability": 0.45348837209302323,
         "Energy": 0.35106382978723405,
         "Valence": 0.7052631578947368,
         "Loudness": 0.4375,
         "Speechiness": 0.2,
         "Length": 0.4982456140350877,
         "Acousticness": 0.04040404040404041,
         "Beats Per Minute (BPM)": 0.47337278106508873,
         "Liveness": 0.9512195121951219,
         "_deepnote_index_column": 1518
        },
        {
         "Popularity": 78,
         "Danceability": 0.5,
         "Energy": 0.0851063829787234,
         "Valence": 0.5684210526315789,
         "Loudness": 0.125,
         "Speechiness": 0.2,
         "Length": 0.2982456140350877,
         "Acousticness": 0.6161616161616161,
         "Beats Per Minute (BPM)": 0.15384615384615385,
         "Liveness": 0.5365853658536586,
         "_deepnote_index_column": 1519
        },
        {
         "Popularity": 80,
         "Danceability": 0.627906976744186,
         "Energy": 0.648936170212766,
         "Valence": 0.6526315789473685,
         "Loudness": 0.625,
         "Speechiness": 0.4,
         "Length": 0.07719298245614035,
         "Acousticness": 0.20202020202020202,
         "Beats Per Minute (BPM)": 0.5680473372781065,
         "Liveness": 0.3170731707317073,
         "_deepnote_index_column": 1520
        },
        {
         "Popularity": 63,
         "Danceability": 0.3488372093023256,
         "Energy": 0.23404255319148937,
         "Valence": 0.47368421052631576,
         "Loudness": 0.0625,
         "Speechiness": 0.2,
         "Length": 0.16842105263157894,
         "Acousticness": 0.7272727272727273,
         "Beats Per Minute (BPM)": 0.3076923076923077,
         "Liveness": 0.21951219512195122,
         "_deepnote_index_column": 1521
        },
        {
         "Popularity": 77,
         "Danceability": 0.47674418604651164,
         "Energy": 0.7659574468085106,
         "Valence": 0.9473684210526315,
         "Loudness": 0.75,
         "Speechiness": 0.2,
         "Length": 0.08070175438596491,
         "Acousticness": 0.06060606060606061,
         "Beats Per Minute (BPM)": 0.8402366863905325,
         "Liveness": 0.0975609756097561,
         "_deepnote_index_column": 1522
        },
        {
         "Popularity": 69,
         "Danceability": 0.2441860465116279,
         "Energy": 0.40425531914893614,
         "Valence": 0.28421052631578947,
         "Loudness": 0.4375,
         "Speechiness": 0.8,
         "Length": 0.6771929824561403,
         "Acousticness": 0.29292929292929293,
         "Beats Per Minute (BPM)": 0.6390532544378699,
         "Liveness": 0.1951219512195122,
         "_deepnote_index_column": 1523
        },
        {
         "Popularity": 73,
         "Danceability": 0.3488372093023256,
         "Energy": 0.35106382978723405,
         "Valence": 0.2,
         "Loudness": 0.6875,
         "Speechiness": 0.2,
         "Length": 0.5543859649122806,
         "Acousticness": 0.7070707070707071,
         "Beats Per Minute (BPM)": 0.22485207100591717,
         "Liveness": 0.24390243902439024,
         "_deepnote_index_column": 1524
        },
        {
         "Popularity": 79,
         "Danceability": 0.5,
         "Energy": 0.35106382978723405,
         "Valence": 0.15789473684210525,
         "Loudness": 0.375,
         "Speechiness": 0.4,
         "Length": 0.49473684210526314,
         "Acousticness": 0.030303030303030304,
         "Beats Per Minute (BPM)": 0.757396449704142,
         "Liveness": 0.17073170731707318,
         "_deepnote_index_column": 1525
        },
        {
         "Popularity": 72,
         "Danceability": 0.3488372093023256,
         "Energy": 0.30851063829787234,
         "Valence": 0.35789473684210527,
         "Loudness": 0.4375,
         "Speechiness": 0.2,
         "Length": 0.22105263157894736,
         "Acousticness": 0.20202020202020202,
         "Beats Per Minute (BPM)": 0.5739644970414202,
         "Liveness": 0.2926829268292683,
         "_deepnote_index_column": 1526
        },
        {
         "Popularity": 42,
         "Danceability": 0.19767441860465115,
         "Energy": 0.7127659574468085,
         "Valence": 0.23157894736842105,
         "Loudness": 0.75,
         "Speechiness": 0.2,
         "Length": 0.7052631578947368,
         "Acousticness": 0.010101010101010102,
         "Beats Per Minute (BPM)": 0.3431952662721893,
         "Liveness": 0.0975609756097561,
         "_deepnote_index_column": 1527
        },
        {
         "Popularity": 59,
         "Danceability": 0.686046511627907,
         "Energy": 0.7553191489361702,
         "Valence": 0.968421052631579,
         "Loudness": 0.75,
         "Speechiness": 0.4,
         "Length": 0.24210526315789474,
         "Acousticness": 0.46464646464646464,
         "Beats Per Minute (BPM)": 0.5384615384615384,
         "Liveness": 0.14634146341463414,
         "_deepnote_index_column": 1528
        },
        {
         "Popularity": 69,
         "Danceability": 0.5116279069767442,
         "Energy": 0.7127659574468085,
         "Valence": 0.45263157894736844,
         "Loudness": 0.5625,
         "Speechiness": 0.4,
         "Length": 0.21754385964912282,
         "Acousticness": 0.020202020202020204,
         "Beats Per Minute (BPM)": 0.514792899408284,
         "Liveness": 0.5853658536585366,
         "_deepnote_index_column": 1529
        },
        {
         "Popularity": 46,
         "Danceability": 0.3372093023255814,
         "Energy": 0.425531914893617,
         "Valence": 0.3684210526315789,
         "Loudness": 0.5,
         "Speechiness": 0.2,
         "Length": 0.4245614035087719,
         "Acousticness": 0,
         "Beats Per Minute (BPM)": 0.25443786982248523,
         "Liveness": 0.4146341463414634,
         "_deepnote_index_column": 1530
        },
        {
         "Popularity": 60,
         "Danceability": 0.7209302325581395,
         "Energy": 0.3617021276595745,
         "Valence": 0.7894736842105263,
         "Loudness": 0.0625,
         "Speechiness": 0.2,
         "Length": 0.23859649122807017,
         "Acousticness": 0.16161616161616163,
         "Beats Per Minute (BPM)": 0.4970414201183432,
         "Liveness": 0.07317073170731707,
         "_deepnote_index_column": 1531
        },
        {
         "Popularity": 44,
         "Danceability": 0.5116279069767442,
         "Energy": 0.4148936170212766,
         "Valence": 0.3473684210526316,
         "Loudness": 0.5625,
         "Speechiness": 0.6,
         "Length": 0.3368421052631579,
         "Acousticness": 0.6161616161616161,
         "Beats Per Minute (BPM)": 0.5443786982248521,
         "Liveness": 0.926829268292683,
         "_deepnote_index_column": 1532
        },
        {
         "Popularity": 59,
         "Danceability": 0.6744186046511628,
         "Energy": 0.3617021276595745,
         "Valence": 0.5368421052631579,
         "Loudness": 0.125,
         "Speechiness": 0.6,
         "Length": 0.6877192982456141,
         "Acousticness": 0.0707070707070707,
         "Beats Per Minute (BPM)": 0.47337278106508873,
         "Liveness": 0.21951219512195122,
         "_deepnote_index_column": 1533
        },
        {
         "Popularity": 44,
         "Danceability": 0.4418604651162791,
         "Energy": 0.39361702127659576,
         "Valence": 0.45263157894736844,
         "Loudness": 0.5,
         "Speechiness": 0.2,
         "Length": 0.2736842105263158,
         "Acousticness": 0.09090909090909091,
         "Beats Per Minute (BPM)": 0.378698224852071,
         "Liveness": 0.2926829268292683,
         "_deepnote_index_column": 1534
        },
        {
         "Popularity": 60,
         "Danceability": 0.5232558139534884,
         "Energy": 0.43617021276595747,
         "Valence": 0.5263157894736842,
         "Loudness": 0.5625,
         "Speechiness": 0.2,
         "Length": 0.7228070175438597,
         "Acousticness": 0.3434343434343434,
         "Beats Per Minute (BPM)": 0.31952662721893493,
         "Liveness": 0.1951219512195122,
         "_deepnote_index_column": 1535
        },
        {
         "Popularity": 63,
         "Danceability": 0.19767441860465115,
         "Energy": 0.5319148936170213,
         "Valence": 0.4105263157894737,
         "Loudness": 0.5,
         "Speechiness": 0.6,
         "Length": 0.9368421052631579,
         "Acousticness": 0.04040404040404041,
         "Beats Per Minute (BPM)": 0.2958579881656805,
         "Liveness": 0.1951219512195122,
         "_deepnote_index_column": 1536
        },
        {
         "Popularity": 43,
         "Danceability": 0.4418604651162791,
         "Energy": 0.6063829787234043,
         "Valence": 0.15789473684210525,
         "Loudness": 0.5,
         "Speechiness": 0.2,
         "Length": 0.7052631578947368,
         "Acousticness": 0.06060606060606061,
         "Beats Per Minute (BPM)": 0.47928994082840237,
         "Liveness": 0.2926829268292683,
         "_deepnote_index_column": 1537
        },
        {
         "Popularity": 57,
         "Danceability": 0.3488372093023256,
         "Energy": 0.26595744680851063,
         "Valence": 0.15789473684210525,
         "Loudness": 0.1875,
         "Speechiness": 0.2,
         "Length": 0.45614035087719296,
         "Acousticness": 0.6363636363636364,
         "Beats Per Minute (BPM)": 0.7041420118343196,
         "Liveness": 0.1951219512195122,
         "_deepnote_index_column": 1538
        },
        {
         "Popularity": 68,
         "Danceability": 0.38372093023255816,
         "Energy": 0.9042553191489362,
         "Valence": 0.7684210526315789,
         "Loudness": 0.8125,
         "Speechiness": 1,
         "Length": 0.24912280701754386,
         "Acousticness": 0.41414141414141414,
         "Beats Per Minute (BPM)": 0.4260355029585799,
         "Liveness": 0.24390243902439024,
         "_deepnote_index_column": 1539
        },
        {
         "Popularity": 36,
         "Danceability": 0.32558139534883723,
         "Energy": 0.5319148936170213,
         "Valence": 0.22105263157894736,
         "Loudness": 0.5625,
         "Speechiness": 0.2,
         "Length": 0.5052631578947369,
         "Acousticness": 0.04040404040404041,
         "Beats Per Minute (BPM)": 0.3076923076923077,
         "Liveness": 0.7073170731707317,
         "_deepnote_index_column": 1540
        },
        {
         "Popularity": 48,
         "Danceability": 0.4186046511627907,
         "Energy": 0.3829787234042553,
         "Valence": 0.42105263157894735,
         "Loudness": 0.4375,
         "Speechiness": 0.4,
         "Length": 0.18947368421052632,
         "Acousticness": 0.050505050505050504,
         "Beats Per Minute (BPM)": 0.5443786982248521,
         "Liveness": 0.6341463414634146,
         "_deepnote_index_column": 1541
        },
        {
         "Popularity": 62,
         "Danceability": 0.5348837209302325,
         "Energy": 0.648936170212766,
         "Valence": 0.968421052631579,
         "Loudness": 0.625,
         "Speechiness": 0.8,
         "Length": 0,
         "Acousticness": 0.6565656565656566,
         "Beats Per Minute (BPM)": 0.3431952662721893,
         "Liveness": 0.2926829268292683,
         "_deepnote_index_column": 1542
        },
        {
         "Popularity": 63,
         "Danceability": 0.6976744186046512,
         "Energy": 0.1702127659574468,
         "Valence": 0.7157894736842105,
         "Loudness": 0.375,
         "Speechiness": 1,
         "Length": 0.031578947368421054,
         "Acousticness": 0.8484848484848485,
         "Beats Per Minute (BPM)": 0.33727810650887574,
         "Liveness": 0.21951219512195122,
         "_deepnote_index_column": 1543
        },
        {
         "Popularity": 74,
         "Danceability": 0.5,
         "Energy": 0.7978723404255319,
         "Valence": 0.9789473684210527,
         "Loudness": 0.5625,
         "Speechiness": 1,
         "Length": 0.15087719298245614,
         "Acousticness": 0.7474747474747475,
         "Beats Per Minute (BPM)": 0.7751479289940828,
         "Liveness": 0.7073170731707317,
         "_deepnote_index_column": 1544
        },
        {
         "Popularity": 65,
         "Danceability": 0.4069767441860465,
         "Energy": 0.22340425531914893,
         "Valence": 0.5894736842105263,
         "Loudness": 0.3125,
         "Speechiness": 0.4,
         "Length": 0.7192982456140351,
         "Acousticness": 0.5454545454545454,
         "Beats Per Minute (BPM)": 0.8106508875739645,
         "Liveness": 0.12195121951219512,
         "_deepnote_index_column": 1545
        },
        {
         "Popularity": 56,
         "Danceability": 0.45348837209302323,
         "Energy": 0.4787234042553192,
         "Valence": 0.8315789473684211,
         "Loudness": 0.5,
         "Speechiness": 0.2,
         "Length": 0.10175438596491228,
         "Acousticness": 0.7474747474747475,
         "Beats Per Minute (BPM)": 0.5680473372781065,
         "Liveness": 0.34146341463414637,
         "_deepnote_index_column": 1546
        }
       ]
      },
      "text/plain": "      Popularity  Danceability    Energy   Valence  Loudness  Speechiness  \\\n0             71      0.500000  0.265957  0.673684    0.2500          0.2   \n1             39      0.465116  0.787234  0.810526    0.4375          1.0   \n2             76      0.383721  0.968085  0.347368    0.8750          0.4   \n3             59      0.558140  0.819149  0.873684    0.8125          0.2   \n4             45      0.511628  0.436170  0.105263    0.5625          0.0   \n...          ...           ...       ...       ...       ...          ...   \n1542          62      0.534884  0.648936  0.968421    0.6250          0.8   \n1543          63      0.697674  0.170213  0.715789    0.3750          1.0   \n1544          74      0.500000  0.797872  0.978947    0.5625          1.0   \n1545          65      0.406977  0.223404  0.589474    0.3125          0.4   \n1546          56      0.453488  0.478723  0.831579    0.5000          0.2   \n\n        Length  Acousticness  Beats Per Minute (BPM)  Liveness  \n0     0.287719      0.949495                0.710059  0.219512  \n1     0.308772      0.171717                0.579882  0.365854  \n2     0.526316      0.000000                0.804734  0.024390  \n3     0.480702      0.010101                0.408284  0.195122  \n4     0.449123      0.000000                0.366864  0.292683  \n...        ...           ...                     ...       ...  \n1542  0.000000      0.656566                0.343195  0.292683  \n1543  0.031579      0.848485                0.337278  0.219512  \n1544  0.150877      0.747475                0.775148  0.707317  \n1545  0.719298      0.545455                0.810651  0.121951  \n1546  0.101754      0.747475                0.568047  0.341463  \n\n[1547 rows x 10 columns]",
      "text/html": "<div>\n<style scoped>\n    .dataframe tbody tr th:only-of-type {\n        vertical-align: middle;\n    }\n\n    .dataframe tbody tr th {\n        vertical-align: top;\n    }\n\n    .dataframe thead th {\n        text-align: right;\n    }\n</style>\n<table border=\"1\" class=\"dataframe\">\n  <thead>\n    <tr style=\"text-align: right;\">\n      <th></th>\n      <th>Popularity</th>\n      <th>Danceability</th>\n      <th>Energy</th>\n      <th>Valence</th>\n      <th>Loudness</th>\n      <th>Speechiness</th>\n      <th>Length</th>\n      <th>Acousticness</th>\n      <th>Beats Per Minute (BPM)</th>\n      <th>Liveness</th>\n    </tr>\n  </thead>\n  <tbody>\n    <tr>\n      <th>0</th>\n      <td>71</td>\n      <td>0.500000</td>\n      <td>0.265957</td>\n      <td>0.673684</td>\n      <td>0.2500</td>\n      <td>0.2</td>\n      <td>0.287719</td>\n      <td>0.949495</td>\n      <td>0.710059</td>\n      <td>0.219512</td>\n    </tr>\n    <tr>\n      <th>1</th>\n      <td>39</td>\n      <td>0.465116</td>\n      <td>0.787234</td>\n      <td>0.810526</td>\n      <td>0.4375</td>\n      <td>1.0</td>\n      <td>0.308772</td>\n      <td>0.171717</td>\n      <td>0.579882</td>\n      <td>0.365854</td>\n    </tr>\n    <tr>\n      <th>2</th>\n      <td>76</td>\n      <td>0.383721</td>\n      <td>0.968085</td>\n      <td>0.347368</td>\n      <td>0.8750</td>\n      <td>0.4</td>\n      <td>0.526316</td>\n      <td>0.000000</td>\n      <td>0.804734</td>\n      <td>0.024390</td>\n    </tr>\n    <tr>\n      <th>3</th>\n      <td>59</td>\n      <td>0.558140</td>\n      <td>0.819149</td>\n      <td>0.873684</td>\n      <td>0.8125</td>\n      <td>0.2</td>\n      <td>0.480702</td>\n      <td>0.010101</td>\n      <td>0.408284</td>\n      <td>0.195122</td>\n    </tr>\n    <tr>\n      <th>4</th>\n      <td>45</td>\n      <td>0.511628</td>\n      <td>0.436170</td>\n      <td>0.105263</td>\n      <td>0.5625</td>\n      <td>0.0</td>\n      <td>0.449123</td>\n      <td>0.000000</td>\n      <td>0.366864</td>\n      <td>0.292683</td>\n    </tr>\n    <tr>\n      <th>...</th>\n      <td>...</td>\n      <td>...</td>\n      <td>...</td>\n      <td>...</td>\n      <td>...</td>\n      <td>...</td>\n      <td>...</td>\n      <td>...</td>\n      <td>...</td>\n      <td>...</td>\n    </tr>\n    <tr>\n      <th>1542</th>\n      <td>62</td>\n      <td>0.534884</td>\n      <td>0.648936</td>\n      <td>0.968421</td>\n      <td>0.6250</td>\n      <td>0.8</td>\n      <td>0.000000</td>\n      <td>0.656566</td>\n      <td>0.343195</td>\n      <td>0.292683</td>\n    </tr>\n    <tr>\n      <th>1543</th>\n      <td>63</td>\n      <td>0.697674</td>\n      <td>0.170213</td>\n      <td>0.715789</td>\n      <td>0.3750</td>\n      <td>1.0</td>\n      <td>0.031579</td>\n      <td>0.848485</td>\n      <td>0.337278</td>\n      <td>0.219512</td>\n    </tr>\n    <tr>\n      <th>1544</th>\n      <td>74</td>\n      <td>0.500000</td>\n      <td>0.797872</td>\n      <td>0.978947</td>\n      <td>0.5625</td>\n      <td>1.0</td>\n      <td>0.150877</td>\n      <td>0.747475</td>\n      <td>0.775148</td>\n      <td>0.707317</td>\n    </tr>\n    <tr>\n      <th>1545</th>\n      <td>65</td>\n      <td>0.406977</td>\n      <td>0.223404</td>\n      <td>0.589474</td>\n      <td>0.3125</td>\n      <td>0.4</td>\n      <td>0.719298</td>\n      <td>0.545455</td>\n      <td>0.810651</td>\n      <td>0.121951</td>\n    </tr>\n    <tr>\n      <th>1546</th>\n      <td>56</td>\n      <td>0.453488</td>\n      <td>0.478723</td>\n      <td>0.831579</td>\n      <td>0.5000</td>\n      <td>0.2</td>\n      <td>0.101754</td>\n      <td>0.747475</td>\n      <td>0.568047</td>\n      <td>0.341463</td>\n    </tr>\n  </tbody>\n</table>\n<p>1547 rows × 10 columns</p>\n</div>"
     },
     "metadata": {}
    }
   ],
   "execution_count": 6
  },
  {
   "cell_type": "markdown",
   "source": "# Using sklearn.neighbors.KNeighborsClassifier\n\nWe will be using SKLearn's K-Neighbors Classifier to predict to which popularity level a song will be placed into. Because our target variable cannot be continuous, we will bin popularity into three ranges",
   "metadata": {
    "cell_id": "00011-1d7b61e4-46d3-4274-929f-c28b5861a365",
    "deepnote_cell_type": "markdown"
   }
  },
  {
   "cell_type": "code",
   "metadata": {
    "tags": [],
    "deepnote_to_be_reexecuted": false,
    "source_hash": "e265df8d",
    "execution_start": 1638245905378,
    "execution_millis": 36,
    "cell_id": "00012-5252dfa2-703d-44db-b5e2-39f77c360f62",
    "deepnote_output_heights": [
     249
    ],
    "deepnote_cell_type": "code"
   },
   "source": "#Bin the songs by popularity into 3 sections\npd.cut(df['Popularity'], bins=3)",
   "outputs": [
    {
     "output_type": "execute_result",
     "execution_count": 7,
     "data": {
      "text/plain": "0         (69.0, 98.0]\n1       (10.913, 40.0]\n2         (69.0, 98.0]\n3         (40.0, 69.0]\n4         (40.0, 69.0]\n             ...      \n1542      (40.0, 69.0]\n1543      (40.0, 69.0]\n1544      (69.0, 98.0]\n1545      (40.0, 69.0]\n1546      (40.0, 69.0]\nName: Popularity, Length: 1547, dtype: category\nCategories (3, interval[float64]): [(10.913, 40.0] < (40.0, 69.0] < (69.0, 98.0]]"
     },
     "metadata": {}
    }
   ],
   "execution_count": 7
  },
  {
   "cell_type": "code",
   "metadata": {
    "tags": [],
    "deepnote_to_be_reexecuted": false,
    "source_hash": "349b4c17",
    "execution_start": 1638246031349,
    "execution_millis": 916,
    "cell_id": "00013-71781059-79d5-4b80-910e-5f3050efb843",
    "deepnote_output_heights": [
     78
    ],
    "deepnote_cell_type": "code"
   },
   "source": "#assign the bins labels of \"low\", \"medium\", and \"high\"\npd.cut(df['Popularity'], bins=3, labels = [\"low\", \"medium\", \"high\"]).value_counts()\n",
   "outputs": [
    {
     "output_type": "error",
     "ename": "TypeError",
     "evalue": "min() takes 1 positional argument but 2 were given",
     "traceback": [
      "\u001b[0;31m---------------------------------------------------------------------------\u001b[0m",
      "\u001b[0;31mTypeError\u001b[0m                                 Traceback (most recent call last)",
      "\u001b[0;32m<ipython-input-28-18fcd70b36e6>\u001b[0m in \u001b[0;36m<module>\u001b[0;34m\u001b[0m\n\u001b[1;32m      1\u001b[0m \u001b[0;31m#assign the bins labels of \"low\", \"medium\", and \"high\"\u001b[0m\u001b[0;34m\u001b[0m\u001b[0;34m\u001b[0m\u001b[0;34m\u001b[0m\u001b[0m\n\u001b[0;32m----> 2\u001b[0;31m \u001b[0mpd\u001b[0m\u001b[0;34m.\u001b[0m\u001b[0mcut\u001b[0m\u001b[0;34m(\u001b[0m\u001b[0mdf\u001b[0m\u001b[0;34m[\u001b[0m\u001b[0;34m'Popularity'\u001b[0m\u001b[0;34m]\u001b[0m\u001b[0;34m,\u001b[0m \u001b[0mbins\u001b[0m\u001b[0;34m=\u001b[0m\u001b[0;36m3\u001b[0m\u001b[0;34m,\u001b[0m \u001b[0mlabels\u001b[0m \u001b[0;34m=\u001b[0m \u001b[0;34m[\u001b[0m\u001b[0;34m\"low\"\u001b[0m\u001b[0;34m,\u001b[0m \u001b[0;34m\"medium\"\u001b[0m\u001b[0;34m,\u001b[0m \u001b[0;34m\"high\"\u001b[0m\u001b[0;34m]\u001b[0m\u001b[0;34m)\u001b[0m\u001b[0;34m.\u001b[0m\u001b[0mvalue_counts\u001b[0m\u001b[0;34m(\u001b[0m\u001b[0;34m)\u001b[0m\u001b[0;34m\u001b[0m\u001b[0;34m\u001b[0m\u001b[0m\n\u001b[0m",
      "\u001b[0;32m/shared-libs/python3.7/py/lib/python3.7/site-packages/pandas/core/reshape/tile.py\u001b[0m in \u001b[0;36mcut\u001b[0;34m(x, bins, right, labels, retbins, precision, include_lowest, duplicates, ordered)\u001b[0m\n\u001b[1;32m    236\u001b[0m             \u001b[0;32mraise\u001b[0m \u001b[0mValueError\u001b[0m\u001b[0;34m(\u001b[0m\u001b[0;34m\"Cannot cut empty array\"\u001b[0m\u001b[0;34m)\u001b[0m\u001b[0;34m\u001b[0m\u001b[0;34m\u001b[0m\u001b[0m\n\u001b[1;32m    237\u001b[0m \u001b[0;34m\u001b[0m\u001b[0m\n\u001b[0;32m--> 238\u001b[0;31m         \u001b[0mrng\u001b[0m \u001b[0;34m=\u001b[0m \u001b[0;34m(\u001b[0m\u001b[0mnanops\u001b[0m\u001b[0;34m.\u001b[0m\u001b[0mnanmin\u001b[0m\u001b[0;34m(\u001b[0m\u001b[0mx\u001b[0m\u001b[0;34m)\u001b[0m\u001b[0;34m,\u001b[0m \u001b[0mnanops\u001b[0m\u001b[0;34m.\u001b[0m\u001b[0mnanmax\u001b[0m\u001b[0;34m(\u001b[0m\u001b[0mx\u001b[0m\u001b[0;34m)\u001b[0m\u001b[0;34m)\u001b[0m\u001b[0;34m\u001b[0m\u001b[0;34m\u001b[0m\u001b[0m\n\u001b[0m\u001b[1;32m    239\u001b[0m         \u001b[0mmn\u001b[0m\u001b[0;34m,\u001b[0m \u001b[0mmx\u001b[0m \u001b[0;34m=\u001b[0m \u001b[0;34m[\u001b[0m\u001b[0mmi\u001b[0m \u001b[0;34m+\u001b[0m \u001b[0;36m0.0\u001b[0m \u001b[0;32mfor\u001b[0m \u001b[0mmi\u001b[0m \u001b[0;32min\u001b[0m \u001b[0mrng\u001b[0m\u001b[0;34m]\u001b[0m\u001b[0;34m\u001b[0m\u001b[0;34m\u001b[0m\u001b[0m\n\u001b[1;32m    240\u001b[0m \u001b[0;34m\u001b[0m\u001b[0m\n",
      "\u001b[0;32m/shared-libs/python3.7/py/lib/python3.7/site-packages/pandas/core/nanops.py\u001b[0m in \u001b[0;36mf\u001b[0;34m(values, axis, skipna, **kwds)\u001b[0m\n\u001b[1;32m    133\u001b[0m                     \u001b[0mresult\u001b[0m \u001b[0;34m=\u001b[0m \u001b[0malt\u001b[0m\u001b[0;34m(\u001b[0m\u001b[0mvalues\u001b[0m\u001b[0;34m,\u001b[0m \u001b[0maxis\u001b[0m\u001b[0;34m=\u001b[0m\u001b[0maxis\u001b[0m\u001b[0;34m,\u001b[0m \u001b[0mskipna\u001b[0m\u001b[0;34m=\u001b[0m\u001b[0mskipna\u001b[0m\u001b[0;34m,\u001b[0m \u001b[0;34m**\u001b[0m\u001b[0mkwds\u001b[0m\u001b[0;34m)\u001b[0m\u001b[0;34m\u001b[0m\u001b[0;34m\u001b[0m\u001b[0m\n\u001b[1;32m    134\u001b[0m             \u001b[0;32melse\u001b[0m\u001b[0;34m:\u001b[0m\u001b[0;34m\u001b[0m\u001b[0;34m\u001b[0m\u001b[0m\n\u001b[0;32m--> 135\u001b[0;31m                 \u001b[0mresult\u001b[0m \u001b[0;34m=\u001b[0m \u001b[0malt\u001b[0m\u001b[0;34m(\u001b[0m\u001b[0mvalues\u001b[0m\u001b[0;34m,\u001b[0m \u001b[0maxis\u001b[0m\u001b[0;34m=\u001b[0m\u001b[0maxis\u001b[0m\u001b[0;34m,\u001b[0m \u001b[0mskipna\u001b[0m\u001b[0;34m=\u001b[0m\u001b[0mskipna\u001b[0m\u001b[0;34m,\u001b[0m \u001b[0;34m**\u001b[0m\u001b[0mkwds\u001b[0m\u001b[0;34m)\u001b[0m\u001b[0;34m\u001b[0m\u001b[0;34m\u001b[0m\u001b[0m\n\u001b[0m\u001b[1;32m    136\u001b[0m \u001b[0;34m\u001b[0m\u001b[0m\n\u001b[1;32m    137\u001b[0m             \u001b[0;32mreturn\u001b[0m \u001b[0mresult\u001b[0m\u001b[0;34m\u001b[0m\u001b[0;34m\u001b[0m\u001b[0m\n",
      "\u001b[0;32m/shared-libs/python3.7/py/lib/python3.7/site-packages/pandas/core/nanops.py\u001b[0m in \u001b[0;36mnew_func\u001b[0;34m(values, axis, skipna, mask, **kwargs)\u001b[0m\n\u001b[1;32m    392\u001b[0m             \u001b[0mmask\u001b[0m \u001b[0;34m=\u001b[0m \u001b[0misna\u001b[0m\u001b[0;34m(\u001b[0m\u001b[0mvalues\u001b[0m\u001b[0;34m)\u001b[0m\u001b[0;34m\u001b[0m\u001b[0;34m\u001b[0m\u001b[0m\n\u001b[1;32m    393\u001b[0m \u001b[0;34m\u001b[0m\u001b[0m\n\u001b[0;32m--> 394\u001b[0;31m         \u001b[0mresult\u001b[0m \u001b[0;34m=\u001b[0m \u001b[0mfunc\u001b[0m\u001b[0;34m(\u001b[0m\u001b[0mvalues\u001b[0m\u001b[0;34m,\u001b[0m \u001b[0maxis\u001b[0m\u001b[0;34m=\u001b[0m\u001b[0maxis\u001b[0m\u001b[0;34m,\u001b[0m \u001b[0mskipna\u001b[0m\u001b[0;34m=\u001b[0m\u001b[0mskipna\u001b[0m\u001b[0;34m,\u001b[0m \u001b[0mmask\u001b[0m\u001b[0;34m=\u001b[0m\u001b[0mmask\u001b[0m\u001b[0;34m,\u001b[0m \u001b[0;34m**\u001b[0m\u001b[0mkwargs\u001b[0m\u001b[0;34m)\u001b[0m\u001b[0;34m\u001b[0m\u001b[0;34m\u001b[0m\u001b[0m\n\u001b[0m\u001b[1;32m    395\u001b[0m \u001b[0;34m\u001b[0m\u001b[0m\n\u001b[1;32m    396\u001b[0m         \u001b[0;32mif\u001b[0m \u001b[0mdatetimelike\u001b[0m\u001b[0;34m:\u001b[0m\u001b[0;34m\u001b[0m\u001b[0;34m\u001b[0m\u001b[0m\n",
      "\u001b[0;32m/shared-libs/python3.7/py/lib/python3.7/site-packages/pandas/core/nanops.py\u001b[0m in \u001b[0;36mreduction\u001b[0;34m(values, axis, skipna, mask)\u001b[0m\n\u001b[1;32m    975\u001b[0m                 \u001b[0mresult\u001b[0m \u001b[0;34m=\u001b[0m \u001b[0mnp\u001b[0m\u001b[0;34m.\u001b[0m\u001b[0mnan\u001b[0m\u001b[0;34m\u001b[0m\u001b[0;34m\u001b[0m\u001b[0m\n\u001b[1;32m    976\u001b[0m         \u001b[0;32melse\u001b[0m\u001b[0;34m:\u001b[0m\u001b[0;34m\u001b[0m\u001b[0;34m\u001b[0m\u001b[0m\n\u001b[0;32m--> 977\u001b[0;31m             \u001b[0mresult\u001b[0m \u001b[0;34m=\u001b[0m \u001b[0mgetattr\u001b[0m\u001b[0;34m(\u001b[0m\u001b[0mvalues\u001b[0m\u001b[0;34m,\u001b[0m \u001b[0mmeth\u001b[0m\u001b[0;34m)\u001b[0m\u001b[0;34m(\u001b[0m\u001b[0maxis\u001b[0m\u001b[0;34m)\u001b[0m\u001b[0;34m\u001b[0m\u001b[0;34m\u001b[0m\u001b[0m\n\u001b[0m\u001b[1;32m    978\u001b[0m \u001b[0;34m\u001b[0m\u001b[0m\n\u001b[1;32m    979\u001b[0m         \u001b[0mresult\u001b[0m \u001b[0;34m=\u001b[0m \u001b[0m_maybe_null_out\u001b[0m\u001b[0;34m(\u001b[0m\u001b[0mresult\u001b[0m\u001b[0;34m,\u001b[0m \u001b[0maxis\u001b[0m\u001b[0;34m,\u001b[0m \u001b[0mmask\u001b[0m\u001b[0;34m,\u001b[0m \u001b[0mvalues\u001b[0m\u001b[0;34m.\u001b[0m\u001b[0mshape\u001b[0m\u001b[0;34m)\u001b[0m\u001b[0;34m\u001b[0m\u001b[0;34m\u001b[0m\u001b[0m\n",
      "\u001b[0;32m/shared-libs/python3.7/py/lib/python3.7/site-packages/pandas/util/_decorators.py\u001b[0m in \u001b[0;36mwrapper\u001b[0;34m(*args, **kwargs)\u001b[0m\n\u001b[1;32m    197\u001b[0m                 \u001b[0;32melse\u001b[0m\u001b[0;34m:\u001b[0m\u001b[0;34m\u001b[0m\u001b[0;34m\u001b[0m\u001b[0m\n\u001b[1;32m    198\u001b[0m                     \u001b[0mkwargs\u001b[0m\u001b[0;34m[\u001b[0m\u001b[0mnew_arg_name\u001b[0m\u001b[0;34m]\u001b[0m \u001b[0;34m=\u001b[0m \u001b[0mnew_arg_value\u001b[0m\u001b[0;34m\u001b[0m\u001b[0;34m\u001b[0m\u001b[0m\n\u001b[0;32m--> 199\u001b[0;31m             \u001b[0;32mreturn\u001b[0m \u001b[0mfunc\u001b[0m\u001b[0;34m(\u001b[0m\u001b[0;34m*\u001b[0m\u001b[0margs\u001b[0m\u001b[0;34m,\u001b[0m \u001b[0;34m**\u001b[0m\u001b[0mkwargs\u001b[0m\u001b[0;34m)\u001b[0m\u001b[0;34m\u001b[0m\u001b[0;34m\u001b[0m\u001b[0m\n\u001b[0m\u001b[1;32m    200\u001b[0m \u001b[0;34m\u001b[0m\u001b[0m\n\u001b[1;32m    201\u001b[0m         \u001b[0;32mreturn\u001b[0m \u001b[0mcast\u001b[0m\u001b[0;34m(\u001b[0m\u001b[0mF\u001b[0m\u001b[0;34m,\u001b[0m \u001b[0mwrapper\u001b[0m\u001b[0;34m)\u001b[0m\u001b[0;34m\u001b[0m\u001b[0;34m\u001b[0m\u001b[0m\n",
      "\u001b[0;31mTypeError\u001b[0m: min() takes 1 positional argument but 2 were given"
     ]
    }
   ],
   "execution_count": 28
  },
  {
   "cell_type": "code",
   "metadata": {
    "tags": [],
    "cell_id": "00014-306cc07c-986c-480b-af8d-e3d959df2091",
    "deepnote_to_be_reexecuted": false,
    "source_hash": "903753ad",
    "execution_start": 1638245905507,
    "execution_millis": 5,
    "deepnote_cell_type": "code"
   },
   "source": "df['Popularity'] = pd.cut(df['Popularity'], bins=3, labels = [\"low\", \"medium\", \"high\"], right = True)",
   "outputs": [
    {
     "name": "stderr",
     "text": "/shared-libs/python3.7/py-core/lib/python3.7/site-packages/ipykernel_launcher.py:1: SettingWithCopyWarning: \nA value is trying to be set on a copy of a slice from a DataFrame.\nTry using .loc[row_indexer,col_indexer] = value instead\n\nSee the caveats in the documentation: https://pandas.pydata.org/pandas-docs/stable/user_guide/indexing.html#returning-a-view-versus-a-copy\n  \"\"\"Entry point for launching an IPython kernel.\n",
     "output_type": "stream"
    }
   ],
   "execution_count": 9
  },
  {
   "cell_type": "code",
   "metadata": {
    "tags": [],
    "cell_id": "00014-abe72100-591b-4e32-b8b1-18366f0169f4",
    "deepnote_to_be_reexecuted": false,
    "source_hash": "d1f7c95a",
    "execution_start": 1638245905508,
    "execution_millis": 86,
    "deepnote_cell_type": "code"
   },
   "source": "#Equally bin 169\n#randomly sample 169 from data where df['Popularity'] == \"medium\"\ndf_medium = df[df['Popularity'] == 'medium'].sample(169)\ndf_medium",
   "outputs": [
    {
     "output_type": "execute_result",
     "execution_count": 10,
     "data": {
      "application/vnd.deepnote.dataframe.v2+json": {
       "row_count": 169,
       "column_count": 10,
       "columns": [
        {
         "name": "Popularity",
         "dtype": "category",
         "stats": {
          "unique_count": 1,
          "nan_count": 0,
          "categories": [
           {
            "name": "medium",
            "count": 169
           }
          ]
         }
        },
        {
         "name": "Danceability",
         "dtype": "float64",
         "stats": {
          "unique_count": 61,
          "nan_count": 0,
          "min": "0.023255813953488372",
          "max": "0.9069767441860465",
          "histogram": [
           {
            "bin_start": 0.023255813953488372,
            "bin_end": 0.11162790697674417,
            "count": 6
           },
           {
            "bin_start": 0.11162790697674417,
            "bin_end": 0.19999999999999996,
            "count": 4
           },
           {
            "bin_start": 0.19999999999999996,
            "bin_end": 0.2883720930232558,
            "count": 6
           },
           {
            "bin_start": 0.2883720930232558,
            "bin_end": 0.37674418604651155,
            "count": 20
           },
           {
            "bin_start": 0.37674418604651155,
            "bin_end": 0.4651162790697673,
            "count": 21
           },
           {
            "bin_start": 0.4651162790697673,
            "bin_end": 0.5534883720930233,
            "count": 34
           },
           {
            "bin_start": 0.5534883720930233,
            "bin_end": 0.641860465116279,
            "count": 40
           },
           {
            "bin_start": 0.641860465116279,
            "bin_end": 0.7302325581395348,
            "count": 23
           },
           {
            "bin_start": 0.7302325581395348,
            "bin_end": 0.8186046511627906,
            "count": 11
           },
           {
            "bin_start": 0.8186046511627906,
            "bin_end": 0.9069767441860465,
            "count": 4
           }
          ]
         }
        },
        {
         "name": "Energy",
         "dtype": "float64",
         "stats": {
          "unique_count": 73,
          "nan_count": 0,
          "min": "0.031914893617021274",
          "max": "0.9787234042553191",
          "histogram": [
           {
            "bin_start": 0.031914893617021274,
            "bin_end": 0.12659574468085105,
            "count": 3
           },
           {
            "bin_start": 0.12659574468085105,
            "bin_end": 0.22127659574468084,
            "count": 9
           },
           {
            "bin_start": 0.22127659574468084,
            "bin_end": 0.3159574468085106,
            "count": 17
           },
           {
            "bin_start": 0.3159574468085106,
            "bin_end": 0.4106382978723404,
            "count": 22
           },
           {
            "bin_start": 0.4106382978723404,
            "bin_end": 0.5053191489361702,
            "count": 12
           },
           {
            "bin_start": 0.5053191489361702,
            "bin_end": 0.6,
            "count": 21
           },
           {
            "bin_start": 0.6,
            "bin_end": 0.6946808510638298,
            "count": 23
           },
           {
            "bin_start": 0.6946808510638298,
            "bin_end": 0.7893617021276595,
            "count": 23
           },
           {
            "bin_start": 0.7893617021276595,
            "bin_end": 0.8840425531914893,
            "count": 29
           },
           {
            "bin_start": 0.8840425531914893,
            "bin_end": 0.9787234042553191,
            "count": 10
           }
          ]
         }
        },
        {
         "name": "Valence",
         "dtype": "float64",
         "stats": {
          "unique_count": 79,
          "nan_count": 0,
          "min": "0.0",
          "max": "0.9894736842105263",
          "histogram": [
           {
            "bin_start": 0,
            "bin_end": 0.09894736842105263,
            "count": 10
           },
           {
            "bin_start": 0.09894736842105263,
            "bin_end": 0.19789473684210526,
            "count": 16
           },
           {
            "bin_start": 0.19789473684210526,
            "bin_end": 0.2968421052631579,
            "count": 22
           },
           {
            "bin_start": 0.2968421052631579,
            "bin_end": 0.3957894736842105,
            "count": 14
           },
           {
            "bin_start": 0.3957894736842105,
            "bin_end": 0.49473684210526314,
            "count": 19
           },
           {
            "bin_start": 0.49473684210526314,
            "bin_end": 0.5936842105263158,
            "count": 17
           },
           {
            "bin_start": 0.5936842105263158,
            "bin_end": 0.6926315789473684,
            "count": 21
           },
           {
            "bin_start": 0.6926315789473684,
            "bin_end": 0.791578947368421,
            "count": 18
           },
           {
            "bin_start": 0.791578947368421,
            "bin_end": 0.8905263157894737,
            "count": 15
           },
           {
            "bin_start": 0.8905263157894737,
            "bin_end": 0.9894736842105263,
            "count": 17
           }
          ]
         }
        },
        {
         "name": "Loudness",
         "dtype": "float64",
         "stats": {
          "unique_count": 15,
          "nan_count": 0,
          "min": "0.0",
          "max": "0.875",
          "histogram": [
           {
            "bin_start": 0,
            "bin_end": 0.0875,
            "count": 2
           },
           {
            "bin_start": 0.0875,
            "bin_end": 0.175,
            "count": 4
           },
           {
            "bin_start": 0.175,
            "bin_end": 0.26249999999999996,
            "count": 16
           },
           {
            "bin_start": 0.26249999999999996,
            "bin_end": 0.35,
            "count": 16
           },
           {
            "bin_start": 0.35,
            "bin_end": 0.4375,
            "count": 12
           },
           {
            "bin_start": 0.4375,
            "bin_end": 0.5249999999999999,
            "count": 29
           },
           {
            "bin_start": 0.5249999999999999,
            "bin_end": 0.6124999999999999,
            "count": 14
           },
           {
            "bin_start": 0.6124999999999999,
            "bin_end": 0.7,
            "count": 43
           },
           {
            "bin_start": 0.7,
            "bin_end": 0.7875,
            "count": 14
           },
           {
            "bin_start": 0.7875,
            "bin_end": 0.875,
            "count": 19
           }
          ]
         }
        },
        {
         "name": "Speechiness",
         "dtype": "float64",
         "stats": {
          "unique_count": 6,
          "nan_count": 0,
          "min": "0.0",
          "max": "1.0",
          "histogram": [
           {
            "bin_start": 0,
            "bin_end": 0.1,
            "count": 6
           },
           {
            "bin_start": 0.1,
            "bin_end": 0.2,
            "count": 0
           },
           {
            "bin_start": 0.2,
            "bin_end": 0.30000000000000004,
            "count": 93
           },
           {
            "bin_start": 0.30000000000000004,
            "bin_end": 0.4,
            "count": 0
           },
           {
            "bin_start": 0.4,
            "bin_end": 0.5,
            "count": 40
           },
           {
            "bin_start": 0.5,
            "bin_end": 0.6000000000000001,
            "count": 17
           },
           {
            "bin_start": 0.6000000000000001,
            "bin_end": 0.7000000000000001,
            "count": 0
           },
           {
            "bin_start": 0.7000000000000001,
            "bin_end": 0.8,
            "count": 0
           },
           {
            "bin_start": 0.8,
            "bin_end": 0.9,
            "count": 8
           },
           {
            "bin_start": 0.9,
            "bin_end": 1,
            "count": 5
           }
          ]
         }
        },
        {
         "name": "Length",
         "dtype": "float64",
         "stats": {
          "unique_count": 121,
          "nan_count": 0,
          "min": "0.021052631578947368",
          "max": "0.9649122807017544",
          "histogram": [
           {
            "bin_start": 0.021052631578947368,
            "bin_end": 0.11543859649122808,
            "count": 4
           },
           {
            "bin_start": 0.11543859649122808,
            "bin_end": 0.2098245614035088,
            "count": 8
           },
           {
            "bin_start": 0.2098245614035088,
            "bin_end": 0.30421052631578954,
            "count": 22
           },
           {
            "bin_start": 0.30421052631578954,
            "bin_end": 0.3985964912280702,
            "count": 33
           },
           {
            "bin_start": 0.3985964912280702,
            "bin_end": 0.4929824561403509,
            "count": 33
           },
           {
            "bin_start": 0.4929824561403509,
            "bin_end": 0.5873684210526317,
            "count": 26
           },
           {
            "bin_start": 0.5873684210526317,
            "bin_end": 0.6817543859649123,
            "count": 19
           },
           {
            "bin_start": 0.6817543859649123,
            "bin_end": 0.776140350877193,
            "count": 8
           },
           {
            "bin_start": 0.776140350877193,
            "bin_end": 0.8705263157894737,
            "count": 11
           },
           {
            "bin_start": 0.8705263157894737,
            "bin_end": 0.9649122807017544,
            "count": 5
           }
          ]
         }
        },
        {
         "name": "Acousticness",
         "dtype": "float64",
         "stats": {
          "unique_count": 68,
          "nan_count": 0,
          "min": "0.0",
          "max": "0.98989898989899",
          "histogram": [
           {
            "bin_start": 0,
            "bin_end": 0.09898989898989899,
            "count": 70
           },
           {
            "bin_start": 0.09898989898989899,
            "bin_end": 0.19797979797979798,
            "count": 20
           },
           {
            "bin_start": 0.19797979797979798,
            "bin_end": 0.296969696969697,
            "count": 22
           },
           {
            "bin_start": 0.296969696969697,
            "bin_end": 0.39595959595959596,
            "count": 9
           },
           {
            "bin_start": 0.39595959595959596,
            "bin_end": 0.4949494949494949,
            "count": 9
           },
           {
            "bin_start": 0.4949494949494949,
            "bin_end": 0.593939393939394,
            "count": 7
           },
           {
            "bin_start": 0.593939393939394,
            "bin_end": 0.692929292929293,
            "count": 8
           },
           {
            "bin_start": 0.692929292929293,
            "bin_end": 0.7919191919191919,
            "count": 10
           },
           {
            "bin_start": 0.7919191919191919,
            "bin_end": 0.8909090909090909,
            "count": 7
           },
           {
            "bin_start": 0.8909090909090909,
            "bin_end": 0.98989898989899,
            "count": 7
           }
          ]
         }
        },
        {
         "name": "Beats Per Minute (BPM)",
         "dtype": "float64",
         "stats": {
          "unique_count": 79,
          "nan_count": 0,
          "min": "0.17751479289940827",
          "max": "0.9881656804733728",
          "histogram": [
           {
            "bin_start": 0.17751479289940827,
            "bin_end": 0.25857988165680473,
            "count": 4
           },
           {
            "bin_start": 0.25857988165680473,
            "bin_end": 0.33964497041420116,
            "count": 18
           },
           {
            "bin_start": 0.33964497041420116,
            "bin_end": 0.42071005917159765,
            "count": 29
           },
           {
            "bin_start": 0.42071005917159765,
            "bin_end": 0.5017751479289941,
            "count": 37
           },
           {
            "bin_start": 0.5017751479289941,
            "bin_end": 0.5828402366863906,
            "count": 41
           },
           {
            "bin_start": 0.5828402366863906,
            "bin_end": 0.663905325443787,
            "count": 21
           },
           {
            "bin_start": 0.663905325443787,
            "bin_end": 0.7449704142011835,
            "count": 5
           },
           {
            "bin_start": 0.7449704142011835,
            "bin_end": 0.82603550295858,
            "count": 8
           },
           {
            "bin_start": 0.82603550295858,
            "bin_end": 0.9071005917159765,
            "count": 5
           },
           {
            "bin_start": 0.9071005917159765,
            "bin_end": 0.9881656804733728,
            "count": 1
           }
          ]
         }
        },
        {
         "name": "Liveness",
         "dtype": "float64",
         "stats": {
          "unique_count": 32,
          "nan_count": 0,
          "min": "0.07317073170731707",
          "max": "1.0",
          "histogram": [
           {
            "bin_start": 0.07317073170731707,
            "bin_end": 0.16585365853658535,
            "count": 40
           },
           {
            "bin_start": 0.16585365853658535,
            "bin_end": 0.25853658536585367,
            "count": 55
           },
           {
            "bin_start": 0.25853658536585367,
            "bin_end": 0.351219512195122,
            "count": 24
           },
           {
            "bin_start": 0.351219512195122,
            "bin_end": 0.44390243902439025,
            "count": 8
           },
           {
            "bin_start": 0.44390243902439025,
            "bin_end": 0.5365853658536585,
            "count": 12
           },
           {
            "bin_start": 0.5365853658536585,
            "bin_end": 0.6292682926829268,
            "count": 9
           },
           {
            "bin_start": 0.6292682926829268,
            "bin_end": 0.7219512195121951,
            "count": 7
           },
           {
            "bin_start": 0.7219512195121951,
            "bin_end": 0.8146341463414634,
            "count": 5
           },
           {
            "bin_start": 0.8146341463414634,
            "bin_end": 0.9073170731707316,
            "count": 7
           },
           {
            "bin_start": 0.9073170731707316,
            "bin_end": 1,
            "count": 2
           }
          ]
         }
        },
        {
         "name": "_deepnote_index_column",
         "dtype": "int64"
        }
       ],
       "rows_top": [
        {
         "Popularity": "medium",
         "Danceability": 0.6744186046511628,
         "Energy": 0.8723404255319149,
         "Valence": 0,
         "Loudness": 0.75,
         "Speechiness": 0.4,
         "Length": 0.6491228070175439,
         "Acousticness": 0,
         "Beats Per Minute (BPM)": 0.5384615384615384,
         "Liveness": 0.8536585365853658,
         "_deepnote_index_column": 427
        },
        {
         "Popularity": "medium",
         "Danceability": 0.4186046511627907,
         "Energy": 0.2553191489361702,
         "Valence": 0.23157894736842105,
         "Loudness": 0.5,
         "Speechiness": 0.2,
         "Length": 0.2736842105263158,
         "Acousticness": 0.8282828282828283,
         "Beats Per Minute (BPM)": 0.40236686390532544,
         "Liveness": 0.3902439024390244,
         "_deepnote_index_column": 770
        },
        {
         "Popularity": "medium",
         "Danceability": 0.6162790697674418,
         "Energy": 0.2978723404255319,
         "Valence": 0.45263157894736844,
         "Loudness": 0.5625,
         "Speechiness": 0.2,
         "Length": 0.2596491228070175,
         "Acousticness": 0.7474747474747475,
         "Beats Per Minute (BPM)": 0.4319526627218935,
         "Liveness": 0.21951219512195122,
         "_deepnote_index_column": 128
        },
        {
         "Popularity": "medium",
         "Danceability": 0.3023255813953488,
         "Energy": 0.776595744680851,
         "Valence": 0.5684210526315789,
         "Loudness": 0.625,
         "Speechiness": 0.4,
         "Length": 0.4105263157894737,
         "Acousticness": 0.010101010101010102,
         "Beats Per Minute (BPM)": 0.2958579881656805,
         "Liveness": 0.8780487804878049,
         "_deepnote_index_column": 256
        },
        {
         "Popularity": "medium",
         "Danceability": 0.4069767441860465,
         "Energy": 0.648936170212766,
         "Valence": 0.7789473684210526,
         "Loudness": 0.6875,
         "Speechiness": 0.6,
         "Length": 0.5894736842105263,
         "Acousticness": 0.6666666666666666,
         "Beats Per Minute (BPM)": 0.41420118343195267,
         "Liveness": 0.5853658536585366,
         "_deepnote_index_column": 936
        },
        {
         "Popularity": "medium",
         "Danceability": 0.6744186046511628,
         "Energy": 0.6914893617021277,
         "Valence": 0.8105263157894737,
         "Loudness": 0.5625,
         "Speechiness": 0.2,
         "Length": 0.3333333333333333,
         "Acousticness": 0,
         "Beats Per Minute (BPM)": 0.5502958579881657,
         "Liveness": 0.2926829268292683,
         "_deepnote_index_column": 527
        },
        {
         "Popularity": "medium",
         "Danceability": 0.023255813953488372,
         "Energy": 0.1702127659574468,
         "Valence": 0.010526315789473684,
         "Loudness": 0.4375,
         "Speechiness": 0.4,
         "Length": 0.3649122807017544,
         "Acousticness": 0.8484848484848485,
         "Beats Per Minute (BPM)": 0.3136094674556213,
         "Liveness": 0.2682926829268293,
         "_deepnote_index_column": 523
        },
        {
         "Popularity": "medium",
         "Danceability": 0.627906976744186,
         "Energy": 0.5957446808510638,
         "Valence": 0.8947368421052632,
         "Loudness": 0.3125,
         "Speechiness": 0.2,
         "Length": 0.3684210526315789,
         "Acousticness": 0.25252525252525254,
         "Beats Per Minute (BPM)": 0.33727810650887574,
         "Liveness": 0.4634146341463415,
         "_deepnote_index_column": 1192
        },
        {
         "Popularity": "medium",
         "Danceability": 0.813953488372093,
         "Energy": 0.6063829787234043,
         "Valence": 0.631578947368421,
         "Loudness": 0.3125,
         "Speechiness": 0.6,
         "Length": 0.2807017543859649,
         "Acousticness": 0.020202020202020204,
         "Beats Per Minute (BPM)": 0.46745562130177515,
         "Liveness": 0.7317073170731707,
         "_deepnote_index_column": 1241
        },
        {
         "Popularity": "medium",
         "Danceability": 0.5348837209302325,
         "Energy": 0.43617021276595747,
         "Valence": 0.43157894736842106,
         "Loudness": 0.6875,
         "Speechiness": 0,
         "Length": 0.5298245614035088,
         "Acousticness": 0.3838383838383838,
         "Beats Per Minute (BPM)": 0.33727810650887574,
         "Liveness": 0.4634146341463415,
         "_deepnote_index_column": 1367
        },
        {
         "Popularity": "medium",
         "Danceability": 0.5,
         "Energy": 0.5425531914893617,
         "Valence": 0.35789473684210527,
         "Loudness": 0.625,
         "Speechiness": 0.2,
         "Length": 0.7298245614035088,
         "Acousticness": 0.7070707070707071,
         "Beats Per Minute (BPM)": 0.2781065088757396,
         "Liveness": 0.6829268292682927,
         "_deepnote_index_column": 859
        },
        {
         "Popularity": "medium",
         "Danceability": 0.313953488372093,
         "Energy": 0.7659574468085106,
         "Valence": 0.4,
         "Loudness": 0.75,
         "Speechiness": 1,
         "Length": 0.45263157894736844,
         "Acousticness": 0.18181818181818182,
         "Beats Per Minute (BPM)": 0.33727810650887574,
         "Liveness": 0.17073170731707318,
         "_deepnote_index_column": 99
        },
        {
         "Popularity": "medium",
         "Danceability": 0.4418604651162791,
         "Energy": 0.6276595744680851,
         "Valence": 0.7263157894736842,
         "Loudness": 0.375,
         "Speechiness": 0.2,
         "Length": 0.2912280701754386,
         "Acousticness": 0.06060606060606061,
         "Beats Per Minute (BPM)": 0.3609467455621302,
         "Liveness": 0.14634146341463414,
         "_deepnote_index_column": 1196
        },
        {
         "Popularity": "medium",
         "Danceability": 0.6395348837209303,
         "Energy": 0.8085106382978723,
         "Valence": 0.8210526315789474,
         "Loudness": 0.8125,
         "Speechiness": 0.2,
         "Length": 0.18947368421052632,
         "Acousticness": 0,
         "Beats Per Minute (BPM)": 0.4437869822485207,
         "Liveness": 0.2926829268292683,
         "_deepnote_index_column": 8
        },
        {
         "Popularity": "medium",
         "Danceability": 0.4069767441860465,
         "Energy": 0.3404255319148936,
         "Valence": 0.23157894736842105,
         "Loudness": 0.125,
         "Speechiness": 0.2,
         "Length": 0.543859649122807,
         "Acousticness": 0.48484848484848486,
         "Beats Per Minute (BPM)": 0.2781065088757396,
         "Liveness": 0.14634146341463414,
         "_deepnote_index_column": 1113
        },
        {
         "Popularity": "medium",
         "Danceability": 0.27906976744186046,
         "Energy": 0.4574468085106383,
         "Valence": 0.14736842105263157,
         "Loudness": 0.5,
         "Speechiness": 0.2,
         "Length": 0.49473684210526314,
         "Acousticness": 0.2828282828282828,
         "Beats Per Minute (BPM)": 0.6331360946745562,
         "Liveness": 0.2926829268292683,
         "_deepnote_index_column": 1121
        },
        {
         "Popularity": "medium",
         "Danceability": 0.9069767441860465,
         "Energy": 0.39361702127659576,
         "Valence": 0.9789473684210527,
         "Loudness": 0.1875,
         "Speechiness": 0.6,
         "Length": 0.6631578947368421,
         "Acousticness": 0.04040404040404041,
         "Beats Per Minute (BPM)": 0.5562130177514792,
         "Liveness": 0.3902439024390244,
         "_deepnote_index_column": 910
        },
        {
         "Popularity": "medium",
         "Danceability": 0.5697674418604651,
         "Energy": 0.8085106382978723,
         "Valence": 0.8,
         "Loudness": 0.75,
         "Speechiness": 0.4,
         "Length": 0.12280701754385964,
         "Acousticness": 0.1414141414141414,
         "Beats Per Minute (BPM)": 0.6035502958579881,
         "Liveness": 0.1951219512195122,
         "_deepnote_index_column": 1435
        },
        {
         "Popularity": "medium",
         "Danceability": 0.5,
         "Energy": 0.8617021276595744,
         "Valence": 0.8631578947368421,
         "Loudness": 0.8125,
         "Speechiness": 0.2,
         "Length": 0.6035087719298246,
         "Acousticness": 0.1919191919191919,
         "Beats Per Minute (BPM)": 0.39644970414201186,
         "Liveness": 0.5365853658536586,
         "_deepnote_index_column": 1337
        },
        {
         "Popularity": "medium",
         "Danceability": 0.046511627906976744,
         "Energy": 0.3723404255319149,
         "Valence": 0,
         "Loudness": 0.5625,
         "Speechiness": 0.4,
         "Length": 0.6175438596491228,
         "Acousticness": 0.5858585858585859,
         "Beats Per Minute (BPM)": 0.2958579881656805,
         "Liveness": 0.24390243902439024,
         "_deepnote_index_column": 1167
        },
        {
         "Popularity": "medium",
         "Danceability": 0.38372093023255816,
         "Energy": 0.6170212765957447,
         "Valence": 0.7368421052631579,
         "Loudness": 0.375,
         "Speechiness": 0.4,
         "Length": 0.3543859649122807,
         "Acousticness": 0.030303030303030304,
         "Beats Per Minute (BPM)": 0.5325443786982249,
         "Liveness": 0.21951219512195122,
         "_deepnote_index_column": 958
        },
        {
         "Popularity": "medium",
         "Danceability": 0.5813953488372093,
         "Energy": 0.48936170212765956,
         "Valence": 0.5894736842105263,
         "Loudness": 0.4375,
         "Speechiness": 0,
         "Length": 0.543859649122807,
         "Acousticness": 0.20202020202020202,
         "Beats Per Minute (BPM)": 0.3668639053254438,
         "Liveness": 0.21951219512195122,
         "_deepnote_index_column": 1066
        },
        {
         "Popularity": "medium",
         "Danceability": 0.3488372093023256,
         "Energy": 0.8191489361702128,
         "Valence": 0.06315789473684211,
         "Loudness": 0.6875,
         "Speechiness": 0.6,
         "Length": 0.3929824561403509,
         "Acousticness": 0,
         "Beats Per Minute (BPM)": 0.3136094674556213,
         "Liveness": 0.8536585365853658,
         "_deepnote_index_column": 1269
        },
        {
         "Popularity": "medium",
         "Danceability": 0.5465116279069767,
         "Energy": 0.6595744680851063,
         "Valence": 0.22105263157894736,
         "Loudness": 0.5,
         "Speechiness": 0.2,
         "Length": 0.6526315789473685,
         "Acousticness": 0.020202020202020204,
         "Beats Per Minute (BPM)": 0.40828402366863903,
         "Liveness": 0.21951219512195122,
         "_deepnote_index_column": 505
        },
        {
         "Popularity": "medium",
         "Danceability": 0.43023255813953487,
         "Energy": 0.9148936170212766,
         "Valence": 0.2631578947368421,
         "Loudness": 0.6875,
         "Speechiness": 0.4,
         "Length": 0.4421052631578947,
         "Acousticness": 0,
         "Beats Per Minute (BPM)": 0.5562130177514792,
         "Liveness": 0.5609756097560976,
         "_deepnote_index_column": 290
        },
        {
         "Popularity": "medium",
         "Danceability": 0.6627906976744186,
         "Energy": 0.6595744680851063,
         "Valence": 0.8736842105263158,
         "Loudness": 0.5,
         "Speechiness": 0,
         "Length": 0.9228070175438596,
         "Acousticness": 0.20202020202020202,
         "Beats Per Minute (BPM)": 0.5680473372781065,
         "Liveness": 0.34146341463414637,
         "_deepnote_index_column": 754
        },
        {
         "Popularity": "medium",
         "Danceability": 0.5116279069767442,
         "Energy": 0.7978723404255319,
         "Valence": 0.8947368421052632,
         "Loudness": 0.5625,
         "Speechiness": 0.2,
         "Length": 0.3543859649122807,
         "Acousticness": 0.0707070707070707,
         "Beats Per Minute (BPM)": 0.8284023668639053,
         "Liveness": 0.14634146341463414,
         "_deepnote_index_column": 962
        },
        {
         "Popularity": "medium",
         "Danceability": 0.6395348837209303,
         "Energy": 0.5638297872340425,
         "Valence": 0.7368421052631579,
         "Loudness": 0.625,
         "Speechiness": 0.4,
         "Length": 0.15789473684210525,
         "Acousticness": 0.41414141414141414,
         "Beats Per Minute (BPM)": 0.5976331360946746,
         "Liveness": 0.24390243902439024,
         "_deepnote_index_column": 1436
        },
        {
         "Popularity": "medium",
         "Danceability": 0.6162790697674418,
         "Energy": 0.6063829787234043,
         "Valence": 0.4,
         "Loudness": 0.4375,
         "Speechiness": 0.8,
         "Length": 0.8280701754385965,
         "Acousticness": 0.3434343434343434,
         "Beats Per Minute (BPM)": 0.2603550295857988,
         "Liveness": 0.1951219512195122,
         "_deepnote_index_column": 886
        },
        {
         "Popularity": "medium",
         "Danceability": 0.6046511627906976,
         "Energy": 0.6702127659574468,
         "Valence": 0.3894736842105263,
         "Loudness": 0.75,
         "Speechiness": 0,
         "Length": 0.24912280701754386,
         "Acousticness": 0.35353535353535354,
         "Beats Per Minute (BPM)": 0.3609467455621302,
         "Liveness": 0.14634146341463414,
         "_deepnote_index_column": 262
        },
        {
         "Popularity": "medium",
         "Danceability": 0.5,
         "Energy": 0.031914893617021274,
         "Valence": 0.28421052631578947,
         "Loudness": 0.125,
         "Speechiness": 0.6,
         "Length": 0.056140350877192984,
         "Acousticness": 0.9292929292929293,
         "Beats Per Minute (BPM)": 0.4437869822485207,
         "Liveness": 0.21951219512195122,
         "_deepnote_index_column": 126
        },
        {
         "Popularity": "medium",
         "Danceability": 0.37209302325581395,
         "Energy": 0.39361702127659576,
         "Valence": 0.22105263157894736,
         "Loudness": 0.5,
         "Speechiness": 0.4,
         "Length": 0.4105263157894737,
         "Acousticness": 0.8484848484848485,
         "Beats Per Minute (BPM)": 0.5680473372781065,
         "Liveness": 0.34146341463414637,
         "_deepnote_index_column": 9
        },
        {
         "Popularity": "medium",
         "Danceability": 0.5697674418604651,
         "Energy": 0.26595744680851063,
         "Valence": 0.15789473684210525,
         "Loudness": 0.1875,
         "Speechiness": 0.2,
         "Length": 0.5578947368421052,
         "Acousticness": 0.2222222222222222,
         "Beats Per Minute (BPM)": 0.4437869822485207,
         "Liveness": 0.2682926829268293,
         "_deepnote_index_column": 857
        },
        {
         "Popularity": "medium",
         "Danceability": 0.6395348837209303,
         "Energy": 0.776595744680851,
         "Valence": 0.5578947368421052,
         "Loudness": 0.8125,
         "Speechiness": 0.2,
         "Length": 0.06315789473684211,
         "Acousticness": 0.1414141414141414,
         "Beats Per Minute (BPM)": 0.4319526627218935,
         "Liveness": 0.4878048780487805,
         "_deepnote_index_column": 238
        },
        {
         "Popularity": "medium",
         "Danceability": 0.7441860465116279,
         "Energy": 0.39361702127659576,
         "Valence": 0.5684210526315789,
         "Loudness": 0.5,
         "Speechiness": 0.2,
         "Length": 0.49122807017543857,
         "Acousticness": 0.36363636363636365,
         "Beats Per Minute (BPM)": 0.44970414201183434,
         "Liveness": 0.1951219512195122,
         "_deepnote_index_column": 315
        },
        {
         "Popularity": "medium",
         "Danceability": 0.3372093023255814,
         "Energy": 0.5638297872340425,
         "Valence": 0.35789473684210527,
         "Loudness": 0.6875,
         "Speechiness": 0.2,
         "Length": 0.6175438596491228,
         "Acousticness": 0.47474747474747475,
         "Beats Per Minute (BPM)": 0.20118343195266272,
         "Liveness": 0.4878048780487805,
         "_deepnote_index_column": 1328
        },
        {
         "Popularity": "medium",
         "Danceability": 0.5697674418604651,
         "Energy": 0.5319148936170213,
         "Valence": 0.631578947368421,
         "Loudness": 0.375,
         "Speechiness": 0.2,
         "Length": 0.5087719298245614,
         "Acousticness": 0.47474747474747475,
         "Beats Per Minute (BPM)": 0.3727810650887574,
         "Liveness": 0.21951219512195122,
         "_deepnote_index_column": 65
        },
        {
         "Popularity": "medium",
         "Danceability": 0.47674418604651164,
         "Energy": 0.30851063829787234,
         "Valence": 0.24210526315789474,
         "Loudness": 0.3125,
         "Speechiness": 0.6,
         "Length": 0.6385964912280702,
         "Acousticness": 0,
         "Beats Per Minute (BPM)": 0.6449704142011834,
         "Liveness": 0.4634146341463415,
         "_deepnote_index_column": 874
        },
        {
         "Popularity": "medium",
         "Danceability": 0.36046511627906974,
         "Energy": 0.8404255319148937,
         "Valence": 0.3684210526315789,
         "Loudness": 0.75,
         "Speechiness": 0.6,
         "Length": 0.43157894736842106,
         "Acousticness": 0.030303030303030304,
         "Beats Per Minute (BPM)": 0.3254437869822485,
         "Liveness": 0.8536585365853658,
         "_deepnote_index_column": 1118
        },
        {
         "Popularity": "medium",
         "Danceability": 0.4186046511627907,
         "Energy": 0.26595744680851063,
         "Valence": 0.30526315789473685,
         "Loudness": 0.3125,
         "Speechiness": 0.2,
         "Length": 0.8280701754385965,
         "Acousticness": 0.696969696969697,
         "Beats Per Minute (BPM)": 0.4911242603550296,
         "Liveness": 0.21951219512195122,
         "_deepnote_index_column": 1067
        },
        {
         "Popularity": "medium",
         "Danceability": 0.5232558139534884,
         "Energy": 0.5319148936170213,
         "Valence": 0.2631578947368421,
         "Loudness": 0.5,
         "Speechiness": 0.2,
         "Length": 0.5824561403508772,
         "Acousticness": 0.050505050505050504,
         "Beats Per Minute (BPM)": 0.2603550295857988,
         "Liveness": 0.12195121951219512,
         "_deepnote_index_column": 1197
        },
        {
         "Popularity": "medium",
         "Danceability": 0.5465116279069767,
         "Energy": 0.9148936170212766,
         "Valence": 0.5473684210526316,
         "Loudness": 0.875,
         "Speechiness": 0.4,
         "Length": 0.5964912280701754,
         "Acousticness": 0.08080808080808081,
         "Beats Per Minute (BPM)": 0.3905325443786982,
         "Liveness": 0.2682926829268293,
         "_deepnote_index_column": 1005
        },
        {
         "Popularity": "medium",
         "Danceability": 0.38372093023255816,
         "Energy": 0.2978723404255319,
         "Valence": 0.3368421052631579,
         "Loudness": 0.5625,
         "Speechiness": 0.2,
         "Length": 0.30526315789473685,
         "Acousticness": 0.898989898989899,
         "Beats Per Minute (BPM)": 0.3727810650887574,
         "Liveness": 0.2926829268292683,
         "_deepnote_index_column": 1339
        },
        {
         "Popularity": "medium",
         "Danceability": 0.46511627906976744,
         "Energy": 0.7127659574468085,
         "Valence": 0.14736842105263157,
         "Loudness": 0.5625,
         "Speechiness": 0.4,
         "Length": 0.9403508771929825,
         "Acousticness": 0.010101010101010102,
         "Beats Per Minute (BPM)": 0.38461538461538464,
         "Liveness": 0.14634146341463414,
         "_deepnote_index_column": 710
        },
        {
         "Popularity": "medium",
         "Danceability": 0.6395348837209303,
         "Energy": 0.6170212765957447,
         "Valence": 0.8736842105263158,
         "Loudness": 0.5,
         "Speechiness": 0.2,
         "Length": 0.4842105263157895,
         "Acousticness": 0.020202020202020204,
         "Beats Per Minute (BPM)": 0.5739644970414202,
         "Liveness": 0.21951219512195122,
         "_deepnote_index_column": 952
        },
        {
         "Popularity": "medium",
         "Danceability": 0.6395348837209303,
         "Energy": 0.14893617021276595,
         "Valence": 0.2,
         "Loudness": 0.25,
         "Speechiness": 0.2,
         "Length": 0.3929824561403509,
         "Acousticness": 0.98989898989899,
         "Beats Per Minute (BPM)": 0.3668639053254438,
         "Liveness": 0.2682926829268293,
         "_deepnote_index_column": 337
        },
        {
         "Popularity": "medium",
         "Danceability": 0.09302325581395349,
         "Energy": 0.5,
         "Valence": 0.4,
         "Loudness": 0.625,
         "Speechiness": 0.2,
         "Length": 0.36140350877192984,
         "Acousticness": 0.3939393939393939,
         "Beats Per Minute (BPM)": 0.7692307692307693,
         "Liveness": 0.0975609756097561,
         "_deepnote_index_column": 1506
        },
        {
         "Popularity": "medium",
         "Danceability": 0.686046511627907,
         "Energy": 0.425531914893617,
         "Valence": 0.6947368421052632,
         "Loudness": 0.3125,
         "Speechiness": 0.4,
         "Length": 0.7824561403508772,
         "Acousticness": 0.030303030303030304,
         "Beats Per Minute (BPM)": 0.6863905325443787,
         "Liveness": 0.12195121951219512,
         "_deepnote_index_column": 1132
        },
        {
         "Popularity": "medium",
         "Danceability": 0.5,
         "Energy": 0.851063829787234,
         "Valence": 0.9157894736842105,
         "Loudness": 0.375,
         "Speechiness": 0.4,
         "Length": 0.42105263157894735,
         "Acousticness": 0.31313131313131315,
         "Beats Per Minute (BPM)": 0.621301775147929,
         "Liveness": 0.6829268292682927,
         "_deepnote_index_column": 1119
        },
        {
         "Popularity": "medium",
         "Danceability": 0.3488372093023256,
         "Energy": 0.19148936170212766,
         "Valence": 0.25263157894736843,
         "Loudness": 0.5625,
         "Speechiness": 0.4,
         "Length": 0.36140350877192984,
         "Acousticness": 0.898989898989899,
         "Beats Per Minute (BPM)": 0.5798816568047337,
         "Liveness": 0.21951219512195122,
         "_deepnote_index_column": 474
        }
       ],
       "rows_bottom": [
        {
         "Popularity": "medium",
         "Danceability": 0.46511627906976744,
         "Energy": 0.2872340425531915,
         "Valence": 0.2736842105263158,
         "Loudness": 0.3125,
         "Speechiness": 0.2,
         "Length": 0.45614035087719296,
         "Acousticness": 0.10101010101010101,
         "Beats Per Minute (BPM)": 0.4556213017751479,
         "Liveness": 0.5365853658536586,
         "_deepnote_index_column": 562
        },
        {
         "Popularity": "medium",
         "Danceability": 0.5348837209302325,
         "Energy": 0.8085106382978723,
         "Valence": 0.631578947368421,
         "Loudness": 0.75,
         "Speechiness": 0.2,
         "Length": 0.4,
         "Acousticness": 0.010101010101010102,
         "Beats Per Minute (BPM)": 0.5325443786982249,
         "Liveness": 0.6585365853658537,
         "_deepnote_index_column": 994
        },
        {
         "Popularity": "medium",
         "Danceability": 0.7441860465116279,
         "Energy": 0.5425531914893617,
         "Valence": 0.9894736842105263,
         "Loudness": 0.5,
         "Speechiness": 0.4,
         "Length": 0.17894736842105263,
         "Acousticness": 0.1111111111111111,
         "Beats Per Minute (BPM)": 0.5976331360946746,
         "Liveness": 0.14634146341463414,
         "_deepnote_index_column": 138
        },
        {
         "Popularity": "medium",
         "Danceability": 0.36046511627906974,
         "Energy": 0.8297872340425532,
         "Valence": 0.6421052631578947,
         "Loudness": 0.625,
         "Speechiness": 0.2,
         "Length": 0.5052631578947369,
         "Acousticness": 0,
         "Beats Per Minute (BPM)": 0.28994082840236685,
         "Liveness": 0.36585365853658536,
         "_deepnote_index_column": 1237
        },
        {
         "Popularity": "medium",
         "Danceability": 0.5116279069767442,
         "Energy": 0.723404255319149,
         "Valence": 0.49473684210526314,
         "Loudness": 0.75,
         "Speechiness": 0.2,
         "Length": 0.3508771929824561,
         "Acousticness": 0.010101010101010102,
         "Beats Per Minute (BPM)": 0.5088757396449705,
         "Liveness": 0.34146341463414637,
         "_deepnote_index_column": 389
        },
        {
         "Popularity": "medium",
         "Danceability": 0.46511627906976744,
         "Energy": 0.7021276595744681,
         "Valence": 0.30526315789473685,
         "Loudness": 0.625,
         "Speechiness": 0.6,
         "Length": 0.8982456140350877,
         "Acousticness": 0.08080808080808081,
         "Beats Per Minute (BPM)": 0.727810650887574,
         "Liveness": 1,
         "_deepnote_index_column": 58
        },
        {
         "Popularity": "medium",
         "Danceability": 0.6627906976744186,
         "Energy": 0.648936170212766,
         "Valence": 0.6947368421052632,
         "Loudness": 0.625,
         "Speechiness": 0.2,
         "Length": 0.43859649122807015,
         "Acousticness": 0,
         "Beats Per Minute (BPM)": 0.3727810650887574,
         "Liveness": 0.21951219512195122,
         "_deepnote_index_column": 1201
        },
        {
         "Popularity": "medium",
         "Danceability": 0.6162790697674418,
         "Energy": 0.574468085106383,
         "Valence": 0.8947368421052632,
         "Loudness": 0.4375,
         "Speechiness": 0.2,
         "Length": 0.7824561403508772,
         "Acousticness": 0.10101010101010101,
         "Beats Per Minute (BPM)": 0.4556213017751479,
         "Liveness": 0.07317073170731707,
         "_deepnote_index_column": 688
        },
        {
         "Popularity": "medium",
         "Danceability": 0.6744186046511628,
         "Energy": 0.7127659574468085,
         "Valence": 0.5578947368421052,
         "Loudness": 0.5625,
         "Speechiness": 0.8,
         "Length": 0.3719298245614035,
         "Acousticness": 0.20202020202020202,
         "Beats Per Minute (BPM)": 0.3609467455621302,
         "Liveness": 0.2682926829268293,
         "_deepnote_index_column": 513
        },
        {
         "Popularity": "medium",
         "Danceability": 0.7674418604651163,
         "Energy": 0.5957446808510638,
         "Valence": 0.8631578947368421,
         "Loudness": 0.3125,
         "Speechiness": 1,
         "Length": 0.24561403508771928,
         "Acousticness": 0.08080808080808081,
         "Beats Per Minute (BPM)": 0.8106508875739645,
         "Liveness": 0.21951219512195122,
         "_deepnote_index_column": 1024
        },
        {
         "Popularity": "medium",
         "Danceability": 0.6511627906976745,
         "Energy": 0.7872340425531915,
         "Valence": 0.7052631578947368,
         "Loudness": 0.6875,
         "Speechiness": 0.2,
         "Length": 0.4245614035087719,
         "Acousticness": 0.050505050505050504,
         "Beats Per Minute (BPM)": 0.4911242603550296,
         "Liveness": 0.0975609756097561,
         "_deepnote_index_column": 1214
        },
        {
         "Popularity": "medium",
         "Danceability": 0.6976744186046512,
         "Energy": 0.9574468085106383,
         "Valence": 0.8947368421052632,
         "Loudness": 0.875,
         "Speechiness": 1,
         "Length": 0.256140350877193,
         "Acousticness": 0.6464646464646465,
         "Beats Per Minute (BPM)": 0.4970414201183432,
         "Liveness": 0.17073170731707318,
         "_deepnote_index_column": 1353
        },
        {
         "Popularity": "medium",
         "Danceability": 0.5581395348837209,
         "Energy": 0.6808510638297872,
         "Valence": 0.5157894736842106,
         "Loudness": 0.375,
         "Speechiness": 0.2,
         "Length": 0.6280701754385964,
         "Acousticness": 0.6161616161616161,
         "Beats Per Minute (BPM)": 0.4378698224852071,
         "Liveness": 0.2926829268292683,
         "_deepnote_index_column": 1050
        },
        {
         "Popularity": "medium",
         "Danceability": 0.4883720930232558,
         "Energy": 0.2978723404255319,
         "Valence": 0.08421052631578947,
         "Loudness": 0.25,
         "Speechiness": 0.2,
         "Length": 0.519298245614035,
         "Acousticness": 0.5858585858585859,
         "Beats Per Minute (BPM)": 0.2958579881656805,
         "Liveness": 0.24390243902439024,
         "_deepnote_index_column": 1306
        },
        {
         "Popularity": "medium",
         "Danceability": 0.1744186046511628,
         "Energy": 0.648936170212766,
         "Valence": 0.42105263157894735,
         "Loudness": 0.6875,
         "Speechiness": 0.2,
         "Length": 0.45614035087719296,
         "Acousticness": 0.5050505050505051,
         "Beats Per Minute (BPM)": 0.6686390532544378,
         "Liveness": 0.17073170731707318,
         "_deepnote_index_column": 618
        },
        {
         "Popularity": "medium",
         "Danceability": 0.1744186046511628,
         "Energy": 0.8723404255319149,
         "Valence": 0.09473684210526316,
         "Loudness": 0.875,
         "Speechiness": 0.6,
         "Length": 0.5228070175438596,
         "Acousticness": 0.050505050505050504,
         "Beats Per Minute (BPM)": 0.30177514792899407,
         "Liveness": 0.24390243902439024,
         "_deepnote_index_column": 269
        },
        {
         "Popularity": "medium",
         "Danceability": 0.4883720930232558,
         "Energy": 0.8297872340425532,
         "Valence": 0.4631578947368421,
         "Loudness": 0.875,
         "Speechiness": 0.4,
         "Length": 0.743859649122807,
         "Acousticness": 0,
         "Beats Per Minute (BPM)": 0.46745562130177515,
         "Liveness": 0.14634146341463414,
         "_deepnote_index_column": 560
        },
        {
         "Popularity": "medium",
         "Danceability": 0.5813953488372093,
         "Energy": 0.8404255319148937,
         "Valence": 0.631578947368421,
         "Loudness": 0.3125,
         "Speechiness": 0.4,
         "Length": 0.7192982456140351,
         "Acousticness": 0.04040404040404041,
         "Beats Per Minute (BPM)": 0.378698224852071,
         "Liveness": 0.0975609756097561,
         "_deepnote_index_column": 1097
        },
        {
         "Popularity": "medium",
         "Danceability": 0.5697674418604651,
         "Energy": 0.925531914893617,
         "Valence": 0.6210526315789474,
         "Loudness": 0.8125,
         "Speechiness": 0.8,
         "Length": 0.4280701754385965,
         "Acousticness": 0.06060606060606061,
         "Beats Per Minute (BPM)": 0.5739644970414202,
         "Liveness": 0.6097560975609756,
         "_deepnote_index_column": 440
        },
        {
         "Popularity": "medium",
         "Danceability": 0.5465116279069767,
         "Energy": 0.9787234042553191,
         "Valence": 0.5578947368421052,
         "Loudness": 0.875,
         "Speechiness": 0.6,
         "Length": 0.8,
         "Acousticness": 0,
         "Beats Per Minute (BPM)": 0.47928994082840237,
         "Liveness": 0.14634146341463414,
         "_deepnote_index_column": 1232
        },
        {
         "Popularity": "medium",
         "Danceability": 0.5930232558139535,
         "Energy": 0.8085106382978723,
         "Valence": 0.8210526315789474,
         "Loudness": 0.625,
         "Speechiness": 0.2,
         "Length": 0.3192982456140351,
         "Acousticness": 0.3434343434343434,
         "Beats Per Minute (BPM)": 0.6094674556213018,
         "Liveness": 0.4878048780487805,
         "_deepnote_index_column": 1138
        },
        {
         "Popularity": "medium",
         "Danceability": 0.5813953488372093,
         "Energy": 0.8404255319148937,
         "Valence": 0.45263157894736844,
         "Loudness": 0.6875,
         "Speechiness": 1,
         "Length": 0.4245614035087719,
         "Acousticness": 0.020202020202020204,
         "Beats Per Minute (BPM)": 0.3431952662721893,
         "Liveness": 0.21951219512195122,
         "_deepnote_index_column": 529
        },
        {
         "Popularity": "medium",
         "Danceability": 0.7093023255813954,
         "Energy": 0.5957446808510638,
         "Valence": 0.8842105263157894,
         "Loudness": 0.25,
         "Speechiness": 0.2,
         "Length": 0.26666666666666666,
         "Acousticness": 0.04040404040404041,
         "Beats Per Minute (BPM)": 0.3905325443786982,
         "Liveness": 0.14634146341463414,
         "_deepnote_index_column": 1350
        },
        {
         "Popularity": "medium",
         "Danceability": 0.5116279069767442,
         "Energy": 0.9361702127659575,
         "Valence": 0.43157894736842106,
         "Loudness": 0.75,
         "Speechiness": 0.6,
         "Length": 0.4456140350877193,
         "Acousticness": 0.010101010101010102,
         "Beats Per Minute (BPM)": 0.5857988165680473,
         "Liveness": 0.8292682926829268,
         "_deepnote_index_column": 253
        },
        {
         "Popularity": "medium",
         "Danceability": 0.8372093023255814,
         "Energy": 0.7127659574468085,
         "Valence": 0.8947368421052632,
         "Loudness": 0.5,
         "Speechiness": 0.6,
         "Length": 0.4666666666666667,
         "Acousticness": 0.08080808080808081,
         "Beats Per Minute (BPM)": 0.40828402366863903,
         "Liveness": 0.12195121951219512,
         "_deepnote_index_column": 785
        },
        {
         "Popularity": "medium",
         "Danceability": 0.7558139534883721,
         "Energy": 0.7021276595744681,
         "Valence": 0.9052631578947369,
         "Loudness": 0.5,
         "Speechiness": 0.2,
         "Length": 0.5754385964912281,
         "Acousticness": 0.09090909090909091,
         "Beats Per Minute (BPM)": 0.6153846153846154,
         "Liveness": 0.1951219512195122,
         "_deepnote_index_column": 398
        },
        {
         "Popularity": "medium",
         "Danceability": 0.45348837209302323,
         "Energy": 0.1702127659574468,
         "Valence": 0.18947368421052632,
         "Loudness": 0.4375,
         "Speechiness": 0.4,
         "Length": 0.21052631578947367,
         "Acousticness": 0.9696969696969697,
         "Beats Per Minute (BPM)": 0.8284023668639053,
         "Liveness": 0.1951219512195122,
         "_deepnote_index_column": 1358
        },
        {
         "Popularity": "medium",
         "Danceability": 0.6046511627906976,
         "Energy": 0.574468085106383,
         "Valence": 0.6421052631578947,
         "Loudness": 0.4375,
         "Speechiness": 0.2,
         "Length": 0.47017543859649125,
         "Acousticness": 0.04040404040404041,
         "Beats Per Minute (BPM)": 0.6331360946745562,
         "Liveness": 0.07317073170731707,
         "_deepnote_index_column": 1151
        },
        {
         "Popularity": "medium",
         "Danceability": 0.5813953488372093,
         "Energy": 0.7978723404255319,
         "Valence": 0.6105263157894737,
         "Loudness": 0.6875,
         "Speechiness": 0.2,
         "Length": 0.09824561403508772,
         "Acousticness": 0.04040404040404041,
         "Beats Per Minute (BPM)": 0.514792899408284,
         "Liveness": 0.12195121951219512,
         "_deepnote_index_column": 641
        },
        {
         "Popularity": "medium",
         "Danceability": 0.18604651162790697,
         "Energy": 0.7553191489361702,
         "Valence": 0.4105263157894737,
         "Loudness": 0.6875,
         "Speechiness": 0.4,
         "Length": 0.5789473684210527,
         "Acousticness": 0.06060606060606061,
         "Beats Per Minute (BPM)": 0.8461538461538461,
         "Liveness": 0.5121951219512195,
         "_deepnote_index_column": 1089
        },
        {
         "Popularity": "medium",
         "Danceability": 0.4883720930232558,
         "Energy": 0.22340425531914893,
         "Valence": 0.16842105263157894,
         "Loudness": 0.25,
         "Speechiness": 0.2,
         "Length": 0.3298245614035088,
         "Acousticness": 0.7676767676767676,
         "Beats Per Minute (BPM)": 0.21301775147928995,
         "Liveness": 0.2926829268292683,
         "_deepnote_index_column": 939
        },
        {
         "Popularity": "medium",
         "Danceability": 0.7441860465116279,
         "Energy": 0.925531914893617,
         "Valence": 0.9368421052631579,
         "Loudness": 0.8125,
         "Speechiness": 0.4,
         "Length": 0.656140350877193,
         "Acousticness": 0.1111111111111111,
         "Beats Per Minute (BPM)": 0.5443786982248521,
         "Liveness": 0.14634146341463414,
         "_deepnote_index_column": 983
        },
        {
         "Popularity": "medium",
         "Danceability": 0.3953488372093023,
         "Energy": 0.7978723404255319,
         "Valence": 0.5052631578947369,
         "Loudness": 0.8125,
         "Speechiness": 0.4,
         "Length": 0.3017543859649123,
         "Acousticness": 0.050505050505050504,
         "Beats Per Minute (BPM)": 0.5088757396449705,
         "Liveness": 0.1951219512195122,
         "_deepnote_index_column": 841
        },
        {
         "Popularity": "medium",
         "Danceability": 0.6162790697674418,
         "Energy": 0.7978723404255319,
         "Valence": 0.8736842105263158,
         "Loudness": 0.625,
         "Speechiness": 0.2,
         "Length": 0.39649122807017545,
         "Acousticness": 0.20202020202020202,
         "Beats Per Minute (BPM)": 0.5266272189349113,
         "Liveness": 0.926829268292683,
         "_deepnote_index_column": 987
        },
        {
         "Popularity": "medium",
         "Danceability": 0.4418604651162791,
         "Energy": 0.4148936170212766,
         "Valence": 0.7578947368421053,
         "Loudness": 0.1875,
         "Speechiness": 0.4,
         "Length": 0.4070175438596491,
         "Acousticness": 0,
         "Beats Per Minute (BPM)": 0.47928994082840237,
         "Liveness": 0.4878048780487805,
         "_deepnote_index_column": 745
        },
        {
         "Popularity": "medium",
         "Danceability": 0.32558139534883723,
         "Energy": 0.1702127659574468,
         "Valence": 0.3684210526315789,
         "Loudness": 0.375,
         "Speechiness": 0.2,
         "Length": 0.3368421052631579,
         "Acousticness": 0.9494949494949495,
         "Beats Per Minute (BPM)": 0.5384615384615384,
         "Liveness": 0.21951219512195122,
         "_deepnote_index_column": 1487
        },
        {
         "Popularity": "medium",
         "Danceability": 0.6395348837209303,
         "Energy": 0.6170212765957447,
         "Valence": 0.7052631578947368,
         "Loudness": 0.6875,
         "Speechiness": 0.2,
         "Length": 0.18596491228070175,
         "Acousticness": 0.7878787878787878,
         "Beats Per Minute (BPM)": 0.5088757396449705,
         "Liveness": 0.6341463414634146,
         "_deepnote_index_column": 167
        },
        {
         "Popularity": "medium",
         "Danceability": 0.46511627906976744,
         "Energy": 0.5638297872340425,
         "Valence": 0.6421052631578947,
         "Loudness": 0.5625,
         "Speechiness": 0.2,
         "Length": 0.19649122807017544,
         "Acousticness": 0.41414141414141414,
         "Beats Per Minute (BPM)": 0.5621301775147929,
         "Liveness": 0.7317073170731707,
         "_deepnote_index_column": 1492
        },
        {
         "Popularity": "medium",
         "Danceability": 0.6395348837209303,
         "Energy": 0.6063829787234043,
         "Valence": 0.631578947368421,
         "Loudness": 0.5625,
         "Speechiness": 0.2,
         "Length": 0.32280701754385965,
         "Acousticness": 0.20202020202020202,
         "Beats Per Minute (BPM)": 0.47928994082840237,
         "Liveness": 0.14634146341463414,
         "_deepnote_index_column": 847
        },
        {
         "Popularity": "medium",
         "Danceability": 0.6627906976744186,
         "Energy": 0.723404255319149,
         "Valence": 0.7789473684210526,
         "Loudness": 0.6875,
         "Speechiness": 0.4,
         "Length": 0.3473684210526316,
         "Acousticness": 0.2828282828282828,
         "Beats Per Minute (BPM)": 0.4970414201183432,
         "Liveness": 0.3902439024390244,
         "_deepnote_index_column": 510
        },
        {
         "Popularity": "medium",
         "Danceability": 0.3488372093023256,
         "Energy": 0.4787234042553192,
         "Valence": 0.3473684210526316,
         "Loudness": 0.4375,
         "Speechiness": 1,
         "Length": 0.7298245614035088,
         "Acousticness": 0.08080808080808081,
         "Beats Per Minute (BPM)": 0.7928994082840237,
         "Liveness": 0.21951219512195122,
         "_deepnote_index_column": 1235
        },
        {
         "Popularity": "medium",
         "Danceability": 0.6046511627906976,
         "Energy": 0.3617021276595745,
         "Valence": 0.42105263157894735,
         "Loudness": 0.375,
         "Speechiness": 0.2,
         "Length": 0.45614035087719296,
         "Acousticness": 0.23232323232323232,
         "Beats Per Minute (BPM)": 0.4911242603550296,
         "Liveness": 0.24390243902439024,
         "_deepnote_index_column": 333
        },
        {
         "Popularity": "medium",
         "Danceability": 0.3372093023255814,
         "Energy": 0.22340425531914893,
         "Valence": 0.14736842105263157,
         "Loudness": 0.5,
         "Speechiness": 0.2,
         "Length": 0.5719298245614035,
         "Acousticness": 0.8181818181818182,
         "Beats Per Minute (BPM)": 0.5029585798816568,
         "Liveness": 0.17073170731707318,
         "_deepnote_index_column": 380
        },
        {
         "Popularity": "medium",
         "Danceability": 0.5,
         "Energy": 0.3404255319148936,
         "Valence": 0.22105263157894736,
         "Loudness": 0.3125,
         "Speechiness": 0.2,
         "Length": 0.9649122807017544,
         "Acousticness": 0.08080808080808081,
         "Beats Per Minute (BPM)": 0.5562130177514792,
         "Liveness": 0.0975609756097561,
         "_deepnote_index_column": 1182
        },
        {
         "Popularity": "medium",
         "Danceability": 0.627906976744186,
         "Energy": 0.8723404255319149,
         "Valence": 0.6,
         "Loudness": 0.4375,
         "Speechiness": 0.8,
         "Length": 0.6280701754385964,
         "Acousticness": 0,
         "Beats Per Minute (BPM)": 0.650887573964497,
         "Liveness": 0.21951219512195122,
         "_deepnote_index_column": 1225
        },
        {
         "Popularity": "medium",
         "Danceability": 0.5813953488372093,
         "Energy": 0.6702127659574468,
         "Valence": 0.7052631578947368,
         "Loudness": 0.4375,
         "Speechiness": 0.2,
         "Length": 0.48771929824561405,
         "Acousticness": 0.21212121212121213,
         "Beats Per Minute (BPM)": 0.4437869822485207,
         "Liveness": 0.6829268292682927,
         "_deepnote_index_column": 1149
        },
        {
         "Popularity": "medium",
         "Danceability": 0.8023255813953488,
         "Energy": 0.2978723404255319,
         "Valence": 0.5157894736842106,
         "Loudness": 0.3125,
         "Speechiness": 0.8,
         "Length": 0.3929824561403509,
         "Acousticness": 0.6060606060606061,
         "Beats Per Minute (BPM)": 0.5325443786982249,
         "Liveness": 0.4146341463414634,
         "_deepnote_index_column": 430
        },
        {
         "Popularity": "medium",
         "Danceability": 0.5116279069767442,
         "Energy": 0.7127659574468085,
         "Valence": 0.45263157894736844,
         "Loudness": 0.5625,
         "Speechiness": 0.4,
         "Length": 0.21754385964912282,
         "Acousticness": 0.020202020202020204,
         "Beats Per Minute (BPM)": 0.514792899408284,
         "Liveness": 0.5853658536585366,
         "_deepnote_index_column": 1529
        },
        {
         "Popularity": "medium",
         "Danceability": 0.45348837209302323,
         "Energy": 0.6063829787234043,
         "Valence": 0.042105263157894736,
         "Loudness": 0.6875,
         "Speechiness": 0.2,
         "Length": 0.5263157894736842,
         "Acousticness": 0.020202020202020204,
         "Beats Per Minute (BPM)": 0.46745562130177515,
         "Liveness": 0.2682926829268293,
         "_deepnote_index_column": 164
        },
        {
         "Popularity": "medium",
         "Danceability": 0.8255813953488372,
         "Energy": 0.24468085106382978,
         "Valence": 0.8105263157894737,
         "Loudness": 0.1875,
         "Speechiness": 0.2,
         "Length": 0.30526315789473685,
         "Acousticness": 0.5858585858585859,
         "Beats Per Minute (BPM)": 0.6390532544378699,
         "Liveness": 0.4634146341463415,
         "_deepnote_index_column": 1389
        }
       ]
      },
      "text/plain": "     Popularity  Danceability    Energy   Valence  Loudness  Speechiness  \\\n427      medium      0.674419  0.872340  0.000000    0.7500          0.4   \n770      medium      0.418605  0.255319  0.231579    0.5000          0.2   \n128      medium      0.616279  0.297872  0.452632    0.5625          0.2   \n256      medium      0.302326  0.776596  0.568421    0.6250          0.4   \n936      medium      0.406977  0.648936  0.778947    0.6875          0.6   \n...         ...           ...       ...       ...       ...          ...   \n1149     medium      0.581395  0.670213  0.705263    0.4375          0.2   \n430      medium      0.802326  0.297872  0.515789    0.3125          0.8   \n1529     medium      0.511628  0.712766  0.452632    0.5625          0.4   \n164      medium      0.453488  0.606383  0.042105    0.6875          0.2   \n1389     medium      0.825581  0.244681  0.810526    0.1875          0.2   \n\n        Length  Acousticness  Beats Per Minute (BPM)  Liveness  \n427   0.649123      0.000000                0.538462  0.853659  \n770   0.273684      0.828283                0.402367  0.390244  \n128   0.259649      0.747475                0.431953  0.219512  \n256   0.410526      0.010101                0.295858  0.878049  \n936   0.589474      0.666667                0.414201  0.585366  \n...        ...           ...                     ...       ...  \n1149  0.487719      0.212121                0.443787  0.682927  \n430   0.392982      0.606061                0.532544  0.414634  \n1529  0.217544      0.020202                0.514793  0.585366  \n164   0.526316      0.020202                0.467456  0.268293  \n1389  0.305263      0.585859                0.639053  0.463415  \n\n[169 rows x 10 columns]",
      "text/html": "<div>\n<style scoped>\n    .dataframe tbody tr th:only-of-type {\n        vertical-align: middle;\n    }\n\n    .dataframe tbody tr th {\n        vertical-align: top;\n    }\n\n    .dataframe thead th {\n        text-align: right;\n    }\n</style>\n<table border=\"1\" class=\"dataframe\">\n  <thead>\n    <tr style=\"text-align: right;\">\n      <th></th>\n      <th>Popularity</th>\n      <th>Danceability</th>\n      <th>Energy</th>\n      <th>Valence</th>\n      <th>Loudness</th>\n      <th>Speechiness</th>\n      <th>Length</th>\n      <th>Acousticness</th>\n      <th>Beats Per Minute (BPM)</th>\n      <th>Liveness</th>\n    </tr>\n  </thead>\n  <tbody>\n    <tr>\n      <th>427</th>\n      <td>medium</td>\n      <td>0.674419</td>\n      <td>0.872340</td>\n      <td>0.000000</td>\n      <td>0.7500</td>\n      <td>0.4</td>\n      <td>0.649123</td>\n      <td>0.000000</td>\n      <td>0.538462</td>\n      <td>0.853659</td>\n    </tr>\n    <tr>\n      <th>770</th>\n      <td>medium</td>\n      <td>0.418605</td>\n      <td>0.255319</td>\n      <td>0.231579</td>\n      <td>0.5000</td>\n      <td>0.2</td>\n      <td>0.273684</td>\n      <td>0.828283</td>\n      <td>0.402367</td>\n      <td>0.390244</td>\n    </tr>\n    <tr>\n      <th>128</th>\n      <td>medium</td>\n      <td>0.616279</td>\n      <td>0.297872</td>\n      <td>0.452632</td>\n      <td>0.5625</td>\n      <td>0.2</td>\n      <td>0.259649</td>\n      <td>0.747475</td>\n      <td>0.431953</td>\n      <td>0.219512</td>\n    </tr>\n    <tr>\n      <th>256</th>\n      <td>medium</td>\n      <td>0.302326</td>\n      <td>0.776596</td>\n      <td>0.568421</td>\n      <td>0.6250</td>\n      <td>0.4</td>\n      <td>0.410526</td>\n      <td>0.010101</td>\n      <td>0.295858</td>\n      <td>0.878049</td>\n    </tr>\n    <tr>\n      <th>936</th>\n      <td>medium</td>\n      <td>0.406977</td>\n      <td>0.648936</td>\n      <td>0.778947</td>\n      <td>0.6875</td>\n      <td>0.6</td>\n      <td>0.589474</td>\n      <td>0.666667</td>\n      <td>0.414201</td>\n      <td>0.585366</td>\n    </tr>\n    <tr>\n      <th>...</th>\n      <td>...</td>\n      <td>...</td>\n      <td>...</td>\n      <td>...</td>\n      <td>...</td>\n      <td>...</td>\n      <td>...</td>\n      <td>...</td>\n      <td>...</td>\n      <td>...</td>\n    </tr>\n    <tr>\n      <th>1149</th>\n      <td>medium</td>\n      <td>0.581395</td>\n      <td>0.670213</td>\n      <td>0.705263</td>\n      <td>0.4375</td>\n      <td>0.2</td>\n      <td>0.487719</td>\n      <td>0.212121</td>\n      <td>0.443787</td>\n      <td>0.682927</td>\n    </tr>\n    <tr>\n      <th>430</th>\n      <td>medium</td>\n      <td>0.802326</td>\n      <td>0.297872</td>\n      <td>0.515789</td>\n      <td>0.3125</td>\n      <td>0.8</td>\n      <td>0.392982</td>\n      <td>0.606061</td>\n      <td>0.532544</td>\n      <td>0.414634</td>\n    </tr>\n    <tr>\n      <th>1529</th>\n      <td>medium</td>\n      <td>0.511628</td>\n      <td>0.712766</td>\n      <td>0.452632</td>\n      <td>0.5625</td>\n      <td>0.4</td>\n      <td>0.217544</td>\n      <td>0.020202</td>\n      <td>0.514793</td>\n      <td>0.585366</td>\n    </tr>\n    <tr>\n      <th>164</th>\n      <td>medium</td>\n      <td>0.453488</td>\n      <td>0.606383</td>\n      <td>0.042105</td>\n      <td>0.6875</td>\n      <td>0.2</td>\n      <td>0.526316</td>\n      <td>0.020202</td>\n      <td>0.467456</td>\n      <td>0.268293</td>\n    </tr>\n    <tr>\n      <th>1389</th>\n      <td>medium</td>\n      <td>0.825581</td>\n      <td>0.244681</td>\n      <td>0.810526</td>\n      <td>0.1875</td>\n      <td>0.2</td>\n      <td>0.305263</td>\n      <td>0.585859</td>\n      <td>0.639053</td>\n      <td>0.463415</td>\n    </tr>\n  </tbody>\n</table>\n<p>169 rows × 10 columns</p>\n</div>"
     },
     "metadata": {}
    }
   ],
   "execution_count": 10
  },
  {
   "cell_type": "code",
   "metadata": {
    "tags": [],
    "cell_id": "00016-321bcc37-0d63-42b7-a204-d6c40a8c3529",
    "deepnote_to_be_reexecuted": false,
    "source_hash": "f1c93458",
    "execution_start": 1638245905605,
    "execution_millis": 94,
    "deepnote_cell_type": "code"
   },
   "source": "#Equally bin 169\n#randomly sample 169 from data where df['Popularity'] == \"low\"\ndf_low = df[df['Popularity'] == 'low'].sample(169)\ndf_low",
   "outputs": [
    {
     "output_type": "execute_result",
     "execution_count": 11,
     "data": {
      "application/vnd.deepnote.dataframe.v2+json": {
       "row_count": 169,
       "column_count": 10,
       "columns": [
        {
         "name": "Popularity",
         "dtype": "category",
         "stats": {
          "unique_count": 1,
          "nan_count": 0,
          "categories": [
           {
            "name": "low",
            "count": 169
           }
          ]
         }
        },
        {
         "name": "Danceability",
         "dtype": "float64",
         "stats": {
          "unique_count": 55,
          "nan_count": 0,
          "min": "0.08139534883720931",
          "max": "0.8953488372093024",
          "histogram": [
           {
            "bin_start": 0.08139534883720931,
            "bin_end": 0.16279069767441862,
            "count": 6
           },
           {
            "bin_start": 0.16279069767441862,
            "bin_end": 0.24418604651162792,
            "count": 14
           },
           {
            "bin_start": 0.24418604651162792,
            "bin_end": 0.32558139534883723,
            "count": 18
           },
           {
            "bin_start": 0.32558139534883723,
            "bin_end": 0.40697674418604657,
            "count": 31
           },
           {
            "bin_start": 0.40697674418604657,
            "bin_end": 0.4883720930232559,
            "count": 28
           },
           {
            "bin_start": 0.4883720930232559,
            "bin_end": 0.5697674418604651,
            "count": 30
           },
           {
            "bin_start": 0.5697674418604651,
            "bin_end": 0.6511627906976745,
            "count": 25
           },
           {
            "bin_start": 0.6511627906976745,
            "bin_end": 0.7325581395348838,
            "count": 10
           },
           {
            "bin_start": 0.7325581395348838,
            "bin_end": 0.8139534883720931,
            "count": 4
           },
           {
            "bin_start": 0.8139534883720931,
            "bin_end": 0.8953488372093024,
            "count": 3
           }
          ]
         }
        },
        {
         "name": "Energy",
         "dtype": "float64",
         "stats": {
          "unique_count": 69,
          "nan_count": 0,
          "min": "0.02127659574468085",
          "max": "0.9787234042553191",
          "histogram": [
           {
            "bin_start": 0.02127659574468085,
            "bin_end": 0.11702127659574468,
            "count": 3
           },
           {
            "bin_start": 0.11702127659574468,
            "bin_end": 0.2127659574468085,
            "count": 10
           },
           {
            "bin_start": 0.2127659574468085,
            "bin_end": 0.30851063829787234,
            "count": 13
           },
           {
            "bin_start": 0.30851063829787234,
            "bin_end": 0.40425531914893614,
            "count": 29
           },
           {
            "bin_start": 0.40425531914893614,
            "bin_end": 0.49999999999999994,
            "count": 24
           },
           {
            "bin_start": 0.49999999999999994,
            "bin_end": 0.5957446808510639,
            "count": 31
           },
           {
            "bin_start": 0.5957446808510639,
            "bin_end": 0.6914893617021277,
            "count": 9
           },
           {
            "bin_start": 0.6914893617021277,
            "bin_end": 0.7872340425531915,
            "count": 24
           },
           {
            "bin_start": 0.7872340425531915,
            "bin_end": 0.8829787234042553,
            "count": 15
           },
           {
            "bin_start": 0.8829787234042553,
            "bin_end": 0.9787234042553191,
            "count": 11
           }
          ]
         }
        },
        {
         "name": "Valence",
         "dtype": "float64",
         "stats": {
          "unique_count": 75,
          "nan_count": 0,
          "min": "0.0",
          "max": "0.9789473684210527",
          "histogram": [
           {
            "bin_start": 0,
            "bin_end": 0.09789473684210527,
            "count": 8
           },
           {
            "bin_start": 0.09789473684210527,
            "bin_end": 0.19578947368421054,
            "count": 26
           },
           {
            "bin_start": 0.19578947368421054,
            "bin_end": 0.2936842105263158,
            "count": 26
           },
           {
            "bin_start": 0.2936842105263158,
            "bin_end": 0.3915789473684211,
            "count": 21
           },
           {
            "bin_start": 0.3915789473684211,
            "bin_end": 0.48947368421052634,
            "count": 23
           },
           {
            "bin_start": 0.48947368421052634,
            "bin_end": 0.5873684210526317,
            "count": 17
           },
           {
            "bin_start": 0.5873684210526317,
            "bin_end": 0.6852631578947369,
            "count": 20
           },
           {
            "bin_start": 0.6852631578947369,
            "bin_end": 0.7831578947368422,
            "count": 11
           },
           {
            "bin_start": 0.7831578947368422,
            "bin_end": 0.8810526315789474,
            "count": 9
           },
           {
            "bin_start": 0.8810526315789474,
            "bin_end": 0.9789473684210527,
            "count": 8
           }
          ]
         }
        },
        {
         "name": "Loudness",
         "dtype": "float64",
         "stats": {
          "unique_count": 14,
          "nan_count": 0,
          "min": "0.0625",
          "max": "0.875",
          "histogram": [
           {
            "bin_start": 0.0625,
            "bin_end": 0.14375,
            "count": 7
           },
           {
            "bin_start": 0.14375,
            "bin_end": 0.225,
            "count": 6
           },
           {
            "bin_start": 0.225,
            "bin_end": 0.30625,
            "count": 8
           },
           {
            "bin_start": 0.30625,
            "bin_end": 0.3875,
            "count": 21
           },
           {
            "bin_start": 0.3875,
            "bin_end": 0.46875,
            "count": 12
           },
           {
            "bin_start": 0.46875,
            "bin_end": 0.55,
            "count": 12
           },
           {
            "bin_start": 0.55,
            "bin_end": 0.63125,
            "count": 51
           },
           {
            "bin_start": 0.63125,
            "bin_end": 0.7125,
            "count": 22
           },
           {
            "bin_start": 0.7125,
            "bin_end": 0.7937500000000001,
            "count": 16
           },
           {
            "bin_start": 0.7937500000000001,
            "bin_end": 0.875,
            "count": 14
           }
          ]
         }
        },
        {
         "name": "Speechiness",
         "dtype": "float64",
         "stats": {
          "unique_count": 6,
          "nan_count": 0,
          "min": "0.0",
          "max": "1.0",
          "histogram": [
           {
            "bin_start": 0,
            "bin_end": 0.1,
            "count": 4
           },
           {
            "bin_start": 0.1,
            "bin_end": 0.2,
            "count": 0
           },
           {
            "bin_start": 0.2,
            "bin_end": 0.30000000000000004,
            "count": 83
           },
           {
            "bin_start": 0.30000000000000004,
            "bin_end": 0.4,
            "count": 0
           },
           {
            "bin_start": 0.4,
            "bin_end": 0.5,
            "count": 50
           },
           {
            "bin_start": 0.5,
            "bin_end": 0.6000000000000001,
            "count": 16
           },
           {
            "bin_start": 0.6000000000000001,
            "bin_end": 0.7000000000000001,
            "count": 0
           },
           {
            "bin_start": 0.7000000000000001,
            "bin_end": 0.8,
            "count": 0
           },
           {
            "bin_start": 0.8,
            "bin_end": 0.9,
            "count": 12
           },
           {
            "bin_start": 0.9,
            "bin_end": 1,
            "count": 4
           }
          ]
         }
        },
        {
         "name": "Length",
         "dtype": "float64",
         "stats": {
          "unique_count": 112,
          "nan_count": 0,
          "min": "0.056140350877192984",
          "max": "0.9824561403508771",
          "histogram": [
           {
            "bin_start": 0.056140350877192984,
            "bin_end": 0.14877192982456142,
            "count": 5
           },
           {
            "bin_start": 0.14877192982456142,
            "bin_end": 0.24140350877192984,
            "count": 11
           },
           {
            "bin_start": 0.24140350877192984,
            "bin_end": 0.3340350877192983,
            "count": 30
           },
           {
            "bin_start": 0.3340350877192983,
            "bin_end": 0.4266666666666667,
            "count": 39
           },
           {
            "bin_start": 0.4266666666666667,
            "bin_end": 0.519298245614035,
            "count": 40
           },
           {
            "bin_start": 0.519298245614035,
            "bin_end": 0.6119298245614035,
            "count": 20
           },
           {
            "bin_start": 0.6119298245614035,
            "bin_end": 0.7045614035087719,
            "count": 9
           },
           {
            "bin_start": 0.7045614035087719,
            "bin_end": 0.7971929824561403,
            "count": 7
           },
           {
            "bin_start": 0.7971929824561403,
            "bin_end": 0.8898245614035087,
            "count": 4
           },
           {
            "bin_start": 0.8898245614035087,
            "bin_end": 0.9824561403508771,
            "count": 4
           }
          ]
         }
        },
        {
         "name": "Acousticness",
         "dtype": "float64",
         "stats": {
          "unique_count": 63,
          "nan_count": 0,
          "min": "0.0",
          "max": "0.98989898989899",
          "histogram": [
           {
            "bin_start": 0,
            "bin_end": 0.09898989898989899,
            "count": 57
           },
           {
            "bin_start": 0.09898989898989899,
            "bin_end": 0.19797979797979798,
            "count": 28
           },
           {
            "bin_start": 0.19797979797979798,
            "bin_end": 0.296969696969697,
            "count": 8
           },
           {
            "bin_start": 0.296969696969697,
            "bin_end": 0.39595959595959596,
            "count": 9
           },
           {
            "bin_start": 0.39595959595959596,
            "bin_end": 0.4949494949494949,
            "count": 8
           },
           {
            "bin_start": 0.4949494949494949,
            "bin_end": 0.593939393939394,
            "count": 9
           },
           {
            "bin_start": 0.593939393939394,
            "bin_end": 0.692929292929293,
            "count": 17
           },
           {
            "bin_start": 0.692929292929293,
            "bin_end": 0.7919191919191919,
            "count": 16
           },
           {
            "bin_start": 0.7919191919191919,
            "bin_end": 0.8909090909090909,
            "count": 8
           },
           {
            "bin_start": 0.8909090909090909,
            "bin_end": 0.98989898989899,
            "count": 9
           }
          ]
         }
        },
        {
         "name": "Beats Per Minute (BPM)",
         "dtype": "float64",
         "stats": {
          "unique_count": 92,
          "nan_count": 0,
          "min": "0.10059171597633136",
          "max": "0.9940828402366864",
          "histogram": [
           {
            "bin_start": 0.10059171597633136,
            "bin_end": 0.18994082840236687,
            "count": 3
           },
           {
            "bin_start": 0.18994082840236687,
            "bin_end": 0.27928994082840236,
            "count": 17
           },
           {
            "bin_start": 0.27928994082840236,
            "bin_end": 0.3686390532544379,
            "count": 36
           },
           {
            "bin_start": 0.3686390532544379,
            "bin_end": 0.4579881656804734,
            "count": 24
           },
           {
            "bin_start": 0.4579881656804734,
            "bin_end": 0.5473372781065089,
            "count": 30
           },
           {
            "bin_start": 0.5473372781065089,
            "bin_end": 0.6366863905325444,
            "count": 26
           },
           {
            "bin_start": 0.6366863905325444,
            "bin_end": 0.7260355029585799,
            "count": 10
           },
           {
            "bin_start": 0.7260355029585799,
            "bin_end": 0.8153846153846154,
            "count": 13
           },
           {
            "bin_start": 0.8153846153846154,
            "bin_end": 0.9047337278106509,
            "count": 6
           },
           {
            "bin_start": 0.9047337278106509,
            "bin_end": 0.9940828402366864,
            "count": 4
           }
          ]
         }
        },
        {
         "name": "Liveness",
         "dtype": "float64",
         "stats": {
          "unique_count": 37,
          "nan_count": 0,
          "min": "0.0",
          "max": "0.975609756097561",
          "histogram": [
           {
            "bin_start": 0,
            "bin_end": 0.0975609756097561,
            "count": 6
           },
           {
            "bin_start": 0.0975609756097561,
            "bin_end": 0.1951219512195122,
            "count": 33
           },
           {
            "bin_start": 0.1951219512195122,
            "bin_end": 0.29268292682926833,
            "count": 61
           },
           {
            "bin_start": 0.29268292682926833,
            "bin_end": 0.3902439024390244,
            "count": 16
           },
           {
            "bin_start": 0.3902439024390244,
            "bin_end": 0.4878048780487805,
            "count": 14
           },
           {
            "bin_start": 0.4878048780487805,
            "bin_end": 0.5853658536585367,
            "count": 17
           },
           {
            "bin_start": 0.5853658536585367,
            "bin_end": 0.6829268292682927,
            "count": 6
           },
           {
            "bin_start": 0.6829268292682927,
            "bin_end": 0.7804878048780488,
            "count": 5
           },
           {
            "bin_start": 0.7804878048780488,
            "bin_end": 0.8780487804878049,
            "count": 6
           },
           {
            "bin_start": 0.8780487804878049,
            "bin_end": 0.975609756097561,
            "count": 5
           }
          ]
         }
        },
        {
         "name": "_deepnote_index_column",
         "dtype": "int64"
        }
       ],
       "rows_top": [
        {
         "Popularity": "low",
         "Danceability": 0.20930232558139536,
         "Energy": 0.32978723404255317,
         "Valence": 0.30526315789473685,
         "Loudness": 0.3125,
         "Speechiness": 0.4,
         "Length": 0.3017543859649123,
         "Acousticness": 0.6161616161616161,
         "Beats Per Minute (BPM)": 0.9585798816568047,
         "Liveness": 0.2926829268292683,
         "_deepnote_index_column": 296
        },
        {
         "Popularity": "low",
         "Danceability": 0.4069767441860465,
         "Energy": 0.5957446808510638,
         "Valence": 0.4631578947368421,
         "Loudness": 0.6875,
         "Speechiness": 0.2,
         "Length": 0.3157894736842105,
         "Acousticness": 0.020202020202020204,
         "Beats Per Minute (BPM)": 0.7869822485207101,
         "Liveness": 0.17073170731707318,
         "_deepnote_index_column": 145
        },
        {
         "Popularity": "low",
         "Danceability": 0.46511627906976744,
         "Energy": 0.3723404255319149,
         "Valence": 0.11578947368421053,
         "Loudness": 0.5625,
         "Speechiness": 0.2,
         "Length": 0.3719298245614035,
         "Acousticness": 0.3434343434343434,
         "Beats Per Minute (BPM)": 0.5207100591715976,
         "Liveness": 0.24390243902439024,
         "_deepnote_index_column": 559
        },
        {
         "Popularity": "low",
         "Danceability": 0.3488372093023256,
         "Energy": 0.2765957446808511,
         "Valence": 0.28421052631578947,
         "Loudness": 0.625,
         "Speechiness": 0.2,
         "Length": 0.5017543859649123,
         "Acousticness": 0.9292929292929293,
         "Beats Per Minute (BPM)": 0.3905325443786982,
         "Liveness": 0.24390243902439024,
         "_deepnote_index_column": 561
        },
        {
         "Popularity": "low",
         "Danceability": 0.5930232558139535,
         "Energy": 0.3723404255319149,
         "Valence": 0.7052631578947368,
         "Loudness": 0.1875,
         "Speechiness": 0.2,
         "Length": 0.43859649122807015,
         "Acousticness": 0.10101010101010101,
         "Beats Per Minute (BPM)": 0.40236686390532544,
         "Liveness": 0.07317073170731707,
         "_deepnote_index_column": 956
        },
        {
         "Popularity": "low",
         "Danceability": 0.5348837209302325,
         "Energy": 0.3404255319148936,
         "Valence": 0.25263157894736843,
         "Loudness": 0.5,
         "Speechiness": 0.4,
         "Length": 0.22105263157894736,
         "Acousticness": 0.9393939393939394,
         "Beats Per Minute (BPM)": 0.25443786982248523,
         "Liveness": 0.17073170731707318,
         "_deepnote_index_column": 452
        },
        {
         "Popularity": "low",
         "Danceability": 0.4186046511627907,
         "Energy": 0.4148936170212766,
         "Valence": 0.11578947368421053,
         "Loudness": 0.5625,
         "Speechiness": 0.2,
         "Length": 0.6140350877192983,
         "Acousticness": 0.6666666666666666,
         "Beats Per Minute (BPM)": 0.5976331360946746,
         "Liveness": 0.1951219512195122,
         "_deepnote_index_column": 90
        },
        {
         "Popularity": "low",
         "Danceability": 0.686046511627907,
         "Energy": 0.18085106382978725,
         "Valence": 0.45263157894736844,
         "Loudness": 0.1875,
         "Speechiness": 0.8,
         "Length": 0.4,
         "Acousticness": 0.9292929292929293,
         "Beats Per Minute (BPM)": 0.31952662721893493,
         "Liveness": 0.21951219512195122,
         "_deepnote_index_column": 1382
        },
        {
         "Popularity": "low",
         "Danceability": 0.43023255813953487,
         "Energy": 0.574468085106383,
         "Valence": 0.14736842105263157,
         "Loudness": 0.625,
         "Speechiness": 0.2,
         "Length": 0.4105263157894737,
         "Acousticness": 0.42424242424242425,
         "Beats Per Minute (BPM)": 0.514792899408284,
         "Liveness": 0.6341463414634146,
         "_deepnote_index_column": 42
        },
        {
         "Popularity": "low",
         "Danceability": 0.3488372093023256,
         "Energy": 0.723404255319149,
         "Valence": 0.47368421052631576,
         "Loudness": 0.75,
         "Speechiness": 0.4,
         "Length": 0.43508771929824563,
         "Acousticness": 0.32323232323232326,
         "Beats Per Minute (BPM)": 0.4970414201183432,
         "Liveness": 0.43902439024390244,
         "_deepnote_index_column": 921
        },
        {
         "Popularity": "low",
         "Danceability": 0.5348837209302325,
         "Energy": 0.39361702127659576,
         "Valence": 0.43157894736842106,
         "Loudness": 0.625,
         "Speechiness": 1,
         "Length": 0.5263157894736842,
         "Acousticness": 0.9191919191919192,
         "Beats Per Minute (BPM)": 0.4378698224852071,
         "Liveness": 0.9512195121951219,
         "_deepnote_index_column": 932
        },
        {
         "Popularity": "low",
         "Danceability": 0.6395348837209303,
         "Energy": 0.7340425531914894,
         "Valence": 0.5052631578947369,
         "Loudness": 0.6875,
         "Speechiness": 0.2,
         "Length": 0.4982456140350877,
         "Acousticness": 0.18181818181818182,
         "Beats Per Minute (BPM)": 0.4437869822485207,
         "Liveness": 0.5121951219512195,
         "_deepnote_index_column": 15
        },
        {
         "Popularity": "low",
         "Danceability": 0.1511627906976744,
         "Energy": 0.5638297872340425,
         "Valence": 0.47368421052631576,
         "Loudness": 0.6875,
         "Speechiness": 0.2,
         "Length": 0.6070175438596491,
         "Acousticness": 0.08080808080808081,
         "Beats Per Minute (BPM)": 0.1834319526627219,
         "Liveness": 0.17073170731707318,
         "_deepnote_index_column": 600
        },
        {
         "Popularity": "low",
         "Danceability": 0.627906976744186,
         "Energy": 0.8404255319148937,
         "Valence": 0.8947368421052632,
         "Loudness": 0.625,
         "Speechiness": 0.4,
         "Length": 0.34035087719298246,
         "Acousticness": 0.42424242424242425,
         "Beats Per Minute (BPM)": 0.33136094674556216,
         "Liveness": 0.4634146341463415,
         "_deepnote_index_column": 606
        },
        {
         "Popularity": "low",
         "Danceability": 0.45348837209302323,
         "Energy": 0.48936170212765956,
         "Valence": 0.6631578947368421,
         "Loudness": 0.3125,
         "Speechiness": 0.8,
         "Length": 0.312280701754386,
         "Acousticness": 0.010101010101010102,
         "Beats Per Minute (BPM)": 0.38461538461538464,
         "Liveness": 0.12195121951219512,
         "_deepnote_index_column": 1228
        },
        {
         "Popularity": "low",
         "Danceability": 0.36046511627906974,
         "Energy": 0.7659574468085106,
         "Valence": 0.4105263157894737,
         "Loudness": 0.625,
         "Speechiness": 0.4,
         "Length": 0.9438596491228071,
         "Acousticness": 0.5151515151515151,
         "Beats Per Minute (BPM)": 0.3076923076923077,
         "Liveness": 0.5365853658536586,
         "_deepnote_index_column": 1360
        },
        {
         "Popularity": "low",
         "Danceability": 0.23255813953488372,
         "Energy": 0.5957446808510638,
         "Valence": 0.30526315789473685,
         "Loudness": 0.6875,
         "Speechiness": 0.2,
         "Length": 0.4631578947368421,
         "Acousticness": 0.06060606060606061,
         "Beats Per Minute (BPM)": 0.9526627218934911,
         "Liveness": 0.3170731707317073,
         "_deepnote_index_column": 592
        },
        {
         "Popularity": "low",
         "Danceability": 0.5697674418604651,
         "Energy": 0.5319148936170213,
         "Valence": 0.4842105263157895,
         "Loudness": 0.625,
         "Speechiness": 0.2,
         "Length": 0.1824561403508772,
         "Acousticness": 0,
         "Beats Per Minute (BPM)": 0.5976331360946746,
         "Liveness": 0.6585365853658537,
         "_deepnote_index_column": 139
        },
        {
         "Popularity": "low",
         "Danceability": 0.5465116279069767,
         "Energy": 0.46808510638297873,
         "Valence": 0.7263157894736842,
         "Loudness": 0.4375,
         "Speechiness": 0.6,
         "Length": 0.21052631578947367,
         "Acousticness": 0.020202020202020204,
         "Beats Per Minute (BPM)": 0.6094674556213018,
         "Liveness": 0.36585365853658536,
         "_deepnote_index_column": 601
        },
        {
         "Popularity": "low",
         "Danceability": 0.32558139534883723,
         "Energy": 0.44680851063829785,
         "Valence": 0.28421052631578947,
         "Loudness": 0.375,
         "Speechiness": 0.6,
         "Length": 0.24912280701754386,
         "Acousticness": 0.3434343434343434,
         "Beats Per Minute (BPM)": 0.9940828402366864,
         "Liveness": 0.17073170731707318,
         "_deepnote_index_column": 219
        },
        {
         "Popularity": "low",
         "Danceability": 0.7325581395348837,
         "Energy": 0.44680851063829785,
         "Valence": 0.5684210526315789,
         "Loudness": 0.3125,
         "Speechiness": 0.4,
         "Length": 0.5789473684210527,
         "Acousticness": 0.1717171717171717,
         "Beats Per Minute (BPM)": 0.47337278106508873,
         "Liveness": 0.2926829268292683,
         "_deepnote_index_column": 1009
        },
        {
         "Popularity": "low",
         "Danceability": 0.46511627906976744,
         "Energy": 0.723404255319149,
         "Valence": 0.43157894736842106,
         "Loudness": 0.75,
         "Speechiness": 0.2,
         "Length": 0.28421052631578947,
         "Acousticness": 0.1414141414141414,
         "Beats Per Minute (BPM)": 0.2485207100591716,
         "Liveness": 0.7073170731707317,
         "_deepnote_index_column": 357
        },
        {
         "Popularity": "low",
         "Danceability": 0.3953488372093023,
         "Energy": 0.35106382978723405,
         "Valence": 0.15789473684210525,
         "Loudness": 0.4375,
         "Speechiness": 0.2,
         "Length": 0.5052631578947369,
         "Acousticness": 0.36363636363636365,
         "Beats Per Minute (BPM)": 0.8106508875739645,
         "Liveness": 0.1951219512195122,
         "_deepnote_index_column": 1392
        },
        {
         "Popularity": "low",
         "Danceability": 0.5697674418604651,
         "Energy": 0.7978723404255319,
         "Valence": 0.29473684210526313,
         "Loudness": 0.6875,
         "Speechiness": 1,
         "Length": 0.3543859649122807,
         "Acousticness": 0.5050505050505051,
         "Beats Per Minute (BPM)": 0.3727810650887574,
         "Liveness": 0.17073170731707318,
         "_deepnote_index_column": 323
        },
        {
         "Popularity": "low",
         "Danceability": 0.5930232558139535,
         "Energy": 0.8404255319148937,
         "Valence": 0.5263157894736842,
         "Loudness": 0.6875,
         "Speechiness": 0.4,
         "Length": 0.4105263157894737,
         "Acousticness": 0,
         "Beats Per Minute (BPM)": 0.5621301775147929,
         "Liveness": 0.14634146341463414,
         "_deepnote_index_column": 286
        },
        {
         "Popularity": "low",
         "Danceability": 0.13953488372093023,
         "Energy": 0.7978723404255319,
         "Valence": 0.23157894736842105,
         "Loudness": 0.75,
         "Speechiness": 0.4,
         "Length": 0.6035087719298246,
         "Acousticness": 0,
         "Beats Per Minute (BPM)": 0.34911242603550297,
         "Liveness": 0.17073170731707318,
         "_deepnote_index_column": 1380
        },
        {
         "Popularity": "low",
         "Danceability": 0.5116279069767442,
         "Energy": 0.3723404255319149,
         "Valence": 0.1368421052631579,
         "Loudness": 0.625,
         "Speechiness": 0.4,
         "Length": 0.3543859649122807,
         "Acousticness": 0.6666666666666666,
         "Beats Per Minute (BPM)": 0.24260355029585798,
         "Liveness": 0.21951219512195122,
         "_deepnote_index_column": 496
        },
        {
         "Popularity": "low",
         "Danceability": 0.43023255813953487,
         "Energy": 0.8404255319148937,
         "Valence": 0.7368421052631579,
         "Loudness": 0.75,
         "Speechiness": 0.6,
         "Length": 0.39649122807017545,
         "Acousticness": 0.06060606060606061,
         "Beats Per Minute (BPM)": 0.5088757396449705,
         "Liveness": 0.1951219512195122,
         "_deepnote_index_column": 326
        },
        {
         "Popularity": "low",
         "Danceability": 0.4069767441860465,
         "Energy": 0.7340425531914894,
         "Valence": 0.9473684210526315,
         "Loudness": 0.5,
         "Speechiness": 0.8,
         "Length": 0.28771929824561404,
         "Acousticness": 0.020202020202020204,
         "Beats Per Minute (BPM)": 0.6863905325443787,
         "Liveness": 0.5121951219512195,
         "_deepnote_index_column": 1090
        },
        {
         "Popularity": "low",
         "Danceability": 0.6744186046511628,
         "Energy": 0.1276595744680851,
         "Valence": 0.21052631578947367,
         "Loudness": 0.5625,
         "Speechiness": 0.2,
         "Length": 0.49473684210526314,
         "Acousticness": 0.8484848484848485,
         "Beats Per Minute (BPM)": 0.44970414201183434,
         "Liveness": 0.1951219512195122,
         "_deepnote_index_column": 630
        },
        {
         "Popularity": "low",
         "Danceability": 0.5,
         "Energy": 0.8191489361702128,
         "Valence": 0.6842105263157895,
         "Loudness": 0.75,
         "Speechiness": 0.4,
         "Length": 0.28421052631578947,
         "Acousticness": 0.010101010101010102,
         "Beats Per Minute (BPM)": 0.3076923076923077,
         "Liveness": 0.17073170731707318,
         "_deepnote_index_column": 492
        },
        {
         "Popularity": "low",
         "Danceability": 0.627906976744186,
         "Energy": 0.26595744680851063,
         "Valence": 0.42105263157894735,
         "Loudness": 0.5,
         "Speechiness": 0.2,
         "Length": 0.41754385964912283,
         "Acousticness": 0.6262626262626263,
         "Beats Per Minute (BPM)": 0.3136094674556213,
         "Liveness": 0.1951219512195122,
         "_deepnote_index_column": 564
        },
        {
         "Popularity": "low",
         "Danceability": 0.4069767441860465,
         "Energy": 0.7446808510638298,
         "Valence": 0.4,
         "Loudness": 0.75,
         "Speechiness": 0.8,
         "Length": 0.43508771929824563,
         "Acousticness": 0.1717171717171717,
         "Beats Per Minute (BPM)": 0.7869822485207101,
         "Liveness": 0.3902439024390244,
         "_deepnote_index_column": 419
        },
        {
         "Popularity": "low",
         "Danceability": 0.22093023255813954,
         "Energy": 0.5212765957446809,
         "Valence": 0.12631578947368421,
         "Loudness": 0.625,
         "Speechiness": 0.4,
         "Length": 0.4631578947368421,
         "Acousticness": 0.29292929292929293,
         "Beats Per Minute (BPM)": 0.8402366863905325,
         "Liveness": 0.24390243902439024,
         "_deepnote_index_column": 233
        },
        {
         "Popularity": "low",
         "Danceability": 0.1744186046511628,
         "Energy": 0.2127659574468085,
         "Valence": 0.29473684210526313,
         "Loudness": 0.0625,
         "Speechiness": 0.2,
         "Length": 0.5087719298245614,
         "Acousticness": 0.9191919191919192,
         "Beats Per Minute (BPM)": 0.2603550295857988,
         "Liveness": 0.4634146341463415,
         "_deepnote_index_column": 762
        },
        {
         "Popularity": "low",
         "Danceability": 0.5,
         "Energy": 0.7659574468085106,
         "Valence": 0.43157894736842106,
         "Loudness": 0.75,
         "Speechiness": 0.2,
         "Length": 0.3263157894736842,
         "Acousticness": 0.010101010101010102,
         "Beats Per Minute (BPM)": 0.33727810650887574,
         "Liveness": 0.5853658536585366,
         "_deepnote_index_column": 1292
        },
        {
         "Popularity": "low",
         "Danceability": 0.27906976744186046,
         "Energy": 0.6808510638297872,
         "Valence": 0.17894736842105263,
         "Loudness": 0.5625,
         "Speechiness": 0.4,
         "Length": 0.7789473684210526,
         "Acousticness": 0,
         "Beats Per Minute (BPM)": 0.5621301775147929,
         "Liveness": 0.7804878048780488,
         "_deepnote_index_column": 546
        },
        {
         "Popularity": "low",
         "Danceability": 0.37209302325581395,
         "Energy": 0.7021276595744681,
         "Valence": 0.631578947368421,
         "Loudness": 0.4375,
         "Speechiness": 0.2,
         "Length": 0.3017543859649123,
         "Acousticness": 0.1414141414141414,
         "Beats Per Minute (BPM)": 0.5621301775147929,
         "Liveness": 0.024390243902439025,
         "_deepnote_index_column": 605
        },
        {
         "Popularity": "low",
         "Danceability": 0.5232558139534884,
         "Energy": 0.9148936170212766,
         "Valence": 0.631578947368421,
         "Loudness": 0.8125,
         "Speechiness": 1,
         "Length": 0.21403508771929824,
         "Acousticness": 0.010101010101010102,
         "Beats Per Minute (BPM)": 0.6390532544378699,
         "Liveness": 0.8048780487804879,
         "_deepnote_index_column": 548
        },
        {
         "Popularity": "low",
         "Danceability": 0.6162790697674418,
         "Energy": 0.2978723404255319,
         "Valence": 0.631578947368421,
         "Loudness": 0.1875,
         "Speechiness": 0.2,
         "Length": 0.38596491228070173,
         "Acousticness": 0.8383838383838383,
         "Beats Per Minute (BPM)": 0.2958579881656805,
         "Liveness": 0.2682926829268293,
         "_deepnote_index_column": 1124
        },
        {
         "Popularity": "low",
         "Danceability": 0.46511627906976744,
         "Energy": 0.7553191489361702,
         "Valence": 0.6,
         "Loudness": 0.8125,
         "Speechiness": 0.2,
         "Length": 0.312280701754386,
         "Acousticness": 0.09090909090909091,
         "Beats Per Minute (BPM)": 0.2603550295857988,
         "Liveness": 0.5853658536585366,
         "_deepnote_index_column": 433
        },
        {
         "Popularity": "low",
         "Danceability": 0.4418604651162791,
         "Energy": 0.3404255319148936,
         "Valence": 0.1368421052631579,
         "Loudness": 0.1875,
         "Speechiness": 0.4,
         "Length": 0.5543859649122806,
         "Acousticness": 0.6666666666666666,
         "Beats Per Minute (BPM)": 0.3609467455621302,
         "Liveness": 0.24390243902439024,
         "_deepnote_index_column": 1312
        },
        {
         "Popularity": "low",
         "Danceability": 0.29069767441860467,
         "Energy": 0.35106382978723405,
         "Valence": 0.3368421052631579,
         "Loudness": 0.625,
         "Speechiness": 0.2,
         "Length": 0.3894736842105263,
         "Acousticness": 0.6161616161616161,
         "Beats Per Minute (BPM)": 0.7337278106508875,
         "Liveness": 0.3170731707317073,
         "_deepnote_index_column": 494
        },
        {
         "Popularity": "low",
         "Danceability": 0.5930232558139535,
         "Energy": 0.20212765957446807,
         "Valence": 0.3473684210526316,
         "Loudness": 0.0625,
         "Speechiness": 0.2,
         "Length": 0.6,
         "Acousticness": 0.7676767676767676,
         "Beats Per Minute (BPM)": 0.40236686390532544,
         "Liveness": 0.5609756097560976,
         "_deepnote_index_column": 536
        },
        {
         "Popularity": "low",
         "Danceability": 0.5348837209302325,
         "Energy": 0.13829787234042554,
         "Valence": 0.22105263157894736,
         "Loudness": 0.3125,
         "Speechiness": 0.2,
         "Length": 0.3649122807017544,
         "Acousticness": 0.8181818181818182,
         "Beats Per Minute (BPM)": 0.33727810650887574,
         "Liveness": 0.12195121951219512,
         "_deepnote_index_column": 300
        },
        {
         "Popularity": "low",
         "Danceability": 0.6162790697674418,
         "Energy": 0.8829787234042553,
         "Valence": 0.47368421052631576,
         "Loudness": 0.8125,
         "Speechiness": 0.4,
         "Length": 0.43157894736842106,
         "Acousticness": 0.04040404040404041,
         "Beats Per Minute (BPM)": 0.5739644970414202,
         "Liveness": 0.36585365853658536,
         "_deepnote_index_column": 221
        },
        {
         "Popularity": "low",
         "Danceability": 0.16279069767441862,
         "Energy": 0.1595744680851064,
         "Valence": 0.24210526315789474,
         "Loudness": 0.25,
         "Speechiness": 0.2,
         "Length": 0.7929824561403509,
         "Acousticness": 0.98989898989899,
         "Beats Per Minute (BPM)": 0.24260355029585798,
         "Liveness": 0.21951219512195122,
         "_deepnote_index_column": 387
        },
        {
         "Popularity": "low",
         "Danceability": 0.5581395348837209,
         "Energy": 0.925531914893617,
         "Valence": 0.7684210526315789,
         "Loudness": 0.8125,
         "Speechiness": 0.8,
         "Length": 0.20350877192982456,
         "Acousticness": 0,
         "Beats Per Minute (BPM)": 0.6153846153846154,
         "Liveness": 0.43902439024390244,
         "_deepnote_index_column": 229
        },
        {
         "Popularity": "low",
         "Danceability": 0.46511627906976744,
         "Energy": 0.0851063829787234,
         "Valence": 0.25263157894736843,
         "Loudness": 0.3125,
         "Speechiness": 0.8,
         "Length": 0.4807017543859649,
         "Acousticness": 0.8888888888888888,
         "Beats Per Minute (BPM)": 0.8106508875739645,
         "Liveness": 0.1951219512195122,
         "_deepnote_index_column": 479
        },
        {
         "Popularity": "low",
         "Danceability": 0.19767441860465115,
         "Energy": 0.3829787234042553,
         "Valence": 0.29473684210526313,
         "Loudness": 0.625,
         "Speechiness": 0.2,
         "Length": 0.47719298245614034,
         "Acousticness": 0.29292929292929293,
         "Beats Per Minute (BPM)": 0.27218934911242604,
         "Liveness": 0.24390243902439024,
         "_deepnote_index_column": 486
        }
       ],
       "rows_bottom": [
        {
         "Popularity": "low",
         "Danceability": 0.6162790697674418,
         "Energy": 0.723404255319149,
         "Valence": 0.4842105263157895,
         "Loudness": 0.75,
         "Speechiness": 0.2,
         "Length": 0.7192982456140351,
         "Acousticness": 0.09090909090909091,
         "Beats Per Minute (BPM)": 0.3076923076923077,
         "Liveness": 0.34146341463414637,
         "_deepnote_index_column": 338
        },
        {
         "Popularity": "low",
         "Danceability": 0.45348837209302323,
         "Energy": 0.14893617021276595,
         "Valence": 0.17894736842105263,
         "Loudness": 0.125,
         "Speechiness": 0.4,
         "Length": 0.45263157894736844,
         "Acousticness": 0.7272727272727273,
         "Beats Per Minute (BPM)": 0.22485207100591717,
         "Liveness": 0.4878048780487805,
         "_deepnote_index_column": 1157
        },
        {
         "Popularity": "low",
         "Danceability": 0.32558139534883723,
         "Energy": 0.32978723404255317,
         "Valence": 0.21052631578947367,
         "Loudness": 0.4375,
         "Speechiness": 0.4,
         "Length": 0.4631578947368421,
         "Acousticness": 0.7171717171717171,
         "Beats Per Minute (BPM)": 0.5384615384615384,
         "Liveness": 0.6585365853658537,
         "_deepnote_index_column": 661
        },
        {
         "Popularity": "low",
         "Danceability": 0.5813953488372093,
         "Energy": 0.43617021276595747,
         "Valence": 0.8,
         "Loudness": 0.375,
         "Speechiness": 0.4,
         "Length": 0.2982456140350877,
         "Acousticness": 0.10101010101010101,
         "Beats Per Minute (BPM)": 0.5562130177514792,
         "Liveness": 0.4878048780487805,
         "_deepnote_index_column": 531
        },
        {
         "Popularity": "low",
         "Danceability": 0.23255813953488372,
         "Energy": 0.2553191489361702,
         "Valence": 0.10526315789473684,
         "Loudness": 0.125,
         "Speechiness": 0.6,
         "Length": 0.5649122807017544,
         "Acousticness": 0.6767676767676768,
         "Beats Per Minute (BPM)": 0.834319526627219,
         "Liveness": 0.6585365853658537,
         "_deepnote_index_column": 898
        },
        {
         "Popularity": "low",
         "Danceability": 0.3023255813953488,
         "Energy": 0.4787234042553192,
         "Valence": 0.3684210526315789,
         "Loudness": 0.75,
         "Speechiness": 0.2,
         "Length": 0.47368421052631576,
         "Acousticness": 0,
         "Beats Per Minute (BPM)": 0.7928994082840237,
         "Liveness": 0.34146341463414637,
         "_deepnote_index_column": 490
        },
        {
         "Popularity": "low",
         "Danceability": 0.29069767441860467,
         "Energy": 0.7872340425531915,
         "Valence": 0.8,
         "Loudness": 0.8125,
         "Speechiness": 0.4,
         "Length": 0.3929824561403509,
         "Acousticness": 0.16161616161616163,
         "Beats Per Minute (BPM)": 0.8165680473372781,
         "Liveness": 0.8780487804878049,
         "_deepnote_index_column": 190
        },
        {
         "Popularity": "low",
         "Danceability": 0.08139534883720931,
         "Energy": 0.3829787234042553,
         "Valence": 0.05263157894736842,
         "Loudness": 0.625,
         "Speechiness": 0.2,
         "Length": 0.29473684210526313,
         "Acousticness": 0.6161616161616161,
         "Beats Per Minute (BPM)": 0.28402366863905326,
         "Liveness": 0.21951219512195122,
         "_deepnote_index_column": 481
        },
        {
         "Popularity": "low",
         "Danceability": 0.4883720930232558,
         "Energy": 0.2872340425531915,
         "Valence": 0.28421052631578947,
         "Loudness": 0.375,
         "Speechiness": 0.2,
         "Length": 0.7578947368421053,
         "Acousticness": 0.7474747474747475,
         "Beats Per Minute (BPM)": 0.40828402366863903,
         "Liveness": 0.2682926829268293,
         "_deepnote_index_column": 620
        },
        {
         "Popularity": "low",
         "Danceability": 0.32558139534883723,
         "Energy": 0.46808510638297873,
         "Valence": 0.16842105263157894,
         "Loudness": 0.5625,
         "Speechiness": 0.2,
         "Length": 0.5684210526315789,
         "Acousticness": 0.2222222222222222,
         "Beats Per Minute (BPM)": 0.5384615384615384,
         "Liveness": 0.926829268292683,
         "_deepnote_index_column": 764
        },
        {
         "Popularity": "low",
         "Danceability": 0.4883720930232558,
         "Energy": 0.925531914893617,
         "Valence": 0.7263157894736842,
         "Loudness": 0.6875,
         "Speechiness": 0.6,
         "Length": 0.40350877192982454,
         "Acousticness": 0.020202020202020204,
         "Beats Per Minute (BPM)": 0.5207100591715976,
         "Liveness": 0,
         "_deepnote_index_column": 156
        },
        {
         "Popularity": "low",
         "Danceability": 0.3488372093023256,
         "Energy": 0.574468085106383,
         "Valence": 0.3473684210526316,
         "Loudness": 0.5625,
         "Speechiness": 0.4,
         "Length": 0.5052631578947369,
         "Acousticness": 0.08080808080808081,
         "Beats Per Minute (BPM)": 0.5325443786982249,
         "Liveness": 0.21951219512195122,
         "_deepnote_index_column": 321
        },
        {
         "Popularity": "low",
         "Danceability": 0.4883720930232558,
         "Energy": 0.5106382978723404,
         "Valence": 0.3263157894736842,
         "Loudness": 0.25,
         "Speechiness": 0.2,
         "Length": 0.4666666666666667,
         "Acousticness": 0.0707070707070707,
         "Beats Per Minute (BPM)": 0.4319526627218935,
         "Liveness": 0.07317073170731707,
         "_deepnote_index_column": 1096
        },
        {
         "Popularity": "low",
         "Danceability": 0.46511627906976744,
         "Energy": 0.9042553191489362,
         "Valence": 0.6631578947368421,
         "Loudness": 0.6875,
         "Speechiness": 0.8,
         "Length": 0.5473684210526316,
         "Acousticness": 0.010101010101010102,
         "Beats Per Minute (BPM)": 0.3254437869822485,
         "Liveness": 0.3170731707317073,
         "_deepnote_index_column": 73
        },
        {
         "Popularity": "low",
         "Danceability": 0.5,
         "Energy": 0.43617021276595747,
         "Valence": 0.18947368421052632,
         "Loudness": 0.5,
         "Speechiness": 0.2,
         "Length": 0.6035087719298246,
         "Acousticness": 0.08080808080808081,
         "Beats Per Minute (BPM)": 0.514792899408284,
         "Liveness": 0.43902439024390244,
         "_deepnote_index_column": 171
        },
        {
         "Popularity": "low",
         "Danceability": 0.5813953488372093,
         "Energy": 0.8723404255319149,
         "Valence": 0.42105263157894735,
         "Loudness": 0.8125,
         "Speechiness": 0.2,
         "Length": 0.3368421052631579,
         "Acousticness": 0.030303030303030304,
         "Beats Per Minute (BPM)": 0.4378698224852071,
         "Liveness": 0.21951219512195122,
         "_deepnote_index_column": 188
        },
        {
         "Popularity": "low",
         "Danceability": 0.5116279069767442,
         "Energy": 0.6702127659574468,
         "Valence": 0.45263157894736844,
         "Loudness": 0.5625,
         "Speechiness": 0.8,
         "Length": 0.3508771929824561,
         "Acousticness": 0.010101010101010102,
         "Beats Per Minute (BPM)": 0.33727810650887574,
         "Liveness": 0.17073170731707318,
         "_deepnote_index_column": 614
        },
        {
         "Popularity": "low",
         "Danceability": 0.29069767441860467,
         "Energy": 0.35106382978723405,
         "Valence": 0.5157894736842106,
         "Loudness": 0.5,
         "Speechiness": 0.4,
         "Length": 0.47017543859649125,
         "Acousticness": 0.7373737373737373,
         "Beats Per Minute (BPM)": 0.2958579881656805,
         "Liveness": 0.24390243902439024,
         "_deepnote_index_column": 595
        },
        {
         "Popularity": "low",
         "Danceability": 0.32558139534883723,
         "Energy": 0.30851063829787234,
         "Valence": 0.042105263157894736,
         "Loudness": 0.4375,
         "Speechiness": 0.2,
         "Length": 0.34385964912280703,
         "Acousticness": 0.09090909090909091,
         "Beats Per Minute (BPM)": 0.33727810650887574,
         "Liveness": 0.14634146341463414,
         "_deepnote_index_column": 462
        },
        {
         "Popularity": "low",
         "Danceability": 0.6511627906976745,
         "Energy": 0.6063829787234043,
         "Valence": 0.6526315789473685,
         "Loudness": 0.5625,
         "Speechiness": 0.2,
         "Length": 0.4807017543859649,
         "Acousticness": 0.5151515151515151,
         "Beats Per Minute (BPM)": 0.3609467455621302,
         "Liveness": 0.12195121951219512,
         "_deepnote_index_column": 134
        },
        {
         "Popularity": "low",
         "Danceability": 0.19767441860465115,
         "Energy": 0.2978723404255319,
         "Valence": 0.021052631578947368,
         "Loudness": 0.4375,
         "Speechiness": 0.4,
         "Length": 0.9438596491228071,
         "Acousticness": 0.050505050505050504,
         "Beats Per Minute (BPM)": 0.5680473372781065,
         "Liveness": 0.2682926829268293,
         "_deepnote_index_column": 680
        },
        {
         "Popularity": "low",
         "Danceability": 0.2558139534883721,
         "Energy": 0.3723404255319149,
         "Valence": 0.2,
         "Loudness": 0.5625,
         "Speechiness": 0.4,
         "Length": 0.6210526315789474,
         "Acousticness": 0.6363636363636364,
         "Beats Per Minute (BPM)": 0.8816568047337278,
         "Liveness": 0.4878048780487805,
         "_deepnote_index_column": 249
        },
        {
         "Popularity": "low",
         "Danceability": 0.7325581395348837,
         "Energy": 0.5851063829787234,
         "Valence": 0.968421052631579,
         "Loudness": 0.5,
         "Speechiness": 0.6,
         "Length": 0.21052631578947367,
         "Acousticness": 0.40404040404040403,
         "Beats Per Minute (BPM)": 0.5266272189349113,
         "Liveness": 0.0975609756097561,
         "_deepnote_index_column": 588
        },
        {
         "Popularity": "low",
         "Danceability": 0.7790697674418605,
         "Energy": 0.5531914893617021,
         "Valence": 0.6,
         "Loudness": 0.75,
         "Speechiness": 0.2,
         "Length": 0.16140350877192983,
         "Acousticness": 0.09090909090909091,
         "Beats Per Minute (BPM)": 0.39644970414201186,
         "Liveness": 0.21951219512195122,
         "_deepnote_index_column": 320
        },
        {
         "Popularity": "low",
         "Danceability": 0.3488372093023256,
         "Energy": 0.2978723404255319,
         "Valence": 0.4421052631578947,
         "Loudness": 0.4375,
         "Speechiness": 0.6,
         "Length": 0.18947368421052632,
         "Acousticness": 0.26262626262626265,
         "Beats Per Minute (BPM)": 0.2485207100591716,
         "Liveness": 0.14634146341463414,
         "_deepnote_index_column": 362
        },
        {
         "Popularity": "low",
         "Danceability": 0.7209302325581395,
         "Energy": 0.46808510638297873,
         "Valence": 0.9789473684210527,
         "Loudness": 0.375,
         "Speechiness": 0.4,
         "Length": 0.34035087719298246,
         "Acousticness": 0.7373737373737373,
         "Beats Per Minute (BPM)": 0.5621301775147929,
         "Liveness": 0.21951219512195122,
         "_deepnote_index_column": 1178
        },
        {
         "Popularity": "low",
         "Danceability": 0.4069767441860465,
         "Energy": 0.4787234042553192,
         "Valence": 0.17894736842105263,
         "Loudness": 0.6875,
         "Speechiness": 0.2,
         "Length": 0.5157894736842106,
         "Acousticness": 0.25252525252525254,
         "Beats Per Minute (BPM)": 0.863905325443787,
         "Liveness": 0.21951219512195122,
         "_deepnote_index_column": 319
        },
        {
         "Popularity": "low",
         "Danceability": 0.27906976744186046,
         "Energy": 0.7553191489361702,
         "Valence": 0.30526315789473685,
         "Loudness": 0.6875,
         "Speechiness": 0.4,
         "Length": 0.4631578947368421,
         "Acousticness": 0,
         "Beats Per Minute (BPM)": 0.7988165680473372,
         "Liveness": 0.8048780487804879,
         "_deepnote_index_column": 371
        },
        {
         "Popularity": "low",
         "Danceability": 0.5813953488372093,
         "Energy": 0.7659574468085106,
         "Valence": 0.7157894736842105,
         "Loudness": 0.625,
         "Speechiness": 0.2,
         "Length": 0.2982456140350877,
         "Acousticness": 0.10101010101010101,
         "Beats Per Minute (BPM)": 0.41420118343195267,
         "Liveness": 0.21951219512195122,
         "_deepnote_index_column": 621
        },
        {
         "Popularity": "low",
         "Danceability": 0.2441860465116279,
         "Energy": 0.9787234042553191,
         "Valence": 0.5894736842105263,
         "Loudness": 0.8125,
         "Speechiness": 0.4,
         "Length": 0.32280701754385965,
         "Acousticness": 0.12121212121212122,
         "Beats Per Minute (BPM)": 0.7041420118343196,
         "Liveness": 0.12195121951219512,
         "_deepnote_index_column": 872
        },
        {
         "Popularity": "low",
         "Danceability": 0.7674418604651163,
         "Energy": 0.44680851063829785,
         "Valence": 0.7684210526315789,
         "Loudness": 0.6875,
         "Speechiness": 0.4,
         "Length": 0.13333333333333333,
         "Acousticness": 0.5454545454545454,
         "Beats Per Minute (BPM)": 0.5325443786982249,
         "Liveness": 0.1951219512195122,
         "_deepnote_index_column": 504
        },
        {
         "Popularity": "low",
         "Danceability": 0.5348837209302325,
         "Energy": 0.3723404255319149,
         "Valence": 0.4421052631578947,
         "Loudness": 0.625,
         "Speechiness": 0.2,
         "Length": 0.3157894736842105,
         "Acousticness": 0.6666666666666666,
         "Beats Per Minute (BPM)": 0.6331360946745562,
         "Liveness": 0.21951219512195122,
         "_deepnote_index_column": 429
        },
        {
         "Popularity": "low",
         "Danceability": 0.5116279069767442,
         "Energy": 0.3191489361702128,
         "Valence": 0.12631578947368421,
         "Loudness": 0.5625,
         "Speechiness": 0.2,
         "Length": 0.543859649122807,
         "Acousticness": 0.32323232323232326,
         "Beats Per Minute (BPM)": 0.3609467455621302,
         "Liveness": 0.2682926829268293,
         "_deepnote_index_column": 199
        },
        {
         "Popularity": "low",
         "Danceability": 0.4883720930232558,
         "Energy": 0.8404255319148937,
         "Valence": 0.8631578947368421,
         "Loudness": 0.6875,
         "Speechiness": 0.8,
         "Length": 0.3298245614035088,
         "Acousticness": 0.010101010101010102,
         "Beats Per Minute (BPM)": 0.6568047337278107,
         "Liveness": 0.43902439024390244,
         "_deepnote_index_column": 434
        },
        {
         "Popularity": "low",
         "Danceability": 0.47674418604651164,
         "Energy": 0.7659574468085106,
         "Valence": 0.5578947368421052,
         "Loudness": 0.75,
         "Speechiness": 0.4,
         "Length": 0.3192982456140351,
         "Acousticness": 0,
         "Beats Per Minute (BPM)": 0.6331360946745562,
         "Liveness": 0.36585365853658536,
         "_deepnote_index_column": 285
        },
        {
         "Popularity": "low",
         "Danceability": 0.38372093023255816,
         "Energy": 0.7553191489361702,
         "Valence": 0.49473684210526314,
         "Loudness": 0.5625,
         "Speechiness": 0.8,
         "Length": 0.12631578947368421,
         "Acousticness": 0,
         "Beats Per Minute (BPM)": 0.7751479289940828,
         "Liveness": 0.1951219512195122,
         "_deepnote_index_column": 502
        },
        {
         "Popularity": "low",
         "Danceability": 0.4186046511627907,
         "Energy": 0.9680851063829787,
         "Valence": 0.37894736842105264,
         "Loudness": 0.875,
         "Speechiness": 0.8,
         "Length": 0.41754385964912283,
         "Acousticness": 0.0707070707070707,
         "Beats Per Minute (BPM)": 0.621301775147929,
         "Liveness": 0.6341463414634146,
         "_deepnote_index_column": 437
        },
        {
         "Popularity": "low",
         "Danceability": 0.8953488372093024,
         "Energy": 0.7021276595744681,
         "Valence": 0.968421052631579,
         "Loudness": 0.75,
         "Speechiness": 0.4,
         "Length": 0.37543859649122807,
         "Acousticness": 0.5757575757575758,
         "Beats Per Minute (BPM)": 0.5088757396449705,
         "Liveness": 0.1951219512195122,
         "_deepnote_index_column": 322
        },
        {
         "Popularity": "low",
         "Danceability": 0.3953488372093023,
         "Energy": 0.13829787234042554,
         "Valence": 0.3263157894736842,
         "Loudness": 0.125,
         "Speechiness": 0.2,
         "Length": 0.8385964912280702,
         "Acousticness": 0.8484848484848485,
         "Beats Per Minute (BPM)": 0.621301775147929,
         "Liveness": 0.5365853658536586,
         "_deepnote_index_column": 1101
        },
        {
         "Popularity": "low",
         "Danceability": 0.6046511627906976,
         "Energy": 0.3829787234042553,
         "Valence": 0.49473684210526314,
         "Loudness": 0.25,
         "Speechiness": 0.2,
         "Length": 0.3368421052631579,
         "Acousticness": 0.0707070707070707,
         "Beats Per Minute (BPM)": 0.5621301775147929,
         "Liveness": 0.1951219512195122,
         "_deepnote_index_column": 43
        },
        {
         "Popularity": "low",
         "Danceability": 0.6046511627906976,
         "Energy": 0.6702127659574468,
         "Valence": 0.5157894736842106,
         "Loudness": 0.625,
         "Speechiness": 0.2,
         "Length": 0.4245614035087719,
         "Acousticness": 0.1111111111111111,
         "Beats Per Minute (BPM)": 0.3668639053254438,
         "Liveness": 0.34146341463414637,
         "_deepnote_index_column": 442
        },
        {
         "Popularity": "low",
         "Danceability": 0.5465116279069767,
         "Energy": 0.6702127659574468,
         "Valence": 0.6631578947368421,
         "Loudness": 0.625,
         "Speechiness": 0.2,
         "Length": 0.5228070175438596,
         "Acousticness": 0.36363636363636365,
         "Beats Per Minute (BPM)": 0.2958579881656805,
         "Liveness": 0.3902439024390244,
         "_deepnote_index_column": 230
        },
        {
         "Popularity": "low",
         "Danceability": 0.3488372093023256,
         "Energy": 0.648936170212766,
         "Valence": 0.3684210526315789,
         "Loudness": 0.6875,
         "Speechiness": 0.2,
         "Length": 0.34385964912280703,
         "Acousticness": 0.030303030303030304,
         "Beats Per Minute (BPM)": 0.40236686390532544,
         "Liveness": 0.5121951219512195,
         "_deepnote_index_column": 579
        },
        {
         "Popularity": "low",
         "Danceability": 0.627906976744186,
         "Energy": 0.8936170212765957,
         "Valence": 0.9473684210526315,
         "Loudness": 0.8125,
         "Speechiness": 0.4,
         "Length": 0.16842105263157894,
         "Acousticness": 0.1414141414141414,
         "Beats Per Minute (BPM)": 0.6390532544378699,
         "Liveness": 0.7804878048780488,
         "_deepnote_index_column": 905
        },
        {
         "Popularity": "low",
         "Danceability": 0.19767441860465115,
         "Energy": 0.0851063829787234,
         "Valence": 0.14736842105263157,
         "Loudness": 0.25,
         "Speechiness": 0.4,
         "Length": 0.39649122807017545,
         "Acousticness": 0.9494949494949495,
         "Beats Per Minute (BPM)": 0.14201183431952663,
         "Liveness": 0.7560975609756098,
         "_deepnote_index_column": 72
        },
        {
         "Popularity": "low",
         "Danceability": 0.5,
         "Energy": 0.8085106382978723,
         "Valence": 0.17894736842105263,
         "Loudness": 0.875,
         "Speechiness": 0.2,
         "Length": 0.656140350877193,
         "Acousticness": 0,
         "Beats Per Minute (BPM)": 0.4437869822485207,
         "Liveness": 0.34146341463414637,
         "_deepnote_index_column": 74
        },
        {
         "Popularity": "low",
         "Danceability": 0.2558139534883721,
         "Energy": 0.8085106382978723,
         "Valence": 0.08421052631578947,
         "Loudness": 0.6875,
         "Speechiness": 0.6,
         "Length": 0.2912280701754386,
         "Acousticness": 0.08080808080808081,
         "Beats Per Minute (BPM)": 0.6804733727810651,
         "Liveness": 0.3170731707317073,
         "_deepnote_index_column": 26
        },
        {
         "Popularity": "low",
         "Danceability": 0.46511627906976744,
         "Energy": 0.1276595744680851,
         "Valence": 0.22105263157894736,
         "Loudness": 0.125,
         "Speechiness": 0.2,
         "Length": 0.5052631578947369,
         "Acousticness": 0.9595959595959596,
         "Beats Per Minute (BPM)": 0.23668639053254437,
         "Liveness": 0.2926829268292683,
         "_deepnote_index_column": 1413
        },
        {
         "Popularity": "low",
         "Danceability": 0.5348837209302325,
         "Energy": 0.43617021276595747,
         "Valence": 0.15789473684210525,
         "Loudness": 0.6875,
         "Speechiness": 0.2,
         "Length": 0.4421052631578947,
         "Acousticness": 0.7272727272727273,
         "Beats Per Minute (BPM)": 0.514792899408284,
         "Liveness": 0.1951219512195122,
         "_deepnote_index_column": 114
        },
        {
         "Popularity": "low",
         "Danceability": 0.29069767441860467,
         "Energy": 0.22340425531914893,
         "Valence": 0.4631578947368421,
         "Loudness": 0.375,
         "Speechiness": 0.2,
         "Length": 0.512280701754386,
         "Acousticness": 0.6161616161616161,
         "Beats Per Minute (BPM)": 0.20710059171597633,
         "Liveness": 0.2682926829268293,
         "_deepnote_index_column": 532
        }
       ]
      },
      "text/plain": "     Popularity  Danceability    Energy   Valence  Loudness  Speechiness  \\\n296         low      0.209302  0.329787  0.305263    0.3125          0.4   \n145         low      0.406977  0.595745  0.463158    0.6875          0.2   \n559         low      0.465116  0.372340  0.115789    0.5625          0.2   \n561         low      0.348837  0.276596  0.284211    0.6250          0.2   \n956         low      0.593023  0.372340  0.705263    0.1875          0.2   \n...         ...           ...       ...       ...       ...          ...   \n74          low      0.500000  0.808511  0.178947    0.8750          0.2   \n26          low      0.255814  0.808511  0.084211    0.6875          0.6   \n1413        low      0.465116  0.127660  0.221053    0.1250          0.2   \n114         low      0.534884  0.436170  0.157895    0.6875          0.2   \n532         low      0.290698  0.223404  0.463158    0.3750          0.2   \n\n        Length  Acousticness  Beats Per Minute (BPM)  Liveness  \n296   0.301754      0.616162                0.958580  0.292683  \n145   0.315789      0.020202                0.786982  0.170732  \n559   0.371930      0.343434                0.520710  0.243902  \n561   0.501754      0.929293                0.390533  0.243902  \n956   0.438596      0.101010                0.402367  0.073171  \n...        ...           ...                     ...       ...  \n74    0.656140      0.000000                0.443787  0.341463  \n26    0.291228      0.080808                0.680473  0.317073  \n1413  0.505263      0.959596                0.236686  0.292683  \n114   0.442105      0.727273                0.514793  0.195122  \n532   0.512281      0.616162                0.207101  0.268293  \n\n[169 rows x 10 columns]",
      "text/html": "<div>\n<style scoped>\n    .dataframe tbody tr th:only-of-type {\n        vertical-align: middle;\n    }\n\n    .dataframe tbody tr th {\n        vertical-align: top;\n    }\n\n    .dataframe thead th {\n        text-align: right;\n    }\n</style>\n<table border=\"1\" class=\"dataframe\">\n  <thead>\n    <tr style=\"text-align: right;\">\n      <th></th>\n      <th>Popularity</th>\n      <th>Danceability</th>\n      <th>Energy</th>\n      <th>Valence</th>\n      <th>Loudness</th>\n      <th>Speechiness</th>\n      <th>Length</th>\n      <th>Acousticness</th>\n      <th>Beats Per Minute (BPM)</th>\n      <th>Liveness</th>\n    </tr>\n  </thead>\n  <tbody>\n    <tr>\n      <th>296</th>\n      <td>low</td>\n      <td>0.209302</td>\n      <td>0.329787</td>\n      <td>0.305263</td>\n      <td>0.3125</td>\n      <td>0.4</td>\n      <td>0.301754</td>\n      <td>0.616162</td>\n      <td>0.958580</td>\n      <td>0.292683</td>\n    </tr>\n    <tr>\n      <th>145</th>\n      <td>low</td>\n      <td>0.406977</td>\n      <td>0.595745</td>\n      <td>0.463158</td>\n      <td>0.6875</td>\n      <td>0.2</td>\n      <td>0.315789</td>\n      <td>0.020202</td>\n      <td>0.786982</td>\n      <td>0.170732</td>\n    </tr>\n    <tr>\n      <th>559</th>\n      <td>low</td>\n      <td>0.465116</td>\n      <td>0.372340</td>\n      <td>0.115789</td>\n      <td>0.5625</td>\n      <td>0.2</td>\n      <td>0.371930</td>\n      <td>0.343434</td>\n      <td>0.520710</td>\n      <td>0.243902</td>\n    </tr>\n    <tr>\n      <th>561</th>\n      <td>low</td>\n      <td>0.348837</td>\n      <td>0.276596</td>\n      <td>0.284211</td>\n      <td>0.6250</td>\n      <td>0.2</td>\n      <td>0.501754</td>\n      <td>0.929293</td>\n      <td>0.390533</td>\n      <td>0.243902</td>\n    </tr>\n    <tr>\n      <th>956</th>\n      <td>low</td>\n      <td>0.593023</td>\n      <td>0.372340</td>\n      <td>0.705263</td>\n      <td>0.1875</td>\n      <td>0.2</td>\n      <td>0.438596</td>\n      <td>0.101010</td>\n      <td>0.402367</td>\n      <td>0.073171</td>\n    </tr>\n    <tr>\n      <th>...</th>\n      <td>...</td>\n      <td>...</td>\n      <td>...</td>\n      <td>...</td>\n      <td>...</td>\n      <td>...</td>\n      <td>...</td>\n      <td>...</td>\n      <td>...</td>\n      <td>...</td>\n    </tr>\n    <tr>\n      <th>74</th>\n      <td>low</td>\n      <td>0.500000</td>\n      <td>0.808511</td>\n      <td>0.178947</td>\n      <td>0.8750</td>\n      <td>0.2</td>\n      <td>0.656140</td>\n      <td>0.000000</td>\n      <td>0.443787</td>\n      <td>0.341463</td>\n    </tr>\n    <tr>\n      <th>26</th>\n      <td>low</td>\n      <td>0.255814</td>\n      <td>0.808511</td>\n      <td>0.084211</td>\n      <td>0.6875</td>\n      <td>0.6</td>\n      <td>0.291228</td>\n      <td>0.080808</td>\n      <td>0.680473</td>\n      <td>0.317073</td>\n    </tr>\n    <tr>\n      <th>1413</th>\n      <td>low</td>\n      <td>0.465116</td>\n      <td>0.127660</td>\n      <td>0.221053</td>\n      <td>0.1250</td>\n      <td>0.2</td>\n      <td>0.505263</td>\n      <td>0.959596</td>\n      <td>0.236686</td>\n      <td>0.292683</td>\n    </tr>\n    <tr>\n      <th>114</th>\n      <td>low</td>\n      <td>0.534884</td>\n      <td>0.436170</td>\n      <td>0.157895</td>\n      <td>0.6875</td>\n      <td>0.2</td>\n      <td>0.442105</td>\n      <td>0.727273</td>\n      <td>0.514793</td>\n      <td>0.195122</td>\n    </tr>\n    <tr>\n      <th>532</th>\n      <td>low</td>\n      <td>0.290698</td>\n      <td>0.223404</td>\n      <td>0.463158</td>\n      <td>0.3750</td>\n      <td>0.2</td>\n      <td>0.512281</td>\n      <td>0.616162</td>\n      <td>0.207101</td>\n      <td>0.268293</td>\n    </tr>\n  </tbody>\n</table>\n<p>169 rows × 10 columns</p>\n</div>"
     },
     "metadata": {}
    }
   ],
   "execution_count": 11
  },
  {
   "cell_type": "code",
   "metadata": {
    "tags": [],
    "cell_id": "00017-4864dc81-43d9-457d-823e-a285cce47fcc",
    "deepnote_to_be_reexecuted": false,
    "source_hash": "8b4fc1ca",
    "execution_start": 1638245905730,
    "execution_millis": 58,
    "deepnote_cell_type": "code"
   },
   "source": "#Equally bin 169\n#randomly sample 169 from data where df['Popularity'] == \"high\"\ndf_high = df[df['Popularity'] == 'high'].sample(169)\ndf_high",
   "outputs": [
    {
     "output_type": "execute_result",
     "execution_count": 12,
     "data": {
      "application/vnd.deepnote.dataframe.v2+json": {
       "row_count": 169,
       "column_count": 10,
       "columns": [
        {
         "name": "Popularity",
         "dtype": "category",
         "stats": {
          "unique_count": 1,
          "nan_count": 0,
          "categories": [
           {
            "name": "high",
            "count": 169
           }
          ]
         }
        },
        {
         "name": "Danceability",
         "dtype": "float64",
         "stats": {
          "unique_count": 60,
          "nan_count": 0,
          "min": "0.05813953488372093",
          "max": "0.9534883720930233",
          "histogram": [
           {
            "bin_start": 0.05813953488372093,
            "bin_end": 0.14767441860465116,
            "count": 3
           },
           {
            "bin_start": 0.14767441860465116,
            "bin_end": 0.2372093023255814,
            "count": 8
           },
           {
            "bin_start": 0.2372093023255814,
            "bin_end": 0.3267441860465117,
            "count": 11
           },
           {
            "bin_start": 0.3267441860465117,
            "bin_end": 0.4162790697674419,
            "count": 23
           },
           {
            "bin_start": 0.4162790697674419,
            "bin_end": 0.5058139534883721,
            "count": 29
           },
           {
            "bin_start": 0.5058139534883721,
            "bin_end": 0.5953488372093024,
            "count": 34
           },
           {
            "bin_start": 0.5953488372093024,
            "bin_end": 0.6848837209302326,
            "count": 26
           },
           {
            "bin_start": 0.6848837209302326,
            "bin_end": 0.7744186046511629,
            "count": 20
           },
           {
            "bin_start": 0.7744186046511629,
            "bin_end": 0.8639534883720931,
            "count": 10
           },
           {
            "bin_start": 0.8639534883720931,
            "bin_end": 0.9534883720930233,
            "count": 5
           }
          ]
         }
        },
        {
         "name": "Energy",
         "dtype": "float64",
         "stats": {
          "unique_count": 72,
          "nan_count": 0,
          "min": "0.0851063829787234",
          "max": "1.0",
          "histogram": [
           {
            "bin_start": 0.0851063829787234,
            "bin_end": 0.17659574468085104,
            "count": 4
           },
           {
            "bin_start": 0.17659574468085104,
            "bin_end": 0.2680851063829787,
            "count": 9
           },
           {
            "bin_start": 0.2680851063829787,
            "bin_end": 0.3595744680851064,
            "count": 14
           },
           {
            "bin_start": 0.3595744680851064,
            "bin_end": 0.451063829787234,
            "count": 22
           },
           {
            "bin_start": 0.451063829787234,
            "bin_end": 0.5425531914893617,
            "count": 17
           },
           {
            "bin_start": 0.5425531914893617,
            "bin_end": 0.6340425531914894,
            "count": 23
           },
           {
            "bin_start": 0.6340425531914894,
            "bin_end": 0.725531914893617,
            "count": 19
           },
           {
            "bin_start": 0.725531914893617,
            "bin_end": 0.8170212765957446,
            "count": 24
           },
           {
            "bin_start": 0.8170212765957446,
            "bin_end": 0.9085106382978723,
            "count": 22
           },
           {
            "bin_start": 0.9085106382978723,
            "bin_end": 1,
            "count": 15
           }
          ]
         }
        },
        {
         "name": "Valence",
         "dtype": "float64",
         "stats": {
          "unique_count": 77,
          "nan_count": 0,
          "min": "0.042105263157894736",
          "max": "0.968421052631579",
          "histogram": [
           {
            "bin_start": 0.042105263157894736,
            "bin_end": 0.13473684210526315,
            "count": 13
           },
           {
            "bin_start": 0.13473684210526315,
            "bin_end": 0.22736842105263158,
            "count": 21
           },
           {
            "bin_start": 0.22736842105263158,
            "bin_end": 0.32000000000000006,
            "count": 23
           },
           {
            "bin_start": 0.32000000000000006,
            "bin_end": 0.41263157894736846,
            "count": 21
           },
           {
            "bin_start": 0.41263157894736846,
            "bin_end": 0.5052631578947369,
            "count": 20
           },
           {
            "bin_start": 0.5052631578947369,
            "bin_end": 0.5978947368421054,
            "count": 15
           },
           {
            "bin_start": 0.5978947368421054,
            "bin_end": 0.6905263157894738,
            "count": 9
           },
           {
            "bin_start": 0.6905263157894738,
            "bin_end": 0.7831578947368422,
            "count": 20
           },
           {
            "bin_start": 0.7831578947368422,
            "bin_end": 0.8757894736842106,
            "count": 12
           },
           {
            "bin_start": 0.8757894736842106,
            "bin_end": 0.968421052631579,
            "count": 15
           }
          ]
         }
        },
        {
         "name": "Loudness",
         "dtype": "float64",
         "stats": {
          "unique_count": 17,
          "nan_count": 0,
          "min": "0.0",
          "max": "1.0",
          "histogram": [
           {
            "bin_start": 0,
            "bin_end": 0.1,
            "count": 2
           },
           {
            "bin_start": 0.1,
            "bin_end": 0.2,
            "count": 3
           },
           {
            "bin_start": 0.2,
            "bin_end": 0.30000000000000004,
            "count": 5
           },
           {
            "bin_start": 0.30000000000000004,
            "bin_end": 0.4,
            "count": 14
           },
           {
            "bin_start": 0.4,
            "bin_end": 0.5,
            "count": 8
           },
           {
            "bin_start": 0.5,
            "bin_end": 0.6000000000000001,
            "count": 34
           },
           {
            "bin_start": 0.6000000000000001,
            "bin_end": 0.7000000000000001,
            "count": 33
           },
           {
            "bin_start": 0.7000000000000001,
            "bin_end": 0.8,
            "count": 26
           },
           {
            "bin_start": 0.8,
            "bin_end": 0.9,
            "count": 35
           },
           {
            "bin_start": 0.9,
            "bin_end": 1,
            "count": 9
           }
          ]
         }
        },
        {
         "name": "Speechiness",
         "dtype": "float64",
         "stats": {
          "unique_count": 6,
          "nan_count": 0,
          "min": "0.0",
          "max": "1.0",
          "histogram": [
           {
            "bin_start": 0,
            "bin_end": 0.1,
            "count": 1
           },
           {
            "bin_start": 0.1,
            "bin_end": 0.2,
            "count": 0
           },
           {
            "bin_start": 0.2,
            "bin_end": 0.30000000000000004,
            "count": 82
           },
           {
            "bin_start": 0.30000000000000004,
            "bin_end": 0.4,
            "count": 0
           },
           {
            "bin_start": 0.4,
            "bin_end": 0.5,
            "count": 43
           },
           {
            "bin_start": 0.5,
            "bin_end": 0.6000000000000001,
            "count": 22
           },
           {
            "bin_start": 0.6000000000000001,
            "bin_end": 0.7000000000000001,
            "count": 0
           },
           {
            "bin_start": 0.7000000000000001,
            "bin_end": 0.8,
            "count": 0
           },
           {
            "bin_start": 0.8,
            "bin_end": 0.9,
            "count": 13
           },
           {
            "bin_start": 0.9,
            "bin_end": 1,
            "count": 8
           }
          ]
         }
        },
        {
         "name": "Length",
         "dtype": "float64",
         "stats": {
          "unique_count": 111,
          "nan_count": 0,
          "min": "0.02456140350877193",
          "max": "0.9228070175438596",
          "histogram": [
           {
            "bin_start": 0.02456140350877193,
            "bin_end": 0.1143859649122807,
            "count": 4
           },
           {
            "bin_start": 0.1143859649122807,
            "bin_end": 0.20421052631578948,
            "count": 8
           },
           {
            "bin_start": 0.20421052631578948,
            "bin_end": 0.29403508771929826,
            "count": 16
           },
           {
            "bin_start": 0.29403508771929826,
            "bin_end": 0.38385964912280707,
            "count": 30
           },
           {
            "bin_start": 0.38385964912280707,
            "bin_end": 0.4736842105263159,
            "count": 32
           },
           {
            "bin_start": 0.4736842105263159,
            "bin_end": 0.5635087719298245,
            "count": 34
           },
           {
            "bin_start": 0.5635087719298245,
            "bin_end": 0.6533333333333333,
            "count": 26
           },
           {
            "bin_start": 0.6533333333333333,
            "bin_end": 0.7431578947368421,
            "count": 8
           },
           {
            "bin_start": 0.7431578947368421,
            "bin_end": 0.8329824561403509,
            "count": 6
           },
           {
            "bin_start": 0.8329824561403509,
            "bin_end": 0.9228070175438596,
            "count": 5
           }
          ]
         }
        },
        {
         "name": "Acousticness",
         "dtype": "float64",
         "stats": {
          "unique_count": 64,
          "nan_count": 0,
          "min": "0.0",
          "max": "0.9292929292929293",
          "histogram": [
           {
            "bin_start": 0,
            "bin_end": 0.09292929292929293,
            "count": 67
           },
           {
            "bin_start": 0.09292929292929293,
            "bin_end": 0.18585858585858586,
            "count": 21
           },
           {
            "bin_start": 0.18585858585858586,
            "bin_end": 0.2787878787878788,
            "count": 22
           },
           {
            "bin_start": 0.2787878787878788,
            "bin_end": 0.3717171717171717,
            "count": 9
           },
           {
            "bin_start": 0.3717171717171717,
            "bin_end": 0.46464646464646464,
            "count": 9
           },
           {
            "bin_start": 0.46464646464646464,
            "bin_end": 0.5575757575757576,
            "count": 6
           },
           {
            "bin_start": 0.5575757575757576,
            "bin_end": 0.6505050505050505,
            "count": 11
           },
           {
            "bin_start": 0.6505050505050505,
            "bin_end": 0.7434343434343434,
            "count": 8
           },
           {
            "bin_start": 0.7434343434343434,
            "bin_end": 0.8363636363636364,
            "count": 8
           },
           {
            "bin_start": 0.8363636363636364,
            "bin_end": 0.9292929292929293,
            "count": 8
           }
          ]
         }
        },
        {
         "name": "Beats Per Minute (BPM)",
         "dtype": "float64",
         "stats": {
          "unique_count": 77,
          "nan_count": 0,
          "min": "0.20710059171597633",
          "max": "0.9822485207100592",
          "histogram": [
           {
            "bin_start": 0.20710059171597633,
            "bin_end": 0.2846153846153846,
            "count": 22
           },
           {
            "bin_start": 0.2846153846153846,
            "bin_end": 0.36213017751479293,
            "count": 30
           },
           {
            "bin_start": 0.36213017751479293,
            "bin_end": 0.4396449704142012,
            "count": 27
           },
           {
            "bin_start": 0.4396449704142012,
            "bin_end": 0.5171597633136095,
            "count": 40
           },
           {
            "bin_start": 0.5171597633136095,
            "bin_end": 0.5946745562130178,
            "count": 21
           },
           {
            "bin_start": 0.5946745562130178,
            "bin_end": 0.672189349112426,
            "count": 11
           },
           {
            "bin_start": 0.672189349112426,
            "bin_end": 0.7497041420118342,
            "count": 5
           },
           {
            "bin_start": 0.7497041420118342,
            "bin_end": 0.8272189349112427,
            "count": 7
           },
           {
            "bin_start": 0.8272189349112427,
            "bin_end": 0.9047337278106509,
            "count": 5
           },
           {
            "bin_start": 0.9047337278106509,
            "bin_end": 0.9822485207100592,
            "count": 1
           }
          ]
         }
        },
        {
         "name": "Liveness",
         "dtype": "float64",
         "stats": {
          "unique_count": 35,
          "nan_count": 0,
          "min": "0.0",
          "max": "0.9512195121951219",
          "histogram": [
           {
            "bin_start": 0,
            "bin_end": 0.0951219512195122,
            "count": 7
           },
           {
            "bin_start": 0.0951219512195122,
            "bin_end": 0.1902439024390244,
            "count": 46
           },
           {
            "bin_start": 0.1902439024390244,
            "bin_end": 0.2853658536585366,
            "count": 48
           },
           {
            "bin_start": 0.2853658536585366,
            "bin_end": 0.3804878048780488,
            "count": 22
           },
           {
            "bin_start": 0.3804878048780488,
            "bin_end": 0.47560975609756095,
            "count": 15
           },
           {
            "bin_start": 0.47560975609756095,
            "bin_end": 0.5707317073170732,
            "count": 10
           },
           {
            "bin_start": 0.5707317073170732,
            "bin_end": 0.6658536585365854,
            "count": 5
           },
           {
            "bin_start": 0.6658536585365854,
            "bin_end": 0.7609756097560976,
            "count": 5
           },
           {
            "bin_start": 0.7609756097560976,
            "bin_end": 0.8560975609756097,
            "count": 8
           },
           {
            "bin_start": 0.8560975609756097,
            "bin_end": 0.9512195121951219,
            "count": 3
           }
          ]
         }
        },
        {
         "name": "_deepnote_index_column",
         "dtype": "int64"
        }
       ],
       "rows_top": [
        {
         "Popularity": "high",
         "Danceability": 0.686046511627907,
         "Energy": 0.43617021276595747,
         "Valence": 0.7157894736842105,
         "Loudness": 0.625,
         "Speechiness": 0.6,
         "Length": 0.43157894736842106,
         "Acousticness": 0.6060606060606061,
         "Beats Per Minute (BPM)": 0.6745562130177515,
         "Liveness": 0.21951219512195122,
         "_deepnote_index_column": 261
        },
        {
         "Popularity": "high",
         "Danceability": 0.6395348837209303,
         "Energy": 0.2765957446808511,
         "Valence": 0.3894736842105263,
         "Loudness": 0.375,
         "Speechiness": 0.2,
         "Length": 0.6456140350877193,
         "Acousticness": 0.5353535353535354,
         "Beats Per Minute (BPM)": 0.44970414201183434,
         "Liveness": 0.24390243902439024,
         "_deepnote_index_column": 1219
        },
        {
         "Popularity": "high",
         "Danceability": 0.37209302325581395,
         "Energy": 0.7446808510638298,
         "Valence": 0.7894736842105263,
         "Loudness": 0.5,
         "Speechiness": 0.6,
         "Length": 0.09473684210526316,
         "Acousticness": 0.20202020202020202,
         "Beats Per Minute (BPM)": 0.3136094674556213,
         "Liveness": 0.36585365853658536,
         "_deepnote_index_column": 1491
        },
        {
         "Popularity": "high",
         "Danceability": 0.5232558139534884,
         "Energy": 0.8085106382978723,
         "Valence": 0.11578947368421053,
         "Loudness": 0.8125,
         "Speechiness": 0.2,
         "Length": 0.5859649122807018,
         "Acousticness": 0.020202020202020204,
         "Beats Per Minute (BPM)": 0.40236686390532544,
         "Liveness": 0.1951219512195122,
         "_deepnote_index_column": 161
        },
        {
         "Popularity": "high",
         "Danceability": 0.8255813953488372,
         "Energy": 0.43617021276595747,
         "Valence": 0.7368421052631579,
         "Loudness": 0.3125,
         "Speechiness": 0.2,
         "Length": 0.25263157894736843,
         "Acousticness": 0.7878787878787878,
         "Beats Per Minute (BPM)": 0.33136094674556216,
         "Liveness": 0.3170731707317073,
         "_deepnote_index_column": 821
        },
        {
         "Popularity": "high",
         "Danceability": 0.5465116279069767,
         "Energy": 0.9042553191489362,
         "Valence": 0.8842105263157894,
         "Loudness": 0.625,
         "Speechiness": 0.6,
         "Length": 0.3719298245614035,
         "Acousticness": 0.020202020202020204,
         "Beats Per Minute (BPM)": 0.2781065088757396,
         "Liveness": 0.17073170731707318,
         "_deepnote_index_column": 1003
        },
        {
         "Popularity": "high",
         "Danceability": 0.5116279069767442,
         "Energy": 0.3404255319148936,
         "Valence": 0.21052631578947367,
         "Loudness": 0.5,
         "Speechiness": 0.2,
         "Length": 0.5614035087719298,
         "Acousticness": 0.696969696969697,
         "Beats Per Minute (BPM)": 0.2781065088757396,
         "Liveness": 0.14634146341463414,
         "_deepnote_index_column": 1240
        },
        {
         "Popularity": "high",
         "Danceability": 0.627906976744186,
         "Energy": 0.925531914893617,
         "Valence": 0.5157894736842106,
         "Loudness": 0.875,
         "Speechiness": 0.4,
         "Length": 0.5087719298245614,
         "Acousticness": 0,
         "Beats Per Minute (BPM)": 0.4437869822485207,
         "Liveness": 0.3170731707317073,
         "_deepnote_index_column": 489
        },
        {
         "Popularity": "high",
         "Danceability": 0.5930232558139535,
         "Energy": 0.6170212765957447,
         "Valence": 0.9052631578947369,
         "Loudness": 0.625,
         "Speechiness": 0.2,
         "Length": 0.43859649122807015,
         "Acousticness": 0.3434343434343434,
         "Beats Per Minute (BPM)": 0.4970414201183432,
         "Liveness": 0.3170731707317073,
         "_deepnote_index_column": 650
        },
        {
         "Popularity": "high",
         "Danceability": 0.7558139534883721,
         "Energy": 0.7872340425531915,
         "Valence": 0.8947368421052632,
         "Loudness": 0.8125,
         "Speechiness": 0.2,
         "Length": 0.35789473684210527,
         "Acousticness": 0.050505050505050504,
         "Beats Per Minute (BPM)": 0.41420118343195267,
         "Liveness": 0.07317073170731707,
         "_deepnote_index_column": 1314
        },
        {
         "Popularity": "high",
         "Danceability": 0.5,
         "Energy": 0.776595744680851,
         "Valence": 0.968421052631579,
         "Loudness": 0.75,
         "Speechiness": 0.4,
         "Length": 0.16842105263157894,
         "Acousticness": 0.7171717171717171,
         "Beats Per Minute (BPM)": 0.25443786982248523,
         "Liveness": 0.4878048780487805,
         "_deepnote_index_column": 1488
        },
        {
         "Popularity": "high",
         "Danceability": 0.45348837209302323,
         "Energy": 0.8936170212765957,
         "Valence": 0.631578947368421,
         "Loudness": 0.875,
         "Speechiness": 0.4,
         "Length": 0.4421052631578947,
         "Acousticness": 0,
         "Beats Per Minute (BPM)": 0.7692307692307693,
         "Liveness": 0.12195121951219512,
         "_deepnote_index_column": 464
        },
        {
         "Popularity": "high",
         "Danceability": 0.6046511627906976,
         "Energy": 0.5851063829787234,
         "Valence": 0.968421052631579,
         "Loudness": 0.5625,
         "Speechiness": 0.2,
         "Length": 0.21052631578947367,
         "Acousticness": 0.7272727272727273,
         "Beats Per Minute (BPM)": 0.5325443786982249,
         "Liveness": 0.12195121951219512,
         "_deepnote_index_column": 1423
        },
        {
         "Popularity": "high",
         "Danceability": 0.7093023255813954,
         "Energy": 0.8191489361702128,
         "Valence": 0.8736842105263158,
         "Loudness": 0.5625,
         "Speechiness": 0.6,
         "Length": 0.6035087719298246,
         "Acousticness": 0.21212121212121213,
         "Beats Per Minute (BPM)": 0.48520710059171596,
         "Liveness": 0.17073170731707318,
         "_deepnote_index_column": 1076
        },
        {
         "Popularity": "high",
         "Danceability": 0.32558139534883723,
         "Energy": 0.6702127659574468,
         "Valence": 0.2631578947368421,
         "Loudness": 0.625,
         "Speechiness": 0.2,
         "Length": 0.5824561403508772,
         "Acousticness": 0,
         "Beats Per Minute (BPM)": 0.4260355029585799,
         "Liveness": 0.07317073170731707,
         "_deepnote_index_column": 774
        },
        {
         "Popularity": "high",
         "Danceability": 0.4186046511627907,
         "Energy": 0.648936170212766,
         "Valence": 0.5157894736842106,
         "Loudness": 0.5625,
         "Speechiness": 0.8,
         "Length": 0.543859649122807,
         "Acousticness": 0.030303030303030304,
         "Beats Per Minute (BPM)": 0.7869822485207101,
         "Liveness": 0.7560975609756098,
         "_deepnote_index_column": 157
        },
        {
         "Popularity": "high",
         "Danceability": 0.627906976744186,
         "Energy": 0.8404255319148937,
         "Valence": 0.4105263157894737,
         "Loudness": 0.8125,
         "Speechiness": 0.4,
         "Length": 0.35789473684210527,
         "Acousticness": 0.020202020202020204,
         "Beats Per Minute (BPM)": 0.4260355029585799,
         "Liveness": 0.17073170731707318,
         "_deepnote_index_column": 329
        },
        {
         "Popularity": "high",
         "Danceability": 0.5,
         "Energy": 0.776595744680851,
         "Valence": 0.631578947368421,
         "Loudness": 0.75,
         "Speechiness": 0.6,
         "Length": 0.44912280701754387,
         "Acousticness": 0,
         "Beats Per Minute (BPM)": 0.514792899408284,
         "Liveness": 0.34146341463414637,
         "_deepnote_index_column": 411
        },
        {
         "Popularity": "high",
         "Danceability": 0.12790697674418605,
         "Energy": 0.3829787234042553,
         "Valence": 0.12631578947368421,
         "Loudness": 0.5,
         "Speechiness": 0.4,
         "Length": 0.656140350877193,
         "Acousticness": 0.1717171717171717,
         "Beats Per Minute (BPM)": 0.28994082840236685,
         "Liveness": 0.14634146341463414,
         "_deepnote_index_column": 425
        },
        {
         "Popularity": "high",
         "Danceability": 0.5697674418604651,
         "Energy": 0.9468085106382979,
         "Valence": 0.8315789473684211,
         "Loudness": 0.8125,
         "Speechiness": 0.4,
         "Length": 0.3684210526315789,
         "Acousticness": 0.020202020202020204,
         "Beats Per Minute (BPM)": 0.5798816568047337,
         "Liveness": 0.12195121951219512,
         "_deepnote_index_column": 795
        },
        {
         "Popularity": "high",
         "Danceability": 0.37209302325581395,
         "Energy": 0.35106382978723405,
         "Valence": 0.3263157894736842,
         "Loudness": 0.375,
         "Speechiness": 0.2,
         "Length": 0.4842105263157895,
         "Acousticness": 0.0707070707070707,
         "Beats Per Minute (BPM)": 0.30177514792899407,
         "Liveness": 0.17073170731707318,
         "_deepnote_index_column": 1310
        },
        {
         "Popularity": "high",
         "Danceability": 0.686046511627907,
         "Energy": 0.5638297872340425,
         "Valence": 0.9473684210526315,
         "Loudness": 0.4375,
         "Speechiness": 0.2,
         "Length": 0.6421052631578947,
         "Acousticness": 0.29292929292929293,
         "Beats Per Minute (BPM)": 0.5798816568047337,
         "Liveness": 0.24390243902439024,
         "_deepnote_index_column": 989
        },
        {
         "Popularity": "high",
         "Danceability": 0.5232558139534884,
         "Energy": 0.9148936170212766,
         "Valence": 0.5263157894736842,
         "Loudness": 0.875,
         "Speechiness": 0.6,
         "Length": 0.3684210526315789,
         "Acousticness": 0.030303030303030304,
         "Beats Per Minute (BPM)": 0.4911242603550296,
         "Liveness": 0.8048780487804879,
         "_deepnote_index_column": 274
        },
        {
         "Popularity": "high",
         "Danceability": 0.7209302325581395,
         "Energy": 0.3191489361702128,
         "Valence": 0.631578947368421,
         "Loudness": 0.4375,
         "Speechiness": 0.4,
         "Length": 0.2736842105263158,
         "Acousticness": 0.20202020202020202,
         "Beats Per Minute (BPM)": 0.47337278106508873,
         "Liveness": 0.21951219512195122,
         "_deepnote_index_column": 959
        },
        {
         "Popularity": "high",
         "Danceability": 0.6395348837209303,
         "Energy": 0.7659574468085106,
         "Valence": 0.9578947368421052,
         "Loudness": 0.5,
         "Speechiness": 0.2,
         "Length": 0.43157894736842106,
         "Acousticness": 0.21212121212121213,
         "Beats Per Minute (BPM)": 0.47337278106508873,
         "Liveness": 0.8292682926829268,
         "_deepnote_index_column": 1189
        },
        {
         "Popularity": "high",
         "Danceability": 0.6744186046511628,
         "Energy": 0.4574468085106383,
         "Valence": 0.43157894736842106,
         "Loudness": 0.5,
         "Speechiness": 0.2,
         "Length": 0.3157894736842105,
         "Acousticness": 0.6363636363636364,
         "Beats Per Minute (BPM)": 0.26627218934911245,
         "Liveness": 0.17073170731707318,
         "_deepnote_index_column": 273
        },
        {
         "Popularity": "high",
         "Danceability": 0.5116279069767442,
         "Energy": 0.5638297872340425,
         "Valence": 0.3157894736842105,
         "Loudness": 0.8125,
         "Speechiness": 0.2,
         "Length": 0.7333333333333333,
         "Acousticness": 0.1111111111111111,
         "Beats Per Minute (BPM)": 0.28994082840236685,
         "Liveness": 0.21951219512195122,
         "_deepnote_index_column": 1105
        },
        {
         "Popularity": "high",
         "Danceability": 0.6627906976744186,
         "Energy": 0.3404255319148936,
         "Valence": 0.7263157894736842,
         "Loudness": 0,
         "Speechiness": 0.2,
         "Length": 0.6210526315789474,
         "Acousticness": 0.26262626262626265,
         "Beats Per Minute (BPM)": 0.33136094674556216,
         "Liveness": 0.07317073170731707,
         "_deepnote_index_column": 925
        },
        {
         "Popularity": "high",
         "Danceability": 0.32558139534883723,
         "Energy": 0.648936170212766,
         "Valence": 0.10526315789473684,
         "Loudness": 0.8125,
         "Speechiness": 0.2,
         "Length": 0.631578947368421,
         "Acousticness": 0.1717171717171717,
         "Beats Per Minute (BPM)": 0.4970414201183432,
         "Liveness": 0.5609756097560976,
         "_deepnote_index_column": 1369
        },
        {
         "Popularity": "high",
         "Danceability": 0.5232558139534884,
         "Energy": 0.5106382978723404,
         "Valence": 0.3894736842105263,
         "Loudness": 0.625,
         "Speechiness": 0.2,
         "Length": 0.5368421052631579,
         "Acousticness": 0.1919191919191919,
         "Beats Per Minute (BPM)": 0.28402366863905326,
         "Liveness": 0.4878048780487805,
         "_deepnote_index_column": 412
        },
        {
         "Popularity": "high",
         "Danceability": 0.627906976744186,
         "Energy": 0.8723404255319149,
         "Valence": 0.8105263157894737,
         "Loudness": 0.75,
         "Speechiness": 0.2,
         "Length": 0.43508771929824563,
         "Acousticness": 0.1414141414141414,
         "Beats Per Minute (BPM)": 0.46745562130177515,
         "Liveness": 0.14634146341463414,
         "_deepnote_index_column": 875
        },
        {
         "Popularity": "high",
         "Danceability": 0.5813953488372093,
         "Energy": 0.5957446808510638,
         "Valence": 0.8947368421052632,
         "Loudness": 0.375,
         "Speechiness": 0.2,
         "Length": 0.5789473684210527,
         "Acousticness": 0.18181818181818182,
         "Beats Per Minute (BPM)": 0.3609467455621302,
         "Liveness": 0.17073170731707318,
         "_deepnote_index_column": 734
        },
        {
         "Popularity": "high",
         "Danceability": 0.5116279069767442,
         "Energy": 0.8404255319148937,
         "Valence": 0.15789473684210525,
         "Loudness": 0.6875,
         "Speechiness": 0.8,
         "Length": 0.6701754385964912,
         "Acousticness": 0.06060606060606061,
         "Beats Per Minute (BPM)": 0.47928994082840237,
         "Liveness": 0.0975609756097561,
         "_deepnote_index_column": 1032
        },
        {
         "Popularity": "high",
         "Danceability": 0.4883720930232558,
         "Energy": 0.5851063829787234,
         "Valence": 0.18947368421052632,
         "Loudness": 0.8125,
         "Speechiness": 0.2,
         "Length": 0.7789473684210526,
         "Acousticness": 0.030303030303030304,
         "Beats Per Minute (BPM)": 0.4911242603550296,
         "Liveness": 0.21951219512195122,
         "_deepnote_index_column": 543
        },
        {
         "Popularity": "high",
         "Danceability": 0.3488372093023256,
         "Energy": 0.44680851063829785,
         "Valence": 0.3684210526315789,
         "Loudness": 0.625,
         "Speechiness": 0.2,
         "Length": 0.3508771929824561,
         "Acousticness": 0.3333333333333333,
         "Beats Per Minute (BPM)": 0.5680473372781065,
         "Liveness": 0.21951219512195122,
         "_deepnote_index_column": 1475
        },
        {
         "Popularity": "high",
         "Danceability": 0.5813953488372093,
         "Energy": 0.7872340425531915,
         "Valence": 0.21052631578947367,
         "Loudness": 0.75,
         "Speechiness": 1,
         "Length": 0.34385964912280703,
         "Acousticness": 0.010101010101010102,
         "Beats Per Minute (BPM)": 0.4556213017751479,
         "Liveness": 0.9024390243902439,
         "_deepnote_index_column": 613
        },
        {
         "Popularity": "high",
         "Danceability": 0.5465116279069767,
         "Energy": 0.3617021276595745,
         "Valence": 0.29473684210526313,
         "Loudness": 0.75,
         "Speechiness": 0.2,
         "Length": 0.34035087719298246,
         "Acousticness": 0.37373737373737376,
         "Beats Per Minute (BPM)": 0.34911242603550297,
         "Liveness": 0.5121951219512195,
         "_deepnote_index_column": 569
        },
        {
         "Popularity": "high",
         "Danceability": 0.7906976744186046,
         "Energy": 0.5425531914893617,
         "Valence": 0.3473684210526316,
         "Loudness": 0.6875,
         "Speechiness": 0.2,
         "Length": 0.712280701754386,
         "Acousticness": 0.7474747474747475,
         "Beats Per Minute (BPM)": 0.38461538461538464,
         "Liveness": 0.0975609756097561,
         "_deepnote_index_column": 1115
        },
        {
         "Popularity": "high",
         "Danceability": 0.26744186046511625,
         "Energy": 0.13829787234042554,
         "Valence": 0.29473684210526313,
         "Loudness": 0.375,
         "Speechiness": 0.2,
         "Length": 0.02456140350877193,
         "Acousticness": 0.8888888888888888,
         "Beats Per Minute (BPM)": 0.35502958579881655,
         "Liveness": 0.17073170731707318,
         "_deepnote_index_column": 1438
        },
        {
         "Popularity": "high",
         "Danceability": 0.32558139534883723,
         "Energy": 0.6276595744680851,
         "Valence": 0.042105263157894736,
         "Loudness": 0.6875,
         "Speechiness": 1,
         "Length": 0.4982456140350877,
         "Acousticness": 0.0707070707070707,
         "Beats Per Minute (BPM)": 0.834319526627219,
         "Liveness": 0.8536585365853658,
         "_deepnote_index_column": 585
        },
        {
         "Popularity": "high",
         "Danceability": 0.4069767441860465,
         "Energy": 0.19148936170212766,
         "Valence": 0.09473684210526316,
         "Loudness": 0.3125,
         "Speechiness": 0.2,
         "Length": 0.6035087719298246,
         "Acousticness": 0.1717171717171717,
         "Beats Per Minute (BPM)": 0.21893491124260356,
         "Liveness": 0.43902439024390244,
         "_deepnote_index_column": 1298
        },
        {
         "Popularity": "high",
         "Danceability": 0.8255813953488372,
         "Energy": 0.5851063829787234,
         "Valence": 0.7473684210526316,
         "Loudness": 0.5,
         "Speechiness": 0.8,
         "Length": 0.42105263157894735,
         "Acousticness": 0.12121212121212122,
         "Beats Per Minute (BPM)": 0.33727810650887574,
         "Liveness": 0.0975609756097561,
         "_deepnote_index_column": 940
        },
        {
         "Popularity": "high",
         "Danceability": 0.313953488372093,
         "Energy": 0.8723404255319149,
         "Valence": 0.4631578947368421,
         "Loudness": 0.8125,
         "Speechiness": 0.4,
         "Length": 0.49122807017543857,
         "Acousticness": 0,
         "Beats Per Minute (BPM)": 0.8165680473372781,
         "Liveness": 0.5121951219512195,
         "_deepnote_index_column": 1280
        },
        {
         "Popularity": "high",
         "Danceability": 0.7790697674418605,
         "Energy": 0.851063829787234,
         "Valence": 0.8736842105263158,
         "Loudness": 0.75,
         "Speechiness": 0.4,
         "Length": 0.5333333333333333,
         "Acousticness": 0.21212121212121213,
         "Beats Per Minute (BPM)": 0.5384615384615384,
         "Liveness": 0.12195121951219512,
         "_deepnote_index_column": 854
        },
        {
         "Popularity": "high",
         "Danceability": 0.37209302325581395,
         "Energy": 0.22340425531914893,
         "Valence": 0.30526315789473685,
         "Loudness": 0.6875,
         "Speechiness": 0.2,
         "Length": 0.5298245614035088,
         "Acousticness": 0.9292929292929293,
         "Beats Per Minute (BPM)": 0.4911242603550296,
         "Liveness": 0.2682926829268293,
         "_deepnote_index_column": 416
        },
        {
         "Popularity": "high",
         "Danceability": 0.5,
         "Energy": 0.648936170212766,
         "Valence": 0.7578947368421053,
         "Loudness": 0.75,
         "Speechiness": 0.2,
         "Length": 0.14035087719298245,
         "Acousticness": 0.43434343434343436,
         "Beats Per Minute (BPM)": 0.22485207100591717,
         "Liveness": 0.12195121951219512,
         "_deepnote_index_column": 864
        },
        {
         "Popularity": "high",
         "Danceability": 0.5813953488372093,
         "Energy": 0.46808510638297873,
         "Valence": 0.05263157894736842,
         "Loudness": 0.6875,
         "Speechiness": 0.2,
         "Length": 0.5298245614035088,
         "Acousticness": 0.5050505050505051,
         "Beats Per Minute (BPM)": 0.4911242603550296,
         "Liveness": 0.24390243902439024,
         "_deepnote_index_column": 258
        },
        {
         "Popularity": "high",
         "Danceability": 0.6976744186046512,
         "Energy": 0.5957446808510638,
         "Valence": 0.18947368421052632,
         "Loudness": 0.75,
         "Speechiness": 0.4,
         "Length": 0.24561403508771928,
         "Acousticness": 0.2222222222222222,
         "Beats Per Minute (BPM)": 0.3727810650887574,
         "Liveness": 0.14634146341463414,
         "_deepnote_index_column": 581
        },
        {
         "Popularity": "high",
         "Danceability": 0.6395348837209303,
         "Energy": 0.2765957446808511,
         "Valence": 0.6,
         "Loudness": 0.5625,
         "Speechiness": 0.4,
         "Length": 0.21403508771929824,
         "Acousticness": 0.5757575757575758,
         "Beats Per Minute (BPM)": 0.47928994082840237,
         "Liveness": 0.12195121951219512,
         "_deepnote_index_column": 1422
        },
        {
         "Popularity": "high",
         "Danceability": 0.6976744186046512,
         "Energy": 0.925531914893617,
         "Valence": 0.7052631578947368,
         "Loudness": 0.875,
         "Speechiness": 0.4,
         "Length": 0.6175438596491228,
         "Acousticness": 0,
         "Beats Per Minute (BPM)": 0.48520710059171596,
         "Liveness": 0.14634146341463414,
         "_deepnote_index_column": 293
        }
       ],
       "rows_bottom": [
        {
         "Popularity": "high",
         "Danceability": 0.47674418604651164,
         "Energy": 0.5531914893617021,
         "Valence": 0.12631578947368421,
         "Loudness": 0.6875,
         "Speechiness": 0.2,
         "Length": 0.5649122807017544,
         "Acousticness": 0.04040404040404041,
         "Beats Per Minute (BPM)": 0.4911242603550296,
         "Liveness": 0.21951219512195122,
         "_deepnote_index_column": 1147
        },
        {
         "Popularity": "high",
         "Danceability": 0.46511627906976744,
         "Energy": 0.6702127659574468,
         "Valence": 0.45263157894736844,
         "Loudness": 0.875,
         "Speechiness": 0.2,
         "Length": 0.5017543859649123,
         "Acousticness": 0.010101010101010102,
         "Beats Per Minute (BPM)": 0.7692307692307693,
         "Liveness": 0.0975609756097561,
         "_deepnote_index_column": 541
        },
        {
         "Popularity": "high",
         "Danceability": 0.6976744186046512,
         "Energy": 0.7340425531914894,
         "Valence": 0.16842105263157894,
         "Loudness": 0.6875,
         "Speechiness": 1,
         "Length": 0.6421052631578947,
         "Acousticness": 0.0707070707070707,
         "Beats Per Minute (BPM)": 0.3254437869822485,
         "Liveness": 0.21951219512195122,
         "_deepnote_index_column": 520
        },
        {
         "Popularity": "high",
         "Danceability": 0.5465116279069767,
         "Energy": 0.5425531914893617,
         "Valence": 0.4842105263157895,
         "Loudness": 0.6875,
         "Speechiness": 0.6,
         "Length": 0.39649122807017545,
         "Acousticness": 0.10101010101010101,
         "Beats Per Minute (BPM)": 0.3431952662721893,
         "Liveness": 0.21951219512195122,
         "_deepnote_index_column": 950
        },
        {
         "Popularity": "high",
         "Danceability": 0.3023255813953488,
         "Energy": 0.925531914893617,
         "Valence": 0.5052631578947369,
         "Loudness": 0.75,
         "Speechiness": 0.6,
         "Length": 0.8350877192982457,
         "Acousticness": 0.030303030303030304,
         "Beats Per Minute (BPM)": 0.7928994082840237,
         "Liveness": 0.9512195121951219,
         "_deepnote_index_column": 1331
        },
        {
         "Popularity": "high",
         "Danceability": 0.4418604651162791,
         "Energy": 0.5319148936170213,
         "Valence": 0.21052631578947367,
         "Loudness": 0.6875,
         "Speechiness": 1,
         "Length": 0.47017543859649125,
         "Acousticness": 0.37373737373737376,
         "Beats Per Minute (BPM)": 0.22485207100591717,
         "Liveness": 0.1951219512195122,
         "_deepnote_index_column": 420
        },
        {
         "Popularity": "high",
         "Danceability": 0.5697674418604651,
         "Energy": 0.20212765957446807,
         "Valence": 0.23157894736842105,
         "Loudness": 0.4375,
         "Speechiness": 0.4,
         "Length": 0.35789473684210527,
         "Acousticness": 0.9191919191919192,
         "Beats Per Minute (BPM)": 0.3136094674556213,
         "Liveness": 0.17073170731707318,
         "_deepnote_index_column": 558
        },
        {
         "Popularity": "high",
         "Danceability": 0.7790697674418605,
         "Energy": 0.8617021276595744,
         "Valence": 0.8947368421052632,
         "Loudness": 0.75,
         "Speechiness": 0.2,
         "Length": 0.18947368421052632,
         "Acousticness": 0.10101010101010101,
         "Beats Per Minute (BPM)": 0.4319526627218935,
         "Liveness": 0.34146341463414637,
         "_deepnote_index_column": 1322
        },
        {
         "Popularity": "high",
         "Danceability": 0.6511627906976745,
         "Energy": 0.574468085106383,
         "Valence": 0.7789473684210526,
         "Loudness": 0.625,
         "Speechiness": 0.2,
         "Length": 0.1368421052631579,
         "Acousticness": 0.6262626262626263,
         "Beats Per Minute (BPM)": 0.39644970414201186,
         "Liveness": 0.8048780487804879,
         "_deepnote_index_column": 1424
        },
        {
         "Popularity": "high",
         "Danceability": 0.8837209302325582,
         "Energy": 0.4787234042553192,
         "Valence": 0.7157894736842105,
         "Loudness": 0.6875,
         "Speechiness": 0.4,
         "Length": 0.4421052631578947,
         "Acousticness": 0.5959595959595959,
         "Beats Per Minute (BPM)": 0.5443786982248521,
         "Liveness": 0.1951219512195122,
         "_deepnote_index_column": 343
        },
        {
         "Popularity": "high",
         "Danceability": 0.6627906976744186,
         "Energy": 0.7340425531914894,
         "Valence": 0.7473684210526316,
         "Loudness": 0.8125,
         "Speechiness": 0.6,
         "Length": 0.28771929824561404,
         "Acousticness": 0.29292929292929293,
         "Beats Per Minute (BPM)": 0.46745562130177515,
         "Liveness": 0.5365853658536586,
         "_deepnote_index_column": 589
        },
        {
         "Popularity": "high",
         "Danceability": 0.4418604651162791,
         "Energy": 0.7127659574468085,
         "Valence": 0.5473684210526316,
         "Loudness": 0.6875,
         "Speechiness": 0.2,
         "Length": 0.8807017543859649,
         "Acousticness": 0.7373737373737373,
         "Beats Per Minute (BPM)": 0.3431952662721893,
         "Liveness": 0.4146341463414634,
         "_deepnote_index_column": 1440
        },
        {
         "Popularity": "high",
         "Danceability": 0.18604651162790697,
         "Energy": 0.3617021276595745,
         "Valence": 0.08421052631578947,
         "Loudness": 0.4375,
         "Speechiness": 0.2,
         "Length": 0.38596491228070173,
         "Acousticness": 0.06060606060606061,
         "Beats Per Minute (BPM)": 0.23076923076923078,
         "Liveness": 0.21951219512195122,
         "_deepnote_index_column": 1348
        },
        {
         "Popularity": "high",
         "Danceability": 0.8837209302325582,
         "Energy": 0.44680851063829785,
         "Valence": 0.8421052631578947,
         "Loudness": 0.5625,
         "Speechiness": 0.6,
         "Length": 0.22807017543859648,
         "Acousticness": 0,
         "Beats Per Minute (BPM)": 0.3076923076923077,
         "Liveness": 0.6097560975609756,
         "_deepnote_index_column": 106
        },
        {
         "Popularity": "high",
         "Danceability": 0.872093023255814,
         "Energy": 0.5851063829787234,
         "Valence": 0.8421052631578947,
         "Loudness": 0.8125,
         "Speechiness": 0.4,
         "Length": 0.5087719298245614,
         "Acousticness": 0,
         "Beats Per Minute (BPM)": 0.4911242603550296,
         "Liveness": 0.14634146341463414,
         "_deepnote_index_column": 441
        },
        {
         "Popularity": "high",
         "Danceability": 0.3953488372093023,
         "Energy": 0.648936170212766,
         "Valence": 0.14736842105263157,
         "Loudness": 0.625,
         "Speechiness": 1,
         "Length": 0.5298245614035088,
         "Acousticness": 0.20202020202020202,
         "Beats Per Minute (BPM)": 0.5502958579881657,
         "Liveness": 0.1951219512195122,
         "_deepnote_index_column": 1398
        },
        {
         "Popularity": "high",
         "Danceability": 0.6046511627906976,
         "Energy": 0.9468085106382979,
         "Valence": 0.7578947368421053,
         "Loudness": 0.8125,
         "Speechiness": 0.2,
         "Length": 0.2,
         "Acousticness": 0.030303030303030304,
         "Beats Per Minute (BPM)": 0.3609467455621302,
         "Liveness": 0.12195121951219512,
         "_deepnote_index_column": 937
        },
        {
         "Popularity": "high",
         "Danceability": 0.05813953488372093,
         "Energy": 0.1702127659574468,
         "Valence": 0.23157894736842105,
         "Loudness": 0.25,
         "Speechiness": 0.2,
         "Length": 0.6105263157894737,
         "Acousticness": 0.8282828282828283,
         "Beats Per Minute (BPM)": 0.25443786982248523,
         "Liveness": 0.24390243902439024,
         "_deepnote_index_column": 632
        },
        {
         "Popularity": "high",
         "Danceability": 0.43023255813953487,
         "Energy": 0.9042553191489362,
         "Valence": 0.4,
         "Loudness": 0.75,
         "Speechiness": 0.8,
         "Length": 0.3368421052631579,
         "Acousticness": 0.15151515151515152,
         "Beats Per Minute (BPM)": 0.34911242603550297,
         "Liveness": 0.7804878048780488,
         "_deepnote_index_column": 837
        },
        {
         "Popularity": "high",
         "Danceability": 0.5930232558139535,
         "Energy": 0.5531914893617021,
         "Valence": 0.5263157894736842,
         "Loudness": 0.4375,
         "Speechiness": 0.4,
         "Length": 0.8105263157894737,
         "Acousticness": 0.5656565656565656,
         "Beats Per Minute (BPM)": 0.5443786982248521,
         "Liveness": 0.12195121951219512,
         "_deepnote_index_column": 681
        },
        {
         "Popularity": "high",
         "Danceability": 0.5581395348837209,
         "Energy": 0.8723404255319149,
         "Valence": 0.6105263157894737,
         "Loudness": 0.875,
         "Speechiness": 0.8,
         "Length": 0.2807017543859649,
         "Acousticness": 0.010101010101010102,
         "Beats Per Minute (BPM)": 0.5384615384615384,
         "Liveness": 0.5853658536585366,
         "_deepnote_index_column": 473
        },
        {
         "Popularity": "high",
         "Danceability": 0.5348837209302325,
         "Energy": 0.7659574468085106,
         "Valence": 0.4105263157894737,
         "Loudness": 0.5,
         "Speechiness": 0.2,
         "Length": 0.4982456140350877,
         "Acousticness": 0.12121212121212122,
         "Beats Per Minute (BPM)": 0.26627218934911245,
         "Liveness": 0.24390243902439024,
         "_deepnote_index_column": 916
        },
        {
         "Popularity": "high",
         "Danceability": 0.5697674418604651,
         "Energy": 0.1595744680851064,
         "Valence": 0.1368421052631579,
         "Loudness": 0.4375,
         "Speechiness": 0.2,
         "Length": 0.47719298245614034,
         "Acousticness": 0.9090909090909091,
         "Beats Per Minute (BPM)": 0.2781065088757396,
         "Liveness": 0.17073170731707318,
         "_deepnote_index_column": 551
        },
        {
         "Popularity": "high",
         "Danceability": 0.686046511627907,
         "Energy": 0.4148936170212766,
         "Valence": 0.42105263157894735,
         "Loudness": 0.4375,
         "Speechiness": 0.2,
         "Length": 0.09473684210526316,
         "Acousticness": 0.45454545454545453,
         "Beats Per Minute (BPM)": 0.3905325443786982,
         "Liveness": 0.21951219512195122,
         "_deepnote_index_column": 1447
        },
        {
         "Popularity": "high",
         "Danceability": 0.4186046511627907,
         "Energy": 0.7978723404255319,
         "Valence": 0.49473684210526314,
         "Loudness": 0.9375,
         "Speechiness": 0.8,
         "Length": 0.47719298245614034,
         "Acousticness": 0,
         "Beats Per Minute (BPM)": 0.5088757396449705,
         "Liveness": 0.14634146341463414,
         "_deepnote_index_column": 1400
        },
        {
         "Popularity": "high",
         "Danceability": 0.38372093023255816,
         "Energy": 0.574468085106383,
         "Valence": 0.15789473684210525,
         "Loudness": 0.8125,
         "Speechiness": 0.2,
         "Length": 0.37894736842105264,
         "Acousticness": 0.06060606060606061,
         "Beats Per Minute (BPM)": 0.6390532544378699,
         "Liveness": 0.6829268292682927,
         "_deepnote_index_column": 201
        },
        {
         "Popularity": "high",
         "Danceability": 0.5813953488372093,
         "Energy": 0.425531914893617,
         "Valence": 0.8,
         "Loudness": 0.5,
         "Speechiness": 0.4,
         "Length": 0.512280701754386,
         "Acousticness": 0.37373737373737376,
         "Beats Per Minute (BPM)": 0.27218934911242604,
         "Liveness": 0.4634146341463415,
         "_deepnote_index_column": 724
        },
        {
         "Popularity": "high",
         "Danceability": 0.686046511627907,
         "Energy": 0.6914893617021277,
         "Valence": 0.4631578947368421,
         "Loudness": 0.75,
         "Speechiness": 0.2,
         "Length": 0.3333333333333333,
         "Acousticness": 0.2222222222222222,
         "Beats Per Minute (BPM)": 0.3668639053254438,
         "Liveness": 0.34146341463414637,
         "_deepnote_index_column": 41
        },
        {
         "Popularity": "high",
         "Danceability": 0.5348837209302325,
         "Energy": 0.8617021276595744,
         "Valence": 0.37894736842105264,
         "Loudness": 0.75,
         "Speechiness": 0.8,
         "Length": 0.34385964912280703,
         "Acousticness": 0.010101010101010102,
         "Beats Per Minute (BPM)": 0.40236686390532544,
         "Liveness": 0.4634146341463415,
         "_deepnote_index_column": 75
        },
        {
         "Popularity": "high",
         "Danceability": 0.19767441860465115,
         "Energy": 0.3191489361702128,
         "Valence": 0.30526315789473685,
         "Loudness": 0.5625,
         "Speechiness": 0.2,
         "Length": 0.21403508771929824,
         "Acousticness": 0.5555555555555556,
         "Beats Per Minute (BPM)": 0.2958579881656805,
         "Liveness": 0.7560975609756098,
         "_deepnote_index_column": 1419
        },
        {
         "Popularity": "high",
         "Danceability": 0.45348837209302323,
         "Energy": 0.7340425531914894,
         "Valence": 0.3368421052631579,
         "Loudness": 0.8125,
         "Speechiness": 0.4,
         "Length": 0.49122807017543857,
         "Acousticness": 0.26262626262626265,
         "Beats Per Minute (BPM)": 0.3136094674556213,
         "Liveness": 0.6829268292682927,
         "_deepnote_index_column": 488
        },
        {
         "Popularity": "high",
         "Danceability": 0.5348837209302325,
         "Energy": 0.5425531914893617,
         "Valence": 0.43157894736842106,
         "Loudness": 0.5,
         "Speechiness": 0.2,
         "Length": 0.6210526315789474,
         "Acousticness": 0.16161616161616163,
         "Beats Per Minute (BPM)": 0.5739644970414202,
         "Liveness": 0.21951219512195122,
         "_deepnote_index_column": 1215
        },
        {
         "Popularity": "high",
         "Danceability": 0.38372093023255816,
         "Energy": 0.3617021276595745,
         "Valence": 0.12631578947368421,
         "Loudness": 0.6875,
         "Speechiness": 0.2,
         "Length": 0.7824561403508772,
         "Acousticness": 0.696969696969697,
         "Beats Per Minute (BPM)": 0.6094674556213018,
         "Liveness": 0.14634146341463414,
         "_deepnote_index_column": 669
        },
        {
         "Popularity": "high",
         "Danceability": 0.7441860465116279,
         "Energy": 0.5319148936170213,
         "Valence": 0.3263157894736842,
         "Loudness": 0.5625,
         "Speechiness": 0.2,
         "Length": 0.7333333333333333,
         "Acousticness": 0.5151515151515151,
         "Beats Per Minute (BPM)": 0.35502958579881655,
         "Liveness": 0.0975609756097561,
         "_deepnote_index_column": 303
        },
        {
         "Popularity": "high",
         "Danceability": 0.6627906976744186,
         "Energy": 0.8297872340425532,
         "Valence": 0.6947368421052632,
         "Loudness": 0.75,
         "Speechiness": 1,
         "Length": 0.41754385964912283,
         "Acousticness": 0.010101010101010102,
         "Beats Per Minute (BPM)": 0.44970414201183434,
         "Liveness": 0.1951219512195122,
         "_deepnote_index_column": 516
        },
        {
         "Popularity": "high",
         "Danceability": 0.4418604651162791,
         "Energy": 0.2872340425531915,
         "Valence": 0.3684210526315789,
         "Loudness": 0.4375,
         "Speechiness": 0.2,
         "Length": 0.30526315789473685,
         "Acousticness": 0.37373737373737376,
         "Beats Per Minute (BPM)": 0.33727810650887574,
         "Liveness": 0.21951219512195122,
         "_deepnote_index_column": 801
        },
        {
         "Popularity": "high",
         "Danceability": 0.686046511627907,
         "Energy": 0.0851063829787234,
         "Valence": 0.3473684210526316,
         "Loudness": 0.25,
         "Speechiness": 0.2,
         "Length": 0.06666666666666667,
         "Acousticness": 0.7575757575757576,
         "Beats Per Minute (BPM)": 0.33727810650887574,
         "Liveness": 0.0975609756097561,
         "_deepnote_index_column": 1497
        },
        {
         "Popularity": "high",
         "Danceability": 0.6976744186046512,
         "Energy": 0.8617021276595744,
         "Valence": 0.8947368421052632,
         "Loudness": 0.875,
         "Speechiness": 0.2,
         "Length": 0.6280701754385964,
         "Acousticness": 0.020202020202020204,
         "Beats Per Minute (BPM)": 0.3905325443786982,
         "Liveness": 0.1951219512195122,
         "_deepnote_index_column": 81
        },
        {
         "Popularity": "high",
         "Danceability": 0.5930232558139535,
         "Energy": 0.5,
         "Valence": 0.8,
         "Loudness": 0.5,
         "Speechiness": 0.2,
         "Length": 0.30526315789473685,
         "Acousticness": 0.37373737373737376,
         "Beats Per Minute (BPM)": 0.28994082840236685,
         "Liveness": 0.24390243902439024,
         "_deepnote_index_column": 658
        },
        {
         "Popularity": "high",
         "Danceability": 0.6395348837209303,
         "Energy": 0.7978723404255319,
         "Valence": 0.5263157894736842,
         "Loudness": 0.375,
         "Speechiness": 0.6,
         "Length": 0.4631578947368421,
         "Acousticness": 0.35353535353535354,
         "Beats Per Minute (BPM)": 0.4437869822485207,
         "Liveness": 0.1951219512195122,
         "_deepnote_index_column": 1011
        },
        {
         "Popularity": "high",
         "Danceability": 0.627906976744186,
         "Energy": 0.7340425531914894,
         "Valence": 0.7894736842105263,
         "Loudness": 0.875,
         "Speechiness": 0.2,
         "Length": 0.34035087719298246,
         "Acousticness": 0.010101010101010102,
         "Beats Per Minute (BPM)": 0.47337278106508873,
         "Liveness": 0.36585365853658536,
         "_deepnote_index_column": 484
        },
        {
         "Popularity": "high",
         "Danceability": 0.3372093023255814,
         "Energy": 0.6063829787234043,
         "Valence": 0.3157894736842105,
         "Loudness": 0.625,
         "Speechiness": 0.2,
         "Length": 0.35789473684210527,
         "Acousticness": 0.21212121212121213,
         "Beats Per Minute (BPM)": 0.5325443786982249,
         "Liveness": 0.17073170731707318,
         "_deepnote_index_column": 686
        },
        {
         "Popularity": "high",
         "Danceability": 0.6046511627906976,
         "Energy": 0.8404255319148937,
         "Valence": 0.23157894736842105,
         "Loudness": 0.8125,
         "Speechiness": 0.4,
         "Length": 0.7859649122807018,
         "Acousticness": 0.26262626262626265,
         "Beats Per Minute (BPM)": 0.4378698224852071,
         "Liveness": 0.3902439024390244,
         "_deepnote_index_column": 234
        },
        {
         "Popularity": "high",
         "Danceability": 0.36046511627906974,
         "Energy": 0.7978723404255319,
         "Valence": 0.45263157894736844,
         "Loudness": 0.9375,
         "Speechiness": 0.4,
         "Length": 0.3649122807017544,
         "Acousticness": 0.2222222222222222,
         "Beats Per Minute (BPM)": 0.5502958579881657,
         "Liveness": 0.3902439024390244,
         "_deepnote_index_column": 728
        },
        {
         "Popularity": "high",
         "Danceability": 0.5,
         "Energy": 0.9468085106382979,
         "Valence": 0.4842105263157895,
         "Loudness": 0.75,
         "Speechiness": 0.4,
         "Length": 0.4280701754385965,
         "Acousticness": 0.010101010101010102,
         "Beats Per Minute (BPM)": 0.6627218934911243,
         "Liveness": 0.4146341463414634,
         "_deepnote_index_column": 975
        },
        {
         "Popularity": "high",
         "Danceability": 0.5465116279069767,
         "Energy": 0.648936170212766,
         "Valence": 0.42105263157894735,
         "Loudness": 0.8125,
         "Speechiness": 0.6,
         "Length": 0.43157894736842106,
         "Acousticness": 0.6363636363636364,
         "Beats Per Minute (BPM)": 0.5443786982248521,
         "Liveness": 0.24390243902439024,
         "_deepnote_index_column": 448
        },
        {
         "Popularity": "high",
         "Danceability": 0.4069767441860465,
         "Energy": 0.7553191489361702,
         "Valence": 0.4,
         "Loudness": 0.8125,
         "Speechiness": 0.2,
         "Length": 0.519298245614035,
         "Acousticness": 0.020202020202020204,
         "Beats Per Minute (BPM)": 0.3905325443786982,
         "Liveness": 0.3170731707317073,
         "_deepnote_index_column": 407
        },
        {
         "Popularity": "high",
         "Danceability": 0.5116279069767442,
         "Energy": 0.3723404255319149,
         "Valence": 0.21052631578947367,
         "Loudness": 0.5,
         "Speechiness": 0.4,
         "Length": 0.5964912280701754,
         "Acousticness": 0.5858585858585859,
         "Beats Per Minute (BPM)": 0.6863905325443787,
         "Liveness": 0.34146341463414637,
         "_deepnote_index_column": 1227
        },
        {
         "Popularity": "high",
         "Danceability": 0.7209302325581395,
         "Energy": 0.4148936170212766,
         "Valence": 0.29473684210526313,
         "Loudness": 0.5625,
         "Speechiness": 0.2,
         "Length": 0.43508771929824563,
         "Acousticness": 0.5858585858585859,
         "Beats Per Minute (BPM)": 0.5502958579881657,
         "Liveness": 0.17073170731707318,
         "_deepnote_index_column": 469
        },
        {
         "Popularity": "high",
         "Danceability": 0.7441860465116279,
         "Energy": 0.2553191489361702,
         "Valence": 0.42105263157894735,
         "Loudness": 0.3125,
         "Speechiness": 0.2,
         "Length": 0.26666666666666666,
         "Acousticness": 0.29292929292929293,
         "Beats Per Minute (BPM)": 0.33727810650887574,
         "Liveness": 0.17073170731707318,
         "_deepnote_index_column": 1282
        }
       ]
      },
      "text/plain": "     Popularity  Danceability    Energy   Valence  Loudness  Speechiness  \\\n261        high      0.686047  0.436170  0.715789    0.6250          0.6   \n1219       high      0.639535  0.276596  0.389474    0.3750          0.2   \n1491       high      0.372093  0.744681  0.789474    0.5000          0.6   \n161        high      0.523256  0.808511  0.115789    0.8125          0.2   \n821        high      0.825581  0.436170  0.736842    0.3125          0.2   \n...         ...           ...       ...       ...       ...          ...   \n448        high      0.546512  0.648936  0.421053    0.8125          0.6   \n407        high      0.406977  0.755319  0.400000    0.8125          0.2   \n1227       high      0.511628  0.372340  0.210526    0.5000          0.4   \n469        high      0.720930  0.414894  0.294737    0.5625          0.2   \n1282       high      0.744186  0.255319  0.421053    0.3125          0.2   \n\n        Length  Acousticness  Beats Per Minute (BPM)  Liveness  \n261   0.431579      0.606061                0.674556  0.219512  \n1219  0.645614      0.535354                0.449704  0.243902  \n1491  0.094737      0.202020                0.313609  0.365854  \n161   0.585965      0.020202                0.402367  0.195122  \n821   0.252632      0.787879                0.331361  0.317073  \n...        ...           ...                     ...       ...  \n448   0.431579      0.636364                0.544379  0.243902  \n407   0.519298      0.020202                0.390533  0.317073  \n1227  0.596491      0.585859                0.686391  0.341463  \n469   0.435088      0.585859                0.550296  0.170732  \n1282  0.266667      0.292929                0.337278  0.170732  \n\n[169 rows x 10 columns]",
      "text/html": "<div>\n<style scoped>\n    .dataframe tbody tr th:only-of-type {\n        vertical-align: middle;\n    }\n\n    .dataframe tbody tr th {\n        vertical-align: top;\n    }\n\n    .dataframe thead th {\n        text-align: right;\n    }\n</style>\n<table border=\"1\" class=\"dataframe\">\n  <thead>\n    <tr style=\"text-align: right;\">\n      <th></th>\n      <th>Popularity</th>\n      <th>Danceability</th>\n      <th>Energy</th>\n      <th>Valence</th>\n      <th>Loudness</th>\n      <th>Speechiness</th>\n      <th>Length</th>\n      <th>Acousticness</th>\n      <th>Beats Per Minute (BPM)</th>\n      <th>Liveness</th>\n    </tr>\n  </thead>\n  <tbody>\n    <tr>\n      <th>261</th>\n      <td>high</td>\n      <td>0.686047</td>\n      <td>0.436170</td>\n      <td>0.715789</td>\n      <td>0.6250</td>\n      <td>0.6</td>\n      <td>0.431579</td>\n      <td>0.606061</td>\n      <td>0.674556</td>\n      <td>0.219512</td>\n    </tr>\n    <tr>\n      <th>1219</th>\n      <td>high</td>\n      <td>0.639535</td>\n      <td>0.276596</td>\n      <td>0.389474</td>\n      <td>0.3750</td>\n      <td>0.2</td>\n      <td>0.645614</td>\n      <td>0.535354</td>\n      <td>0.449704</td>\n      <td>0.243902</td>\n    </tr>\n    <tr>\n      <th>1491</th>\n      <td>high</td>\n      <td>0.372093</td>\n      <td>0.744681</td>\n      <td>0.789474</td>\n      <td>0.5000</td>\n      <td>0.6</td>\n      <td>0.094737</td>\n      <td>0.202020</td>\n      <td>0.313609</td>\n      <td>0.365854</td>\n    </tr>\n    <tr>\n      <th>161</th>\n      <td>high</td>\n      <td>0.523256</td>\n      <td>0.808511</td>\n      <td>0.115789</td>\n      <td>0.8125</td>\n      <td>0.2</td>\n      <td>0.585965</td>\n      <td>0.020202</td>\n      <td>0.402367</td>\n      <td>0.195122</td>\n    </tr>\n    <tr>\n      <th>821</th>\n      <td>high</td>\n      <td>0.825581</td>\n      <td>0.436170</td>\n      <td>0.736842</td>\n      <td>0.3125</td>\n      <td>0.2</td>\n      <td>0.252632</td>\n      <td>0.787879</td>\n      <td>0.331361</td>\n      <td>0.317073</td>\n    </tr>\n    <tr>\n      <th>...</th>\n      <td>...</td>\n      <td>...</td>\n      <td>...</td>\n      <td>...</td>\n      <td>...</td>\n      <td>...</td>\n      <td>...</td>\n      <td>...</td>\n      <td>...</td>\n      <td>...</td>\n    </tr>\n    <tr>\n      <th>448</th>\n      <td>high</td>\n      <td>0.546512</td>\n      <td>0.648936</td>\n      <td>0.421053</td>\n      <td>0.8125</td>\n      <td>0.6</td>\n      <td>0.431579</td>\n      <td>0.636364</td>\n      <td>0.544379</td>\n      <td>0.243902</td>\n    </tr>\n    <tr>\n      <th>407</th>\n      <td>high</td>\n      <td>0.406977</td>\n      <td>0.755319</td>\n      <td>0.400000</td>\n      <td>0.8125</td>\n      <td>0.2</td>\n      <td>0.519298</td>\n      <td>0.020202</td>\n      <td>0.390533</td>\n      <td>0.317073</td>\n    </tr>\n    <tr>\n      <th>1227</th>\n      <td>high</td>\n      <td>0.511628</td>\n      <td>0.372340</td>\n      <td>0.210526</td>\n      <td>0.5000</td>\n      <td>0.4</td>\n      <td>0.596491</td>\n      <td>0.585859</td>\n      <td>0.686391</td>\n      <td>0.341463</td>\n    </tr>\n    <tr>\n      <th>469</th>\n      <td>high</td>\n      <td>0.720930</td>\n      <td>0.414894</td>\n      <td>0.294737</td>\n      <td>0.5625</td>\n      <td>0.2</td>\n      <td>0.435088</td>\n      <td>0.585859</td>\n      <td>0.550296</td>\n      <td>0.170732</td>\n    </tr>\n    <tr>\n      <th>1282</th>\n      <td>high</td>\n      <td>0.744186</td>\n      <td>0.255319</td>\n      <td>0.421053</td>\n      <td>0.3125</td>\n      <td>0.2</td>\n      <td>0.266667</td>\n      <td>0.292929</td>\n      <td>0.337278</td>\n      <td>0.170732</td>\n    </tr>\n  </tbody>\n</table>\n<p>169 rows × 10 columns</p>\n</div>"
     },
     "metadata": {}
    }
   ],
   "execution_count": 12
  },
  {
   "cell_type": "code",
   "metadata": {
    "tags": [],
    "cell_id": "00019-7979f930-8de1-454e-b02e-9635440db1bf",
    "deepnote_to_be_reexecuted": false,
    "source_hash": "9e87fd44",
    "execution_start": 1638245905800,
    "execution_millis": 0,
    "deepnote_cell_type": "code"
   },
   "source": "#Merge the low and med DFs\ndf_med_low = df_medium.append(df_low)",
   "outputs": [],
   "execution_count": 13
  },
  {
   "cell_type": "code",
   "metadata": {
    "tags": [],
    "cell_id": "00019-f8429969-8395-42e4-9dbc-f72457211331",
    "deepnote_to_be_reexecuted": false,
    "source_hash": "4d3342f5",
    "execution_start": 1638245905801,
    "execution_millis": 3,
    "deepnote_cell_type": "code"
   },
   "source": "#Merge high df to rest.\ndf_equal_distrib = df_med_low.append(df_high)",
   "outputs": [],
   "execution_count": 14
  },
  {
   "cell_type": "code",
   "metadata": {
    "tags": [],
    "cell_id": "00020-793204dc-bf97-4821-9e25-1a5f229f4ab2",
    "deepnote_to_be_reexecuted": false,
    "source_hash": "1a237041",
    "execution_start": 1638245905806,
    "execution_millis": 15,
    "deepnote_cell_type": "code"
   },
   "source": "df = df_equal_distrib",
   "outputs": [],
   "execution_count": 15
  },
  {
   "cell_type": "code",
   "metadata": {
    "tags": [],
    "deepnote_to_be_reexecuted": false,
    "source_hash": "d32402f6",
    "execution_start": 1638245905827,
    "execution_millis": 10,
    "cell_id": "00016-81ac8bc8-99aa-43fb-a197-f0153b0580f1",
    "deepnote_output_heights": [
     78
    ],
    "deepnote_cell_type": "code"
   },
   "source": "#Create the target dataframe Y and check the percentage of low medium high\ny = df['Popularity']\ny.value_counts()/y.count()",
   "outputs": [
    {
     "output_type": "execute_result",
     "execution_count": 16,
     "data": {
      "text/plain": "low       0.333333\nmedium    0.333333\nhigh      0.333333\nName: Popularity, dtype: float64"
     },
     "metadata": {}
    }
   ],
   "execution_count": 16
  },
  {
   "cell_type": "code",
   "metadata": {
    "tags": [],
    "deepnote_to_be_reexecuted": false,
    "source_hash": "86505bdf",
    "execution_start": 1638245905877,
    "execution_millis": 54,
    "cell_id": "00017-0150f1eb-bdb1-4db7-abbf-4c06cd395340",
    "deepnote_cell_type": "code"
   },
   "source": "#Create the X datframe without the target variable\nX = df[['Danceability','Energy','Valence','Loudness','Speechiness','Length','Acousticness','Beats Per Minute (BPM)','Liveness']]\nX",
   "outputs": [
    {
     "output_type": "execute_result",
     "execution_count": 17,
     "data": {
      "application/vnd.deepnote.dataframe.v2+json": {
       "row_count": 507,
       "column_count": 9,
       "columns": [
        {
         "name": "Danceability",
         "dtype": "float64",
         "stats": {
          "unique_count": 75,
          "nan_count": 0,
          "min": "0.023255813953488372",
          "max": "0.9534883720930233",
          "histogram": [
           {
            "bin_start": 0.023255813953488372,
            "bin_end": 0.11627906976744186,
            "count": 11
           },
           {
            "bin_start": 0.11627906976744186,
            "bin_end": 0.20930232558139533,
            "count": 17
           },
           {
            "bin_start": 0.20930232558139533,
            "bin_end": 0.3023255813953488,
            "count": 36
           },
           {
            "bin_start": 0.3023255813953488,
            "bin_end": 0.3953488372093023,
            "count": 73
           },
           {
            "bin_start": 0.3953488372093023,
            "bin_end": 0.4883720930232558,
            "count": 85
           },
           {
            "bin_start": 0.4883720930232558,
            "bin_end": 0.5813953488372093,
            "count": 110
           },
           {
            "bin_start": 0.5813953488372093,
            "bin_end": 0.6744186046511629,
            "count": 101
           },
           {
            "bin_start": 0.6744186046511629,
            "bin_end": 0.7674418604651163,
            "count": 42
           },
           {
            "bin_start": 0.7674418604651163,
            "bin_end": 0.8604651162790697,
            "count": 23
           },
           {
            "bin_start": 0.8604651162790697,
            "bin_end": 0.9534883720930233,
            "count": 9
           }
          ]
         }
        },
        {
         "name": "Energy",
         "dtype": "float64",
         "stats": {
          "unique_count": 86,
          "nan_count": 0,
          "min": "0.02127659574468085",
          "max": "1.0",
          "histogram": [
           {
            "bin_start": 0.02127659574468085,
            "bin_end": 0.11914893617021277,
            "count": 7
           },
           {
            "bin_start": 0.11914893617021277,
            "bin_end": 0.2170212765957447,
            "count": 28
           },
           {
            "bin_start": 0.2170212765957447,
            "bin_end": 0.31489361702127655,
            "count": 41
           },
           {
            "bin_start": 0.31489361702127655,
            "bin_end": 0.4127659574468085,
            "count": 68
           },
           {
            "bin_start": 0.4127659574468085,
            "bin_end": 0.5106382978723405,
            "count": 64
           },
           {
            "bin_start": 0.5106382978723405,
            "bin_end": 0.6085106382978723,
            "count": 77
           },
           {
            "bin_start": 0.6085106382978723,
            "bin_end": 0.7063829787234043,
            "count": 52
           },
           {
            "bin_start": 0.7063829787234043,
            "bin_end": 0.8042553191489362,
            "count": 77
           },
           {
            "bin_start": 0.8042553191489362,
            "bin_end": 0.9021276595744682,
            "count": 56
           },
           {
            "bin_start": 0.9021276595744682,
            "bin_end": 1,
            "count": 37
           }
          ]
         }
        },
        {
         "name": "Valence",
         "dtype": "float64",
         "stats": {
          "unique_count": 94,
          "nan_count": 0,
          "min": "0.0",
          "max": "0.9894736842105263",
          "histogram": [
           {
            "bin_start": 0,
            "bin_end": 0.09894736842105263,
            "count": 24
           },
           {
            "bin_start": 0.09894736842105263,
            "bin_end": 0.19789473684210526,
            "count": 63
           },
           {
            "bin_start": 0.19789473684210526,
            "bin_end": 0.2968421052631579,
            "count": 74
           },
           {
            "bin_start": 0.2968421052631579,
            "bin_end": 0.3957894736842105,
            "count": 54
           },
           {
            "bin_start": 0.3957894736842105,
            "bin_end": 0.49473684210526314,
            "count": 67
           },
           {
            "bin_start": 0.49473684210526314,
            "bin_end": 0.5936842105263158,
            "count": 53
           },
           {
            "bin_start": 0.5936842105263158,
            "bin_end": 0.6926315789473684,
            "count": 47
           },
           {
            "bin_start": 0.6926315789473684,
            "bin_end": 0.791578947368421,
            "count": 51
           },
           {
            "bin_start": 0.791578947368421,
            "bin_end": 0.8905263157894737,
            "count": 36
           },
           {
            "bin_start": 0.8905263157894737,
            "bin_end": 0.9894736842105263,
            "count": 38
           }
          ]
         }
        },
        {
         "name": "Loudness",
         "dtype": "float64",
         "stats": {
          "unique_count": 17,
          "nan_count": 0,
          "min": "0.0",
          "max": "1.0",
          "histogram": [
           {
            "bin_start": 0,
            "bin_end": 0.1,
            "count": 6
           },
           {
            "bin_start": 0.1,
            "bin_end": 0.2,
            "count": 26
           },
           {
            "bin_start": 0.2,
            "bin_end": 0.30000000000000004,
            "count": 21
           },
           {
            "bin_start": 0.30000000000000004,
            "bin_end": 0.4,
            "count": 63
           },
           {
            "bin_start": 0.4,
            "bin_end": 0.5,
            "count": 34
           },
           {
            "bin_start": 0.5,
            "bin_end": 0.6000000000000001,
            "count": 97
           },
           {
            "bin_start": 0.6000000000000001,
            "bin_end": 0.7000000000000001,
            "count": 127
           },
           {
            "bin_start": 0.7000000000000001,
            "bin_end": 0.8,
            "count": 56
           },
           {
            "bin_start": 0.8,
            "bin_end": 0.9,
            "count": 68
           },
           {
            "bin_start": 0.9,
            "bin_end": 1,
            "count": 9
           }
          ]
         }
        },
        {
         "name": "Speechiness",
         "dtype": "float64",
         "stats": {
          "unique_count": 6,
          "nan_count": 0,
          "min": "0.0",
          "max": "1.0",
          "histogram": [
           {
            "bin_start": 0,
            "bin_end": 0.1,
            "count": 11
           },
           {
            "bin_start": 0.1,
            "bin_end": 0.2,
            "count": 0
           },
           {
            "bin_start": 0.2,
            "bin_end": 0.30000000000000004,
            "count": 258
           },
           {
            "bin_start": 0.30000000000000004,
            "bin_end": 0.4,
            "count": 0
           },
           {
            "bin_start": 0.4,
            "bin_end": 0.5,
            "count": 133
           },
           {
            "bin_start": 0.5,
            "bin_end": 0.6000000000000001,
            "count": 55
           },
           {
            "bin_start": 0.6000000000000001,
            "bin_end": 0.7000000000000001,
            "count": 0
           },
           {
            "bin_start": 0.7000000000000001,
            "bin_end": 0.8,
            "count": 0
           },
           {
            "bin_start": 0.8,
            "bin_end": 0.9,
            "count": 33
           },
           {
            "bin_start": 0.9,
            "bin_end": 1,
            "count": 17
           }
          ]
         }
        },
        {
         "name": "Length",
         "dtype": "float64",
         "stats": {
          "unique_count": 186,
          "nan_count": 0,
          "min": "0.021052631578947368",
          "max": "0.9824561403508771",
          "histogram": [
           {
            "bin_start": 0.021052631578947368,
            "bin_end": 0.11719298245614035,
            "count": 11
           },
           {
            "bin_start": 0.11719298245614035,
            "bin_end": 0.21333333333333335,
            "count": 29
           },
           {
            "bin_start": 0.21333333333333335,
            "bin_end": 0.30947368421052635,
            "count": 64
           },
           {
            "bin_start": 0.30947368421052635,
            "bin_end": 0.4056140350877193,
            "count": 100
           },
           {
            "bin_start": 0.4056140350877193,
            "bin_end": 0.5017543859649123,
            "count": 116
           },
           {
            "bin_start": 0.5017543859649123,
            "bin_end": 0.5978947368421053,
            "count": 85
           },
           {
            "bin_start": 0.5978947368421053,
            "bin_end": 0.6940350877192982,
            "count": 43
           },
           {
            "bin_start": 0.6940350877192982,
            "bin_end": 0.7901754385964912,
            "count": 30
           },
           {
            "bin_start": 0.7901754385964912,
            "bin_end": 0.8863157894736842,
            "count": 20
           },
           {
            "bin_start": 0.8863157894736842,
            "bin_end": 0.9824561403508771,
            "count": 9
           }
          ]
         }
        },
        {
         "name": "Acousticness",
         "dtype": "float64",
         "stats": {
          "unique_count": 92,
          "nan_count": 0,
          "min": "0.0",
          "max": "0.98989898989899",
          "histogram": [
           {
            "bin_start": 0,
            "bin_end": 0.09898989898989899,
            "count": 194
           },
           {
            "bin_start": 0.09898989898989899,
            "bin_end": 0.19797979797979798,
            "count": 71
           },
           {
            "bin_start": 0.19797979797979798,
            "bin_end": 0.296969696969697,
            "count": 53
           },
           {
            "bin_start": 0.296969696969697,
            "bin_end": 0.39595959595959596,
            "count": 31
           },
           {
            "bin_start": 0.39595959595959596,
            "bin_end": 0.4949494949494949,
            "count": 19
           },
           {
            "bin_start": 0.4949494949494949,
            "bin_end": 0.593939393939394,
            "count": 26
           },
           {
            "bin_start": 0.593939393939394,
            "bin_end": 0.692929292929293,
            "count": 33
           },
           {
            "bin_start": 0.692929292929293,
            "bin_end": 0.7919191919191919,
            "count": 38
           },
           {
            "bin_start": 0.7919191919191919,
            "bin_end": 0.8909090909090909,
            "count": 23
           },
           {
            "bin_start": 0.8909090909090909,
            "bin_end": 0.98989898989899,
            "count": 19
           }
          ]
         }
        },
        {
         "name": "Beats Per Minute (BPM)",
         "dtype": "float64",
         "stats": {
          "unique_count": 114,
          "nan_count": 0,
          "min": "0.10059171597633136",
          "max": "0.9940828402366864",
          "histogram": [
           {
            "bin_start": 0.10059171597633136,
            "bin_end": 0.18994082840236687,
            "count": 4
           },
           {
            "bin_start": 0.18994082840236687,
            "bin_end": 0.27928994082840236,
            "count": 44
           },
           {
            "bin_start": 0.27928994082840236,
            "bin_end": 0.3686390532544379,
            "count": 94
           },
           {
            "bin_start": 0.3686390532544379,
            "bin_end": 0.4579881656804734,
            "count": 93
           },
           {
            "bin_start": 0.4579881656804734,
            "bin_end": 0.5473372781065089,
            "count": 116
           },
           {
            "bin_start": 0.5473372781065089,
            "bin_end": 0.6366863905325444,
            "count": 77
           },
           {
            "bin_start": 0.6366863905325444,
            "bin_end": 0.7260355029585799,
            "count": 27
           },
           {
            "bin_start": 0.7260355029585799,
            "bin_end": 0.8153846153846154,
            "count": 27
           },
           {
            "bin_start": 0.8153846153846154,
            "bin_end": 0.9047337278106509,
            "count": 19
           },
           {
            "bin_start": 0.9047337278106509,
            "bin_end": 0.9940828402366864,
            "count": 6
           }
          ]
         }
        },
        {
         "name": "Liveness",
         "dtype": "float64",
         "stats": {
          "unique_count": 42,
          "nan_count": 0,
          "min": "0.0",
          "max": "1.0",
          "histogram": [
           {
            "bin_start": 0,
            "bin_end": 0.1,
            "count": 39
           },
           {
            "bin_start": 0.1,
            "bin_end": 0.2,
            "count": 142
           },
           {
            "bin_start": 0.2,
            "bin_end": 0.30000000000000004,
            "count": 137
           },
           {
            "bin_start": 0.30000000000000004,
            "bin_end": 0.4,
            "count": 56
           },
           {
            "bin_start": 0.4,
            "bin_end": 0.5,
            "count": 36
           },
           {
            "bin_start": 0.5,
            "bin_end": 0.6000000000000001,
            "count": 33
           },
           {
            "bin_start": 0.6000000000000001,
            "bin_end": 0.7000000000000001,
            "count": 20
           },
           {
            "bin_start": 0.7000000000000001,
            "bin_end": 0.8,
            "count": 15
           },
           {
            "bin_start": 0.8,
            "bin_end": 0.9,
            "count": 21
           },
           {
            "bin_start": 0.9,
            "bin_end": 1,
            "count": 8
           }
          ]
         }
        },
        {
         "name": "_deepnote_index_column",
         "dtype": "int64"
        }
       ],
       "rows_top": [
        {
         "Danceability": 0.6744186046511628,
         "Energy": 0.8723404255319149,
         "Valence": 0,
         "Loudness": 0.75,
         "Speechiness": 0.4,
         "Length": 0.6491228070175439,
         "Acousticness": 0,
         "Beats Per Minute (BPM)": 0.5384615384615384,
         "Liveness": 0.8536585365853658,
         "_deepnote_index_column": 427
        },
        {
         "Danceability": 0.4186046511627907,
         "Energy": 0.2553191489361702,
         "Valence": 0.23157894736842105,
         "Loudness": 0.5,
         "Speechiness": 0.2,
         "Length": 0.2736842105263158,
         "Acousticness": 0.8282828282828283,
         "Beats Per Minute (BPM)": 0.40236686390532544,
         "Liveness": 0.3902439024390244,
         "_deepnote_index_column": 770
        },
        {
         "Danceability": 0.6162790697674418,
         "Energy": 0.2978723404255319,
         "Valence": 0.45263157894736844,
         "Loudness": 0.5625,
         "Speechiness": 0.2,
         "Length": 0.2596491228070175,
         "Acousticness": 0.7474747474747475,
         "Beats Per Minute (BPM)": 0.4319526627218935,
         "Liveness": 0.21951219512195122,
         "_deepnote_index_column": 128
        },
        {
         "Danceability": 0.3023255813953488,
         "Energy": 0.776595744680851,
         "Valence": 0.5684210526315789,
         "Loudness": 0.625,
         "Speechiness": 0.4,
         "Length": 0.4105263157894737,
         "Acousticness": 0.010101010101010102,
         "Beats Per Minute (BPM)": 0.2958579881656805,
         "Liveness": 0.8780487804878049,
         "_deepnote_index_column": 256
        },
        {
         "Danceability": 0.4069767441860465,
         "Energy": 0.648936170212766,
         "Valence": 0.7789473684210526,
         "Loudness": 0.6875,
         "Speechiness": 0.6,
         "Length": 0.5894736842105263,
         "Acousticness": 0.6666666666666666,
         "Beats Per Minute (BPM)": 0.41420118343195267,
         "Liveness": 0.5853658536585366,
         "_deepnote_index_column": 936
        },
        {
         "Danceability": 0.6744186046511628,
         "Energy": 0.6914893617021277,
         "Valence": 0.8105263157894737,
         "Loudness": 0.5625,
         "Speechiness": 0.2,
         "Length": 0.3333333333333333,
         "Acousticness": 0,
         "Beats Per Minute (BPM)": 0.5502958579881657,
         "Liveness": 0.2926829268292683,
         "_deepnote_index_column": 527
        },
        {
         "Danceability": 0.023255813953488372,
         "Energy": 0.1702127659574468,
         "Valence": 0.010526315789473684,
         "Loudness": 0.4375,
         "Speechiness": 0.4,
         "Length": 0.3649122807017544,
         "Acousticness": 0.8484848484848485,
         "Beats Per Minute (BPM)": 0.3136094674556213,
         "Liveness": 0.2682926829268293,
         "_deepnote_index_column": 523
        },
        {
         "Danceability": 0.627906976744186,
         "Energy": 0.5957446808510638,
         "Valence": 0.8947368421052632,
         "Loudness": 0.3125,
         "Speechiness": 0.2,
         "Length": 0.3684210526315789,
         "Acousticness": 0.25252525252525254,
         "Beats Per Minute (BPM)": 0.33727810650887574,
         "Liveness": 0.4634146341463415,
         "_deepnote_index_column": 1192
        },
        {
         "Danceability": 0.813953488372093,
         "Energy": 0.6063829787234043,
         "Valence": 0.631578947368421,
         "Loudness": 0.3125,
         "Speechiness": 0.6,
         "Length": 0.2807017543859649,
         "Acousticness": 0.020202020202020204,
         "Beats Per Minute (BPM)": 0.46745562130177515,
         "Liveness": 0.7317073170731707,
         "_deepnote_index_column": 1241
        },
        {
         "Danceability": 0.5348837209302325,
         "Energy": 0.43617021276595747,
         "Valence": 0.43157894736842106,
         "Loudness": 0.6875,
         "Speechiness": 0,
         "Length": 0.5298245614035088,
         "Acousticness": 0.3838383838383838,
         "Beats Per Minute (BPM)": 0.33727810650887574,
         "Liveness": 0.4634146341463415,
         "_deepnote_index_column": 1367
        },
        {
         "Danceability": 0.5,
         "Energy": 0.5425531914893617,
         "Valence": 0.35789473684210527,
         "Loudness": 0.625,
         "Speechiness": 0.2,
         "Length": 0.7298245614035088,
         "Acousticness": 0.7070707070707071,
         "Beats Per Minute (BPM)": 0.2781065088757396,
         "Liveness": 0.6829268292682927,
         "_deepnote_index_column": 859
        },
        {
         "Danceability": 0.313953488372093,
         "Energy": 0.7659574468085106,
         "Valence": 0.4,
         "Loudness": 0.75,
         "Speechiness": 1,
         "Length": 0.45263157894736844,
         "Acousticness": 0.18181818181818182,
         "Beats Per Minute (BPM)": 0.33727810650887574,
         "Liveness": 0.17073170731707318,
         "_deepnote_index_column": 99
        },
        {
         "Danceability": 0.4418604651162791,
         "Energy": 0.6276595744680851,
         "Valence": 0.7263157894736842,
         "Loudness": 0.375,
         "Speechiness": 0.2,
         "Length": 0.2912280701754386,
         "Acousticness": 0.06060606060606061,
         "Beats Per Minute (BPM)": 0.3609467455621302,
         "Liveness": 0.14634146341463414,
         "_deepnote_index_column": 1196
        },
        {
         "Danceability": 0.6395348837209303,
         "Energy": 0.8085106382978723,
         "Valence": 0.8210526315789474,
         "Loudness": 0.8125,
         "Speechiness": 0.2,
         "Length": 0.18947368421052632,
         "Acousticness": 0,
         "Beats Per Minute (BPM)": 0.4437869822485207,
         "Liveness": 0.2926829268292683,
         "_deepnote_index_column": 8
        },
        {
         "Danceability": 0.4069767441860465,
         "Energy": 0.3404255319148936,
         "Valence": 0.23157894736842105,
         "Loudness": 0.125,
         "Speechiness": 0.2,
         "Length": 0.543859649122807,
         "Acousticness": 0.48484848484848486,
         "Beats Per Minute (BPM)": 0.2781065088757396,
         "Liveness": 0.14634146341463414,
         "_deepnote_index_column": 1113
        },
        {
         "Danceability": 0.27906976744186046,
         "Energy": 0.4574468085106383,
         "Valence": 0.14736842105263157,
         "Loudness": 0.5,
         "Speechiness": 0.2,
         "Length": 0.49473684210526314,
         "Acousticness": 0.2828282828282828,
         "Beats Per Minute (BPM)": 0.6331360946745562,
         "Liveness": 0.2926829268292683,
         "_deepnote_index_column": 1121
        },
        {
         "Danceability": 0.9069767441860465,
         "Energy": 0.39361702127659576,
         "Valence": 0.9789473684210527,
         "Loudness": 0.1875,
         "Speechiness": 0.6,
         "Length": 0.6631578947368421,
         "Acousticness": 0.04040404040404041,
         "Beats Per Minute (BPM)": 0.5562130177514792,
         "Liveness": 0.3902439024390244,
         "_deepnote_index_column": 910
        },
        {
         "Danceability": 0.5697674418604651,
         "Energy": 0.8085106382978723,
         "Valence": 0.8,
         "Loudness": 0.75,
         "Speechiness": 0.4,
         "Length": 0.12280701754385964,
         "Acousticness": 0.1414141414141414,
         "Beats Per Minute (BPM)": 0.6035502958579881,
         "Liveness": 0.1951219512195122,
         "_deepnote_index_column": 1435
        },
        {
         "Danceability": 0.5,
         "Energy": 0.8617021276595744,
         "Valence": 0.8631578947368421,
         "Loudness": 0.8125,
         "Speechiness": 0.2,
         "Length": 0.6035087719298246,
         "Acousticness": 0.1919191919191919,
         "Beats Per Minute (BPM)": 0.39644970414201186,
         "Liveness": 0.5365853658536586,
         "_deepnote_index_column": 1337
        },
        {
         "Danceability": 0.046511627906976744,
         "Energy": 0.3723404255319149,
         "Valence": 0,
         "Loudness": 0.5625,
         "Speechiness": 0.4,
         "Length": 0.6175438596491228,
         "Acousticness": 0.5858585858585859,
         "Beats Per Minute (BPM)": 0.2958579881656805,
         "Liveness": 0.24390243902439024,
         "_deepnote_index_column": 1167
        },
        {
         "Danceability": 0.38372093023255816,
         "Energy": 0.6170212765957447,
         "Valence": 0.7368421052631579,
         "Loudness": 0.375,
         "Speechiness": 0.4,
         "Length": 0.3543859649122807,
         "Acousticness": 0.030303030303030304,
         "Beats Per Minute (BPM)": 0.5325443786982249,
         "Liveness": 0.21951219512195122,
         "_deepnote_index_column": 958
        },
        {
         "Danceability": 0.5813953488372093,
         "Energy": 0.48936170212765956,
         "Valence": 0.5894736842105263,
         "Loudness": 0.4375,
         "Speechiness": 0,
         "Length": 0.543859649122807,
         "Acousticness": 0.20202020202020202,
         "Beats Per Minute (BPM)": 0.3668639053254438,
         "Liveness": 0.21951219512195122,
         "_deepnote_index_column": 1066
        },
        {
         "Danceability": 0.3488372093023256,
         "Energy": 0.8191489361702128,
         "Valence": 0.06315789473684211,
         "Loudness": 0.6875,
         "Speechiness": 0.6,
         "Length": 0.3929824561403509,
         "Acousticness": 0,
         "Beats Per Minute (BPM)": 0.3136094674556213,
         "Liveness": 0.8536585365853658,
         "_deepnote_index_column": 1269
        },
        {
         "Danceability": 0.5465116279069767,
         "Energy": 0.6595744680851063,
         "Valence": 0.22105263157894736,
         "Loudness": 0.5,
         "Speechiness": 0.2,
         "Length": 0.6526315789473685,
         "Acousticness": 0.020202020202020204,
         "Beats Per Minute (BPM)": 0.40828402366863903,
         "Liveness": 0.21951219512195122,
         "_deepnote_index_column": 505
        },
        {
         "Danceability": 0.43023255813953487,
         "Energy": 0.9148936170212766,
         "Valence": 0.2631578947368421,
         "Loudness": 0.6875,
         "Speechiness": 0.4,
         "Length": 0.4421052631578947,
         "Acousticness": 0,
         "Beats Per Minute (BPM)": 0.5562130177514792,
         "Liveness": 0.5609756097560976,
         "_deepnote_index_column": 290
        },
        {
         "Danceability": 0.6627906976744186,
         "Energy": 0.6595744680851063,
         "Valence": 0.8736842105263158,
         "Loudness": 0.5,
         "Speechiness": 0,
         "Length": 0.9228070175438596,
         "Acousticness": 0.20202020202020202,
         "Beats Per Minute (BPM)": 0.5680473372781065,
         "Liveness": 0.34146341463414637,
         "_deepnote_index_column": 754
        },
        {
         "Danceability": 0.5116279069767442,
         "Energy": 0.7978723404255319,
         "Valence": 0.8947368421052632,
         "Loudness": 0.5625,
         "Speechiness": 0.2,
         "Length": 0.3543859649122807,
         "Acousticness": 0.0707070707070707,
         "Beats Per Minute (BPM)": 0.8284023668639053,
         "Liveness": 0.14634146341463414,
         "_deepnote_index_column": 962
        },
        {
         "Danceability": 0.6395348837209303,
         "Energy": 0.5638297872340425,
         "Valence": 0.7368421052631579,
         "Loudness": 0.625,
         "Speechiness": 0.4,
         "Length": 0.15789473684210525,
         "Acousticness": 0.41414141414141414,
         "Beats Per Minute (BPM)": 0.5976331360946746,
         "Liveness": 0.24390243902439024,
         "_deepnote_index_column": 1436
        },
        {
         "Danceability": 0.6162790697674418,
         "Energy": 0.6063829787234043,
         "Valence": 0.4,
         "Loudness": 0.4375,
         "Speechiness": 0.8,
         "Length": 0.8280701754385965,
         "Acousticness": 0.3434343434343434,
         "Beats Per Minute (BPM)": 0.2603550295857988,
         "Liveness": 0.1951219512195122,
         "_deepnote_index_column": 886
        },
        {
         "Danceability": 0.6046511627906976,
         "Energy": 0.6702127659574468,
         "Valence": 0.3894736842105263,
         "Loudness": 0.75,
         "Speechiness": 0,
         "Length": 0.24912280701754386,
         "Acousticness": 0.35353535353535354,
         "Beats Per Minute (BPM)": 0.3609467455621302,
         "Liveness": 0.14634146341463414,
         "_deepnote_index_column": 262
        },
        {
         "Danceability": 0.5,
         "Energy": 0.031914893617021274,
         "Valence": 0.28421052631578947,
         "Loudness": 0.125,
         "Speechiness": 0.6,
         "Length": 0.056140350877192984,
         "Acousticness": 0.9292929292929293,
         "Beats Per Minute (BPM)": 0.4437869822485207,
         "Liveness": 0.21951219512195122,
         "_deepnote_index_column": 126
        },
        {
         "Danceability": 0.37209302325581395,
         "Energy": 0.39361702127659576,
         "Valence": 0.22105263157894736,
         "Loudness": 0.5,
         "Speechiness": 0.4,
         "Length": 0.4105263157894737,
         "Acousticness": 0.8484848484848485,
         "Beats Per Minute (BPM)": 0.5680473372781065,
         "Liveness": 0.34146341463414637,
         "_deepnote_index_column": 9
        },
        {
         "Danceability": 0.5697674418604651,
         "Energy": 0.26595744680851063,
         "Valence": 0.15789473684210525,
         "Loudness": 0.1875,
         "Speechiness": 0.2,
         "Length": 0.5578947368421052,
         "Acousticness": 0.2222222222222222,
         "Beats Per Minute (BPM)": 0.4437869822485207,
         "Liveness": 0.2682926829268293,
         "_deepnote_index_column": 857
        },
        {
         "Danceability": 0.6395348837209303,
         "Energy": 0.776595744680851,
         "Valence": 0.5578947368421052,
         "Loudness": 0.8125,
         "Speechiness": 0.2,
         "Length": 0.06315789473684211,
         "Acousticness": 0.1414141414141414,
         "Beats Per Minute (BPM)": 0.4319526627218935,
         "Liveness": 0.4878048780487805,
         "_deepnote_index_column": 238
        },
        {
         "Danceability": 0.7441860465116279,
         "Energy": 0.39361702127659576,
         "Valence": 0.5684210526315789,
         "Loudness": 0.5,
         "Speechiness": 0.2,
         "Length": 0.49122807017543857,
         "Acousticness": 0.36363636363636365,
         "Beats Per Minute (BPM)": 0.44970414201183434,
         "Liveness": 0.1951219512195122,
         "_deepnote_index_column": 315
        },
        {
         "Danceability": 0.3372093023255814,
         "Energy": 0.5638297872340425,
         "Valence": 0.35789473684210527,
         "Loudness": 0.6875,
         "Speechiness": 0.2,
         "Length": 0.6175438596491228,
         "Acousticness": 0.47474747474747475,
         "Beats Per Minute (BPM)": 0.20118343195266272,
         "Liveness": 0.4878048780487805,
         "_deepnote_index_column": 1328
        },
        {
         "Danceability": 0.5697674418604651,
         "Energy": 0.5319148936170213,
         "Valence": 0.631578947368421,
         "Loudness": 0.375,
         "Speechiness": 0.2,
         "Length": 0.5087719298245614,
         "Acousticness": 0.47474747474747475,
         "Beats Per Minute (BPM)": 0.3727810650887574,
         "Liveness": 0.21951219512195122,
         "_deepnote_index_column": 65
        },
        {
         "Danceability": 0.47674418604651164,
         "Energy": 0.30851063829787234,
         "Valence": 0.24210526315789474,
         "Loudness": 0.3125,
         "Speechiness": 0.6,
         "Length": 0.6385964912280702,
         "Acousticness": 0,
         "Beats Per Minute (BPM)": 0.6449704142011834,
         "Liveness": 0.4634146341463415,
         "_deepnote_index_column": 874
        },
        {
         "Danceability": 0.36046511627906974,
         "Energy": 0.8404255319148937,
         "Valence": 0.3684210526315789,
         "Loudness": 0.75,
         "Speechiness": 0.6,
         "Length": 0.43157894736842106,
         "Acousticness": 0.030303030303030304,
         "Beats Per Minute (BPM)": 0.3254437869822485,
         "Liveness": 0.8536585365853658,
         "_deepnote_index_column": 1118
        },
        {
         "Danceability": 0.4186046511627907,
         "Energy": 0.26595744680851063,
         "Valence": 0.30526315789473685,
         "Loudness": 0.3125,
         "Speechiness": 0.2,
         "Length": 0.8280701754385965,
         "Acousticness": 0.696969696969697,
         "Beats Per Minute (BPM)": 0.4911242603550296,
         "Liveness": 0.21951219512195122,
         "_deepnote_index_column": 1067
        },
        {
         "Danceability": 0.5232558139534884,
         "Energy": 0.5319148936170213,
         "Valence": 0.2631578947368421,
         "Loudness": 0.5,
         "Speechiness": 0.2,
         "Length": 0.5824561403508772,
         "Acousticness": 0.050505050505050504,
         "Beats Per Minute (BPM)": 0.2603550295857988,
         "Liveness": 0.12195121951219512,
         "_deepnote_index_column": 1197
        },
        {
         "Danceability": 0.5465116279069767,
         "Energy": 0.9148936170212766,
         "Valence": 0.5473684210526316,
         "Loudness": 0.875,
         "Speechiness": 0.4,
         "Length": 0.5964912280701754,
         "Acousticness": 0.08080808080808081,
         "Beats Per Minute (BPM)": 0.3905325443786982,
         "Liveness": 0.2682926829268293,
         "_deepnote_index_column": 1005
        },
        {
         "Danceability": 0.38372093023255816,
         "Energy": 0.2978723404255319,
         "Valence": 0.3368421052631579,
         "Loudness": 0.5625,
         "Speechiness": 0.2,
         "Length": 0.30526315789473685,
         "Acousticness": 0.898989898989899,
         "Beats Per Minute (BPM)": 0.3727810650887574,
         "Liveness": 0.2926829268292683,
         "_deepnote_index_column": 1339
        },
        {
         "Danceability": 0.46511627906976744,
         "Energy": 0.7127659574468085,
         "Valence": 0.14736842105263157,
         "Loudness": 0.5625,
         "Speechiness": 0.4,
         "Length": 0.9403508771929825,
         "Acousticness": 0.010101010101010102,
         "Beats Per Minute (BPM)": 0.38461538461538464,
         "Liveness": 0.14634146341463414,
         "_deepnote_index_column": 710
        },
        {
         "Danceability": 0.6395348837209303,
         "Energy": 0.6170212765957447,
         "Valence": 0.8736842105263158,
         "Loudness": 0.5,
         "Speechiness": 0.2,
         "Length": 0.4842105263157895,
         "Acousticness": 0.020202020202020204,
         "Beats Per Minute (BPM)": 0.5739644970414202,
         "Liveness": 0.21951219512195122,
         "_deepnote_index_column": 952
        },
        {
         "Danceability": 0.6395348837209303,
         "Energy": 0.14893617021276595,
         "Valence": 0.2,
         "Loudness": 0.25,
         "Speechiness": 0.2,
         "Length": 0.3929824561403509,
         "Acousticness": 0.98989898989899,
         "Beats Per Minute (BPM)": 0.3668639053254438,
         "Liveness": 0.2682926829268293,
         "_deepnote_index_column": 337
        },
        {
         "Danceability": 0.09302325581395349,
         "Energy": 0.5,
         "Valence": 0.4,
         "Loudness": 0.625,
         "Speechiness": 0.2,
         "Length": 0.36140350877192984,
         "Acousticness": 0.3939393939393939,
         "Beats Per Minute (BPM)": 0.7692307692307693,
         "Liveness": 0.0975609756097561,
         "_deepnote_index_column": 1506
        },
        {
         "Danceability": 0.686046511627907,
         "Energy": 0.425531914893617,
         "Valence": 0.6947368421052632,
         "Loudness": 0.3125,
         "Speechiness": 0.4,
         "Length": 0.7824561403508772,
         "Acousticness": 0.030303030303030304,
         "Beats Per Minute (BPM)": 0.6863905325443787,
         "Liveness": 0.12195121951219512,
         "_deepnote_index_column": 1132
        },
        {
         "Danceability": 0.5,
         "Energy": 0.851063829787234,
         "Valence": 0.9157894736842105,
         "Loudness": 0.375,
         "Speechiness": 0.4,
         "Length": 0.42105263157894735,
         "Acousticness": 0.31313131313131315,
         "Beats Per Minute (BPM)": 0.621301775147929,
         "Liveness": 0.6829268292682927,
         "_deepnote_index_column": 1119
        },
        {
         "Danceability": 0.3488372093023256,
         "Energy": 0.19148936170212766,
         "Valence": 0.25263157894736843,
         "Loudness": 0.5625,
         "Speechiness": 0.4,
         "Length": 0.36140350877192984,
         "Acousticness": 0.898989898989899,
         "Beats Per Minute (BPM)": 0.5798816568047337,
         "Liveness": 0.21951219512195122,
         "_deepnote_index_column": 474
        },
        {
         "Danceability": 0.3372093023255814,
         "Energy": 0.648936170212766,
         "Valence": 0.4421052631578947,
         "Loudness": 0.75,
         "Speechiness": 0.2,
         "Length": 0.543859649122807,
         "Acousticness": 0.2828282828282828,
         "Beats Per Minute (BPM)": 0.8165680473372781,
         "Liveness": 0.0975609756097561,
         "_deepnote_index_column": 815
        },
        {
         "Danceability": 0.26744186046511625,
         "Energy": 0.3829787234042553,
         "Valence": 0.031578947368421054,
         "Loudness": 0.6875,
         "Speechiness": 0.2,
         "Length": 0.5508771929824562,
         "Acousticness": 0.6161616161616161,
         "Beats Per Minute (BPM)": 0.22485207100591717,
         "Liveness": 0.1951219512195122,
         "_deepnote_index_column": 266
        },
        {
         "Danceability": 0.46511627906976744,
         "Energy": 0.2765957446808511,
         "Valence": 0.22105263157894736,
         "Loudness": 0.125,
         "Speechiness": 0.2,
         "Length": 0.6035087719298246,
         "Acousticness": 0.48484848484848486,
         "Beats Per Minute (BPM)": 0.5562130177514792,
         "Liveness": 0.24390243902439024,
         "_deepnote_index_column": 1022
        },
        {
         "Danceability": 0.627906976744186,
         "Energy": 0.9361702127659575,
         "Valence": 0.9052631578947369,
         "Loudness": 0.75,
         "Speechiness": 0.2,
         "Length": 0.5333333333333333,
         "Acousticness": 0.1414141414141414,
         "Beats Per Minute (BPM)": 0.5621301775147929,
         "Liveness": 0.2682926829268293,
         "_deepnote_index_column": 1049
        },
        {
         "Danceability": 0.6744186046511628,
         "Energy": 0.5212765957446809,
         "Valence": 0.968421052631579,
         "Loudness": 0.5,
         "Speechiness": 0.2,
         "Length": 0.8350877192982457,
         "Acousticness": 0.2222222222222222,
         "Beats Per Minute (BPM)": 0.5207100591715976,
         "Liveness": 0.0975609756097561,
         "_deepnote_index_column": 709
        }
       ],
       "rows_bottom": [
        {
         "Danceability": 0.37209302325581395,
         "Energy": 0.2127659574468085,
         "Valence": 0.17894736842105263,
         "Loudness": 0.25,
         "Speechiness": 0.2,
         "Length": 0.3508771929824561,
         "Acousticness": 0.8484848484848485,
         "Beats Per Minute (BPM)": 0.27218934911242604,
         "Liveness": 0.21951219512195122,
         "_deepnote_index_column": 60
        },
        {
         "Danceability": 0.5232558139534884,
         "Energy": 0.8723404255319149,
         "Valence": 0.29473684210526313,
         "Loudness": 0.875,
         "Speechiness": 0.2,
         "Length": 0.4245614035087719,
         "Acousticness": 0,
         "Beats Per Minute (BPM)": 0.5029585798816568,
         "Liveness": 0.4634146341463415,
         "_deepnote_index_column": 147
        },
        {
         "Danceability": 0.20930232558139536,
         "Energy": 0.6702127659574468,
         "Valence": 0.47368421052631576,
         "Loudness": 0.5625,
         "Speechiness": 0.4,
         "Length": 0.41403508771929826,
         "Acousticness": 0,
         "Beats Per Minute (BPM)": 0.40236686390532544,
         "Liveness": 0.2926829268292683,
         "_deepnote_index_column": 28
        },
        {
         "Danceability": 0.6046511627906976,
         "Energy": 0.6276595744680851,
         "Valence": 0.43157894736842106,
         "Loudness": 0.6875,
         "Speechiness": 0.2,
         "Length": 0.44912280701754387,
         "Acousticness": 0.050505050505050504,
         "Beats Per Minute (BPM)": 0.3905325443786982,
         "Liveness": 0.34146341463414637,
         "_deepnote_index_column": 554
        },
        {
         "Danceability": 0.20930232558139536,
         "Energy": 0.851063829787234,
         "Valence": 0.2631578947368421,
         "Loudness": 0.75,
         "Speechiness": 0.4,
         "Length": 0.6982456140350877,
         "Acousticness": 0.04040404040404041,
         "Beats Per Minute (BPM)": 0.4260355029585799,
         "Liveness": 0.3902439024390244,
         "_deepnote_index_column": 1172
        },
        {
         "Danceability": 0.5232558139534884,
         "Energy": 0.2553191489361702,
         "Valence": 0.47368421052631576,
         "Loudness": 0.0625,
         "Speechiness": 0.2,
         "Length": 0.4807017543859649,
         "Acousticness": 0.3333333333333333,
         "Beats Per Minute (BPM)": 0.23668639053254437,
         "Liveness": 0.04878048780487805,
         "_deepnote_index_column": 1040
        },
        {
         "Danceability": 0.47674418604651164,
         "Energy": 0.5531914893617021,
         "Valence": 0.12631578947368421,
         "Loudness": 0.6875,
         "Speechiness": 0.2,
         "Length": 0.5649122807017544,
         "Acousticness": 0.04040404040404041,
         "Beats Per Minute (BPM)": 0.4911242603550296,
         "Liveness": 0.21951219512195122,
         "_deepnote_index_column": 1147
        },
        {
         "Danceability": 0.46511627906976744,
         "Energy": 0.6702127659574468,
         "Valence": 0.45263157894736844,
         "Loudness": 0.875,
         "Speechiness": 0.2,
         "Length": 0.5017543859649123,
         "Acousticness": 0.010101010101010102,
         "Beats Per Minute (BPM)": 0.7692307692307693,
         "Liveness": 0.0975609756097561,
         "_deepnote_index_column": 541
        },
        {
         "Danceability": 0.6976744186046512,
         "Energy": 0.7340425531914894,
         "Valence": 0.16842105263157894,
         "Loudness": 0.6875,
         "Speechiness": 1,
         "Length": 0.6421052631578947,
         "Acousticness": 0.0707070707070707,
         "Beats Per Minute (BPM)": 0.3254437869822485,
         "Liveness": 0.21951219512195122,
         "_deepnote_index_column": 520
        },
        {
         "Danceability": 0.5465116279069767,
         "Energy": 0.5425531914893617,
         "Valence": 0.4842105263157895,
         "Loudness": 0.6875,
         "Speechiness": 0.6,
         "Length": 0.39649122807017545,
         "Acousticness": 0.10101010101010101,
         "Beats Per Minute (BPM)": 0.3431952662721893,
         "Liveness": 0.21951219512195122,
         "_deepnote_index_column": 950
        },
        {
         "Danceability": 0.3023255813953488,
         "Energy": 0.925531914893617,
         "Valence": 0.5052631578947369,
         "Loudness": 0.75,
         "Speechiness": 0.6,
         "Length": 0.8350877192982457,
         "Acousticness": 0.030303030303030304,
         "Beats Per Minute (BPM)": 0.7928994082840237,
         "Liveness": 0.9512195121951219,
         "_deepnote_index_column": 1331
        },
        {
         "Danceability": 0.4418604651162791,
         "Energy": 0.5319148936170213,
         "Valence": 0.21052631578947367,
         "Loudness": 0.6875,
         "Speechiness": 1,
         "Length": 0.47017543859649125,
         "Acousticness": 0.37373737373737376,
         "Beats Per Minute (BPM)": 0.22485207100591717,
         "Liveness": 0.1951219512195122,
         "_deepnote_index_column": 420
        },
        {
         "Danceability": 0.5697674418604651,
         "Energy": 0.20212765957446807,
         "Valence": 0.23157894736842105,
         "Loudness": 0.4375,
         "Speechiness": 0.4,
         "Length": 0.35789473684210527,
         "Acousticness": 0.9191919191919192,
         "Beats Per Minute (BPM)": 0.3136094674556213,
         "Liveness": 0.17073170731707318,
         "_deepnote_index_column": 558
        },
        {
         "Danceability": 0.7790697674418605,
         "Energy": 0.8617021276595744,
         "Valence": 0.8947368421052632,
         "Loudness": 0.75,
         "Speechiness": 0.2,
         "Length": 0.18947368421052632,
         "Acousticness": 0.10101010101010101,
         "Beats Per Minute (BPM)": 0.4319526627218935,
         "Liveness": 0.34146341463414637,
         "_deepnote_index_column": 1322
        },
        {
         "Danceability": 0.6511627906976745,
         "Energy": 0.574468085106383,
         "Valence": 0.7789473684210526,
         "Loudness": 0.625,
         "Speechiness": 0.2,
         "Length": 0.1368421052631579,
         "Acousticness": 0.6262626262626263,
         "Beats Per Minute (BPM)": 0.39644970414201186,
         "Liveness": 0.8048780487804879,
         "_deepnote_index_column": 1424
        },
        {
         "Danceability": 0.8837209302325582,
         "Energy": 0.4787234042553192,
         "Valence": 0.7157894736842105,
         "Loudness": 0.6875,
         "Speechiness": 0.4,
         "Length": 0.4421052631578947,
         "Acousticness": 0.5959595959595959,
         "Beats Per Minute (BPM)": 0.5443786982248521,
         "Liveness": 0.1951219512195122,
         "_deepnote_index_column": 343
        },
        {
         "Danceability": 0.6627906976744186,
         "Energy": 0.7340425531914894,
         "Valence": 0.7473684210526316,
         "Loudness": 0.8125,
         "Speechiness": 0.6,
         "Length": 0.28771929824561404,
         "Acousticness": 0.29292929292929293,
         "Beats Per Minute (BPM)": 0.46745562130177515,
         "Liveness": 0.5365853658536586,
         "_deepnote_index_column": 589
        },
        {
         "Danceability": 0.4418604651162791,
         "Energy": 0.7127659574468085,
         "Valence": 0.5473684210526316,
         "Loudness": 0.6875,
         "Speechiness": 0.2,
         "Length": 0.8807017543859649,
         "Acousticness": 0.7373737373737373,
         "Beats Per Minute (BPM)": 0.3431952662721893,
         "Liveness": 0.4146341463414634,
         "_deepnote_index_column": 1440
        },
        {
         "Danceability": 0.18604651162790697,
         "Energy": 0.3617021276595745,
         "Valence": 0.08421052631578947,
         "Loudness": 0.4375,
         "Speechiness": 0.2,
         "Length": 0.38596491228070173,
         "Acousticness": 0.06060606060606061,
         "Beats Per Minute (BPM)": 0.23076923076923078,
         "Liveness": 0.21951219512195122,
         "_deepnote_index_column": 1348
        },
        {
         "Danceability": 0.8837209302325582,
         "Energy": 0.44680851063829785,
         "Valence": 0.8421052631578947,
         "Loudness": 0.5625,
         "Speechiness": 0.6,
         "Length": 0.22807017543859648,
         "Acousticness": 0,
         "Beats Per Minute (BPM)": 0.3076923076923077,
         "Liveness": 0.6097560975609756,
         "_deepnote_index_column": 106
        },
        {
         "Danceability": 0.872093023255814,
         "Energy": 0.5851063829787234,
         "Valence": 0.8421052631578947,
         "Loudness": 0.8125,
         "Speechiness": 0.4,
         "Length": 0.5087719298245614,
         "Acousticness": 0,
         "Beats Per Minute (BPM)": 0.4911242603550296,
         "Liveness": 0.14634146341463414,
         "_deepnote_index_column": 441
        },
        {
         "Danceability": 0.3953488372093023,
         "Energy": 0.648936170212766,
         "Valence": 0.14736842105263157,
         "Loudness": 0.625,
         "Speechiness": 1,
         "Length": 0.5298245614035088,
         "Acousticness": 0.20202020202020202,
         "Beats Per Minute (BPM)": 0.5502958579881657,
         "Liveness": 0.1951219512195122,
         "_deepnote_index_column": 1398
        },
        {
         "Danceability": 0.6046511627906976,
         "Energy": 0.9468085106382979,
         "Valence": 0.7578947368421053,
         "Loudness": 0.8125,
         "Speechiness": 0.2,
         "Length": 0.2,
         "Acousticness": 0.030303030303030304,
         "Beats Per Minute (BPM)": 0.3609467455621302,
         "Liveness": 0.12195121951219512,
         "_deepnote_index_column": 937
        },
        {
         "Danceability": 0.05813953488372093,
         "Energy": 0.1702127659574468,
         "Valence": 0.23157894736842105,
         "Loudness": 0.25,
         "Speechiness": 0.2,
         "Length": 0.6105263157894737,
         "Acousticness": 0.8282828282828283,
         "Beats Per Minute (BPM)": 0.25443786982248523,
         "Liveness": 0.24390243902439024,
         "_deepnote_index_column": 632
        },
        {
         "Danceability": 0.43023255813953487,
         "Energy": 0.9042553191489362,
         "Valence": 0.4,
         "Loudness": 0.75,
         "Speechiness": 0.8,
         "Length": 0.3368421052631579,
         "Acousticness": 0.15151515151515152,
         "Beats Per Minute (BPM)": 0.34911242603550297,
         "Liveness": 0.7804878048780488,
         "_deepnote_index_column": 837
        },
        {
         "Danceability": 0.5930232558139535,
         "Energy": 0.5531914893617021,
         "Valence": 0.5263157894736842,
         "Loudness": 0.4375,
         "Speechiness": 0.4,
         "Length": 0.8105263157894737,
         "Acousticness": 0.5656565656565656,
         "Beats Per Minute (BPM)": 0.5443786982248521,
         "Liveness": 0.12195121951219512,
         "_deepnote_index_column": 681
        },
        {
         "Danceability": 0.5581395348837209,
         "Energy": 0.8723404255319149,
         "Valence": 0.6105263157894737,
         "Loudness": 0.875,
         "Speechiness": 0.8,
         "Length": 0.2807017543859649,
         "Acousticness": 0.010101010101010102,
         "Beats Per Minute (BPM)": 0.5384615384615384,
         "Liveness": 0.5853658536585366,
         "_deepnote_index_column": 473
        },
        {
         "Danceability": 0.5348837209302325,
         "Energy": 0.7659574468085106,
         "Valence": 0.4105263157894737,
         "Loudness": 0.5,
         "Speechiness": 0.2,
         "Length": 0.4982456140350877,
         "Acousticness": 0.12121212121212122,
         "Beats Per Minute (BPM)": 0.26627218934911245,
         "Liveness": 0.24390243902439024,
         "_deepnote_index_column": 916
        },
        {
         "Danceability": 0.5697674418604651,
         "Energy": 0.1595744680851064,
         "Valence": 0.1368421052631579,
         "Loudness": 0.4375,
         "Speechiness": 0.2,
         "Length": 0.47719298245614034,
         "Acousticness": 0.9090909090909091,
         "Beats Per Minute (BPM)": 0.2781065088757396,
         "Liveness": 0.17073170731707318,
         "_deepnote_index_column": 551
        },
        {
         "Danceability": 0.686046511627907,
         "Energy": 0.4148936170212766,
         "Valence": 0.42105263157894735,
         "Loudness": 0.4375,
         "Speechiness": 0.2,
         "Length": 0.09473684210526316,
         "Acousticness": 0.45454545454545453,
         "Beats Per Minute (BPM)": 0.3905325443786982,
         "Liveness": 0.21951219512195122,
         "_deepnote_index_column": 1447
        },
        {
         "Danceability": 0.4186046511627907,
         "Energy": 0.7978723404255319,
         "Valence": 0.49473684210526314,
         "Loudness": 0.9375,
         "Speechiness": 0.8,
         "Length": 0.47719298245614034,
         "Acousticness": 0,
         "Beats Per Minute (BPM)": 0.5088757396449705,
         "Liveness": 0.14634146341463414,
         "_deepnote_index_column": 1400
        },
        {
         "Danceability": 0.38372093023255816,
         "Energy": 0.574468085106383,
         "Valence": 0.15789473684210525,
         "Loudness": 0.8125,
         "Speechiness": 0.2,
         "Length": 0.37894736842105264,
         "Acousticness": 0.06060606060606061,
         "Beats Per Minute (BPM)": 0.6390532544378699,
         "Liveness": 0.6829268292682927,
         "_deepnote_index_column": 201
        },
        {
         "Danceability": 0.5813953488372093,
         "Energy": 0.425531914893617,
         "Valence": 0.8,
         "Loudness": 0.5,
         "Speechiness": 0.4,
         "Length": 0.512280701754386,
         "Acousticness": 0.37373737373737376,
         "Beats Per Minute (BPM)": 0.27218934911242604,
         "Liveness": 0.4634146341463415,
         "_deepnote_index_column": 724
        },
        {
         "Danceability": 0.686046511627907,
         "Energy": 0.6914893617021277,
         "Valence": 0.4631578947368421,
         "Loudness": 0.75,
         "Speechiness": 0.2,
         "Length": 0.3333333333333333,
         "Acousticness": 0.2222222222222222,
         "Beats Per Minute (BPM)": 0.3668639053254438,
         "Liveness": 0.34146341463414637,
         "_deepnote_index_column": 41
        },
        {
         "Danceability": 0.5348837209302325,
         "Energy": 0.8617021276595744,
         "Valence": 0.37894736842105264,
         "Loudness": 0.75,
         "Speechiness": 0.8,
         "Length": 0.34385964912280703,
         "Acousticness": 0.010101010101010102,
         "Beats Per Minute (BPM)": 0.40236686390532544,
         "Liveness": 0.4634146341463415,
         "_deepnote_index_column": 75
        },
        {
         "Danceability": 0.19767441860465115,
         "Energy": 0.3191489361702128,
         "Valence": 0.30526315789473685,
         "Loudness": 0.5625,
         "Speechiness": 0.2,
         "Length": 0.21403508771929824,
         "Acousticness": 0.5555555555555556,
         "Beats Per Minute (BPM)": 0.2958579881656805,
         "Liveness": 0.7560975609756098,
         "_deepnote_index_column": 1419
        },
        {
         "Danceability": 0.45348837209302323,
         "Energy": 0.7340425531914894,
         "Valence": 0.3368421052631579,
         "Loudness": 0.8125,
         "Speechiness": 0.4,
         "Length": 0.49122807017543857,
         "Acousticness": 0.26262626262626265,
         "Beats Per Minute (BPM)": 0.3136094674556213,
         "Liveness": 0.6829268292682927,
         "_deepnote_index_column": 488
        },
        {
         "Danceability": 0.5348837209302325,
         "Energy": 0.5425531914893617,
         "Valence": 0.43157894736842106,
         "Loudness": 0.5,
         "Speechiness": 0.2,
         "Length": 0.6210526315789474,
         "Acousticness": 0.16161616161616163,
         "Beats Per Minute (BPM)": 0.5739644970414202,
         "Liveness": 0.21951219512195122,
         "_deepnote_index_column": 1215
        },
        {
         "Danceability": 0.38372093023255816,
         "Energy": 0.3617021276595745,
         "Valence": 0.12631578947368421,
         "Loudness": 0.6875,
         "Speechiness": 0.2,
         "Length": 0.7824561403508772,
         "Acousticness": 0.696969696969697,
         "Beats Per Minute (BPM)": 0.6094674556213018,
         "Liveness": 0.14634146341463414,
         "_deepnote_index_column": 669
        },
        {
         "Danceability": 0.7441860465116279,
         "Energy": 0.5319148936170213,
         "Valence": 0.3263157894736842,
         "Loudness": 0.5625,
         "Speechiness": 0.2,
         "Length": 0.7333333333333333,
         "Acousticness": 0.5151515151515151,
         "Beats Per Minute (BPM)": 0.35502958579881655,
         "Liveness": 0.0975609756097561,
         "_deepnote_index_column": 303
        },
        {
         "Danceability": 0.6627906976744186,
         "Energy": 0.8297872340425532,
         "Valence": 0.6947368421052632,
         "Loudness": 0.75,
         "Speechiness": 1,
         "Length": 0.41754385964912283,
         "Acousticness": 0.010101010101010102,
         "Beats Per Minute (BPM)": 0.44970414201183434,
         "Liveness": 0.1951219512195122,
         "_deepnote_index_column": 516
        },
        {
         "Danceability": 0.4418604651162791,
         "Energy": 0.2872340425531915,
         "Valence": 0.3684210526315789,
         "Loudness": 0.4375,
         "Speechiness": 0.2,
         "Length": 0.30526315789473685,
         "Acousticness": 0.37373737373737376,
         "Beats Per Minute (BPM)": 0.33727810650887574,
         "Liveness": 0.21951219512195122,
         "_deepnote_index_column": 801
        },
        {
         "Danceability": 0.686046511627907,
         "Energy": 0.0851063829787234,
         "Valence": 0.3473684210526316,
         "Loudness": 0.25,
         "Speechiness": 0.2,
         "Length": 0.06666666666666667,
         "Acousticness": 0.7575757575757576,
         "Beats Per Minute (BPM)": 0.33727810650887574,
         "Liveness": 0.0975609756097561,
         "_deepnote_index_column": 1497
        },
        {
         "Danceability": 0.6976744186046512,
         "Energy": 0.8617021276595744,
         "Valence": 0.8947368421052632,
         "Loudness": 0.875,
         "Speechiness": 0.2,
         "Length": 0.6280701754385964,
         "Acousticness": 0.020202020202020204,
         "Beats Per Minute (BPM)": 0.3905325443786982,
         "Liveness": 0.1951219512195122,
         "_deepnote_index_column": 81
        },
        {
         "Danceability": 0.5930232558139535,
         "Energy": 0.5,
         "Valence": 0.8,
         "Loudness": 0.5,
         "Speechiness": 0.2,
         "Length": 0.30526315789473685,
         "Acousticness": 0.37373737373737376,
         "Beats Per Minute (BPM)": 0.28994082840236685,
         "Liveness": 0.24390243902439024,
         "_deepnote_index_column": 658
        },
        {
         "Danceability": 0.6395348837209303,
         "Energy": 0.7978723404255319,
         "Valence": 0.5263157894736842,
         "Loudness": 0.375,
         "Speechiness": 0.6,
         "Length": 0.4631578947368421,
         "Acousticness": 0.35353535353535354,
         "Beats Per Minute (BPM)": 0.4437869822485207,
         "Liveness": 0.1951219512195122,
         "_deepnote_index_column": 1011
        },
        {
         "Danceability": 0.627906976744186,
         "Energy": 0.7340425531914894,
         "Valence": 0.7894736842105263,
         "Loudness": 0.875,
         "Speechiness": 0.2,
         "Length": 0.34035087719298246,
         "Acousticness": 0.010101010101010102,
         "Beats Per Minute (BPM)": 0.47337278106508873,
         "Liveness": 0.36585365853658536,
         "_deepnote_index_column": 484
        },
        {
         "Danceability": 0.3372093023255814,
         "Energy": 0.6063829787234043,
         "Valence": 0.3157894736842105,
         "Loudness": 0.625,
         "Speechiness": 0.2,
         "Length": 0.35789473684210527,
         "Acousticness": 0.21212121212121213,
         "Beats Per Minute (BPM)": 0.5325443786982249,
         "Liveness": 0.17073170731707318,
         "_deepnote_index_column": 686
        },
        {
         "Danceability": 0.6046511627906976,
         "Energy": 0.8404255319148937,
         "Valence": 0.23157894736842105,
         "Loudness": 0.8125,
         "Speechiness": 0.4,
         "Length": 0.7859649122807018,
         "Acousticness": 0.26262626262626265,
         "Beats Per Minute (BPM)": 0.4378698224852071,
         "Liveness": 0.3902439024390244,
         "_deepnote_index_column": 234
        },
        {
         "Danceability": 0.36046511627906974,
         "Energy": 0.7978723404255319,
         "Valence": 0.45263157894736844,
         "Loudness": 0.9375,
         "Speechiness": 0.4,
         "Length": 0.3649122807017544,
         "Acousticness": 0.2222222222222222,
         "Beats Per Minute (BPM)": 0.5502958579881657,
         "Liveness": 0.3902439024390244,
         "_deepnote_index_column": 728
        },
        {
         "Danceability": 0.5,
         "Energy": 0.9468085106382979,
         "Valence": 0.4842105263157895,
         "Loudness": 0.75,
         "Speechiness": 0.4,
         "Length": 0.4280701754385965,
         "Acousticness": 0.010101010101010102,
         "Beats Per Minute (BPM)": 0.6627218934911243,
         "Liveness": 0.4146341463414634,
         "_deepnote_index_column": 975
        },
        {
         "Danceability": 0.5465116279069767,
         "Energy": 0.648936170212766,
         "Valence": 0.42105263157894735,
         "Loudness": 0.8125,
         "Speechiness": 0.6,
         "Length": 0.43157894736842106,
         "Acousticness": 0.6363636363636364,
         "Beats Per Minute (BPM)": 0.5443786982248521,
         "Liveness": 0.24390243902439024,
         "_deepnote_index_column": 448
        },
        {
         "Danceability": 0.4069767441860465,
         "Energy": 0.7553191489361702,
         "Valence": 0.4,
         "Loudness": 0.8125,
         "Speechiness": 0.2,
         "Length": 0.519298245614035,
         "Acousticness": 0.020202020202020204,
         "Beats Per Minute (BPM)": 0.3905325443786982,
         "Liveness": 0.3170731707317073,
         "_deepnote_index_column": 407
        },
        {
         "Danceability": 0.5116279069767442,
         "Energy": 0.3723404255319149,
         "Valence": 0.21052631578947367,
         "Loudness": 0.5,
         "Speechiness": 0.4,
         "Length": 0.5964912280701754,
         "Acousticness": 0.5858585858585859,
         "Beats Per Minute (BPM)": 0.6863905325443787,
         "Liveness": 0.34146341463414637,
         "_deepnote_index_column": 1227
        },
        {
         "Danceability": 0.7209302325581395,
         "Energy": 0.4148936170212766,
         "Valence": 0.29473684210526313,
         "Loudness": 0.5625,
         "Speechiness": 0.2,
         "Length": 0.43508771929824563,
         "Acousticness": 0.5858585858585859,
         "Beats Per Minute (BPM)": 0.5502958579881657,
         "Liveness": 0.17073170731707318,
         "_deepnote_index_column": 469
        },
        {
         "Danceability": 0.7441860465116279,
         "Energy": 0.2553191489361702,
         "Valence": 0.42105263157894735,
         "Loudness": 0.3125,
         "Speechiness": 0.2,
         "Length": 0.26666666666666666,
         "Acousticness": 0.29292929292929293,
         "Beats Per Minute (BPM)": 0.33727810650887574,
         "Liveness": 0.17073170731707318,
         "_deepnote_index_column": 1282
        }
       ]
      },
      "text/plain": "      Danceability    Energy   Valence  Loudness  Speechiness    Length  \\\n427       0.674419  0.872340  0.000000    0.7500          0.4  0.649123   \n770       0.418605  0.255319  0.231579    0.5000          0.2  0.273684   \n128       0.616279  0.297872  0.452632    0.5625          0.2  0.259649   \n256       0.302326  0.776596  0.568421    0.6250          0.4  0.410526   \n936       0.406977  0.648936  0.778947    0.6875          0.6  0.589474   \n...            ...       ...       ...       ...          ...       ...   \n448       0.546512  0.648936  0.421053    0.8125          0.6  0.431579   \n407       0.406977  0.755319  0.400000    0.8125          0.2  0.519298   \n1227      0.511628  0.372340  0.210526    0.5000          0.4  0.596491   \n469       0.720930  0.414894  0.294737    0.5625          0.2  0.435088   \n1282      0.744186  0.255319  0.421053    0.3125          0.2  0.266667   \n\n      Acousticness  Beats Per Minute (BPM)  Liveness  \n427       0.000000                0.538462  0.853659  \n770       0.828283                0.402367  0.390244  \n128       0.747475                0.431953  0.219512  \n256       0.010101                0.295858  0.878049  \n936       0.666667                0.414201  0.585366  \n...            ...                     ...       ...  \n448       0.636364                0.544379  0.243902  \n407       0.020202                0.390533  0.317073  \n1227      0.585859                0.686391  0.341463  \n469       0.585859                0.550296  0.170732  \n1282      0.292929                0.337278  0.170732  \n\n[507 rows x 9 columns]",
      "text/html": "<div>\n<style scoped>\n    .dataframe tbody tr th:only-of-type {\n        vertical-align: middle;\n    }\n\n    .dataframe tbody tr th {\n        vertical-align: top;\n    }\n\n    .dataframe thead th {\n        text-align: right;\n    }\n</style>\n<table border=\"1\" class=\"dataframe\">\n  <thead>\n    <tr style=\"text-align: right;\">\n      <th></th>\n      <th>Danceability</th>\n      <th>Energy</th>\n      <th>Valence</th>\n      <th>Loudness</th>\n      <th>Speechiness</th>\n      <th>Length</th>\n      <th>Acousticness</th>\n      <th>Beats Per Minute (BPM)</th>\n      <th>Liveness</th>\n    </tr>\n  </thead>\n  <tbody>\n    <tr>\n      <th>427</th>\n      <td>0.674419</td>\n      <td>0.872340</td>\n      <td>0.000000</td>\n      <td>0.7500</td>\n      <td>0.4</td>\n      <td>0.649123</td>\n      <td>0.000000</td>\n      <td>0.538462</td>\n      <td>0.853659</td>\n    </tr>\n    <tr>\n      <th>770</th>\n      <td>0.418605</td>\n      <td>0.255319</td>\n      <td>0.231579</td>\n      <td>0.5000</td>\n      <td>0.2</td>\n      <td>0.273684</td>\n      <td>0.828283</td>\n      <td>0.402367</td>\n      <td>0.390244</td>\n    </tr>\n    <tr>\n      <th>128</th>\n      <td>0.616279</td>\n      <td>0.297872</td>\n      <td>0.452632</td>\n      <td>0.5625</td>\n      <td>0.2</td>\n      <td>0.259649</td>\n      <td>0.747475</td>\n      <td>0.431953</td>\n      <td>0.219512</td>\n    </tr>\n    <tr>\n      <th>256</th>\n      <td>0.302326</td>\n      <td>0.776596</td>\n      <td>0.568421</td>\n      <td>0.6250</td>\n      <td>0.4</td>\n      <td>0.410526</td>\n      <td>0.010101</td>\n      <td>0.295858</td>\n      <td>0.878049</td>\n    </tr>\n    <tr>\n      <th>936</th>\n      <td>0.406977</td>\n      <td>0.648936</td>\n      <td>0.778947</td>\n      <td>0.6875</td>\n      <td>0.6</td>\n      <td>0.589474</td>\n      <td>0.666667</td>\n      <td>0.414201</td>\n      <td>0.585366</td>\n    </tr>\n    <tr>\n      <th>...</th>\n      <td>...</td>\n      <td>...</td>\n      <td>...</td>\n      <td>...</td>\n      <td>...</td>\n      <td>...</td>\n      <td>...</td>\n      <td>...</td>\n      <td>...</td>\n    </tr>\n    <tr>\n      <th>448</th>\n      <td>0.546512</td>\n      <td>0.648936</td>\n      <td>0.421053</td>\n      <td>0.8125</td>\n      <td>0.6</td>\n      <td>0.431579</td>\n      <td>0.636364</td>\n      <td>0.544379</td>\n      <td>0.243902</td>\n    </tr>\n    <tr>\n      <th>407</th>\n      <td>0.406977</td>\n      <td>0.755319</td>\n      <td>0.400000</td>\n      <td>0.8125</td>\n      <td>0.2</td>\n      <td>0.519298</td>\n      <td>0.020202</td>\n      <td>0.390533</td>\n      <td>0.317073</td>\n    </tr>\n    <tr>\n      <th>1227</th>\n      <td>0.511628</td>\n      <td>0.372340</td>\n      <td>0.210526</td>\n      <td>0.5000</td>\n      <td>0.4</td>\n      <td>0.596491</td>\n      <td>0.585859</td>\n      <td>0.686391</td>\n      <td>0.341463</td>\n    </tr>\n    <tr>\n      <th>469</th>\n      <td>0.720930</td>\n      <td>0.414894</td>\n      <td>0.294737</td>\n      <td>0.5625</td>\n      <td>0.2</td>\n      <td>0.435088</td>\n      <td>0.585859</td>\n      <td>0.550296</td>\n      <td>0.170732</td>\n    </tr>\n    <tr>\n      <th>1282</th>\n      <td>0.744186</td>\n      <td>0.255319</td>\n      <td>0.421053</td>\n      <td>0.3125</td>\n      <td>0.2</td>\n      <td>0.266667</td>\n      <td>0.292929</td>\n      <td>0.337278</td>\n      <td>0.170732</td>\n    </tr>\n  </tbody>\n</table>\n<p>507 rows × 9 columns</p>\n</div>"
     },
     "metadata": {}
    }
   ],
   "execution_count": 17
  },
  {
   "cell_type": "code",
   "metadata": {
    "tags": [],
    "deepnote_to_be_reexecuted": false,
    "source_hash": "3bb89a3f",
    "execution_start": 1638245905927,
    "execution_millis": 262943,
    "cell_id": "00018-9b037676-bf64-463b-beb6-2bb82dc983b2",
    "deepnote_cell_type": "code"
   },
   "source": "#Create a count of popularity values\npop_count = df['Popularity'].value_counts()",
   "outputs": [],
   "execution_count": 18
  },
  {
   "cell_type": "code",
   "metadata": {
    "tags": [],
    "deepnote_to_be_reexecuted": false,
    "source_hash": "73efdfa6",
    "execution_start": 1638245905947,
    "execution_millis": 4419,
    "cell_id": "00019-d8b30317-7ce2-4022-96a3-81329dc5eb53",
    "deepnote_cell_type": "code"
   },
   "source": "!pip install imblearn",
   "outputs": [
    {
     "name": "stdout",
     "text": "Requirement already satisfied: imblearn in /root/venv/lib/python3.7/site-packages (0.0)\nRequirement already satisfied: imbalanced-learn in /root/venv/lib/python3.7/site-packages (from imblearn) (0.8.1)\nRequirement already satisfied: scipy>=0.19.1 in /shared-libs/python3.7/py/lib/python3.7/site-packages (from imbalanced-learn->imblearn) (1.7.2)\nRequirement already satisfied: numpy>=1.13.3 in /shared-libs/python3.7/py/lib/python3.7/site-packages (from imbalanced-learn->imblearn) (1.19.5)\nRequirement already satisfied: joblib>=0.11 in /shared-libs/python3.7/py/lib/python3.7/site-packages (from imbalanced-learn->imblearn) (1.1.0)\nRequirement already satisfied: scikit-learn>=0.24 in /shared-libs/python3.7/py/lib/python3.7/site-packages (from imbalanced-learn->imblearn) (1.0.1)\nRequirement already satisfied: threadpoolctl>=2.0.0 in /shared-libs/python3.7/py/lib/python3.7/site-packages (from scikit-learn>=0.24->imbalanced-learn->imblearn) (3.0.0)\n\u001b[33mWARNING: You are using pip version 20.1.1; however, version 21.3.1 is available.\nYou should consider upgrading via the '/root/venv/bin/python -m pip install --upgrade pip' command.\u001b[0m\n",
     "output_type": "stream"
    }
   ],
   "execution_count": 19
  },
  {
   "cell_type": "code",
   "metadata": {
    "tags": [],
    "deepnote_to_be_reexecuted": false,
    "source_hash": "9136a9c1",
    "execution_start": 1638245910378,
    "execution_millis": 1040,
    "cell_id": "00020-7bfad9e3-6ed1-44f3-babb-dbcc9594f744",
    "deepnote_output_heights": [
     21
    ],
    "deepnote_cell_type": "code"
   },
   "source": "#Create the KN Classifier\nfrom sklearn.neighbors import KNeighborsClassifier\nknn = KNeighborsClassifier(n_neighbors=1)\n\nknn.fit(X, y)",
   "outputs": [
    {
     "output_type": "execute_result",
     "execution_count": 20,
     "data": {
      "text/plain": "KNeighborsClassifier(n_neighbors=1)"
     },
     "metadata": {}
    }
   ],
   "execution_count": 20
  },
  {
   "cell_type": "code",
   "metadata": {
    "tags": [],
    "deepnote_to_be_reexecuted": false,
    "source_hash": "d0148c87",
    "execution_start": 1638245911435,
    "execution_millis": 28,
    "cell_id": "00021-49153bef-1693-4266-94e3-49c70fe98e21",
    "deepnote_cell_type": "code"
   },
   "source": "#create the Y predictions from the KNN model\ny_pred_class = knn.predict(X)\n\n# compute classification accuracy\nfrom sklearn import metrics\n\nprint(metrics.accuracy_score(y, y_pred_class))",
   "outputs": [
    {
     "name": "stdout",
     "text": "1.0\n",
     "output_type": "stream"
    }
   ],
   "execution_count": 21
  },
  {
   "cell_type": "markdown",
   "source": "Here, we can see that the accuracy being 1 is a sign of overfitting the data. \n\nIn order to address this, we will try re-splitting the data into different test/train splits to try and refit the data. We'll be trying a split of .5 and .3 to see how the accuracy is affected.",
   "metadata": {
    "tags": [],
    "cell_id": "00022-ed4a503e-8b07-4fb3-acce-64d8384cd22d",
    "deepnote_cell_type": "markdown"
   }
  },
  {
   "cell_type": "code",
   "metadata": {
    "tags": [],
    "deepnote_to_be_reexecuted": false,
    "source_hash": "da988116",
    "execution_start": 1638245911481,
    "execution_millis": 35,
    "cell_id": "00023-4f8f0940-671e-45c5-95d0-4887b2fc66d6",
    "deepnote_cell_type": "code"
   },
   "source": "from sklearn.model_selection import train_test_split\n\nX_train, X_test, y_train, y_test = train_test_split(X, y, random_state=99, test_size=0.5)\n\nknn = KNeighborsClassifier(n_neighbors=1)\nknn.fit(X_train, y_train)\n\ny_pred_class = knn.predict(X_test)\nprint(metrics.accuracy_score(y_test, y_pred_class))",
   "outputs": [
    {
     "name": "stdout",
     "text": "0.28346456692913385\n",
     "output_type": "stream"
    }
   ],
   "execution_count": 22
  },
  {
   "cell_type": "code",
   "metadata": {
    "tags": [],
    "deepnote_to_be_reexecuted": false,
    "source_hash": "3c28e245",
    "execution_start": 1638245911541,
    "execution_millis": 32,
    "cell_id": "00024-f318b86b-2f9f-4dd0-b256-90250c183ed8",
    "deepnote_cell_type": "code"
   },
   "source": "X_train, X_test, y_train, y_test = train_test_split(X, y, random_state=99, test_size=0.3)\n\nknn = KNeighborsClassifier(n_neighbors=1)\nknn.fit(X_train, y_train)\n\ny_pred_class = knn.predict(X_test)\nprint(metrics.accuracy_score(y_test, y_pred_class))",
   "outputs": [
    {
     "name": "stdout",
     "text": "0.33986928104575165\n",
     "output_type": "stream"
    }
   ],
   "execution_count": 23
  },
  {
   "cell_type": "markdown",
   "source": "Thankfully, this newly split data showed that the model returned reasonable accuracy scores. We now have the confidence to move forward with the model by testing it on the full range of K-values. ",
   "metadata": {
    "tags": [],
    "cell_id": "00029-4b149d8d-281d-418c-a431-f22e24e31dbb",
    "deepnote_cell_type": "markdown"
   }
  },
  {
   "cell_type": "code",
   "metadata": {
    "tags": [],
    "deepnote_to_be_reexecuted": false,
    "source_hash": "4f36d766",
    "execution_start": 1638245911561,
    "execution_millis": 13482,
    "cell_id": "00025-6e30bc90-d5df-42d5-9173-493a8ccbdfd7",
    "deepnote_cell_type": "code"
   },
   "source": "from sklearn.model_selection import cross_val_score\n\nk_range = range(1, 200)\n# list of scores from k_range\nk_scores = []\n# 1. we will loop through reasonable values of k\nfor k in k_range:\n    # 2. run KNeighborsClassifier with k neighbours\n    knn = KNeighborsClassifier(n_neighbors=k)\n    # 3. obtain cross_val_score for KNeighborsClassifier with k neighbours\n    scores = cross_val_score(knn, X_train, y_train, cv=5, scoring='accuracy')\n    # 4. append mean of scores for k neighbors to k_scores list\n    k_scores.append(scores.mean())\nprint(k_scores)",
   "outputs": [
    {
     "name": "stdout",
     "text": "[0.2966599597585513, 0.33621730382293763, 0.35038229376257546, 0.3786317907444668, 0.38426559356136825, 0.37026156941649896, 0.39553319919517105, 0.3673239436619718, 0.3956941649899396, 0.3928772635814889, 0.4097786720321931, 0.38720321931589535, 0.3787927565392354, 0.4041448692152917, 0.3900603621730382, 0.39279678068410456, 0.40116700201207245, 0.39847082494969815, 0.4097786720321932, 0.3927967806841047, 0.3985513078470825, 0.40981891348088534, 0.4322334004024144, 0.426599597585513, 0.41251509054325963, 0.40394366197183096, 0.3926760563380281, 0.40112676056338026, 0.3785110663983903, 0.3898189134808853, 0.39549295774647886, 0.40112676056338026, 0.39549295774647886, 0.40410462776659956, 0.3899798792756539, 0.3927967806841046, 0.39839034205231394, 0.4040643863179074, 0.40973843058350107, 0.41255533199195166, 0.4323138832997988, 0.4379476861167002, 0.42945674044265597, 0.41537223340040236, 0.4096981891348088, 0.41239436619718306, 0.41521126760563376, 0.4209255533199195, 0.4293762575452716, 0.42084507042253516, 0.4209657947686116, 0.4462776659959758, 0.41814889336016103, 0.44631790744466804, 0.4435412474849095, 0.4435010060362172, 0.4378269617706237, 0.4490945674044265, 0.44068410462776664, 0.4434607645875251, 0.41802816901408446, 0.43496981891348085, 0.42933601609657945, 0.4378269617706237, 0.43505030181086524, 0.45207243460764585, 0.44643863179074444, 0.44362173038229374, 0.44362173038229374, 0.421046277665996, 0.4294969818913481, 0.43517102615694164, 0.42378269617706243, 0.4407243460764588, 0.4181086519114688, 0.43505030181086524, 0.4209657947686116, 0.4125150905432595, 0.4293762575452716, 0.4236217303822937, 0.4263983903420523, 0.4263983903420523, 0.42929577464788726, 0.41806841046277665, 0.42088531187122735, 0.42933601609657945, 0.42366197183098586, 0.4349295774647888, 0.42088531187122735, 0.42366197183098586, 0.42651911468812875, 0.41521126760563376, 0.40957746478873236, 0.41525150905432595, 0.4181086519114688, 0.4096579476861167, 0.4152917505030181, 0.4181488933601609, 0.42941649899396384, 0.4321931589537223, 0.4124748490945674, 0.426599597585513, 0.4181488933601609, 0.42941649899396384, 0.4068812877263581, 0.4068812877263581, 0.4238631790744466, 0.4182293762575452, 0.4266800804828974, 0.4182293762575452, 0.42382293762575457, 0.43509054325955737, 0.43509054325955737, 0.42663983903420527, 0.4096981891348088, 0.4096981891348088, 0.41251509054325963, 0.4124748490945674, 0.4323138832997988, 0.4323138832997988, 0.4238631790744466, 0.42390342052313884, 0.4323138832997988, 0.4267203219315895, 0.41818913480885306, 0.42382293762575446, 0.4209657947686116, 0.4237424547283702, 0.42945674044265597, 0.42382293762575457, 0.4379476861167002, 0.43509054325955737, 0.4295774647887324, 0.4352112676056338, 0.43235412474849094, 0.4408450704225352, 0.42382293762575457, 0.4210462776659959, 0.4210462776659959, 0.42945674044265597, 0.4182293762575452, 0.42382293762575446, 0.4210865191146881, 0.4267605633802816, 0.4211267605633802, 0.44088531187122737, 0.4267203219315895, 0.4266800804828973, 0.4238631790744466, 0.40973843058350096, 0.4210462776659959, 0.3985110663983903, 0.412635814889336, 0.4182293762575453, 0.4097786720321931, 0.41255533199195177, 0.40128772635814886, 0.4154124748490946, 0.40692152917505037, 0.40128772635814886, 0.40410462776659956, 0.4041448692152917, 0.4154124748490945, 0.40410462776659956, 0.40692152917505037, 0.412635814889336, 0.41263581488933604, 0.401327967806841, 0.401327967806841, 0.4041448692152918, 0.3928772635814889, 0.38156941649899395, 0.3759356136820925, 0.3928772635814889, 0.3901006036217304, 0.3815694164989939, 0.38156941649899395, 0.3928370221327967, 0.3787525150905432, 0.3900603621730382, 0.3759356136820925, 0.3844265593561368, 0.37307847082494966, 0.3844265593561368, 0.3675251509054326, 0.3703420523138833, 0.36462776659959756, 0.36744466800804826, 0.37026156941649896, 0.36462776659959756, 0.36744466800804826, 0.36462776659959756, 0.3674849094567404, 0.36462776659959756, 0.37026156941649896, 0.36462776659959756, 0.37026156941649896, 0.36462776659959756, 0.3759356136820925]\n",
     "output_type": "stream"
    }
   ],
   "execution_count": 24
  },
  {
   "cell_type": "code",
   "metadata": {
    "tags": [],
    "deepnote_to_be_reexecuted": false,
    "source_hash": "8b8eaf09",
    "execution_start": 1638245925064,
    "execution_millis": 0,
    "cell_id": "00026-65348dcd-5018-4bee-8153-f68e69988918",
    "deepnote_output_heights": [
     611
    ],
    "deepnote_cell_type": "code"
   },
   "source": "# Consolidate our K scores\nk_dict=dict(zip(k_range,k_scores))\nk_dict",
   "outputs": [
    {
     "output_type": "execute_result",
     "execution_count": 25,
     "data": {
      "text/plain": "{1: 0.2966599597585513,\n 2: 0.33621730382293763,\n 3: 0.35038229376257546,\n 4: 0.3786317907444668,\n 5: 0.38426559356136825,\n 6: 0.37026156941649896,\n 7: 0.39553319919517105,\n 8: 0.3673239436619718,\n 9: 0.3956941649899396,\n 10: 0.3928772635814889,\n 11: 0.4097786720321931,\n 12: 0.38720321931589535,\n 13: 0.3787927565392354,\n 14: 0.4041448692152917,\n 15: 0.3900603621730382,\n 16: 0.39279678068410456,\n 17: 0.40116700201207245,\n 18: 0.39847082494969815,\n 19: 0.4097786720321932,\n 20: 0.3927967806841047,\n 21: 0.3985513078470825,\n 22: 0.40981891348088534,\n 23: 0.4322334004024144,\n 24: 0.426599597585513,\n 25: 0.41251509054325963,\n 26: 0.40394366197183096,\n 27: 0.3926760563380281,\n 28: 0.40112676056338026,\n 29: 0.3785110663983903,\n 30: 0.3898189134808853,\n 31: 0.39549295774647886,\n 32: 0.40112676056338026,\n 33: 0.39549295774647886,\n 34: 0.40410462776659956,\n 35: 0.3899798792756539,\n 36: 0.3927967806841046,\n 37: 0.39839034205231394,\n 38: 0.4040643863179074,\n 39: 0.40973843058350107,\n 40: 0.41255533199195166,\n 41: 0.4323138832997988,\n 42: 0.4379476861167002,\n 43: 0.42945674044265597,\n 44: 0.41537223340040236,\n 45: 0.4096981891348088,\n 46: 0.41239436619718306,\n 47: 0.41521126760563376,\n 48: 0.4209255533199195,\n 49: 0.4293762575452716,\n 50: 0.42084507042253516,\n 51: 0.4209657947686116,\n 52: 0.4462776659959758,\n 53: 0.41814889336016103,\n 54: 0.44631790744466804,\n 55: 0.4435412474849095,\n 56: 0.4435010060362172,\n 57: 0.4378269617706237,\n 58: 0.4490945674044265,\n 59: 0.44068410462776664,\n 60: 0.4434607645875251,\n 61: 0.41802816901408446,\n 62: 0.43496981891348085,\n 63: 0.42933601609657945,\n 64: 0.4378269617706237,\n 65: 0.43505030181086524,\n 66: 0.45207243460764585,\n 67: 0.44643863179074444,\n 68: 0.44362173038229374,\n 69: 0.44362173038229374,\n 70: 0.421046277665996,\n 71: 0.4294969818913481,\n 72: 0.43517102615694164,\n 73: 0.42378269617706243,\n 74: 0.4407243460764588,\n 75: 0.4181086519114688,\n 76: 0.43505030181086524,\n 77: 0.4209657947686116,\n 78: 0.4125150905432595,\n 79: 0.4293762575452716,\n 80: 0.4236217303822937,\n 81: 0.4263983903420523,\n 82: 0.4263983903420523,\n 83: 0.42929577464788726,\n 84: 0.41806841046277665,\n 85: 0.42088531187122735,\n 86: 0.42933601609657945,\n 87: 0.42366197183098586,\n 88: 0.4349295774647888,\n 89: 0.42088531187122735,\n 90: 0.42366197183098586,\n 91: 0.42651911468812875,\n 92: 0.41521126760563376,\n 93: 0.40957746478873236,\n 94: 0.41525150905432595,\n 95: 0.4181086519114688,\n 96: 0.4096579476861167,\n 97: 0.4152917505030181,\n 98: 0.4181488933601609,\n 99: 0.42941649899396384,\n 100: 0.4321931589537223,\n 101: 0.4124748490945674,\n 102: 0.426599597585513,\n 103: 0.4181488933601609,\n 104: 0.42941649899396384,\n 105: 0.4068812877263581,\n 106: 0.4068812877263581,\n 107: 0.4238631790744466,\n 108: 0.4182293762575452,\n 109: 0.4266800804828974,\n 110: 0.4182293762575452,\n 111: 0.42382293762575457,\n 112: 0.43509054325955737,\n 113: 0.43509054325955737,\n 114: 0.42663983903420527,\n 115: 0.4096981891348088,\n 116: 0.4096981891348088,\n 117: 0.41251509054325963,\n 118: 0.4124748490945674,\n 119: 0.4323138832997988,\n 120: 0.4323138832997988,\n 121: 0.4238631790744466,\n 122: 0.42390342052313884,\n 123: 0.4323138832997988,\n 124: 0.4267203219315895,\n 125: 0.41818913480885306,\n 126: 0.42382293762575446,\n 127: 0.4209657947686116,\n 128: 0.4237424547283702,\n 129: 0.42945674044265597,\n 130: 0.42382293762575457,\n 131: 0.4379476861167002,\n 132: 0.43509054325955737,\n 133: 0.4295774647887324,\n 134: 0.4352112676056338,\n 135: 0.43235412474849094,\n 136: 0.4408450704225352,\n 137: 0.42382293762575457,\n 138: 0.4210462776659959,\n 139: 0.4210462776659959,\n 140: 0.42945674044265597,\n 141: 0.4182293762575452,\n 142: 0.42382293762575446,\n 143: 0.4210865191146881,\n 144: 0.4267605633802816,\n 145: 0.4211267605633802,\n 146: 0.44088531187122737,\n 147: 0.4267203219315895,\n 148: 0.4266800804828973,\n 149: 0.4238631790744466,\n 150: 0.40973843058350096,\n 151: 0.4210462776659959,\n 152: 0.3985110663983903,\n 153: 0.412635814889336,\n 154: 0.4182293762575453,\n 155: 0.4097786720321931,\n 156: 0.41255533199195177,\n 157: 0.40128772635814886,\n 158: 0.4154124748490946,\n 159: 0.40692152917505037,\n 160: 0.40128772635814886,\n 161: 0.40410462776659956,\n 162: 0.4041448692152917,\n 163: 0.4154124748490945,\n 164: 0.40410462776659956,\n 165: 0.40692152917505037,\n 166: 0.412635814889336,\n 167: 0.41263581488933604,\n 168: 0.401327967806841,\n 169: 0.401327967806841,\n 170: 0.4041448692152918,\n 171: 0.3928772635814889,\n 172: 0.38156941649899395,\n 173: 0.3759356136820925,\n 174: 0.3928772635814889,\n 175: 0.3901006036217304,\n 176: 0.3815694164989939,\n 177: 0.38156941649899395,\n 178: 0.3928370221327967,\n 179: 0.3787525150905432,\n 180: 0.3900603621730382,\n 181: 0.3759356136820925,\n 182: 0.3844265593561368,\n 183: 0.37307847082494966,\n 184: 0.3844265593561368,\n 185: 0.3675251509054326,\n 186: 0.3703420523138833,\n 187: 0.36462776659959756,\n 188: 0.36744466800804826,\n 189: 0.37026156941649896,\n 190: 0.36462776659959756,\n 191: 0.36744466800804826,\n 192: 0.36462776659959756,\n 193: 0.3674849094567404,\n 194: 0.36462776659959756,\n 195: 0.37026156941649896,\n 196: 0.36462776659959756,\n 197: 0.37026156941649896,\n 198: 0.36462776659959756,\n 199: 0.3759356136820925}"
     },
     "metadata": {}
    }
   ],
   "execution_count": 25
  },
  {
   "cell_type": "code",
   "metadata": {
    "tags": [],
    "deepnote_to_be_reexecuted": false,
    "source_hash": "2821da7",
    "execution_start": 1638245925065,
    "execution_millis": 7,
    "cell_id": "00027-5213c19d-8ce2-40a0-b817-03cda2e57531",
    "deepnote_output_heights": [
     21
    ],
    "deepnote_cell_type": "code"
   },
   "source": "#Find the K value with the highest \nmax(k_dict, key= k_dict.get)",
   "outputs": [
    {
     "output_type": "execute_result",
     "execution_count": 26,
     "data": {
      "text/plain": "66"
     },
     "metadata": {}
    }
   ],
   "execution_count": 26
  },
  {
   "cell_type": "code",
   "metadata": {
    "tags": [],
    "deepnote_to_be_reexecuted": false,
    "source_hash": "ae332456",
    "execution_start": 1638245925084,
    "execution_millis": 405,
    "cell_id": "00028-bb8a94b3-eacd-467d-80fb-c77b033a5124",
    "deepnote_output_heights": [
     21,
     264
    ],
    "deepnote_cell_type": "code"
   },
   "source": "# Plot the k scores against the K values\nplt.plot(k_range, k_scores)\nplt.xlabel('Value of K for KNN')\nplt.ylabel('K_Score')",
   "outputs": [
    {
     "output_type": "execute_result",
     "execution_count": 27,
     "data": {
      "text/plain": "Text(0, 0.5, 'K_Score')"
     },
     "metadata": {}
    },
    {
     "data": {
      "text/plain": "<Figure size 432x288 with 1 Axes>",
      "image/png": "[encoded data removed]"
     },
     "metadata": {
      "needs_background": "light",
      "image/png": {
       "width": 393,
       "height": 262
      }
     },
     "output_type": "display_data"
    }
   ],
   "execution_count": 27
  },
  {
   "cell_type": "markdown",
   "source": "Using the Elbow method, we see the accuracy score increase and then stabilize around K=66, which we deemed the \"elbow\". Thus, K=66 is the optimal K at the beginning of the stable zone. With K=66 as our K mean, our accuracy score is 0.4521. This is much better than our regression model, which means that we can predict popularity as 3 categories much better with KNN classification. However, there is still significant margin for error. The accuracy of our final KNN model exceeds our expectation of 40%.",
   "metadata": {
    "tags": [],
    "cell_id": "00035-09bd5d0a-4f81-456f-aa1a-ac20ae6f4063",
    "deepnote_cell_type": "markdown"
   }
  },
  {
   "cell_type": "markdown",
   "source": "<a style='text-decoration:none;line-height:16px;display:flex;color:#5B5B62;padding:10px;justify-content:end;' href='https://deepnote.com?utm_source=created-in-deepnote-cell&projectId=ebc7ed57-9d9b-4197-9f19-b17d7bdf5e26' target=\"_blank\">\n<img alt='Created in deepnote.com' style='display:inline;max-height:16px;margin:0px;margin-right:7.5px;' src='data:image/svg+xml;base64,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' > </img>\nCreated in <span style='font-weight:600;margin-left:4px;'>Deepnote</span></a>",
   "metadata": {
    "tags": [],
    "created_in_deepnote_cell": true,
    "deepnote_cell_type": "markdown"
   }
  }
 ],
 "nbformat": 4,
 "nbformat_minor": 4,
 "metadata": {
  "kernelspec": {
   "display_name": "Python 3",
   "language": "python",
   "name": "python3"
  },
  "language_info": {
   "codemirror_mode": {
    "name": "ipython",
    "version": 3
   },
   "file_extension": ".py",
   "mimetype": "text/x-python",
   "name": "python",
   "nbconvert_exporter": "python",
   "pygments_lexer": "ipython3",
   "version": "3.8.3"
  },
  "deepnote_notebook_id": "0c10d0cb-717e-44e4-ab04-8a04f1abc970",
  "deepnote": {},
  "deepnote_execution_queue": []
 }
}