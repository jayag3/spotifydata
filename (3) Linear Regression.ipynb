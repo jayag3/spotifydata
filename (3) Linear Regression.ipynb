{
 "cells": [
  {
   "cell_type": "markdown",
   "source": "# Multiple Linear Regressions with Spotify data\n",
   "metadata": {
    "tags": [],
    "cell_id": "00001-abf6524d-362f-4be6-a1fd-0b01230bd5d0",
    "deepnote_cell_type": "markdown"
   }
  },
  {
   "cell_type": "code",
   "metadata": {
    "tags": [],
    "cell_id": "00000-ddfbfe2b-b368-4b70-8805-60f3e0f573b5",
    "deepnote_to_be_reexecuted": false,
    "source_hash": "55fef509",
    "execution_start": 1638135650584,
    "execution_millis": 2488,
    "deepnote_cell_type": "code"
   },
   "source": "import pandas as pd\nimport matplotlib.pyplot as plt\nimport numpy as np\n\ndf = pd.read_csv('clean-Spotify.csv')\ndf",
   "outputs": [
    {
     "output_type": "execute_result",
     "execution_count": 2,
     "data": {
      "application/vnd.deepnote.dataframe.v2+json": {
       "row_count": 1547,
       "column_count": 16,
       "columns": [
        {
         "name": "Unnamed: 0",
         "dtype": "int64",
         "stats": {
          "unique_count": 1547,
          "nan_count": 0,
          "min": "0",
          "max": "1993",
          "histogram": [
           {
            "bin_start": 0,
            "bin_end": 199.3,
            "count": 150
           },
           {
            "bin_start": 199.3,
            "bin_end": 398.6,
            "count": 164
           },
           {
            "bin_start": 398.6,
            "bin_end": 597.9000000000001,
            "count": 157
           },
           {
            "bin_start": 597.9000000000001,
            "bin_end": 797.2,
            "count": 159
           },
           {
            "bin_start": 797.2,
            "bin_end": 996.5,
            "count": 141
           },
           {
            "bin_start": 996.5,
            "bin_end": 1195.8000000000002,
            "count": 147
           },
           {
            "bin_start": 1195.8000000000002,
            "bin_end": 1395.1000000000001,
            "count": 148
           },
           {
            "bin_start": 1395.1000000000001,
            "bin_end": 1594.4,
            "count": 161
           },
           {
            "bin_start": 1594.4,
            "bin_end": 1793.7,
            "count": 162
           },
           {
            "bin_start": 1793.7,
            "bin_end": 1993,
            "count": 158
           }
          ]
         }
        },
        {
         "name": "Index",
         "dtype": "int64",
         "stats": {
          "unique_count": 1547,
          "nan_count": 0,
          "min": "1",
          "max": "1994",
          "histogram": [
           {
            "bin_start": 1,
            "bin_end": 200.3,
            "count": 150
           },
           {
            "bin_start": 200.3,
            "bin_end": 399.6,
            "count": 164
           },
           {
            "bin_start": 399.6,
            "bin_end": 598.9000000000001,
            "count": 157
           },
           {
            "bin_start": 598.9000000000001,
            "bin_end": 798.2,
            "count": 159
           },
           {
            "bin_start": 798.2,
            "bin_end": 997.5,
            "count": 141
           },
           {
            "bin_start": 997.5,
            "bin_end": 1196.8000000000002,
            "count": 147
           },
           {
            "bin_start": 1196.8000000000002,
            "bin_end": 1396.1000000000001,
            "count": 148
           },
           {
            "bin_start": 1396.1000000000001,
            "bin_end": 1595.4,
            "count": 161
           },
           {
            "bin_start": 1595.4,
            "bin_end": 1794.7,
            "count": 162
           },
           {
            "bin_start": 1794.7,
            "bin_end": 1994,
            "count": 158
           }
          ]
         }
        },
        {
         "name": "Title",
         "dtype": "object",
         "stats": {
          "unique_count": 1523,
          "nan_count": 0,
          "categories": [
           {
            "name": "Feeling Good",
            "count": 3
           },
           {
            "name": "Sunrise",
            "count": 2
           },
           {
            "name": "1521 others",
            "count": 1542
           }
          ]
         }
        },
        {
         "name": "Artist",
         "dtype": "object",
         "stats": {
          "unique_count": 619,
          "nan_count": 0,
          "categories": [
           {
            "name": "The Beatles",
            "count": 29
           },
           {
            "name": "Queen",
            "count": 29
           },
           {
            "name": "617 others",
            "count": 1489
           }
          ]
         }
        },
        {
         "name": "Top Genre",
         "dtype": "object",
         "stats": {
          "unique_count": 134,
          "nan_count": 0,
          "categories": [
           {
            "name": "album rock",
            "count": 299
           },
           {
            "name": "adult standards",
            "count": 101
           },
           {
            "name": "132 others",
            "count": 1147
           }
          ]
         }
        },
        {
         "name": "Year",
         "dtype": "int64",
         "stats": {
          "unique_count": 63,
          "nan_count": 0,
          "min": "1956",
          "max": "2019",
          "histogram": [
           {
            "bin_start": 1956,
            "bin_end": 1962.3,
            "count": 10
           },
           {
            "bin_start": 1962.3,
            "bin_end": 1968.6,
            "count": 91
           },
           {
            "bin_start": 1968.6,
            "bin_end": 1974.9,
            "count": 145
           },
           {
            "bin_start": 1974.9,
            "bin_end": 1981.2,
            "count": 176
           },
           {
            "bin_start": 1981.2,
            "bin_end": 1987.5,
            "count": 168
           },
           {
            "bin_start": 1987.5,
            "bin_end": 1993.8,
            "count": 168
           },
           {
            "bin_start": 1993.8,
            "bin_end": 2000.1,
            "count": 186
           },
           {
            "bin_start": 2000.1,
            "bin_end": 2006.4,
            "count": 180
           },
           {
            "bin_start": 2006.4,
            "bin_end": 2012.7,
            "count": 201
           },
           {
            "bin_start": 2012.7,
            "bin_end": 2019,
            "count": 222
           }
          ]
         }
        },
        {
         "name": "Beats Per Minute (BPM)",
         "dtype": "int64",
         "stats": {
          "unique_count": 139,
          "nan_count": 0,
          "min": "37",
          "max": "206",
          "histogram": [
           {
            "bin_start": 37,
            "bin_end": 53.9,
            "count": 2
           },
           {
            "bin_start": 53.9,
            "bin_end": 70.8,
            "count": 18
           },
           {
            "bin_start": 70.8,
            "bin_end": 87.69999999999999,
            "count": 176
           },
           {
            "bin_start": 87.69999999999999,
            "bin_end": 104.6,
            "count": 293
           },
           {
            "bin_start": 104.6,
            "bin_end": 121.5,
            "count": 355
           },
           {
            "bin_start": 121.5,
            "bin_end": 138.39999999999998,
            "count": 373
           },
           {
            "bin_start": 138.39999999999998,
            "bin_end": 155.29999999999998,
            "count": 162
           },
           {
            "bin_start": 155.29999999999998,
            "bin_end": 172.2,
            "count": 96
           },
           {
            "bin_start": 172.2,
            "bin_end": 189.1,
            "count": 59
           },
           {
            "bin_start": 189.1,
            "bin_end": 206,
            "count": 13
           }
          ]
         }
        },
        {
         "name": "Energy",
         "dtype": "int64",
         "stats": {
          "unique_count": 94,
          "nan_count": 0,
          "min": "5",
          "max": "99",
          "histogram": [
           {
            "bin_start": 5,
            "bin_end": 14.4,
            "count": 22
           },
           {
            "bin_start": 14.4,
            "bin_end": 23.8,
            "count": 55
           },
           {
            "bin_start": 23.8,
            "bin_end": 33.2,
            "count": 155
           },
           {
            "bin_start": 33.2,
            "bin_end": 42.6,
            "count": 192
           },
           {
            "bin_start": 42.6,
            "bin_end": 52,
            "count": 185
           },
           {
            "bin_start": 52,
            "bin_end": 61.400000000000006,
            "count": 227
           },
           {
            "bin_start": 61.400000000000006,
            "bin_end": 70.8,
            "count": 205
           },
           {
            "bin_start": 70.8,
            "bin_end": 80.2,
            "count": 231
           },
           {
            "bin_start": 80.2,
            "bin_end": 89.60000000000001,
            "count": 165
           },
           {
            "bin_start": 89.60000000000001,
            "bin_end": 99,
            "count": 110
           }
          ]
         }
        },
        {
         "name": "Danceability",
         "dtype": "int64",
         "stats": {
          "unique_count": 83,
          "nan_count": 0,
          "min": "10",
          "max": "96",
          "histogram": [
           {
            "bin_start": 10,
            "bin_end": 18.6,
            "count": 14
           },
           {
            "bin_start": 18.6,
            "bin_end": 27.2,
            "count": 61
           },
           {
            "bin_start": 27.2,
            "bin_end": 35.8,
            "count": 121
           },
           {
            "bin_start": 35.8,
            "bin_end": 44.4,
            "count": 236
           },
           {
            "bin_start": 44.4,
            "bin_end": 53,
            "count": 291
           },
           {
            "bin_start": 53,
            "bin_end": 61.599999999999994,
            "count": 364
           },
           {
            "bin_start": 61.599999999999994,
            "bin_end": 70.19999999999999,
            "count": 275
           },
           {
            "bin_start": 70.19999999999999,
            "bin_end": 78.8,
            "count": 126
           },
           {
            "bin_start": 78.8,
            "bin_end": 87.39999999999999,
            "count": 48
           },
           {
            "bin_start": 87.39999999999999,
            "bin_end": 96,
            "count": 11
           }
          ]
         }
        },
        {
         "name": "Loudness",
         "dtype": "int64",
         "stats": {
          "unique_count": 17,
          "nan_count": 0,
          "min": "-18",
          "max": "-2",
          "histogram": [
           {
            "bin_start": -18,
            "bin_end": -16.4,
            "count": 31
           },
           {
            "bin_start": -16.4,
            "bin_end": -14.8,
            "count": 78
           },
           {
            "bin_start": -14.8,
            "bin_end": -13.2,
            "count": 61
           },
           {
            "bin_start": -13.2,
            "bin_end": -11.6,
            "count": 182
           },
           {
            "bin_start": -11.6,
            "bin_end": -10,
            "count": 125
           },
           {
            "bin_start": -10,
            "bin_end": -8.399999999999999,
            "count": 312
           },
           {
            "bin_start": -8.399999999999999,
            "bin_end": -6.799999999999999,
            "count": 366
           },
           {
            "bin_start": -6.799999999999999,
            "bin_end": -5.199999999999999,
            "count": 168
           },
           {
            "bin_start": -5.199999999999999,
            "bin_end": -3.5999999999999996,
            "count": 199
           },
           {
            "bin_start": -3.5999999999999996,
            "bin_end": -2,
            "count": 25
           }
          ]
         }
        },
        {
         "name": "Liveness",
         "dtype": "int64",
         "stats": {
          "unique_count": 42,
          "nan_count": 0,
          "min": "2",
          "max": "43",
          "histogram": [
           {
            "bin_start": 2,
            "bin_end": 6.1,
            "count": 144
           },
           {
            "bin_start": 6.1,
            "bin_end": 10.2,
            "count": 424
           },
           {
            "bin_start": 10.2,
            "bin_end": 14.299999999999999,
            "count": 428
           },
           {
            "bin_start": 14.299999999999999,
            "bin_end": 18.4,
            "count": 156
           },
           {
            "bin_start": 18.4,
            "bin_end": 22.5,
            "count": 98
           },
           {
            "bin_start": 22.5,
            "bin_end": 26.599999999999998,
            "count": 79
           },
           {
            "bin_start": 26.599999999999998,
            "bin_end": 30.699999999999996,
            "count": 62
           },
           {
            "bin_start": 30.699999999999996,
            "bin_end": 34.8,
            "count": 72
           },
           {
            "bin_start": 34.8,
            "bin_end": 38.9,
            "count": 56
           },
           {
            "bin_start": 38.9,
            "bin_end": 43,
            "count": 28
           }
          ]
         }
        },
        {
         "name": "Valence",
         "dtype": "int64",
         "stats": {
          "unique_count": 96,
          "nan_count": 0,
          "min": "4",
          "max": "99",
          "histogram": [
           {
            "bin_start": 4,
            "bin_end": 13.5,
            "count": 79
           },
           {
            "bin_start": 13.5,
            "bin_end": 23,
            "count": 182
           },
           {
            "bin_start": 23,
            "bin_end": 32.5,
            "count": 218
           },
           {
            "bin_start": 32.5,
            "bin_end": 42,
            "count": 195
           },
           {
            "bin_start": 42,
            "bin_end": 51.5,
            "count": 202
           },
           {
            "bin_start": 51.5,
            "bin_end": 61,
            "count": 147
           },
           {
            "bin_start": 61,
            "bin_end": 70.5,
            "count": 160
           },
           {
            "bin_start": 70.5,
            "bin_end": 80,
            "count": 126
           },
           {
            "bin_start": 80,
            "bin_end": 89.5,
            "count": 130
           },
           {
            "bin_start": 89.5,
            "bin_end": 99,
            "count": 108
           }
          ]
         }
        },
        {
         "name": "Length",
         "dtype": "int64",
         "stats": {
          "unique_count": 255,
          "nan_count": 0,
          "min": "119",
          "max": "404",
          "histogram": [
           {
            "bin_start": 119,
            "bin_end": 147.5,
            "count": 29
           },
           {
            "bin_start": 147.5,
            "bin_end": 176,
            "count": 85
           },
           {
            "bin_start": 176,
            "bin_end": 204.5,
            "count": 196
           },
           {
            "bin_start": 204.5,
            "bin_end": 233,
            "count": 314
           },
           {
            "bin_start": 233,
            "bin_end": 261.5,
            "count": 360
           },
           {
            "bin_start": 261.5,
            "bin_end": 290,
            "count": 247
           },
           {
            "bin_start": 290,
            "bin_end": 318.5,
            "count": 139
           },
           {
            "bin_start": 318.5,
            "bin_end": 347,
            "count": 94
           },
           {
            "bin_start": 347,
            "bin_end": 375.5,
            "count": 43
           },
           {
            "bin_start": 375.5,
            "bin_end": 404,
            "count": 40
           }
          ]
         }
        },
        {
         "name": "Acousticness",
         "dtype": "int64",
         "stats": {
          "unique_count": 100,
          "nan_count": 0,
          "min": "0",
          "max": "99",
          "histogram": [
           {
            "bin_start": 0,
            "bin_end": 9.9,
            "count": 587
           },
           {
            "bin_start": 9.9,
            "bin_end": 19.8,
            "count": 200
           },
           {
            "bin_start": 19.8,
            "bin_end": 29.700000000000003,
            "count": 139
           },
           {
            "bin_start": 29.700000000000003,
            "bin_end": 39.6,
            "count": 107
           },
           {
            "bin_start": 39.6,
            "bin_end": 49.5,
            "count": 101
           },
           {
            "bin_start": 49.5,
            "bin_end": 59.400000000000006,
            "count": 89
           },
           {
            "bin_start": 59.400000000000006,
            "bin_end": 69.3,
            "count": 94
           },
           {
            "bin_start": 69.3,
            "bin_end": 79.2,
            "count": 91
           },
           {
            "bin_start": 79.2,
            "bin_end": 89.10000000000001,
            "count": 87
           },
           {
            "bin_start": 89.10000000000001,
            "bin_end": 99,
            "count": 52
           }
          ]
         }
        },
        {
         "name": "Speechiness",
         "dtype": "int64",
         "stats": {
          "unique_count": 6,
          "nan_count": 0,
          "min": "2",
          "max": "7",
          "histogram": [
           {
            "bin_start": 2,
            "bin_end": 2.5,
            "count": 31
           },
           {
            "bin_start": 2.5,
            "bin_end": 3,
            "count": 0
           },
           {
            "bin_start": 3,
            "bin_end": 3.5,
            "count": 796
           },
           {
            "bin_start": 3.5,
            "bin_end": 4,
            "count": 0
           },
           {
            "bin_start": 4,
            "bin_end": 4.5,
            "count": 406
           },
           {
            "bin_start": 4.5,
            "bin_end": 5,
            "count": 0
           },
           {
            "bin_start": 5,
            "bin_end": 5.5,
            "count": 172
           },
           {
            "bin_start": 5.5,
            "bin_end": 6,
            "count": 0
           },
           {
            "bin_start": 6,
            "bin_end": 6.5,
            "count": 92
           },
           {
            "bin_start": 6.5,
            "bin_end": 7,
            "count": 50
           }
          ]
         }
        },
        {
         "name": "Popularity",
         "dtype": "int64",
         "stats": {
          "unique_count": 78,
          "nan_count": 0,
          "min": "11",
          "max": "98",
          "histogram": [
           {
            "bin_start": 11,
            "bin_end": 19.7,
            "count": 13
           },
           {
            "bin_start": 19.7,
            "bin_end": 28.4,
            "count": 30
           },
           {
            "bin_start": 28.4,
            "bin_end": 37.099999999999994,
            "count": 78
           },
           {
            "bin_start": 37.099999999999994,
            "bin_end": 45.8,
            "count": 151
           },
           {
            "bin_start": 45.8,
            "bin_end": 54.5,
            "count": 250
           },
           {
            "bin_start": 54.5,
            "bin_end": 63.199999999999996,
            "count": 330
           },
           {
            "bin_start": 63.199999999999996,
            "bin_end": 71.89999999999999,
            "count": 339
           },
           {
            "bin_start": 71.89999999999999,
            "bin_end": 80.6,
            "count": 299
           },
           {
            "bin_start": 80.6,
            "bin_end": 89.3,
            "count": 55
           },
           {
            "bin_start": 89.3,
            "bin_end": 98,
            "count": 2
           }
          ]
         }
        },
        {
         "name": "_deepnote_index_column",
         "dtype": "int64"
        }
       ],
       "rows_top": [
        {
         "Unnamed: 0": 0,
         "Index": 1,
         "Title": "Sunrise",
         "Artist": "Norah Jones",
         "Top Genre": "adult standards",
         "Year": 2004,
         "Beats Per Minute (BPM)": 157,
         "Energy": 30,
         "Danceability": 53,
         "Loudness": -14,
         "Liveness": 11,
         "Valence": 68,
         "Length": 201,
         "Acousticness": 94,
         "Speechiness": 3,
         "Popularity": 71,
         "_deepnote_index_column": 0
        },
        {
         "Unnamed: 0": 1,
         "Index": 2,
         "Title": "Black Night",
         "Artist": "Deep Purple",
         "Top Genre": "album rock",
         "Year": 2000,
         "Beats Per Minute (BPM)": 135,
         "Energy": 79,
         "Danceability": 50,
         "Loudness": -11,
         "Liveness": 17,
         "Valence": 81,
         "Length": 207,
         "Acousticness": 17,
         "Speechiness": 7,
         "Popularity": 39,
         "_deepnote_index_column": 1
        },
        {
         "Unnamed: 0": 3,
         "Index": 4,
         "Title": "The Pretender",
         "Artist": "Foo Fighters",
         "Top Genre": "alternative metal",
         "Year": 2007,
         "Beats Per Minute (BPM)": 173,
         "Energy": 96,
         "Danceability": 43,
         "Loudness": -4,
         "Liveness": 3,
         "Valence": 37,
         "Length": 269,
         "Acousticness": 0,
         "Speechiness": 4,
         "Popularity": 76,
         "_deepnote_index_column": 2
        },
        {
         "Unnamed: 0": 4,
         "Index": 5,
         "Title": "Waitin' On A Sunny Day",
         "Artist": "Bruce Springsteen",
         "Top Genre": "classic rock",
         "Year": 2002,
         "Beats Per Minute (BPM)": 106,
         "Energy": 82,
         "Danceability": 58,
         "Loudness": -5,
         "Liveness": 10,
         "Valence": 87,
         "Length": 256,
         "Acousticness": 1,
         "Speechiness": 3,
         "Popularity": 59,
         "_deepnote_index_column": 3
        },
        {
         "Unnamed: 0": 5,
         "Index": 6,
         "Title": "The Road Ahead (Miles Of The Unknown)",
         "Artist": "City To City",
         "Top Genre": "alternative pop rock",
         "Year": 2004,
         "Beats Per Minute (BPM)": 99,
         "Energy": 46,
         "Danceability": 54,
         "Loudness": -9,
         "Liveness": 14,
         "Valence": 14,
         "Length": 247,
         "Acousticness": 0,
         "Speechiness": 2,
         "Popularity": 45,
         "_deepnote_index_column": 4
        },
        {
         "Unnamed: 0": 6,
         "Index": 7,
         "Title": "She Will Be Loved",
         "Artist": "Maroon 5",
         "Top Genre": "pop",
         "Year": 2002,
         "Beats Per Minute (BPM)": 102,
         "Energy": 71,
         "Danceability": 71,
         "Loudness": -6,
         "Liveness": 13,
         "Valence": 54,
         "Length": 257,
         "Acousticness": 6,
         "Speechiness": 3,
         "Popularity": 74,
         "_deepnote_index_column": 5
        },
        {
         "Unnamed: 0": 9,
         "Index": 10,
         "Title": "Without Me",
         "Artist": "Eminem",
         "Top Genre": "detroit hip hop",
         "Year": 2002,
         "Beats Per Minute (BPM)": 112,
         "Energy": 67,
         "Danceability": 91,
         "Loudness": -3,
         "Liveness": 24,
         "Valence": 66,
         "Length": 290,
         "Acousticness": 0,
         "Speechiness": 7,
         "Popularity": 82,
         "_deepnote_index_column": 6
        },
        {
         "Unnamed: 0": 10,
         "Index": 11,
         "Title": "Love Me Tender",
         "Artist": "Elvis Presley",
         "Top Genre": "adult standards",
         "Year": 2002,
         "Beats Per Minute (BPM)": 109,
         "Energy": 5,
         "Danceability": 44,
         "Loudness": -16,
         "Liveness": 11,
         "Valence": 31,
         "Length": 162,
         "Acousticness": 88,
         "Speechiness": 4,
         "Popularity": 49,
         "_deepnote_index_column": 7
        },
        {
         "Unnamed: 0": 14,
         "Index": 15,
         "Title": "Fluorescent Adolescent",
         "Artist": "Arctic Monkeys",
         "Top Genre": "garage rock",
         "Year": 2007,
         "Beats Per Minute (BPM)": 112,
         "Energy": 81,
         "Danceability": 65,
         "Loudness": -5,
         "Liveness": 14,
         "Valence": 82,
         "Length": 173,
         "Acousticness": 0,
         "Speechiness": 3,
         "Popularity": 66,
         "_deepnote_index_column": 8
        },
        {
         "Unnamed: 0": 15,
         "Index": 16,
         "Title": "Zonder Jou",
         "Artist": "Paul de Leeuw",
         "Top Genre": "dutch cabaret",
         "Year": 2006,
         "Beats Per Minute (BPM)": 133,
         "Energy": 42,
         "Danceability": 42,
         "Loudness": -10,
         "Liveness": 16,
         "Valence": 25,
         "Length": 236,
         "Acousticness": 84,
         "Speechiness": 4,
         "Popularity": 48,
         "_deepnote_index_column": 9
        },
        {
         "Unnamed: 0": 16,
         "Index": 17,
         "Title": "Speed of Sound",
         "Artist": "Coldplay",
         "Top Genre": "permanent wave",
         "Year": 2005,
         "Beats Per Minute (BPM)": 123,
         "Energy": 90,
         "Danceability": 52,
         "Loudness": -7,
         "Liveness": 7,
         "Valence": 36,
         "Length": 288,
         "Acousticness": 0,
         "Speechiness": 6,
         "Popularity": 69,
         "_deepnote_index_column": 10
        },
        {
         "Unnamed: 0": 17,
         "Index": 18,
         "Title": "Uninvited",
         "Artist": "Alanis Morissette",
         "Top Genre": "alternative rock",
         "Year": 2005,
         "Beats Per Minute (BPM)": 127,
         "Energy": 54,
         "Danceability": 38,
         "Loudness": -5,
         "Liveness": 9,
         "Valence": 19,
         "Length": 276,
         "Acousticness": 2,
         "Speechiness": 3,
         "Popularity": 57,
         "_deepnote_index_column": 11
        },
        {
         "Unnamed: 0": 20,
         "Index": 21,
         "Title": "Fix You",
         "Artist": "Coldplay",
         "Top Genre": "permanent wave",
         "Year": 2005,
         "Beats Per Minute (BPM)": 138,
         "Energy": 42,
         "Danceability": 21,
         "Loudness": -9,
         "Liveness": 11,
         "Valence": 12,
         "Length": 296,
         "Acousticness": 16,
         "Speechiness": 3,
         "Popularity": 81,
         "_deepnote_index_column": 12
        },
        {
         "Unnamed: 0": 21,
         "Index": 22,
         "Title": "The Cave",
         "Artist": "Mumford & Sons",
         "Top Genre": "modern folk rock",
         "Year": 2009,
         "Beats Per Minute (BPM)": 142,
         "Energy": 51,
         "Danceability": 60,
         "Loudness": -10,
         "Liveness": 11,
         "Valence": 35,
         "Length": 218,
         "Acousticness": 5,
         "Speechiness": 4,
         "Popularity": 67,
         "_deepnote_index_column": 13
        },
        {
         "Unnamed: 0": 22,
         "Index": 23,
         "Title": "Als De Morgen Is Gekomen",
         "Artist": "Jan Smit",
         "Top Genre": "dutch pop",
         "Year": 2006,
         "Beats Per Minute (BPM)": 96,
         "Energy": 89,
         "Danceability": 63,
         "Loudness": -6,
         "Liveness": 9,
         "Valence": 81,
         "Length": 176,
         "Acousticness": 5,
         "Speechiness": 3,
         "Popularity": 55,
         "_deepnote_index_column": 14
        },
        {
         "Unnamed: 0": 24,
         "Index": 25,
         "Title": "Dichterbij Dan Ooit",
         "Artist": "BLØF",
         "Top Genre": "dutch pop",
         "Year": 2002,
         "Beats Per Minute (BPM)": 112,
         "Energy": 74,
         "Danceability": 65,
         "Loudness": -7,
         "Liveness": 23,
         "Valence": 52,
         "Length": 261,
         "Acousticness": 18,
         "Speechiness": 3,
         "Popularity": 16,
         "_deepnote_index_column": 15
        },
        {
         "Unnamed: 0": 25,
         "Index": 26,
         "Title": "Miracle",
         "Artist": "Ilse DeLange",
         "Top Genre": "dutch americana",
         "Year": 2008,
         "Beats Per Minute (BPM)": 130,
         "Energy": 48,
         "Danceability": 55,
         "Loudness": -8,
         "Liveness": 10,
         "Valence": 18,
         "Length": 270,
         "Acousticness": 48,
         "Speechiness": 3,
         "Popularity": 50,
         "_deepnote_index_column": 16
        },
        {
         "Unnamed: 0": 26,
         "Index": 27,
         "Title": "Smokers Outside the Hospital Doors",
         "Artist": "Editors",
         "Top Genre": "alternative dance",
         "Year": 2007,
         "Beats Per Minute (BPM)": 123,
         "Energy": 68,
         "Danceability": 53,
         "Loudness": -4,
         "Liveness": 12,
         "Valence": 55,
         "Length": 298,
         "Acousticness": 0,
         "Speechiness": 4,
         "Popularity": 56,
         "_deepnote_index_column": 17
        },
        {
         "Unnamed: 0": 28,
         "Index": 29,
         "Title": "Der Weg",
         "Artist": "Herbert Grönemeyer",
         "Top Genre": "german pop",
         "Year": 2008,
         "Beats Per Minute (BPM)": 142,
         "Energy": 24,
         "Danceability": 34,
         "Loudness": -11,
         "Liveness": 12,
         "Valence": 19,
         "Length": 259,
         "Acousticness": 92,
         "Speechiness": 4,
         "Popularity": 48,
         "_deepnote_index_column": 18
        },
        {
         "Unnamed: 0": 29,
         "Index": 30,
         "Title": "7 Seconds (feat. Neneh Cherry)",
         "Artist": "Youssou N'Dour",
         "Top Genre": "afropop",
         "Year": 2004,
         "Beats Per Minute (BPM)": 154,
         "Energy": 70,
         "Danceability": 68,
         "Loudness": -10,
         "Liveness": 33,
         "Valence": 51,
         "Length": 306,
         "Acousticness": 8,
         "Speechiness": 3,
         "Popularity": 59,
         "_deepnote_index_column": 19
        },
        {
         "Unnamed: 0": 30,
         "Index": 31,
         "Title": "The Scientist",
         "Artist": "Coldplay",
         "Top Genre": "permanent wave",
         "Year": 2002,
         "Beats Per Minute (BPM)": 146,
         "Energy": 44,
         "Danceability": 56,
         "Loudness": -7,
         "Liveness": 11,
         "Valence": 21,
         "Length": 310,
         "Acousticness": 73,
         "Speechiness": 2,
         "Popularity": 84,
         "_deepnote_index_column": 20
        },
        {
         "Unnamed: 0": 31,
         "Index": 32,
         "Title": "Big Log - 2006 Remaster",
         "Artist": "Robert Plant",
         "Top Genre": "album rock",
         "Year": 2007,
         "Beats Per Minute (BPM)": 181,
         "Energy": 59,
         "Danceability": 56,
         "Loudness": -9,
         "Liveness": 20,
         "Valence": 68,
         "Length": 306,
         "Acousticness": 32,
         "Speechiness": 3,
         "Popularity": 57,
         "_deepnote_index_column": 21
        },
        {
         "Unnamed: 0": 32,
         "Index": 33,
         "Title": "Chasing Pavements",
         "Artist": "Adele",
         "Top Genre": "british soul",
         "Year": 2008,
         "Beats Per Minute (BPM)": 80,
         "Energy": 47,
         "Danceability": 62,
         "Loudness": -6,
         "Liveness": 11,
         "Valence": 33,
         "Length": 211,
         "Acousticness": 31,
         "Speechiness": 3,
         "Popularity": 63,
         "_deepnote_index_column": 22
        },
        {
         "Unnamed: 0": 33,
         "Index": 34,
         "Title": "Don't Know Why",
         "Artist": "Norah Jones",
         "Top Genre": "adult standards",
         "Year": 2002,
         "Beats Per Minute (BPM)": 88,
         "Energy": 20,
         "Danceability": 73,
         "Loudness": -12,
         "Liveness": 7,
         "Valence": 62,
         "Length": 186,
         "Acousticness": 88,
         "Speechiness": 3,
         "Popularity": 74,
         "_deepnote_index_column": 23
        },
        {
         "Unnamed: 0": 35,
         "Index": 36,
         "Title": "The Eyes of Jenny",
         "Artist": "Sandy Coast",
         "Top Genre": "classic uk pop",
         "Year": 2009,
         "Beats Per Minute (BPM)": 119,
         "Energy": 53,
         "Danceability": 68,
         "Loudness": -12,
         "Liveness": 8,
         "Valence": 68,
         "Length": 264,
         "Acousticness": 34,
         "Speechiness": 4,
         "Popularity": 44,
         "_deepnote_index_column": 24
        },
        {
         "Unnamed: 0": 36,
         "Index": 37,
         "Title": "Iris",
         "Artist": "The Goo Goo Dolls",
         "Top Genre": "alternative rock",
         "Year": 2007,
         "Beats Per Minute (BPM)": 156,
         "Energy": 79,
         "Danceability": 29,
         "Loudness": -6,
         "Liveness": 8,
         "Valence": 51,
         "Length": 290,
         "Acousticness": 0,
         "Speechiness": 4,
         "Popularity": 75,
         "_deepnote_index_column": 25
        },
        {
         "Unnamed: 0": 37,
         "Index": 38,
         "Title": "The Saints Are Coming",
         "Artist": "U2",
         "Top Genre": "irish rock",
         "Year": 2006,
         "Beats Per Minute (BPM)": 152,
         "Energy": 81,
         "Danceability": 32,
         "Loudness": -7,
         "Liveness": 15,
         "Valence": 12,
         "Length": 202,
         "Acousticness": 8,
         "Speechiness": 5,
         "Popularity": 40,
         "_deepnote_index_column": 26
        },
        {
         "Unnamed: 0": 39,
         "Index": 40,
         "Title": "De Weg",
         "Artist": "Guus Meeuwis",
         "Top Genre": "dutch pop",
         "Year": 2005,
         "Beats Per Minute (BPM)": 72,
         "Energy": 21,
         "Danceability": 46,
         "Loudness": -11,
         "Liveness": 11,
         "Valence": 26,
         "Length": 266,
         "Acousticness": 91,
         "Speechiness": 3,
         "Popularity": 42,
         "_deepnote_index_column": 27
        },
        {
         "Unnamed: 0": 42,
         "Index": 43,
         "Title": "Take Me Out",
         "Artist": "Franz Ferdinand",
         "Top Genre": "alternative rock",
         "Year": 2004,
         "Beats Per Minute (BPM)": 105,
         "Energy": 68,
         "Danceability": 28,
         "Loudness": -9,
         "Liveness": 14,
         "Valence": 49,
         "Length": 237,
         "Acousticness": 0,
         "Speechiness": 4,
         "Popularity": 74,
         "_deepnote_index_column": 28
        },
        {
         "Unnamed: 0": 43,
         "Index": 44,
         "Title": "American Idiot",
         "Artist": "Green Day",
         "Top Genre": "modern rock",
         "Year": 2004,
         "Beats Per Minute (BPM)": 186,
         "Energy": 99,
         "Danceability": 38,
         "Loudness": -2,
         "Liveness": 37,
         "Valence": 77,
         "Length": 176,
         "Acousticness": 0,
         "Speechiness": 6,
         "Popularity": 78,
         "_deepnote_index_column": 29
        },
        {
         "Unnamed: 0": 44,
         "Index": 45,
         "Title": "Breaking the Habit",
         "Artist": "Linkin Park",
         "Top Genre": "alternative metal",
         "Year": 2003,
         "Beats Per Minute (BPM)": 100,
         "Energy": 85,
         "Danceability": 58,
         "Loudness": -5,
         "Liveness": 9,
         "Valence": 58,
         "Length": 197,
         "Acousticness": 11,
         "Speechiness": 3,
         "Popularity": 65,
         "_deepnote_index_column": 30
        }
       ],
       "rows_bottom": [
        {
         "Unnamed: 0": 1948,
         "Index": 1949,
         "Title": "Space Oddity - 2015 Remaster",
         "Artist": "David Bowie",
         "Top Genre": "album rock",
         "Year": 1969,
         "Beats Per Minute (BPM)": 140,
         "Energy": 44,
         "Danceability": 30,
         "Loudness": -13,
         "Liveness": 18,
         "Valence": 43,
         "Length": 319,
         "Acousticness": 7,
         "Speechiness": 3,
         "Popularity": 73,
         "_deepnote_index_column": 1516
        },
        {
         "Unnamed: 0": 1949,
         "Index": 1950,
         "Title": "Gimme Shelter",
         "Artist": "The Rolling Stones",
         "Top Genre": "album rock",
         "Year": 1969,
         "Beats Per Minute (BPM)": 119,
         "Energy": 63,
         "Danceability": 63,
         "Loudness": -8,
         "Liveness": 17,
         "Valence": 49,
         "Length": 271,
         "Acousticness": 45,
         "Speechiness": 3,
         "Popularity": 76,
         "_deepnote_index_column": 1517
        },
        {
         "Unnamed: 0": 1950,
         "Index": 1951,
         "Title": "Suspicious Minds",
         "Artist": "Elvis Presley",
         "Top Genre": "adult standards",
         "Year": 1969,
         "Beats Per Minute (BPM)": 117,
         "Energy": 38,
         "Danceability": 49,
         "Loudness": -11,
         "Liveness": 41,
         "Valence": 71,
         "Length": 261,
         "Acousticness": 4,
         "Speechiness": 3,
         "Popularity": 72,
         "_deepnote_index_column": 1518
        },
        {
         "Unnamed: 0": 1952,
         "Index": 1953,
         "Title": "Sweet Caroline",
         "Artist": "Neil Diamond",
         "Top Genre": "adult standards",
         "Year": 1969,
         "Beats Per Minute (BPM)": 63,
         "Energy": 13,
         "Danceability": 53,
         "Loudness": -16,
         "Liveness": 24,
         "Valence": 58,
         "Length": 204,
         "Acousticness": 61,
         "Speechiness": 3,
         "Popularity": 78,
         "_deepnote_index_column": 1519
        },
        {
         "Unnamed: 0": 1953,
         "Index": 1954,
         "Title": "Fortunate Son",
         "Artist": "Creedence Clearwater Revival",
         "Top Genre": "album rock",
         "Year": 1969,
         "Beats Per Minute (BPM)": 133,
         "Energy": 66,
         "Danceability": 64,
         "Loudness": -8,
         "Liveness": 15,
         "Valence": 66,
         "Length": 141,
         "Acousticness": 20,
         "Speechiness": 4,
         "Popularity": 80,
         "_deepnote_index_column": 1520
        },
        {
         "Unnamed: 0": 1954,
         "Index": 1955,
         "Title": "In the Ghetto",
         "Artist": "Elvis Presley",
         "Top Genre": "adult standards",
         "Year": 1969,
         "Beats Per Minute (BPM)": 89,
         "Energy": 27,
         "Danceability": 40,
         "Loudness": -17,
         "Liveness": 11,
         "Valence": 49,
         "Length": 167,
         "Acousticness": 72,
         "Speechiness": 3,
         "Popularity": 63,
         "_deepnote_index_column": 1521
        },
        {
         "Unnamed: 0": 1955,
         "Index": 1956,
         "Title": "Bad Moon Rising",
         "Artist": "Creedence Clearwater Revival",
         "Top Genre": "album rock",
         "Year": 1969,
         "Beats Per Minute (BPM)": 179,
         "Energy": 77,
         "Danceability": 51,
         "Loudness": -6,
         "Liveness": 6,
         "Valence": 94,
         "Length": 142,
         "Acousticness": 6,
         "Speechiness": 3,
         "Popularity": 77,
         "_deepnote_index_column": 1522
        },
        {
         "Unnamed: 0": 1957,
         "Index": 1958,
         "Title": "With A Little Help From My Friends",
         "Artist": "Joe Cocker",
         "Top Genre": "album rock",
         "Year": 1969,
         "Beats Per Minute (BPM)": 145,
         "Energy": 43,
         "Danceability": 31,
         "Loudness": -11,
         "Liveness": 10,
         "Valence": 31,
         "Length": 312,
         "Acousticness": 29,
         "Speechiness": 6,
         "Popularity": 69,
         "_deepnote_index_column": 1523
        },
        {
         "Unnamed: 0": 1958,
         "Index": 1959,
         "Title": "My Way",
         "Artist": "Frank Sinatra",
         "Top Genre": "adult standards",
         "Year": 1969,
         "Beats Per Minute (BPM)": 75,
         "Energy": 38,
         "Danceability": 40,
         "Loudness": -7,
         "Liveness": 12,
         "Valence": 23,
         "Length": 277,
         "Acousticness": 70,
         "Speechiness": 3,
         "Popularity": 73,
         "_deepnote_index_column": 1524
        },
        {
         "Unnamed: 0": 1959,
         "Index": 1960,
         "Title": "Come Together - Remastered 2009",
         "Artist": "The Beatles",
         "Top Genre": "british invasion",
         "Year": 1969,
         "Beats Per Minute (BPM)": 165,
         "Energy": 38,
         "Danceability": 53,
         "Loudness": -12,
         "Liveness": 9,
         "Valence": 19,
         "Length": 260,
         "Acousticness": 3,
         "Speechiness": 4,
         "Popularity": 79,
         "_deepnote_index_column": 1525
        },
        {
         "Unnamed: 0": 1960,
         "Index": 1961,
         "Title": "Something - Remastered 2009",
         "Artist": "The Beatles",
         "Top Genre": "british invasion",
         "Year": 1969,
         "Beats Per Minute (BPM)": 134,
         "Energy": 34,
         "Danceability": 40,
         "Loudness": -11,
         "Liveness": 14,
         "Valence": 38,
         "Length": 182,
         "Acousticness": 20,
         "Speechiness": 3,
         "Popularity": 72,
         "_deepnote_index_column": 1526
        },
        {
         "Unnamed: 0": 1962,
         "Index": 1963,
         "Title": "Just A Little Bit Of Peace In My Heart",
         "Artist": "Golden Earring",
         "Top Genre": "album rock",
         "Year": 1969,
         "Beats Per Minute (BPM)": 95,
         "Energy": 72,
         "Danceability": 27,
         "Loudness": -6,
         "Liveness": 6,
         "Valence": 26,
         "Length": 320,
         "Acousticness": 1,
         "Speechiness": 3,
         "Popularity": 42,
         "_deepnote_index_column": 1527
        },
        {
         "Unnamed: 0": 1963,
         "Index": 1964,
         "Title": "Venus",
         "Artist": "Shocking Blue",
         "Top Genre": "classic rock",
         "Year": 1969,
         "Beats Per Minute (BPM)": 128,
         "Energy": 76,
         "Danceability": 69,
         "Loudness": -6,
         "Liveness": 8,
         "Valence": 96,
         "Length": 188,
         "Acousticness": 46,
         "Speechiness": 4,
         "Popularity": 59,
         "_deepnote_index_column": 1528
        },
        {
         "Unnamed: 0": 1965,
         "Index": 1966,
         "Title": "Pinball Wizard",
         "Artist": "The Who",
         "Top Genre": "album rock",
         "Year": 1969,
         "Beats Per Minute (BPM)": 124,
         "Energy": 72,
         "Danceability": 54,
         "Loudness": -9,
         "Liveness": 26,
         "Valence": 47,
         "Length": 181,
         "Acousticness": 2,
         "Speechiness": 4,
         "Popularity": 69,
         "_deepnote_index_column": 1529
        },
        {
         "Unnamed: 0": 1966,
         "Index": 1967,
         "Title": "Marian",
         "Artist": "The Cats",
         "Top Genre": "classic uk pop",
         "Year": 1969,
         "Beats Per Minute (BPM)": 80,
         "Energy": 45,
         "Danceability": 39,
         "Loudness": -10,
         "Liveness": 19,
         "Valence": 39,
         "Length": 240,
         "Acousticness": 0,
         "Speechiness": 3,
         "Popularity": 46,
         "_deepnote_index_column": 1530
        },
        {
         "Unnamed: 0": 1967,
         "Index": 1968,
         "Title": "Proud Mary",
         "Artist": "Creedence Clearwater Revival",
         "Top Genre": "album rock",
         "Year": 1969,
         "Beats Per Minute (BPM)": 121,
         "Energy": 39,
         "Danceability": 72,
         "Loudness": -17,
         "Liveness": 5,
         "Valence": 79,
         "Length": 187,
         "Acousticness": 16,
         "Speechiness": 3,
         "Popularity": 60,
         "_deepnote_index_column": 1531
        },
        {
         "Unnamed: 0": 1968,
         "Index": 1969,
         "Title": "Beautiful People",
         "Artist": "Melanie",
         "Top Genre": "classic uk pop",
         "Year": 1969,
         "Beats Per Minute (BPM)": 129,
         "Energy": 44,
         "Danceability": 54,
         "Loudness": -9,
         "Liveness": 40,
         "Valence": 37,
         "Length": 215,
         "Acousticness": 61,
         "Speechiness": 5,
         "Popularity": 44,
         "_deepnote_index_column": 1532
        },
        {
         "Unnamed: 0": 1970,
         "Index": 1971,
         "Title": "Born On The Bayou",
         "Artist": "Creedence Clearwater Revival",
         "Top Genre": "album rock",
         "Year": 1969,
         "Beats Per Minute (BPM)": 117,
         "Energy": 39,
         "Danceability": 68,
         "Loudness": -16,
         "Liveness": 11,
         "Valence": 55,
         "Length": 315,
         "Acousticness": 7,
         "Speechiness": 5,
         "Popularity": 59,
         "_deepnote_index_column": 1533
        },
        {
         "Unnamed: 0": 1971,
         "Index": 1972,
         "Title": "Scarlet Ribbons",
         "Artist": "The Cats",
         "Top Genre": "classic uk pop",
         "Year": 1969,
         "Beats Per Minute (BPM)": 101,
         "Energy": 42,
         "Danceability": 48,
         "Loudness": -10,
         "Liveness": 14,
         "Valence": 47,
         "Length": 197,
         "Acousticness": 9,
         "Speechiness": 3,
         "Popularity": 44,
         "_deepnote_index_column": 1534
        },
        {
         "Unnamed: 0": 1972,
         "Index": 1973,
         "Title": "The Thrill Is Gone",
         "Artist": "B.B. King",
         "Top Genre": "blues",
         "Year": 1969,
         "Beats Per Minute (BPM)": 91,
         "Energy": 46,
         "Danceability": 55,
         "Loudness": -9,
         "Liveness": 10,
         "Valence": 54,
         "Length": 325,
         "Acousticness": 34,
         "Speechiness": 3,
         "Popularity": 60,
         "_deepnote_index_column": 1535
        },
        {
         "Unnamed: 0": 1973,
         "Index": 1974,
         "Title": "Dazed and Confused",
         "Artist": "Led Zeppelin",
         "Top Genre": "album rock",
         "Year": 1969,
         "Beats Per Minute (BPM)": 87,
         "Energy": 55,
         "Danceability": 27,
         "Loudness": -10,
         "Liveness": 10,
         "Valence": 43,
         "Length": 386,
         "Acousticness": 4,
         "Speechiness": 5,
         "Popularity": 63,
         "_deepnote_index_column": 1536
        },
        {
         "Unnamed: 0": 1974,
         "Index": 1975,
         "Title": "Overture",
         "Artist": "The Who",
         "Top Genre": "album rock",
         "Year": 1969,
         "Beats Per Minute (BPM)": 118,
         "Energy": 62,
         "Danceability": 48,
         "Loudness": -10,
         "Liveness": 14,
         "Valence": 19,
         "Length": 320,
         "Acousticness": 6,
         "Speechiness": 3,
         "Popularity": 43,
         "_deepnote_index_column": 1537
        },
        {
         "Unnamed: 0": 1975,
         "Index": 1976,
         "Title": "Streets of London",
         "Artist": "Ralph McTell",
         "Top Genre": "british folk",
         "Year": 1969,
         "Beats Per Minute (BPM)": 156,
         "Energy": 30,
         "Danceability": 40,
         "Loudness": -15,
         "Liveness": 10,
         "Valence": 19,
         "Length": 249,
         "Acousticness": 63,
         "Speechiness": 3,
         "Popularity": 57,
         "_deepnote_index_column": 1538
        },
        {
         "Unnamed: 0": 1979,
         "Index": 1980,
         "Title": "Touch Me",
         "Artist": "The Doors",
         "Top Genre": "album rock",
         "Year": 1969,
         "Beats Per Minute (BPM)": 109,
         "Energy": 90,
         "Danceability": 43,
         "Loudness": -5,
         "Liveness": 12,
         "Valence": 77,
         "Length": 190,
         "Acousticness": 41,
         "Speechiness": 7,
         "Popularity": 68,
         "_deepnote_index_column": 1539
        },
        {
         "Unnamed: 0": 1980,
         "Index": 1981,
         "Title": "Summertime",
         "Artist": "Brainbox",
         "Top Genre": "dutch prog",
         "Year": 1969,
         "Beats Per Minute (BPM)": 89,
         "Energy": 55,
         "Danceability": 38,
         "Loudness": -9,
         "Liveness": 31,
         "Valence": 25,
         "Length": 263,
         "Acousticness": 4,
         "Speechiness": 3,
         "Popularity": 36,
         "_deepnote_index_column": 1540
        },
        {
         "Unnamed: 0": 1983,
         "Index": 1984,
         "Title": "Black Magic Woman - 2018 Remaster",
         "Artist": "Fleetwood Mac",
         "Top Genre": "album rock",
         "Year": 1969,
         "Beats Per Minute (BPM)": 129,
         "Energy": 41,
         "Danceability": 46,
         "Loudness": -11,
         "Liveness": 28,
         "Valence": 44,
         "Length": 173,
         "Acousticness": 5,
         "Speechiness": 4,
         "Popularity": 48,
         "_deepnote_index_column": 1541
        },
        {
         "Unnamed: 0": 1985,
         "Index": 1986,
         "Title": "Blue Suede Shoes",
         "Artist": "Elvis Presley",
         "Top Genre": "adult standards",
         "Year": 1956,
         "Beats Per Minute (BPM)": 95,
         "Energy": 66,
         "Danceability": 56,
         "Loudness": -8,
         "Liveness": 14,
         "Valence": 96,
         "Length": 119,
         "Acousticness": 65,
         "Speechiness": 6,
         "Popularity": 62,
         "_deepnote_index_column": 1542
        },
        {
         "Unnamed: 0": 1989,
         "Index": 1990,
         "Title": "Heartbreak Hotel",
         "Artist": "Elvis Presley",
         "Top Genre": "adult standards",
         "Year": 1958,
         "Beats Per Minute (BPM)": 94,
         "Energy": 21,
         "Danceability": 70,
         "Loudness": -12,
         "Liveness": 11,
         "Valence": 72,
         "Length": 128,
         "Acousticness": 84,
         "Speechiness": 7,
         "Popularity": 63,
         "_deepnote_index_column": 1543
        },
        {
         "Unnamed: 0": 1991,
         "Index": 1992,
         "Title": "Johnny B. Goode",
         "Artist": "Chuck Berry",
         "Top Genre": "blues rock",
         "Year": 1959,
         "Beats Per Minute (BPM)": 168,
         "Energy": 80,
         "Danceability": 53,
         "Loudness": -9,
         "Liveness": 31,
         "Valence": 97,
         "Length": 162,
         "Acousticness": 74,
         "Speechiness": 7,
         "Popularity": 74,
         "_deepnote_index_column": 1544
        },
        {
         "Unnamed: 0": 1992,
         "Index": 1993,
         "Title": "Take Five",
         "Artist": "The Dave Brubeck Quartet",
         "Top Genre": "bebop",
         "Year": 1959,
         "Beats Per Minute (BPM)": 174,
         "Energy": 26,
         "Danceability": 45,
         "Loudness": -13,
         "Liveness": 7,
         "Valence": 60,
         "Length": 324,
         "Acousticness": 54,
         "Speechiness": 4,
         "Popularity": 65,
         "_deepnote_index_column": 1545
        },
        {
         "Unnamed: 0": 1993,
         "Index": 1994,
         "Title": "Blueberry Hill",
         "Artist": "Fats Domino",
         "Top Genre": "adult standards",
         "Year": 1959,
         "Beats Per Minute (BPM)": 133,
         "Energy": 50,
         "Danceability": 49,
         "Loudness": -10,
         "Liveness": 16,
         "Valence": 83,
         "Length": 148,
         "Acousticness": 74,
         "Speechiness": 3,
         "Popularity": 56,
         "_deepnote_index_column": 1546
        }
       ]
      },
      "text/plain": "      Unnamed: 0  Index                                  Title  \\\n0              0      1                                Sunrise   \n1              1      2                            Black Night   \n2              3      4                          The Pretender   \n3              4      5                 Waitin' On A Sunny Day   \n4              5      6  The Road Ahead (Miles Of The Unknown)   \n...          ...    ...                                    ...   \n1542        1985   1986                       Blue Suede Shoes   \n1543        1989   1990                       Heartbreak Hotel   \n1544        1991   1992                        Johnny B. Goode   \n1545        1992   1993                              Take Five   \n1546        1993   1994                         Blueberry Hill   \n\n                        Artist             Top Genre  Year  \\\n0                  Norah Jones       adult standards  2004   \n1                  Deep Purple            album rock  2000   \n2                 Foo Fighters     alternative metal  2007   \n3            Bruce Springsteen          classic rock  2002   \n4                 City To City  alternative pop rock  2004   \n...                        ...                   ...   ...   \n1542             Elvis Presley       adult standards  1956   \n1543             Elvis Presley       adult standards  1958   \n1544               Chuck Berry            blues rock  1959   \n1545  The Dave Brubeck Quartet                 bebop  1959   \n1546               Fats Domino       adult standards  1959   \n\n      Beats Per Minute (BPM)  Energy  Danceability  Loudness  Liveness  \\\n0                        157      30            53       -14        11   \n1                        135      79            50       -11        17   \n2                        173      96            43        -4         3   \n3                        106      82            58        -5        10   \n4                         99      46            54        -9        14   \n...                      ...     ...           ...       ...       ...   \n1542                      95      66            56        -8        14   \n1543                      94      21            70       -12        11   \n1544                     168      80            53        -9        31   \n1545                     174      26            45       -13         7   \n1546                     133      50            49       -10        16   \n\n      Valence  Length  Acousticness  Speechiness  Popularity  \n0          68     201            94            3          71  \n1          81     207            17            7          39  \n2          37     269             0            4          76  \n3          87     256             1            3          59  \n4          14     247             0            2          45  \n...       ...     ...           ...          ...         ...  \n1542       96     119            65            6          62  \n1543       72     128            84            7          63  \n1544       97     162            74            7          74  \n1545       60     324            54            4          65  \n1546       83     148            74            3          56  \n\n[1547 rows x 16 columns]",
      "text/html": "<div>\n<style scoped>\n    .dataframe tbody tr th:only-of-type {\n        vertical-align: middle;\n    }\n\n    .dataframe tbody tr th {\n        vertical-align: top;\n    }\n\n    .dataframe thead th {\n        text-align: right;\n    }\n</style>\n<table border=\"1\" class=\"dataframe\">\n  <thead>\n    <tr style=\"text-align: right;\">\n      <th></th>\n      <th>Unnamed: 0</th>\n      <th>Index</th>\n      <th>Title</th>\n      <th>Artist</th>\n      <th>Top Genre</th>\n      <th>Year</th>\n      <th>Beats Per Minute (BPM)</th>\n      <th>Energy</th>\n      <th>Danceability</th>\n      <th>Loudness</th>\n      <th>Liveness</th>\n      <th>Valence</th>\n      <th>Length</th>\n      <th>Acousticness</th>\n      <th>Speechiness</th>\n      <th>Popularity</th>\n    </tr>\n  </thead>\n  <tbody>\n    <tr>\n      <th>0</th>\n      <td>0</td>\n      <td>1</td>\n      <td>Sunrise</td>\n      <td>Norah Jones</td>\n      <td>adult standards</td>\n      <td>2004</td>\n      <td>157</td>\n      <td>30</td>\n      <td>53</td>\n      <td>-14</td>\n      <td>11</td>\n      <td>68</td>\n      <td>201</td>\n      <td>94</td>\n      <td>3</td>\n      <td>71</td>\n    </tr>\n    <tr>\n      <th>1</th>\n      <td>1</td>\n      <td>2</td>\n      <td>Black Night</td>\n      <td>Deep Purple</td>\n      <td>album rock</td>\n      <td>2000</td>\n      <td>135</td>\n      <td>79</td>\n      <td>50</td>\n      <td>-11</td>\n      <td>17</td>\n      <td>81</td>\n      <td>207</td>\n      <td>17</td>\n      <td>7</td>\n      <td>39</td>\n    </tr>\n    <tr>\n      <th>2</th>\n      <td>3</td>\n      <td>4</td>\n      <td>The Pretender</td>\n      <td>Foo Fighters</td>\n      <td>alternative metal</td>\n      <td>2007</td>\n      <td>173</td>\n      <td>96</td>\n      <td>43</td>\n      <td>-4</td>\n      <td>3</td>\n      <td>37</td>\n      <td>269</td>\n      <td>0</td>\n      <td>4</td>\n      <td>76</td>\n    </tr>\n    <tr>\n      <th>3</th>\n      <td>4</td>\n      <td>5</td>\n      <td>Waitin' On A Sunny Day</td>\n      <td>Bruce Springsteen</td>\n      <td>classic rock</td>\n      <td>2002</td>\n      <td>106</td>\n      <td>82</td>\n      <td>58</td>\n      <td>-5</td>\n      <td>10</td>\n      <td>87</td>\n      <td>256</td>\n      <td>1</td>\n      <td>3</td>\n      <td>59</td>\n    </tr>\n    <tr>\n      <th>4</th>\n      <td>5</td>\n      <td>6</td>\n      <td>The Road Ahead (Miles Of The Unknown)</td>\n      <td>City To City</td>\n      <td>alternative pop rock</td>\n      <td>2004</td>\n      <td>99</td>\n      <td>46</td>\n      <td>54</td>\n      <td>-9</td>\n      <td>14</td>\n      <td>14</td>\n      <td>247</td>\n      <td>0</td>\n      <td>2</td>\n      <td>45</td>\n    </tr>\n    <tr>\n      <th>...</th>\n      <td>...</td>\n      <td>...</td>\n      <td>...</td>\n      <td>...</td>\n      <td>...</td>\n      <td>...</td>\n      <td>...</td>\n      <td>...</td>\n      <td>...</td>\n      <td>...</td>\n      <td>...</td>\n      <td>...</td>\n      <td>...</td>\n      <td>...</td>\n      <td>...</td>\n      <td>...</td>\n    </tr>\n    <tr>\n      <th>1542</th>\n      <td>1985</td>\n      <td>1986</td>\n      <td>Blue Suede Shoes</td>\n      <td>Elvis Presley</td>\n      <td>adult standards</td>\n      <td>1956</td>\n      <td>95</td>\n      <td>66</td>\n      <td>56</td>\n      <td>-8</td>\n      <td>14</td>\n      <td>96</td>\n      <td>119</td>\n      <td>65</td>\n      <td>6</td>\n      <td>62</td>\n    </tr>\n    <tr>\n      <th>1543</th>\n      <td>1989</td>\n      <td>1990</td>\n      <td>Heartbreak Hotel</td>\n      <td>Elvis Presley</td>\n      <td>adult standards</td>\n      <td>1958</td>\n      <td>94</td>\n      <td>21</td>\n      <td>70</td>\n      <td>-12</td>\n      <td>11</td>\n      <td>72</td>\n      <td>128</td>\n      <td>84</td>\n      <td>7</td>\n      <td>63</td>\n    </tr>\n    <tr>\n      <th>1544</th>\n      <td>1991</td>\n      <td>1992</td>\n      <td>Johnny B. Goode</td>\n      <td>Chuck Berry</td>\n      <td>blues rock</td>\n      <td>1959</td>\n      <td>168</td>\n      <td>80</td>\n      <td>53</td>\n      <td>-9</td>\n      <td>31</td>\n      <td>97</td>\n      <td>162</td>\n      <td>74</td>\n      <td>7</td>\n      <td>74</td>\n    </tr>\n    <tr>\n      <th>1545</th>\n      <td>1992</td>\n      <td>1993</td>\n      <td>Take Five</td>\n      <td>The Dave Brubeck Quartet</td>\n      <td>bebop</td>\n      <td>1959</td>\n      <td>174</td>\n      <td>26</td>\n      <td>45</td>\n      <td>-13</td>\n      <td>7</td>\n      <td>60</td>\n      <td>324</td>\n      <td>54</td>\n      <td>4</td>\n      <td>65</td>\n    </tr>\n    <tr>\n      <th>1546</th>\n      <td>1993</td>\n      <td>1994</td>\n      <td>Blueberry Hill</td>\n      <td>Fats Domino</td>\n      <td>adult standards</td>\n      <td>1959</td>\n      <td>133</td>\n      <td>50</td>\n      <td>49</td>\n      <td>-10</td>\n      <td>16</td>\n      <td>83</td>\n      <td>148</td>\n      <td>74</td>\n      <td>3</td>\n      <td>56</td>\n    </tr>\n  </tbody>\n</table>\n<p>1547 rows × 16 columns</p>\n</div>"
     },
     "metadata": {}
    }
   ],
   "execution_count": null
  },
  {
   "cell_type": "markdown",
   "source": "Our first step was to plot correlations of all the quantitative features with popularity to find the features with the strongest relationships with popularity.",
   "metadata": {
    "tags": [],
    "cell_id": "00002-0349f327-9de8-45f8-a71b-f09bc852d868",
    "deepnote_cell_type": "markdown"
   }
  },
  {
   "cell_type": "code",
   "metadata": {
    "tags": [],
    "cell_id": "00001-3d552782-3161-4c0e-892b-48d9b7352932",
    "deepnote_to_be_reexecuted": false,
    "source_hash": "3f748dd4",
    "execution_start": 1638135663749,
    "execution_millis": 3337,
    "deepnote_output_heights": [
     null,
     284
    ],
    "deepnote_cell_type": "code"
   },
   "source": "from pandas.plotting import *\n\ncorr1 = df['Danceability'].corr(df['Popularity'])\ncorr2 = df['Energy'].corr(df['Popularity'])\ncorr3 = df['Length'].corr(df['Popularity'])\ncorr4 = df['Speechiness'].corr(df['Popularity'])\ncorr5 = df['Loudness'].corr(df['Popularity'])\ncorr6 = df['Liveness'].corr(df['Popularity'])\ncorr7 = df['Valence'].corr(df['Popularity'])\ncorr8 = df['Beats Per Minute (BPM)'].corr(df['Popularity'])\ncorr9 = df['Acousticness'].corr(df['Popularity'])\n\nprint(\"Correlations\")\nprint('Danceability:',corr1)\nprint('Energy:',corr2)\nprint('Length:',corr3)\nprint('Speechiness: ',corr4)\nprint('Loudness: ',corr5)\nprint('Liveness: ',corr6)\nprint('Valence: ',corr7)\nprint('Beats Per Minute: ',corr8)\nprint('Acousticness: ',corr9)\n\nSubset = df[['Danceability','Energy','Speechiness','Loudness','Liveness','Popularity']]\npd.plotting.scatter_matrix(Subset)\n\nenergy_loudness_corr = df['Energy'].corr(df['Loudness'])\nprint(energy_loudness_corr)",
   "outputs": [
    {
     "name": "stdout",
     "text": "Correlations\nDanceability: 0.1196216657740888\nEnergy: 0.08190291423099948\nLength: 0.00931908937971644\nSpeechiness:  0.05798857537935961\nLoudness:  0.11892291778199586\nLiveness:  -0.037917164769066404\nValence:  0.0845408685291041\nBeats Per Minute:  -0.006985636976298665\nAcousticness:  -0.06797955332469441\n0.7071831529493542\n",
     "output_type": "stream"
    },
    {
     "data": {
      "text/plain": "<Figure size 432x288 with 36 Axes>",
      "image/png": "[encoded data removed]"
     },
     "metadata": {
      "needs_background": "light",
      "image/png": {
       "width": 391,
       "height": 282
      }
     },
     "output_type": "display_data"
    }
   ],
   "execution_count": null
  },
  {
   "cell_type": "markdown",
   "source": "We found the features with the highest correlations with popularity to be: Danceability, loudness, valence, energy\n\nOur highest R is danceability .1196, which would be a baseline R^2 of .01430.\n\nThere exists a high correlation between energy and loudness, as an interesting note. There are no other notable  correlations between the other factors, as seen in the correlation matrix.\n\nNext, we will create multiple linear regressions per the following:\n\n1. danceability, energy, valence\n2. danceability, loudness, valence\n\n3. danceability, energy",
   "metadata": {
    "tags": [],
    "cell_id": "00002-b580be23-9599-4e57-9ab2-a5584a93332b",
    "deepnote_cell_type": "markdown"
   }
  },
  {
   "cell_type": "code",
   "metadata": {
    "tags": [],
    "cell_id": "00003-143d7f6c-13bd-4c55-ab39-d07d7edc0b0e",
    "deepnote_to_be_reexecuted": false,
    "source_hash": "50213e16",
    "execution_start": 1638116200315,
    "execution_millis": 0,
    "deepnote_output_heights": [
     21
    ],
    "deepnote_cell_type": "code"
   },
   "source": "features=['Danceability','Energy','Valence']\nX = df[features]\ny = df['Popularity']",
   "outputs": [],
   "execution_count": null
  },
  {
   "cell_type": "code",
   "metadata": {
    "tags": [],
    "cell_id": "00004-69db76e6-f667-447b-aa5d-767516919805",
    "deepnote_to_be_reexecuted": false,
    "source_hash": "6b3e068d",
    "execution_start": 1638116200364,
    "execution_millis": 1804,
    "deepnote_cell_type": "code"
   },
   "source": "from sklearn.model_selection import train_test_split\nfrom sklearn.linear_model import LinearRegression\nX_train, X_test, y_train, y_test = train_test_split(X[features], y, train_size=0.5, random_state=8)",
   "outputs": [],
   "execution_count": null
  },
  {
   "cell_type": "code",
   "metadata": {
    "tags": [],
    "cell_id": "00005-d77f3b4e-ff67-42fc-a6be-87c6c8ec0d76",
    "deepnote_to_be_reexecuted": false,
    "source_hash": "81cb2438",
    "execution_start": 1638116202221,
    "execution_millis": 24,
    "deepnote_output_heights": [
     21
    ],
    "deepnote_cell_type": "code"
   },
   "source": "lr = LinearRegression()\nlr.fit(X_train, y_train)\nlr.score(X_test, y_test)",
   "outputs": [
    {
     "output_type": "execute_result",
     "execution_count": 5,
     "data": {
      "text/plain": "0.015937899695951163"
     },
     "metadata": {}
    }
   ],
   "execution_count": null
  },
  {
   "cell_type": "code",
   "metadata": {
    "tags": [],
    "cell_id": "00006-b9b70b87-878d-4834-bc38-2eac9eef731a",
    "deepnote_to_be_reexecuted": false,
    "source_hash": "6bd3a06d",
    "execution_start": 1638116202284,
    "execution_millis": 28737369,
    "deepnote_cell_type": "code"
   },
   "source": "print(lr.intercept_)\nprint(lr.coef_)",
   "outputs": [
    {
     "name": "stdout",
     "text": "52.543192239825714\n[ 0.06205344  0.06813382 -0.00525045]\n",
     "output_type": "stream"
    }
   ],
   "execution_count": null
  },
  {
   "cell_type": "code",
   "metadata": {
    "tags": [],
    "cell_id": "00007-02327301-5e13-4962-9b5f-3c728676fae6",
    "deepnote_to_be_reexecuted": false,
    "source_hash": "be36ce70",
    "execution_start": 1638116202340,
    "execution_millis": 28724925,
    "deepnote_cell_type": "code"
   },
   "source": "y_pred = lr.predict(X_test)",
   "outputs": [],
   "execution_count": null
  },
  {
   "cell_type": "code",
   "metadata": {
    "tags": [],
    "cell_id": "00008-78448df5-3162-4be3-8ecf-74fa9a7ff336",
    "deepnote_to_be_reexecuted": false,
    "source_hash": "2f1559c6",
    "execution_start": 1638116202340,
    "execution_millis": 45,
    "deepnote_cell_type": "code"
   },
   "source": "from sklearn import metrics\nfrom sklearn.metrics import r2_score\n\nprint(metrics.r2_score(y_test, y_pred))\nprint(metrics.mean_absolute_error(y_test, y_pred))\nprint(metrics.mean_squared_error(y_test, y_pred))\nprint(np.sqrt(metrics.mean_squared_error(y_test, y_pred)))",
   "outputs": [
    {
     "name": "stdout",
     "text": "0.015937899695951163\n11.481994857635357\n197.69131421596182\n14.060274329328067\n",
     "output_type": "stream"
    }
   ],
   "execution_count": null
  },
  {
   "cell_type": "markdown",
   "source": "The R^2 of linear regression with the 3 top performing features is .0159, which is not significantly higher than the danceability R^2.\n\nThe RMSE is 14, which is high.",
   "metadata": {
    "tags": [],
    "cell_id": "00009-c5c8501a-43dc-4bf1-b04e-69106ee905d9",
    "deepnote_cell_type": "markdown"
   }
  },
  {
   "cell_type": "markdown",
   "source": "## Multiple Linear Regression with 3 features\nWe created a multiple linear regression with another combination of 3 features with highest correlations with popularity: danceability, loudness, and valence. We excluded energy because of its high correlation with loudness, as we didn't want any confounding factors.",
   "metadata": {
    "tags": [],
    "cell_id": "00011-7b87badd-42b0-49a1-8ab2-05919ead6e49",
    "deepnote_cell_type": "markdown"
   }
  },
  {
   "cell_type": "code",
   "metadata": {
    "tags": [],
    "cell_id": "00011-372cf4c6-f085-4cfe-9e31-3cd0933624d6",
    "deepnote_to_be_reexecuted": false,
    "source_hash": "fc699a76",
    "execution_start": 1638122270423,
    "execution_millis": 2,
    "deepnote_cell_type": "code"
   },
   "source": "from sklearn.linear_model import LinearRegression\n\nmy_mX = np.vstack((df['Danceability'],df['Loudness'],df['Valence'])).T\nmy_mY = np.vstack((df['Popularity'], )).T\n\nmreg = LinearRegression().fit(my_mX, my_mY)\n\nprint(mreg.coef_)\nprint(mreg.intercept_)",
   "outputs": [
    {
     "name": "stdout",
     "text": "[[0.10755934 0.50255658 0.0094265 ]]\n[57.87713873]\n",
     "output_type": "stream"
    }
   ],
   "execution_count": null
  },
  {
   "cell_type": "code",
   "metadata": {
    "tags": [],
    "cell_id": "00012-6a1d74cb-1616-4841-8957-341cac1ed065",
    "deepnote_to_be_reexecuted": false,
    "source_hash": "ba5aa21f",
    "execution_start": 1638122296951,
    "execution_millis": 64,
    "deepnote_cell_type": "code"
   },
   "source": "print('Coefficient of determination:',mreg.score(my_mX, my_mY))",
   "outputs": [
    {
     "name": "stdout",
     "text": "Coefficient of determination: 0.028386945176867906\n",
     "output_type": "stream"
    }
   ],
   "execution_count": null
  },
  {
   "cell_type": "markdown",
   "source": "We found the coefficient of determination to be very low, 0.03, so we concluded that this was not a good model to predict popularity.",
   "metadata": {
    "tags": [],
    "cell_id": "00014-0b537fbb-bc14-4309-b715-913c27d60b10",
    "deepnote_cell_type": "markdown"
   }
  },
  {
   "cell_type": "markdown",
   "source": "## Multiple Linear Regression with 2 features\nWe created a multiple linear regression with the 2 features with highest correlations with popularity: danceability and loudness.",
   "metadata": {
    "tags": [],
    "cell_id": "00015-283255aa-0d9e-4d06-a33b-f6d393a51964",
    "deepnote_cell_type": "markdown"
   }
  },
  {
   "cell_type": "code",
   "metadata": {
    "tags": [],
    "cell_id": "00013-671eb376-a9f0-4dd3-a464-9b3386f6664d",
    "deepnote_to_be_reexecuted": false,
    "source_hash": "13a5b2fd",
    "execution_start": 1638122299845,
    "execution_millis": 46,
    "deepnote_cell_type": "code"
   },
   "source": "from sklearn.linear_model import LinearRegression\n\nmy_mX = np.vstack((df['Danceability'],df['Loudness'])).T\nmy_mY = np.vstack((df['Popularity'], )).T\n\nmreg = LinearRegression().fit(my_mX, my_mY)\n\nprint(mreg.coef_)\nprint(mreg.intercept_)",
   "outputs": [
    {
     "name": "stdout",
     "text": "[[0.11588692 0.50869076]]\n[57.95100769]\n",
     "output_type": "stream"
    }
   ],
   "execution_count": null
  },
  {
   "cell_type": "code",
   "metadata": {
    "tags": [],
    "cell_id": "00014-ef897a15-c8ff-4e40-b23b-8b7664cb47d8",
    "deepnote_to_be_reexecuted": false,
    "source_hash": "ba5aa21f",
    "execution_start": 1638122303702,
    "execution_millis": 22,
    "deepnote_cell_type": "code"
   },
   "source": "print('Coefficient of determination:',mreg.score(my_mX, my_mY))",
   "outputs": [
    {
     "name": "stdout",
     "text": "Coefficient of determination: 0.028195498002168473\n",
     "output_type": "stream"
    }
   ],
   "execution_count": null
  },
  {
   "cell_type": "markdown",
   "source": "We found the coefficient of determination to be very low, 0.03, so we concluded that this was not a good model to predict popularity.\n\nThus, we concluded that linear regressions are not a good model for the Spotify data since we didn't get strong R^2s for any of our models. Next, we decided to create a classification model since our regression models were not strong and did not meet our 50% accuracy expectation.\n\nThe data did not seem to meet our hypothesis on the correlations of each attribute with popularity. Though danceability, energy, and valence all correlate positively with popularity, their respective R^2 factors are generally small. We also did not expect loudness to have the greatest correlation, nor liveness, BPM, and acousticness to have negative correlations.",
   "metadata": {
    "tags": [],
    "cell_id": "00018-72400dbd-1a0e-4ed1-b2c1-8b3f19abaee6",
    "deepnote_cell_type": "markdown"
   }
  },
  {
   "cell_type": "markdown",
   "source": "<a style='text-decoration:none;line-height:16px;display:flex;color:#5B5B62;padding:10px;justify-content:end;' href='https://deepnote.com?utm_source=created-in-deepnote-cell&projectId=ebc7ed57-9d9b-4197-9f19-b17d7bdf5e26' target=\"_blank\">\n<img alt='Created in deepnote.com' style='display:inline;max-height:16px;margin:0px;margin-right:7.5px;' src='data:image/svg+xml;base64,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' > </img>\nCreated in <span style='font-weight:600;margin-left:4px;'>Deepnote</span></a>",
   "metadata": {
    "tags": [],
    "created_in_deepnote_cell": true,
    "deepnote_cell_type": "markdown"
   }
  }
 ],
 "nbformat": 4,
 "nbformat_minor": 2,
 "metadata": {
  "orig_nbformat": 2,
  "deepnote": {
   "is_reactive": false
  },
  "deepnote_notebook_id": "44755fe9-fb1d-403b-aac9-03132a71a820",
  "deepnote_execution_queue": []
 }
}